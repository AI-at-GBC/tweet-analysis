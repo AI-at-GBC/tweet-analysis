{
 "cells": [
  {
   "cell_type": "markdown",
   "metadata": {},
   "source": [
    "# Import Libraries"
   ]
  },
  {
   "cell_type": "code",
   "execution_count": 1,
   "metadata": {},
   "outputs": [],
   "source": [
    "import numpy as np\n",
    "import pandas as pd\n",
    "import tensorflow as tf\n",
    "from tensorflow.keras.preprocessing.text import Tokenizer\n",
    "from tensorflow.keras.preprocessing.sequence import pad_sequences\n",
    "from tensorflow.keras.models import Sequential\n",
    "from tensorflow.keras.layers import Dense, Flatten, LSTM\n",
    "from tensorflow.keras import activations\n",
    "from tensorflow.keras.layers import Embedding\n",
    "from tensorflow.keras.layers import GlobalMaxPooling1D, Conv1D"
   ]
  },
  {
   "cell_type": "markdown",
   "metadata": {},
   "source": [
    "# Import the Dataset"
   ]
  },
  {
   "cell_type": "code",
   "execution_count": 2,
   "metadata": {},
   "outputs": [
    {
     "data": {
      "text/html": [
       "<div>\n",
       "<style scoped>\n",
       "    .dataframe tbody tr th:only-of-type {\n",
       "        vertical-align: middle;\n",
       "    }\n",
       "\n",
       "    .dataframe tbody tr th {\n",
       "        vertical-align: top;\n",
       "    }\n",
       "\n",
       "    .dataframe thead th {\n",
       "        text-align: right;\n",
       "    }\n",
       "</style>\n",
       "<table border=\"1\" class=\"dataframe\">\n",
       "  <thead>\n",
       "    <tr style=\"text-align: right;\">\n",
       "      <th></th>\n",
       "      <th>Unnamed: 0</th>\n",
       "      <th>tweet</th>\n",
       "      <th>punctuation_count</th>\n",
       "      <th>sentiment</th>\n",
       "    </tr>\n",
       "  </thead>\n",
       "  <tbody>\n",
       "    <tr>\n",
       "      <th>0</th>\n",
       "      <td>0</td>\n",
       "      <td>sleep good remedi fall asleep need one</td>\n",
       "      <td>6</td>\n",
       "      <td>0</td>\n",
       "    </tr>\n",
       "    <tr>\n",
       "      <th>1</th>\n",
       "      <td>1</td>\n",
       "      <td>work fun</td>\n",
       "      <td>2</td>\n",
       "      <td>0</td>\n",
       "    </tr>\n",
       "    <tr>\n",
       "      <th>2</th>\n",
       "      <td>2</td>\n",
       "      <td>summer person love dull cold weather centralco...</td>\n",
       "      <td>3</td>\n",
       "      <td>1</td>\n",
       "    </tr>\n",
       "    <tr>\n",
       "      <th>3</th>\n",
       "      <td>3</td>\n",
       "      <td>want smoke cig lighter</td>\n",
       "      <td>2</td>\n",
       "      <td>0</td>\n",
       "    </tr>\n",
       "    <tr>\n",
       "      <th>4</th>\n",
       "      <td>4</td>\n",
       "      <td>pass lot twit arriv trend topic bob</td>\n",
       "      <td>8</td>\n",
       "      <td>0</td>\n",
       "    </tr>\n",
       "    <tr>\n",
       "      <th>...</th>\n",
       "      <td>...</td>\n",
       "      <td>...</td>\n",
       "      <td>...</td>\n",
       "      <td>...</td>\n",
       "    </tr>\n",
       "    <tr>\n",
       "      <th>105236</th>\n",
       "      <td>105236</td>\n",
       "      <td>i i i i i miss trip hehe turn bird amp turtl l...</td>\n",
       "      <td>15</td>\n",
       "      <td>1</td>\n",
       "    </tr>\n",
       "    <tr>\n",
       "      <th>105237</th>\n",
       "      <td>105237</td>\n",
       "      <td>hump say</td>\n",
       "      <td>2</td>\n",
       "      <td>0</td>\n",
       "    </tr>\n",
       "    <tr>\n",
       "      <th>105238</th>\n",
       "      <td>105238</td>\n",
       "      <td>seriou chemistri revis feel rather ill atm</td>\n",
       "      <td>1</td>\n",
       "      <td>0</td>\n",
       "    </tr>\n",
       "    <tr>\n",
       "      <th>105239</th>\n",
       "      <td>105239</td>\n",
       "      <td>weekend go sound like time iphon poker girl let</td>\n",
       "      <td>5</td>\n",
       "      <td>0</td>\n",
       "    </tr>\n",
       "    <tr>\n",
       "      <th>105240</th>\n",
       "      <td>105240</td>\n",
       "      <td>uff today vote eu parliament also went made cr...</td>\n",
       "      <td>4</td>\n",
       "      <td>1</td>\n",
       "    </tr>\n",
       "  </tbody>\n",
       "</table>\n",
       "<p>105241 rows × 4 columns</p>\n",
       "</div>"
      ],
      "text/plain": [
       "        Unnamed: 0                                              tweet  \\\n",
       "0                0            sleep good remedi fall asleep need one    \n",
       "1                1                                          work fun    \n",
       "2                2  summer person love dull cold weather centralco...   \n",
       "3                3                            want smoke cig lighter    \n",
       "4                4               pass lot twit arriv trend topic bob    \n",
       "...            ...                                                ...   \n",
       "105236      105236  i i i i i miss trip hehe turn bird amp turtl l...   \n",
       "105237      105237                                          hump say    \n",
       "105238      105238        seriou chemistri revis feel rather ill atm    \n",
       "105239      105239   weekend go sound like time iphon poker girl let    \n",
       "105240      105240  uff today vote eu parliament also went made cr...   \n",
       "\n",
       "        punctuation_count  sentiment  \n",
       "0                       6          0  \n",
       "1                       2          0  \n",
       "2                       3          1  \n",
       "3                       2          0  \n",
       "4                       8          0  \n",
       "...                   ...        ...  \n",
       "105236                 15          1  \n",
       "105237                  2          0  \n",
       "105238                  1          0  \n",
       "105239                  5          0  \n",
       "105240                  4          1  \n",
       "\n",
       "[105241 rows x 4 columns]"
      ]
     },
     "execution_count": 2,
     "metadata": {},
     "output_type": "execute_result"
    }
   ],
   "source": [
    "data = pd.read_csv(\"cleaned_text.csv\", encoding='latin1', header = 0)\n",
    "#data.columns = [\"tweet\", \"sentiment\"]\n",
    "data"
   ]
  },
  {
   "cell_type": "markdown",
   "metadata": {},
   "source": [
    "# Preparing the Dataset"
   ]
  },
  {
   "cell_type": "code",
   "execution_count": 9,
   "metadata": {},
   "outputs": [],
   "source": [
    "#Droping columnns we dont need for the NN model\n",
    "data.drop(data.columns[[0]], axis=1, inplace=True)\n"
   ]
  },
  {
   "cell_type": "code",
   "execution_count": 10,
   "metadata": {},
   "outputs": [
    {
     "data": {
      "text/html": [
       "<div>\n",
       "<style scoped>\n",
       "    .dataframe tbody tr th:only-of-type {\n",
       "        vertical-align: middle;\n",
       "    }\n",
       "\n",
       "    .dataframe tbody tr th {\n",
       "        vertical-align: top;\n",
       "    }\n",
       "\n",
       "    .dataframe thead th {\n",
       "        text-align: right;\n",
       "    }\n",
       "</style>\n",
       "<table border=\"1\" class=\"dataframe\">\n",
       "  <thead>\n",
       "    <tr style=\"text-align: right;\">\n",
       "      <th></th>\n",
       "      <th>tweet</th>\n",
       "      <th>punctuation_count</th>\n",
       "      <th>sentiment</th>\n",
       "    </tr>\n",
       "  </thead>\n",
       "  <tbody>\n",
       "    <tr>\n",
       "      <th>0</th>\n",
       "      <td>sleep good remedi fall asleep need one</td>\n",
       "      <td>6</td>\n",
       "      <td>0</td>\n",
       "    </tr>\n",
       "    <tr>\n",
       "      <th>1</th>\n",
       "      <td>work fun</td>\n",
       "      <td>2</td>\n",
       "      <td>0</td>\n",
       "    </tr>\n",
       "    <tr>\n",
       "      <th>2</th>\n",
       "      <td>summer person love dull cold weather centralco...</td>\n",
       "      <td>3</td>\n",
       "      <td>1</td>\n",
       "    </tr>\n",
       "    <tr>\n",
       "      <th>3</th>\n",
       "      <td>want smoke cig lighter</td>\n",
       "      <td>2</td>\n",
       "      <td>0</td>\n",
       "    </tr>\n",
       "    <tr>\n",
       "      <th>4</th>\n",
       "      <td>pass lot twit arriv trend topic bob</td>\n",
       "      <td>8</td>\n",
       "      <td>0</td>\n",
       "    </tr>\n",
       "  </tbody>\n",
       "</table>\n",
       "</div>"
      ],
      "text/plain": [
       "                                               tweet  punctuation_count  \\\n",
       "0            sleep good remedi fall asleep need one                   6   \n",
       "1                                          work fun                   2   \n",
       "2  summer person love dull cold weather centralco...                  3   \n",
       "3                            want smoke cig lighter                   2   \n",
       "4               pass lot twit arriv trend topic bob                   8   \n",
       "\n",
       "   sentiment  \n",
       "0          0  \n",
       "1          0  \n",
       "2          1  \n",
       "3          0  \n",
       "4          0  "
      ]
     },
     "execution_count": 10,
     "metadata": {},
     "output_type": "execute_result"
    }
   ],
   "source": [
    "data.head()"
   ]
  },
  {
   "cell_type": "code",
   "execution_count": 11,
   "metadata": {},
   "outputs": [
    {
     "data": {
      "text/plain": [
       "0    52657\n",
       "1    52584\n",
       "Name: sentiment, dtype: int64"
      ]
     },
     "execution_count": 11,
     "metadata": {},
     "output_type": "execute_result"
    }
   ],
   "source": [
    "data.sentiment.value_counts() # dataset is already balanced"
   ]
  },
  {
   "cell_type": "code",
   "execution_count": 12,
   "metadata": {},
   "outputs": [
    {
     "data": {
      "text/plain": [
       "<AxesSubplot:xlabel='tweet', ylabel='count'>"
      ]
     },
     "execution_count": 12,
     "metadata": {},
     "output_type": "execute_result"
    },
    {
     "data": {
      "image/png": "[encoded data removed]",
      "text/plain": [
       "<Figure size 432x288 with 1 Axes>"
      ]
     },
     "metadata": {
      "needs_background": "light"
     },
     "output_type": "display_data"
    }
   ],
   "source": [
    "import seaborn as sns\n",
    "import matplotlib.pyplot as plt\n",
    "%matplotlib inline\n",
    "\n",
    "sns.countplot(x = data.sentiment, data = data.tweet)"
   ]
  },
  {
   "cell_type": "code",
   "execution_count": 7,
   "metadata": {},
   "outputs": [
    {
     "name": "stdout",
     "output_type": "stream",
     "text": [
      "<class 'pandas.core.frame.DataFrame'>\n",
      "RangeIndex: 105241 entries, 0 to 105240\n",
      "Data columns (total 3 columns):\n",
      " #   Column             Non-Null Count   Dtype \n",
      "---  ------             --------------   ----- \n",
      " 0   tweet              104742 non-null  object\n",
      " 1   punctuation_count  105241 non-null  int64 \n",
      " 2   sentiment          105241 non-null  int64 \n",
      "dtypes: int64(2), object(1)\n",
      "memory usage: 2.4+ MB\n"
     ]
    }
   ],
   "source": [
    "data.info()"
   ]
  },
  {
   "cell_type": "code",
   "execution_count": 13,
   "metadata": {},
   "outputs": [
    {
     "name": "stdout",
     "output_type": "stream",
     "text": [
      "<class 'pandas.core.frame.DataFrame'>\n",
      "Int64Index: 104742 entries, 0 to 105240\n",
      "Data columns (total 3 columns):\n",
      " #   Column             Non-Null Count   Dtype \n",
      "---  ------             --------------   ----- \n",
      " 0   tweet              104742 non-null  object\n",
      " 1   punctuation_count  104742 non-null  int64 \n",
      " 2   sentiment          104742 non-null  int64 \n",
      "dtypes: int64(2), object(1)\n",
      "memory usage: 3.2+ MB\n"
     ]
    }
   ],
   "source": [
    "data.dropna(subset = [\"tweet\"], inplace=True)\n",
    "data.info()"
   ]
  },
  {
   "cell_type": "markdown",
   "metadata": {},
   "source": [
    "# Tokenize"
   ]
  },
  {
   "cell_type": "code",
   "execution_count": 14,
   "metadata": {},
   "outputs": [
    {
     "data": {
      "text/html": [
       "<div>\n",
       "<style scoped>\n",
       "    .dataframe tbody tr th:only-of-type {\n",
       "        vertical-align: middle;\n",
       "    }\n",
       "\n",
       "    .dataframe tbody tr th {\n",
       "        vertical-align: top;\n",
       "    }\n",
       "\n",
       "    .dataframe thead th {\n",
       "        text-align: right;\n",
       "    }\n",
       "</style>\n",
       "<table border=\"1\" class=\"dataframe\">\n",
       "  <thead>\n",
       "    <tr style=\"text-align: right;\">\n",
       "      <th></th>\n",
       "      <th>tweet</th>\n",
       "      <th>punctuation_count</th>\n",
       "    </tr>\n",
       "  </thead>\n",
       "  <tbody>\n",
       "    <tr>\n",
       "      <th>0</th>\n",
       "      <td>sleep good remedi fall asleep need one</td>\n",
       "      <td>6</td>\n",
       "    </tr>\n",
       "    <tr>\n",
       "      <th>1</th>\n",
       "      <td>work fun</td>\n",
       "      <td>2</td>\n",
       "    </tr>\n",
       "    <tr>\n",
       "      <th>2</th>\n",
       "      <td>summer person love dull cold weather centralco...</td>\n",
       "      <td>3</td>\n",
       "    </tr>\n",
       "    <tr>\n",
       "      <th>3</th>\n",
       "      <td>want smoke cig lighter</td>\n",
       "      <td>2</td>\n",
       "    </tr>\n",
       "    <tr>\n",
       "      <th>4</th>\n",
       "      <td>pass lot twit arriv trend topic bob</td>\n",
       "      <td>8</td>\n",
       "    </tr>\n",
       "  </tbody>\n",
       "</table>\n",
       "</div>"
      ],
      "text/plain": [
       "                                               tweet  punctuation_count\n",
       "0            sleep good remedi fall asleep need one                   6\n",
       "1                                          work fun                   2\n",
       "2  summer person love dull cold weather centralco...                  3\n",
       "3                            want smoke cig lighter                   2\n",
       "4               pass lot twit arriv trend topic bob                   8"
      ]
     },
     "execution_count": 14,
     "metadata": {},
     "output_type": "execute_result"
    }
   ],
   "source": [
    "#Keeping the labels and creating preparing text for tfidf vectorizer\n",
    "Y = data[['sentiment']]\n",
    "X = data.drop(['sentiment'], axis=1)\n",
    "X.head()"
   ]
  },
  {
   "cell_type": "code",
   "execution_count": 15,
   "metadata": {},
   "outputs": [],
   "source": [
    "tweet = X[['tweet']]\n",
    "punctuation_counts = X[['punctuation_count']]"
   ]
  },
  {
   "cell_type": "code",
   "execution_count": 16,
   "metadata": {},
   "outputs": [],
   "source": [
    "from sklearn.feature_extraction.text import TfidfVectorizer\n",
    "\n",
    "vectorizer = TfidfVectorizer(ngram_range=(1,3), stop_words=\"english\", max_features=10000)\n",
    "\n",
    "tfidf_vect = vectorizer.fit_transform(X['tweet'])\n",
    "tfidf_feature_names = vectorizer.get_feature_names_out()\n",
    "\n",
    "tfidf_df = pd.DataFrame (tfidf_vect.todense())\n",
    "tfidf_df.columns = tfidf_feature_names\n",
    "tfidf_df['punctuation_count'] = punctuation_counts"
   ]
  },
  {
   "cell_type": "code",
   "execution_count": 17,
   "metadata": {},
   "outputs": [],
   "source": [
    "from sklearn.preprocessing import StandardScaler\n",
    "from sklearn import preprocessing, model_selection\n",
    "\n",
    "min_max_scaler = preprocessing.MinMaxScaler()\n",
    "tfidf_df['punctuation_count'] = min_max_scaler.fit_transform(punctuation_counts)"
   ]
  },
  {
   "cell_type": "code",
   "execution_count": 18,
   "metadata": {},
   "outputs": [
    {
     "data": {
      "text/plain": [
       "(104742, 10001)"
      ]
     },
     "execution_count": 18,
     "metadata": {},
     "output_type": "execute_result"
    }
   ],
   "source": [
    "tfidf_df.shape"
   ]
  },
  {
   "cell_type": "markdown",
   "metadata": {},
   "source": [
    "# Split Data"
   ]
  },
  {
   "cell_type": "code",
   "execution_count": 19,
   "metadata": {},
   "outputs": [],
   "source": [
    "from sklearn.model_selection import train_test_split\n",
    "\n",
    "Xtrain, Xtest, ytrain, ytest = train_test_split(tfidf_df,\n",
    "                                                Y,\n",
    "                                                test_size=0.2,\n",
    "                                                random_state=10)"
   ]
  },
  {
   "cell_type": "code",
   "execution_count": 20,
   "metadata": {},
   "outputs": [
    {
     "data": {
      "text/plain": [
       "((83793, 10001), (20949, 10001), (83793, 1), (20949, 1))"
      ]
     },
     "execution_count": 20,
     "metadata": {},
     "output_type": "execute_result"
    }
   ],
   "source": [
    "Xtrain.shape, Xtest.shape, ytrain.shape, ytest.shape"
   ]
  },
  {
   "cell_type": "code",
   "execution_count": 21,
   "metadata": {},
   "outputs": [],
   "source": [
    "# size/shape of dataframe\n",
    "n_samples = Xtrain.shape[0]\n",
    "n_featuers = Xtrain.shape[1]"
   ]
  },
  {
   "cell_type": "markdown",
   "metadata": {},
   "source": [
    "# Model 1"
   ]
  },
  {
   "cell_type": "code",
   "execution_count": 28,
   "metadata": {},
   "outputs": [],
   "source": [
    "# Make the NN -----------------------------------------------------------------\n",
    "\n",
    "# Importing the Keras libraries and packages\n",
    "from tensorflow import keras\n",
    "from tensorflow.keras import layers\n",
    "from tensorflow.keras.callbacks import ModelCheckpoint\n",
    "\n",
    "model = keras.Sequential(\n",
    "    [\n",
    "        layers.Dense(10000, activation='relu', kernel_regularizer='l2', name='layer1'),\n",
    "        layers.Dropout(0.5),\n",
    "        layers.Dense(500, activation='relu', name='layer2'),\n",
    "        layers.Dense(25, activation='relu', name='layer3'),\n",
    "        layers.Dense(1, activation='sigmoid', name='output1'),\n",
    "    ]\n",
    ")"
   ]
  },
  {
   "cell_type": "code",
   "execution_count": 23,
   "metadata": {},
   "outputs": [],
   "source": [
    "optimizer = tf.keras.optimizers.Adam(clipnorm=1.0, clipvalue=0.5, name=\"Adam\")"
   ]
  },
  {
   "cell_type": "code",
   "execution_count": 29,
   "metadata": {},
   "outputs": [],
   "source": [
    "# Compiling the ANN\n",
    "model.compile(loss = 'binary_crossentropy' , optimizer = 'adam' , metrics = ['accuracy'] )"
   ]
  },
  {
   "cell_type": "code",
   "execution_count": 30,
   "metadata": {},
   "outputs": [
    {
     "name": "stdout",
     "output_type": "stream",
     "text": [
      "Epoch 1/100\n",
      "84/84 [==============================] - 22s 215ms/step - loss: 7.5199 - accuracy: 0.6910 - val_loss: 0.8333 - val_accuracy: 0.7190\n",
      "Epoch 2/100\n",
      "84/84 [==============================] - 11s 127ms/step - loss: 0.8155 - accuracy: 0.7180 - val_loss: 0.7928 - val_accuracy: 0.7198\n",
      "Epoch 3/100\n",
      "84/84 [==============================] - 11s 131ms/step - loss: 0.7795 - accuracy: 0.7234 - val_loss: 0.7667 - val_accuracy: 0.7271\n",
      "Epoch 4/100\n",
      "84/84 [==============================] - 11s 127ms/step - loss: 0.7596 - accuracy: 0.7289 - val_loss: 0.7560 - val_accuracy: 0.7315\n",
      "Epoch 5/100\n",
      "84/84 [==============================] - 11s 128ms/step - loss: 0.7394 - accuracy: 0.7326 - val_loss: 0.7482 - val_accuracy: 0.7252\n",
      "Epoch 6/100\n",
      "84/84 [==============================] - 11s 127ms/step - loss: 0.7246 - accuracy: 0.7363 - val_loss: 0.7330 - val_accuracy: 0.7358\n",
      "Epoch 7/100\n",
      "84/84 [==============================] - 11s 128ms/step - loss: 0.7157 - accuracy: 0.7381 - val_loss: 0.7158 - val_accuracy: 0.7434\n",
      "Epoch 8/100\n",
      "84/84 [==============================] - 11s 128ms/step - loss: 0.7095 - accuracy: 0.7411 - val_loss: 0.7196 - val_accuracy: 0.7395\n",
      "Epoch 9/100\n",
      "84/84 [==============================] - 11s 127ms/step - loss: 0.7081 - accuracy: 0.7443 - val_loss: 0.7016 - val_accuracy: 0.7455\n",
      "Epoch 10/100\n",
      "84/84 [==============================] - 11s 128ms/step - loss: 0.6978 - accuracy: 0.7454 - val_loss: 0.7023 - val_accuracy: 0.7464\n",
      "Epoch 11/100\n",
      "84/84 [==============================] - 11s 127ms/step - loss: 0.6892 - accuracy: 0.7466 - val_loss: 0.6913 - val_accuracy: 0.7433\n",
      "Epoch 12/100\n",
      "84/84 [==============================] - 11s 127ms/step - loss: 0.6896 - accuracy: 0.7493 - val_loss: 0.6937 - val_accuracy: 0.7443\n",
      "Epoch 13/100\n",
      "84/84 [==============================] - 11s 127ms/step - loss: 0.6821 - accuracy: 0.7510 - val_loss: 0.6823 - val_accuracy: 0.7491\n",
      "Epoch 14/100\n",
      "84/84 [==============================] - 11s 128ms/step - loss: 0.6765 - accuracy: 0.7514 - val_loss: 0.6909 - val_accuracy: 0.7482\n",
      "Epoch 15/100\n",
      "84/84 [==============================] - 11s 127ms/step - loss: 0.6773 - accuracy: 0.7539 - val_loss: 0.6830 - val_accuracy: 0.7472\n",
      "Epoch 16/100\n",
      "84/84 [==============================] - 11s 127ms/step - loss: 0.6719 - accuracy: 0.7538 - val_loss: 0.6768 - val_accuracy: 0.7501\n",
      "Epoch 17/100\n",
      "84/84 [==============================] - 11s 127ms/step - loss: 0.6669 - accuracy: 0.7580 - val_loss: 0.6785 - val_accuracy: 0.7517\n",
      "Epoch 18/100\n",
      "84/84 [==============================] - 11s 127ms/step - loss: 0.6686 - accuracy: 0.7572 - val_loss: 0.6849 - val_accuracy: 0.7494\n",
      "Epoch 19/100\n",
      "84/84 [==============================] - 11s 127ms/step - loss: 0.6628 - accuracy: 0.7592 - val_loss: 0.6731 - val_accuracy: 0.7501\n",
      "Epoch 20/100\n",
      "84/84 [==============================] - 11s 127ms/step - loss: 0.6557 - accuracy: 0.7603 - val_loss: 0.6763 - val_accuracy: 0.7473\n",
      "Epoch 21/100\n",
      "84/84 [==============================] - 11s 127ms/step - loss: 0.6564 - accuracy: 0.7595 - val_loss: 0.6704 - val_accuracy: 0.7501\n",
      "Epoch 22/100\n",
      "84/84 [==============================] - 11s 127ms/step - loss: 0.6535 - accuracy: 0.7610 - val_loss: 0.6653 - val_accuracy: 0.7515\n",
      "Epoch 23/100\n",
      "84/84 [==============================] - 11s 127ms/step - loss: 0.6497 - accuracy: 0.7623 - val_loss: 0.6770 - val_accuracy: 0.7526\n",
      "Epoch 24/100\n",
      "84/84 [==============================] - 11s 127ms/step - loss: 0.6518 - accuracy: 0.7634 - val_loss: 0.6746 - val_accuracy: 0.7462\n",
      "Epoch 25/100\n",
      "84/84 [==============================] - 11s 127ms/step - loss: 0.6482 - accuracy: 0.7644 - val_loss: 0.6681 - val_accuracy: 0.7513\n",
      "Epoch 26/100\n",
      "84/84 [==============================] - 11s 127ms/step - loss: 0.6444 - accuracy: 0.7661 - val_loss: 0.6691 - val_accuracy: 0.7492\n",
      "Epoch 27/100\n",
      "84/84 [==============================] - 11s 127ms/step - loss: 0.6421 - accuracy: 0.7665 - val_loss: 0.6745 - val_accuracy: 0.7497\n",
      "Epoch 28/100\n",
      "84/84 [==============================] - 11s 127ms/step - loss: 0.6457 - accuracy: 0.7667 - val_loss: 0.6699 - val_accuracy: 0.7505\n",
      "Epoch 29/100\n",
      "84/84 [==============================] - 11s 127ms/step - loss: 0.6405 - accuracy: 0.7674 - val_loss: 0.6758 - val_accuracy: 0.7489\n",
      "Epoch 30/100\n",
      "84/84 [==============================] - 11s 127ms/step - loss: 0.6446 - accuracy: 0.7675 - val_loss: 0.6755 - val_accuracy: 0.7456\n",
      "Epoch 31/100\n",
      "84/84 [==============================] - 11s 127ms/step - loss: 0.6401 - accuracy: 0.7710 - val_loss: 0.6727 - val_accuracy: 0.7470\n",
      "Epoch 32/100\n",
      "84/84 [==============================] - 11s 127ms/step - loss: 0.6391 - accuracy: 0.7686 - val_loss: 0.6742 - val_accuracy: 0.7461\n"
     ]
    }
   ],
   "source": [
    "model_save_filename = \"twitter_model.h5\"\n",
    "earlystopping_cb = keras.callbacks.EarlyStopping(patience=10, restore_best_weights=True)\n",
    "mdlcheckpoint_cb = keras.callbacks.ModelCheckpoint(model_save_filename, monitor=\"val_accuracy\", save_best_only=True)\n",
    "\n",
    "\n",
    "history = model.fit(\n",
    "                    Xtrain, \n",
    "                    ytrain, \n",
    "                    batch_size=1000,\n",
    "                    epochs=100, \n",
    "                    callbacks=[earlystopping_cb, mdlcheckpoint_cb],\n",
    "                    validation_data = (Xtest, ytest)\n",
    "                    )"
   ]
  },
  {
   "cell_type": "code",
   "execution_count": 31,
   "metadata": {},
   "outputs": [
    {
     "name": "stdout",
     "output_type": "stream",
     "text": [
      "Model: \"sequential_3\"\n",
      "_________________________________________________________________\n",
      "Layer (type)                 Output Shape              Param #   \n",
      "=================================================================\n",
      "layer1 (Dense)               (None, 10000)             100020000 \n",
      "_________________________________________________________________\n",
      "dropout_9 (Dropout)          (None, 10000)             0         \n",
      "_________________________________________________________________\n",
      "layer2 (Dense)               (None, 500)               5000500   \n",
      "_________________________________________________________________\n",
      "layer3 (Dense)               (None, 25)                12525     \n",
      "_________________________________________________________________\n",
      "output1 (Dense)              (None, 1)                 26        \n",
      "=================================================================\n",
      "Total params: 105,033,051\n",
      "Trainable params: 105,033,051\n",
      "Non-trainable params: 0\n",
      "_________________________________________________________________\n"
     ]
    }
   ],
   "source": [
    "model.summary()"
   ]
  },
  {
   "cell_type": "code",
   "execution_count": 21,
   "metadata": {},
   "outputs": [
    {
     "name": "stdout",
     "output_type": "stream",
     "text": [
      "Default GPU Device:/device:GPU:0\n"
     ]
    }
   ],
   "source": [
    "import tensorflow as tf \n",
    "\n",
    "if tf.test.gpu_device_name(): \n",
    "    print('Default GPU Device:{}'.format(tf.test.gpu_device_name()))\n",
    "else:\n",
    "   print(\"Please install GPU version of TF\")"
   ]
  },
  {
   "cell_type": "code",
   "execution_count": 32,
   "metadata": {},
   "outputs": [],
   "source": [
    "# Make predictions\n",
    "# Predicting the Test set results\n",
    "y_pred_train = model.predict(Xtrain)"
   ]
  },
  {
   "cell_type": "code",
   "execution_count": 33,
   "metadata": {},
   "outputs": [],
   "source": [
    "# Predicting the Test set results\n",
    "y_pred_test = model.predict(Xtest)"
   ]
  },
  {
   "cell_type": "code",
   "execution_count": 133,
   "metadata": {},
   "outputs": [],
   "source": [
    "# Making the Confusion Matrix\n",
    "#from sklearn.metrics import confusion_matrix\n",
    "#cm = confusion_matrix(ytest, y_pred_test)\n"
   ]
  },
  {
   "cell_type": "code",
   "execution_count": 34,
   "metadata": {},
   "outputs": [
    {
     "name": "stdout",
     "output_type": "stream",
     "text": [
      "dict_keys(['loss', 'accuracy', 'val_loss', 'val_accuracy'])\n"
     ]
    }
   ],
   "source": [
    "# list all the data in history\n",
    "print(history.history.keys())\n"
   ]
  },
  {
   "cell_type": "code",
   "execution_count": 35,
   "metadata": {},
   "outputs": [
    {
     "data": {
      "image/png": "[encoded data removed]",
      "text/plain": [
       "<Figure size 432x288 with 1 Axes>"
      ]
     },
     "metadata": {
      "needs_background": "light"
     },
     "output_type": "display_data"
    },
    {
     "data": {
      "image/png": "[encoded data removed]",
      "text/plain": [
       "<Figure size 432x288 with 1 Axes>"
      ]
     },
     "metadata": {
      "needs_background": "light"
     },
     "output_type": "display_data"
    }
   ],
   "source": [
    "# Plot the accuracy for both train and validation set\n",
    "plt.subplots() # open a new plot\n",
    "plt.plot(history.history['accuracy'])\n",
    "plt.plot(history.history['val_accuracy'])\n",
    "plt.title('model accuracy')\n",
    "plt.ylabel('accuracy')\n",
    "plt.xlabel('epoch')\n",
    "plt.legend(['train', 'validation'])\n",
    "plt.show()\n",
    "\n",
    "# Plot the loss for both train and validation set\n",
    "plt.subplots() # open a new plot\n",
    "plt.plot(history.history['loss'])\n",
    "plt.plot(history.history['val_loss'])\n",
    "plt.title('model loss')\n",
    "plt.ylabel('loss')\n",
    "plt.xlabel('epoch')\n",
    "plt.legend(['train', 'validation'])\n",
    "plt.show()"
   ]
  },
  {
   "cell_type": "markdown",
   "metadata": {},
   "source": [
    "# Traditional ML Models"
   ]
  },
  {
   "cell_type": "code",
   "execution_count": 23,
   "metadata": {},
   "outputs": [],
   "source": [
    "from sklearn import metrics\n",
    "from sklearn.ensemble import RandomForestClassifier\n",
    "from sklearn.svm import SVC\n",
    "from sklearn.naive_bayes import GaussianNB\n",
    "from sklearn.neighbors import KNeighborsClassifier\n",
    "from sklearn.metrics import confusion_matrix"
   ]
  },
  {
   "cell_type": "code",
   "execution_count": 42,
   "metadata": {},
   "outputs": [
    {
     "name": "stderr",
     "output_type": "stream",
     "text": [
      "C:\\Users\\Mike\\AppData\\Local\\Temp/ipykernel_6980/693845353.py:3: DataConversionWarning: A column-vector y was passed when a 1d array was expected. Please change the shape of y to (n_samples,), for example using ravel().\n",
      "  RF.fit(Xtrain, ytrain)\n"
     ]
    },
    {
     "name": "stdout",
     "output_type": "stream",
     "text": [
      "Accuracy of  RFC : 0.721609623371044 --Specificity of  RFC : 0.7563220940550133\n"
     ]
    }
   ],
   "source": [
    "#Random Forest Classifier\n",
    "RF = RandomForestClassifier(max_depth=10)\n",
    "RF.fit(Xtrain, ytrain)\n",
    "y_pred = RF.predict(Xtest)\n",
    "cm3 = confusion_matrix(y_pred, ytest)\n",
    "total3=sum(sum(cm3))\n",
    "Accuracy = (cm3[0,0]+cm3[1,1])/total3\n",
    "Specificity = cm3[0,0]/(cm3[0,0]+cm3[0,1])\n",
    "print(\"Accuracy of  RFC :\", Accuracy, \"--Specificity of  RFC :\", Specificity )"
   ]
  },
  {
   "cell_type": "code",
   "execution_count": 25,
   "metadata": {},
   "outputs": [
    {
     "name": "stderr",
     "output_type": "stream",
     "text": [
      "C:\\Users\\Mike\\.conda\\envs\\tf-gpu\\lib\\site-packages\\sklearn\\utils\\validation.py:985: DataConversionWarning: A column-vector y was passed when a 1d array was expected. Please change the shape of y to (n_samples, ), for example using ravel().\n",
      "  y = column_or_1d(y, warn=True)\n"
     ]
    },
    {
     "name": "stdout",
     "output_type": "stream",
     "text": [
      "Accuracy of  GaussianNB : 0.6781707957420402 --Sensitivity of  GaussianNB : 0.6545080279950597 --Specificity of  GaussianNB : 0.7108132666969559\n"
     ]
    }
   ],
   "source": [
    "#  GaussianNB \n",
    "model5 = GaussianNB()\n",
    "model5.fit(Xtrain, ytrain)\n",
    "y_pred = model5.predict(Xtest)\n",
    "cm5 = confusion_matrix(y_pred, ytest)\n",
    "total5=sum(sum(cm5))\n",
    "Accuracy = (cm5[0,0]+cm5[1,1])/total5\n",
    "    \n",
    "Specificity = cm5[0,0]/(cm5[0,0]+cm5[0,1])\n",
    "Sensitivity = cm5[1,1]/(cm5[1,0]+cm5[1,1])\n",
    "print(\"Accuracy of  GaussianNB :\", Accuracy, \"--Sensitivity of  GaussianNB :\", Sensitivity, \"--Specificity of  GaussianNB :\", Specificity )"
   ]
  },
  {
   "cell_type": "code",
   "execution_count": null,
   "metadata": {},
   "outputs": [],
   "source": []
  },
  {
   "cell_type": "code",
   "execution_count": null,
   "metadata": {},
   "outputs": [],
   "source": []
  },
  {
   "cell_type": "code",
   "execution_count": null,
   "metadata": {},
   "outputs": [],
   "source": []
  },
  {
   "cell_type": "markdown",
   "metadata": {},
   "source": [
    "# Model 2"
   ]
  },
  {
   "cell_type": "code",
   "execution_count": 144,
   "metadata": {},
   "outputs": [],
   "source": [
    "# Make the NN -----------------------------------------------------------------\n",
    "\n",
    "# Importing the Keras libraries and packages\n",
    "from keras.layers import Dense\n",
    "from keras.models import Sequential\n",
    "\n",
    "# define and initialize the model\n",
    "my_classifier2 = Sequential()\n",
    "\n",
    "# Adding the input layer AND the first hidden layer\n",
    "my_classifier2.add(Dense(units = 40, kernel_initializer = 'uniform',\n",
    "                        activation = 'relu', input_dim = n_featuers))\n",
    "\n",
    "# Adding the second hidden layer\n",
    "my_classifier2.add(Dense(units = 30, kernel_initializer = 'uniform',\n",
    "                        activation = 'relu'))\n",
    "\n",
    "# Adding the third hidden layer\n",
    "my_classifier2.add(Dense(units = 15, kernel_initializer = 'uniform',\n",
    "                        activation = 'relu'))\n",
    "\n",
    "\n",
    "# Adding the last (output) layer\n",
    "my_classifier2.add(Dense(units = 1, kernel_initializer = 'uniform',\n",
    "                        activation = 'sigmoid'))"
   ]
  },
  {
   "cell_type": "code",
   "execution_count": 145,
   "metadata": {},
   "outputs": [],
   "source": [
    "# Compiling the ANN\n",
    "my_classifier2.compile(optimizer = 'adam', loss = 'binary_crossentropy',\n",
    "                      metrics = ['accuracy'])"
   ]
  },
  {
   "cell_type": "code",
   "execution_count": 146,
   "metadata": {},
   "outputs": [
    {
     "data": {
      "image/png": "[encoded data removed]",
      "text/plain": [
       "<IPython.core.display.Image object>"
      ]
     },
     "execution_count": 146,
     "metadata": {},
     "output_type": "execute_result"
    }
   ],
   "source": [
    "#-- plot the model\n",
    "from keras.utils.vis_utils import plot_model\n",
    "plot_model(my_classifier2, to_file='model2.png', show_shapes=True)"
   ]
  },
  {
   "cell_type": "code",
   "execution_count": 147,
   "metadata": {},
   "outputs": [
    {
     "name": "stdout",
     "output_type": "stream",
     "text": [
      "Epoch 1/60\n",
      "6736/6736 [==============================] - 6s 905us/step - loss: 0.6936 - accuracy: 0.5018 - val_loss: 0.6932 - val_accuracy: 0.4970\n",
      "Epoch 2/60\n",
      "6736/6736 [==============================] - 6s 872us/step - loss: 0.6933 - accuracy: 0.4980 - val_loss: 0.6932 - val_accuracy: 0.4970\n",
      "Epoch 3/60\n",
      "6736/6736 [==============================] - 6s 860us/step - loss: 0.6933 - accuracy: 0.5001 - val_loss: 0.6931 - val_accuracy: 0.5070\n",
      "Epoch 4/60\n",
      "6736/6736 [==============================] - 6s 864us/step - loss: 0.6934 - accuracy: 0.5020 - val_loss: 0.6930 - val_accuracy: 0.4970\n",
      "Epoch 5/60\n",
      "6736/6736 [==============================] - 6s 878us/step - loss: 0.6928 - accuracy: 0.5013 - val_loss: 0.7029 - val_accuracy: 0.5101\n",
      "Epoch 6/60\n",
      "6736/6736 [==============================] - 5s 803us/step - loss: 0.6932 - accuracy: 0.5026 - val_loss: 0.6929 - val_accuracy: 0.4970\n",
      "Epoch 7/60\n",
      "6736/6736 [==============================] - 9s 1ms/step - loss: 0.6928 - accuracy: 0.5030 - val_loss: 0.6932 - val_accuracy: 0.4970\n",
      "Epoch 8/60\n",
      "6736/6736 [==============================] - 7s 1ms/step - loss: 0.6928 - accuracy: 0.5008 - val_loss: 0.6927 - val_accuracy: 0.5056\n",
      "Epoch 9/60\n",
      "6736/6736 [==============================] - 6s 877us/step - loss: 0.6931 - accuracy: 0.5022 - val_loss: 0.6927 - val_accuracy: 0.4970\n",
      "Epoch 10/60\n",
      "6736/6736 [==============================] - 6s 818us/step - loss: 0.6926 - accuracy: 0.5007 - val_loss: 0.6925 - val_accuracy: 0.5064\n",
      "Epoch 11/60\n",
      "6736/6736 [==============================] - 6s 895us/step - loss: 0.6927 - accuracy: 0.5020 - val_loss: 0.6925 - val_accuracy: 0.5061\n",
      "Epoch 12/60\n",
      "6736/6736 [==============================] - 6s 847us/step - loss: 0.6924 - accuracy: 0.5013 - val_loss: 0.6922 - val_accuracy: 0.5062\n",
      "Epoch 13/60\n",
      "6736/6736 [==============================] - 6s 850us/step - loss: 0.6924 - accuracy: 0.5037 - val_loss: 0.6922 - val_accuracy: 0.5072\n",
      "Epoch 14/60\n",
      "6736/6736 [==============================] - 6s 826us/step - loss: 0.6923 - accuracy: 0.5032 - val_loss: 0.6924 - val_accuracy: 0.5059\n",
      "Epoch 15/60\n",
      "6736/6736 [==============================] - 5s 813us/step - loss: 0.6920 - accuracy: 0.5047 - val_loss: 0.6923 - val_accuracy: 0.4970\n",
      "Epoch 16/60\n",
      "6736/6736 [==============================] - 6s 903us/step - loss: 0.6920 - accuracy: 0.5023 - val_loss: 0.6921 - val_accuracy: 0.5079\n",
      "Epoch 17/60\n",
      "6736/6736 [==============================] - 6s 850us/step - loss: 0.6920 - accuracy: 0.5042 - val_loss: 0.6918 - val_accuracy: 0.5080\n",
      "Epoch 18/60\n",
      "6736/6736 [==============================] - 6s 843us/step - loss: 0.6918 - accuracy: 0.5060 - val_loss: 0.6917 - val_accuracy: 0.5075\n",
      "Epoch 19/60\n",
      "6736/6736 [==============================] - 6s 835us/step - loss: 0.6921 - accuracy: 0.5041 - val_loss: 0.6917 - val_accuracy: 0.5070\n",
      "Epoch 20/60\n",
      "6736/6736 [==============================] - 6s 833us/step - loss: 0.6918 - accuracy: 0.5047 - val_loss: 0.6919 - val_accuracy: 0.5068\n",
      "Epoch 21/60\n",
      "6736/6736 [==============================] - 6s 830us/step - loss: 0.6919 - accuracy: 0.5014 - val_loss: 0.6915 - val_accuracy: 0.5069\n",
      "Epoch 22/60\n",
      "6736/6736 [==============================] - 6s 843us/step - loss: 0.6917 - accuracy: 0.5034 - val_loss: 0.6920 - val_accuracy: 0.4970\n",
      "Epoch 23/60\n",
      "6736/6736 [==============================] - 6s 856us/step - loss: 0.6918 - accuracy: 0.5020 - val_loss: 0.6922 - val_accuracy: 0.4970\n",
      "Epoch 24/60\n",
      "6736/6736 [==============================] - 6s 887us/step - loss: 0.6918 - accuracy: 0.5014 - val_loss: 0.6915 - val_accuracy: 0.5070\n",
      "Epoch 25/60\n",
      "6736/6736 [==============================] - 6s 848us/step - loss: 0.6918 - accuracy: 0.5025 - val_loss: 0.6916 - val_accuracy: 0.5066\n",
      "Epoch 26/60\n",
      "6736/6736 [==============================] - 6s 829us/step - loss: 0.6916 - accuracy: 0.5016 - val_loss: 0.6918 - val_accuracy: 0.5069\n",
      "Epoch 27/60\n",
      "6736/6736 [==============================] - 6s 831us/step - loss: 0.6917 - accuracy: 0.5010 - val_loss: 0.6916 - val_accuracy: 0.4970\n",
      "Epoch 28/60\n",
      "6736/6736 [==============================] - 6s 846us/step - loss: 0.6919 - accuracy: 0.5018 - val_loss: 0.6916 - val_accuracy: 0.4970\n",
      "Epoch 29/60\n",
      "6736/6736 [==============================] - 6s 833us/step - loss: 0.6917 - accuracy: 0.5028 - val_loss: 0.6918 - val_accuracy: 0.5059\n",
      "Epoch 30/60\n",
      "6736/6736 [==============================] - 6s 865us/step - loss: 0.6919 - accuracy: 0.5026 - val_loss: 0.6916 - val_accuracy: 0.5069\n",
      "Epoch 31/60\n",
      "6736/6736 [==============================] - 6s 856us/step - loss: 0.6918 - accuracy: 0.5028 - val_loss: 0.6917 - val_accuracy: 0.4970\n",
      "Epoch 32/60\n",
      "6736/6736 [==============================] - 6s 833us/step - loss: 0.6919 - accuracy: 0.5047 - val_loss: 0.6915 - val_accuracy: 0.5070\n",
      "Epoch 33/60\n",
      "6736/6736 [==============================] - 6s 825us/step - loss: 0.6916 - accuracy: 0.5030 - val_loss: 0.6919 - val_accuracy: 0.5063\n",
      "Epoch 34/60\n",
      "6736/6736 [==============================] - 6s 905us/step - loss: 0.6918 - accuracy: 0.5003 - val_loss: 0.6919 - val_accuracy: 0.4970\n",
      "Epoch 35/60\n",
      "6736/6736 [==============================] - 6s 896us/step - loss: 0.6917 - accuracy: 0.4986 - val_loss: 0.6919 - val_accuracy: 0.5062\n",
      "Epoch 36/60\n",
      "6736/6736 [==============================] - 6s 873us/step - loss: 0.6917 - accuracy: 0.5016 - val_loss: 0.6915 - val_accuracy: 0.5068\n",
      "Epoch 37/60\n",
      "6736/6736 [==============================] - 6s 884us/step - loss: 0.6922 - accuracy: 0.5012 - val_loss: 0.6917 - val_accuracy: 0.4970\n",
      "Epoch 38/60\n",
      "6736/6736 [==============================] - 6s 881us/step - loss: 0.6919 - accuracy: 0.5044 - val_loss: 0.6920 - val_accuracy: 0.5080\n",
      "Epoch 39/60\n",
      "6736/6736 [==============================] - 6s 870us/step - loss: 0.6919 - accuracy: 0.5038 - val_loss: 0.6919 - val_accuracy: 0.5069\n",
      "Epoch 40/60\n",
      "6736/6736 [==============================] - 6s 876us/step - loss: 0.6917 - accuracy: 0.5039 - val_loss: 0.6915 - val_accuracy: 0.5071\n",
      "Epoch 41/60\n",
      "6736/6736 [==============================] - 6s 884us/step - loss: 0.6944 - accuracy: 0.5027 - val_loss: 0.6915 - val_accuracy: 0.5073\n",
      "Epoch 42/60\n",
      "6736/6736 [==============================] - 6s 870us/step - loss: 0.6916 - accuracy: 0.5011 - val_loss: 0.6918 - val_accuracy: 0.4970\n",
      "Epoch 43/60\n",
      "6736/6736 [==============================] - 6s 868us/step - loss: 0.6917 - accuracy: 0.5036 - val_loss: 0.6914 - val_accuracy: 0.5066\n",
      "Epoch 44/60\n",
      "6736/6736 [==============================] - 6s 873us/step - loss: 0.6918 - accuracy: 0.5029 - val_loss: 0.6917 - val_accuracy: 0.4970\n",
      "Epoch 45/60\n",
      "6736/6736 [==============================] - 6s 888us/step - loss: 0.6918 - accuracy: 0.5046 - val_loss: 0.6914 - val_accuracy: 0.5069\n",
      "Epoch 46/60\n",
      "6736/6736 [==============================] - 6s 862us/step - loss: 0.6917 - accuracy: 0.4998 - val_loss: 0.6917 - val_accuracy: 0.5066\n",
      "Epoch 47/60\n",
      "6736/6736 [==============================] - 6s 860us/step - loss: 0.6918 - accuracy: 0.4985 - val_loss: 0.6914 - val_accuracy: 0.5073\n",
      "Epoch 48/60\n",
      "6736/6736 [==============================] - 6s 857us/step - loss: 0.6916 - accuracy: 0.4993 - val_loss: 0.6913 - val_accuracy: 0.4970\n",
      "Epoch 49/60\n",
      "6736/6736 [==============================] - 6s 857us/step - loss: 0.6916 - accuracy: 0.5029 - val_loss: 0.6914 - val_accuracy: 0.5067\n",
      "Epoch 50/60\n",
      "6736/6736 [==============================] - 6s 848us/step - loss: 0.6921 - accuracy: 0.5003 - val_loss: 0.6930 - val_accuracy: 0.5036\n",
      "Epoch 51/60\n",
      "6736/6736 [==============================] - 6s 844us/step - loss: 0.6925 - accuracy: 0.5005 - val_loss: 0.6916 - val_accuracy: 0.5066\n",
      "Epoch 52/60\n",
      "6736/6736 [==============================] - 6s 854us/step - loss: 0.6919 - accuracy: 0.5044 - val_loss: 0.6917 - val_accuracy: 0.4970\n",
      "Epoch 53/60\n",
      "6736/6736 [==============================] - 6s 844us/step - loss: 0.6918 - accuracy: 0.5023 - val_loss: 0.6916 - val_accuracy: 0.4970\n",
      "Epoch 54/60\n",
      "6736/6736 [==============================] - 6s 846us/step - loss: 0.6919 - accuracy: 0.5003 - val_loss: 0.6920 - val_accuracy: 0.5057\n",
      "Epoch 55/60\n",
      "6736/6736 [==============================] - 6s 841us/step - loss: 0.6918 - accuracy: 0.4995 - val_loss: 0.6919 - val_accuracy: 0.4970\n",
      "Epoch 56/60\n",
      "6736/6736 [==============================] - 6s 920us/step - loss: 0.6917 - accuracy: 0.4990 - val_loss: 0.6915 - val_accuracy: 0.5062\n",
      "Epoch 57/60\n",
      "6736/6736 [==============================] - 6s 863us/step - loss: 0.6918 - accuracy: 0.5008 - val_loss: 0.6916 - val_accuracy: 0.5060\n",
      "Epoch 58/60\n",
      "6736/6736 [==============================] - 6s 877us/step - loss: 0.6917 - accuracy: 0.5028 - val_loss: 0.6917 - val_accuracy: 0.5060\n",
      "Epoch 59/60\n",
      "6736/6736 [==============================] - 6s 842us/step - loss: 0.6917 - accuracy: 0.4993 - val_loss: 0.6918 - val_accuracy: 0.4970\n",
      "Epoch 60/60\n",
      "6736/6736 [==============================] - 6s 863us/step - loss: 0.6917 - accuracy: 0.5026 - val_loss: 0.6918 - val_accuracy: 0.5063\n"
     ]
    }
   ],
   "source": [
    "# Fitting the ANN to the Training set\n",
    "history = my_classifier2.fit(Xtrain, ytrain, validation_split=0.2,\n",
    "                            batch_size = 10, epochs = 60)"
   ]
  },
  {
   "cell_type": "code",
   "execution_count": 151,
   "metadata": {},
   "outputs": [
    {
     "name": "stdout",
     "output_type": "stream",
     "text": [
      "Model: \"sequential_4\"\n",
      "_________________________________________________________________\n",
      " Layer (type)                Output Shape              Param #   \n",
      "=================================================================\n",
      " dense_13 (Dense)            (None, 40)                2040      \n",
      "                                                                 \n",
      " dense_14 (Dense)            (None, 30)                1230      \n",
      "                                                                 \n",
      " dense_15 (Dense)            (None, 15)                465       \n",
      "                                                                 \n",
      " dense_16 (Dense)            (None, 1)                 16        \n",
      "                                                                 \n",
      "=================================================================\n",
      "Total params: 3,751\n",
      "Trainable params: 3,751\n",
      "Non-trainable params: 0\n",
      "_________________________________________________________________\n"
     ]
    }
   ],
   "source": [
    "my_classifier2.summary()"
   ]
  },
  {
   "cell_type": "code",
   "execution_count": 148,
   "metadata": {},
   "outputs": [],
   "source": [
    "# Make predictions\n",
    "# Predicting the Test set results\n",
    "y_pred_train = my_classifier2.predict(Xtrain)"
   ]
  },
  {
   "cell_type": "code",
   "execution_count": 149,
   "metadata": {},
   "outputs": [],
   "source": [
    "# Predicting the Test set results\n",
    "y_pred_test = my_classifier2.predict(Xtest)"
   ]
  },
  {
   "cell_type": "code",
   "execution_count": null,
   "metadata": {},
   "outputs": [],
   "source": [
    "# Making the Confusion Matrix\n",
    "#from sklearn.metrics import confusion_matrix\n",
    "#cm = confusion_matrix(ytest, y_pred_test)\n"
   ]
  },
  {
   "cell_type": "code",
   "execution_count": 150,
   "metadata": {},
   "outputs": [
    {
     "name": "stdout",
     "output_type": "stream",
     "text": [
      "dict_keys(['loss', 'accuracy', 'val_loss', 'val_accuracy'])\n"
     ]
    }
   ],
   "source": [
    "# list all the data in history\n",
    "print(history.history.keys())\n"
   ]
  },
  {
   "cell_type": "code",
   "execution_count": 153,
   "metadata": {},
   "outputs": [
    {
     "data": {
      "image/png": "[encoded data removed]",
      "text/plain": [
       "<Figure size 432x288 with 1 Axes>"
      ]
     },
     "metadata": {
      "needs_background": "light"
     },
     "output_type": "display_data"
    },
    {
     "data": {
      "image/png": "[encoded data removed]",
      "text/plain": [
       "<Figure size 432x288 with 1 Axes>"
      ]
     },
     "metadata": {
      "needs_background": "light"
     },
     "output_type": "display_data"
    }
   ],
   "source": [
    "# Plot the accuracy for both train and validation set\n",
    "plt.subplots() # open a new plot\n",
    "plt.plot(history.history['accuracy'])\n",
    "plt.plot(history.history['val_accuracy'])\n",
    "plt.title('model accuracy')\n",
    "plt.ylabel('accuracy')\n",
    "plt.xlabel('epoch')\n",
    "plt.legend(['train', 'validation'])\n",
    "plt.show()\n",
    "\n",
    "# Plot the loss for both train and validation set\n",
    "plt.subplots() # open a new plot\n",
    "plt.plot(history.history['loss'])\n",
    "plt.plot(history.history['val_loss'])\n",
    "plt.title('model loss')\n",
    "plt.ylabel('loss')\n",
    "plt.xlabel('epoch')\n",
    "plt.legend(['train', 'validation'])\n",
    "plt.show()"
   ]
  }
 ],
 "metadata": {
  "interpreter": {
   "hash": "069624a5003d722d46b2ddcbbef8ec29c962821c31c4d6de5b70c8b5461f7514"
  },
  "kernelspec": {
   "display_name": "Python 3 (ipykernel)",
   "language": "python",
   "name": "python3"
  },
  "language_info": {
   "codemirror_mode": {
    "name": "ipython",
    "version": 3
   },
   "file_extension": ".py",
   "mimetype": "text/x-python",
   "name": "python",
   "nbconvert_exporter": "python",
   "pygments_lexer": "ipython3",
   "version": "3.9.7"
  }
 },
 "nbformat": 4,
 "nbformat_minor": 4
}
