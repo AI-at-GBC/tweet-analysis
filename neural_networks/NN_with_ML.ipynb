{
 "cells": [
  {
   "cell_type": "markdown",
   "metadata": {},
   "source": [
    "# Import Libraries"
   ]
  },
  {
   "cell_type": "code",
   "execution_count": 40,
   "metadata": {},
   "outputs": [],
   "source": [
    "import numpy as np\n",
    "import pandas as pd\n",
    "import tensorflow as tf\n",
    "from tensorflow.keras.preprocessing.text import Tokenizer\n",
    "from tensorflow.keras.preprocessing.sequence import pad_sequences\n",
    "from tensorflow.keras.models import Sequential\n",
    "from tensorflow.keras.layers import Dense, Flatten, LSTM\n",
    "from tensorflow.keras import activations\n",
    "from tensorflow.keras.layers import Embedding\n",
    "from tensorflow.keras.layers import GlobalMaxPooling1D, Conv1D"
   ]
  },
  {
   "cell_type": "markdown",
   "metadata": {},
   "source": [
    "# Import the Dataset"
   ]
  },
  {
   "cell_type": "code",
   "execution_count": 41,
   "metadata": {},
   "outputs": [
    {
     "data": {
      "text/html": [
       "<div>\n",
       "<style scoped>\n",
       "    .dataframe tbody tr th:only-of-type {\n",
       "        vertical-align: middle;\n",
       "    }\n",
       "\n",
       "    .dataframe tbody tr th {\n",
       "        vertical-align: top;\n",
       "    }\n",
       "\n",
       "    .dataframe thead th {\n",
       "        text-align: right;\n",
       "    }\n",
       "</style>\n",
       "<table border=\"1\" class=\"dataframe\">\n",
       "  <thead>\n",
       "    <tr style=\"text-align: right;\">\n",
       "      <th></th>\n",
       "      <th>Unnamed: 0</th>\n",
       "      <th>tweet</th>\n",
       "      <th>punctuation_count</th>\n",
       "      <th>sentiment</th>\n",
       "    </tr>\n",
       "  </thead>\n",
       "  <tbody>\n",
       "    <tr>\n",
       "      <th>0</th>\n",
       "      <td>0</td>\n",
       "      <td>sleep good remedi fall asleep need one</td>\n",
       "      <td>6</td>\n",
       "      <td>0</td>\n",
       "    </tr>\n",
       "    <tr>\n",
       "      <th>1</th>\n",
       "      <td>1</td>\n",
       "      <td>work fun</td>\n",
       "      <td>2</td>\n",
       "      <td>0</td>\n",
       "    </tr>\n",
       "    <tr>\n",
       "      <th>2</th>\n",
       "      <td>2</td>\n",
       "      <td>summer person love dull cold weather centralco...</td>\n",
       "      <td>3</td>\n",
       "      <td>1</td>\n",
       "    </tr>\n",
       "    <tr>\n",
       "      <th>3</th>\n",
       "      <td>3</td>\n",
       "      <td>want smoke cig lighter</td>\n",
       "      <td>2</td>\n",
       "      <td>0</td>\n",
       "    </tr>\n",
       "    <tr>\n",
       "      <th>4</th>\n",
       "      <td>4</td>\n",
       "      <td>pass lot twit arriv trend topic bob</td>\n",
       "      <td>8</td>\n",
       "      <td>0</td>\n",
       "    </tr>\n",
       "  </tbody>\n",
       "</table>\n",
       "</div>"
      ],
      "text/plain": [
       "   Unnamed: 0                                              tweet  \\\n",
       "0           0            sleep good remedi fall asleep need one    \n",
       "1           1                                          work fun    \n",
       "2           2  summer person love dull cold weather centralco...   \n",
       "3           3                            want smoke cig lighter    \n",
       "4           4               pass lot twit arriv trend topic bob    \n",
       "\n",
       "   punctuation_count  sentiment  \n",
       "0                  6          0  \n",
       "1                  2          0  \n",
       "2                  3          1  \n",
       "3                  2          0  \n",
       "4                  8          0  "
      ]
     },
     "execution_count": 41,
     "metadata": {},
     "output_type": "execute_result"
    }
   ],
   "source": [
    "# Here we imported the dataset after cleaning the file already.  Cleaning was done in the clean_csv jupyter file\n",
    "data = pd.read_csv(\"cleaned_text.csv\", encoding='latin1', header = 0)\n",
    "data.head()"
   ]
  },
  {
   "cell_type": "markdown",
   "metadata": {},
   "source": [
    "# Preparing the Dataset"
   ]
  },
  {
   "cell_type": "code",
   "execution_count": 42,
   "metadata": {},
   "outputs": [
    {
     "data": {
      "text/html": [
       "<div>\n",
       "<style scoped>\n",
       "    .dataframe tbody tr th:only-of-type {\n",
       "        vertical-align: middle;\n",
       "    }\n",
       "\n",
       "    .dataframe tbody tr th {\n",
       "        vertical-align: top;\n",
       "    }\n",
       "\n",
       "    .dataframe thead th {\n",
       "        text-align: right;\n",
       "    }\n",
       "</style>\n",
       "<table border=\"1\" class=\"dataframe\">\n",
       "  <thead>\n",
       "    <tr style=\"text-align: right;\">\n",
       "      <th></th>\n",
       "      <th>tweet</th>\n",
       "      <th>punctuation_count</th>\n",
       "      <th>sentiment</th>\n",
       "    </tr>\n",
       "  </thead>\n",
       "  <tbody>\n",
       "    <tr>\n",
       "      <th>0</th>\n",
       "      <td>sleep good remedi fall asleep need one</td>\n",
       "      <td>6</td>\n",
       "      <td>0</td>\n",
       "    </tr>\n",
       "    <tr>\n",
       "      <th>1</th>\n",
       "      <td>work fun</td>\n",
       "      <td>2</td>\n",
       "      <td>0</td>\n",
       "    </tr>\n",
       "    <tr>\n",
       "      <th>2</th>\n",
       "      <td>summer person love dull cold weather centralco...</td>\n",
       "      <td>3</td>\n",
       "      <td>1</td>\n",
       "    </tr>\n",
       "    <tr>\n",
       "      <th>3</th>\n",
       "      <td>want smoke cig lighter</td>\n",
       "      <td>2</td>\n",
       "      <td>0</td>\n",
       "    </tr>\n",
       "    <tr>\n",
       "      <th>4</th>\n",
       "      <td>pass lot twit arriv trend topic bob</td>\n",
       "      <td>8</td>\n",
       "      <td>0</td>\n",
       "    </tr>\n",
       "  </tbody>\n",
       "</table>\n",
       "</div>"
      ],
      "text/plain": [
       "                                               tweet  punctuation_count  \\\n",
       "0            sleep good remedi fall asleep need one                   6   \n",
       "1                                          work fun                   2   \n",
       "2  summer person love dull cold weather centralco...                  3   \n",
       "3                            want smoke cig lighter                   2   \n",
       "4               pass lot twit arriv trend topic bob                   8   \n",
       "\n",
       "   sentiment  \n",
       "0          0  \n",
       "1          0  \n",
       "2          1  \n",
       "3          0  \n",
       "4          0  "
      ]
     },
     "execution_count": 42,
     "metadata": {},
     "output_type": "execute_result"
    }
   ],
   "source": [
    "#Droping columnns we dont need for the NN model\n",
    "data.drop(data.columns[[0]], axis=1, inplace=True)\n",
    "data.head()"
   ]
  },
  {
   "cell_type": "code",
   "execution_count": 43,
   "metadata": {},
   "outputs": [
    {
     "data": {
      "text/plain": [
       "0    52657\n",
       "1    52584\n",
       "Name: sentiment, dtype: int64"
      ]
     },
     "execution_count": 43,
     "metadata": {},
     "output_type": "execute_result"
    }
   ],
   "source": [
    "# Checking counts of each label\n",
    "data.sentiment.value_counts() # dataset is already balanced"
   ]
  },
  {
   "cell_type": "code",
   "execution_count": 44,
   "metadata": {},
   "outputs": [
    {
     "data": {
      "text/plain": [
       "[Text(0, 0, 'Negative'), Text(1, 0, 'Positive')]"
      ]
     },
     "execution_count": 44,
     "metadata": {},
     "output_type": "execute_result"
    },
    {
     "data": {
      "image/png": "[encoded data removed]",
      "text/plain": [
       "<Figure size 432x288 with 1 Axes>"
      ]
     },
     "metadata": {},
     "output_type": "display_data"
    }
   ],
   "source": [
    "import seaborn as sns\n",
    "import matplotlib.pyplot as plt\n",
    "%matplotlib inline\n",
    "\n",
    "sns.set(font_scale=1.3)\n",
    "plot = sns.countplot(x = 'sentiment', data = data)\n",
    "plot.set_title(\"Balance of Positive and Negative Tweets\", fontsize=20)\n",
    "plot.set_xticklabels(['Negative','Positive'])\n"
   ]
  },
  {
   "cell_type": "code",
   "execution_count": 45,
   "metadata": {},
   "outputs": [
    {
     "name": "stdout",
     "output_type": "stream",
     "text": [
      "<class 'pandas.core.frame.DataFrame'>\n",
      "RangeIndex: 105241 entries, 0 to 105240\n",
      "Data columns (total 3 columns):\n",
      " #   Column             Non-Null Count   Dtype \n",
      "---  ------             --------------   ----- \n",
      " 0   tweet              104742 non-null  object\n",
      " 1   punctuation_count  105241 non-null  int64 \n",
      " 2   sentiment          105241 non-null  int64 \n",
      "dtypes: int64(2), object(1)\n",
      "memory usage: 2.4+ MB\n"
     ]
    }
   ],
   "source": [
    "# It appears that after cleaning some tweets have no text\n",
    "data.info()"
   ]
  },
  {
   "cell_type": "code",
   "execution_count": 46,
   "metadata": {},
   "outputs": [
    {
     "name": "stdout",
     "output_type": "stream",
     "text": [
      "<class 'pandas.core.frame.DataFrame'>\n",
      "Int64Index: 104742 entries, 0 to 105240\n",
      "Data columns (total 3 columns):\n",
      " #   Column             Non-Null Count   Dtype \n",
      "---  ------             --------------   ----- \n",
      " 0   tweet              104742 non-null  object\n",
      " 1   punctuation_count  104742 non-null  int64 \n",
      " 2   sentiment          104742 non-null  int64 \n",
      "dtypes: int64(2), object(1)\n",
      "memory usage: 3.2+ MB\n"
     ]
    }
   ],
   "source": [
    "# Cleaned out null tweet text records\n",
    "data.dropna(subset = [\"tweet\"], inplace=True)\n",
    "data.info()"
   ]
  },
  {
   "cell_type": "markdown",
   "metadata": {},
   "source": [
    "# Tokenize"
   ]
  },
  {
   "cell_type": "code",
   "execution_count": 47,
   "metadata": {},
   "outputs": [
    {
     "data": {
      "text/html": [
       "<div>\n",
       "<style scoped>\n",
       "    .dataframe tbody tr th:only-of-type {\n",
       "        vertical-align: middle;\n",
       "    }\n",
       "\n",
       "    .dataframe tbody tr th {\n",
       "        vertical-align: top;\n",
       "    }\n",
       "\n",
       "    .dataframe thead th {\n",
       "        text-align: right;\n",
       "    }\n",
       "</style>\n",
       "<table border=\"1\" class=\"dataframe\">\n",
       "  <thead>\n",
       "    <tr style=\"text-align: right;\">\n",
       "      <th></th>\n",
       "      <th>tweet</th>\n",
       "      <th>punctuation_count</th>\n",
       "    </tr>\n",
       "  </thead>\n",
       "  <tbody>\n",
       "    <tr>\n",
       "      <th>0</th>\n",
       "      <td>sleep good remedi fall asleep need one</td>\n",
       "      <td>6</td>\n",
       "    </tr>\n",
       "    <tr>\n",
       "      <th>1</th>\n",
       "      <td>work fun</td>\n",
       "      <td>2</td>\n",
       "    </tr>\n",
       "    <tr>\n",
       "      <th>2</th>\n",
       "      <td>summer person love dull cold weather centralco...</td>\n",
       "      <td>3</td>\n",
       "    </tr>\n",
       "    <tr>\n",
       "      <th>3</th>\n",
       "      <td>want smoke cig lighter</td>\n",
       "      <td>2</td>\n",
       "    </tr>\n",
       "    <tr>\n",
       "      <th>4</th>\n",
       "      <td>pass lot twit arriv trend topic bob</td>\n",
       "      <td>8</td>\n",
       "    </tr>\n",
       "  </tbody>\n",
       "</table>\n",
       "</div>"
      ],
      "text/plain": [
       "                                               tweet  punctuation_count\n",
       "0            sleep good remedi fall asleep need one                   6\n",
       "1                                          work fun                   2\n",
       "2  summer person love dull cold weather centralco...                  3\n",
       "3                            want smoke cig lighter                   2\n",
       "4               pass lot twit arriv trend topic bob                   8"
      ]
     },
     "execution_count": 47,
     "metadata": {},
     "output_type": "execute_result"
    }
   ],
   "source": [
    "#Keeping the labels and creating preparing text for tfidf vectorizer\n",
    "Y = data[['sentiment']]\n",
    "X = data.drop(['sentiment'], axis=1)\n",
    "X.head()"
   ]
  },
  {
   "cell_type": "code",
   "execution_count": 48,
   "metadata": {},
   "outputs": [],
   "source": [
    "# Holding tweets and punctuation counts\n",
    "\n",
    "tweet = X[['tweet']]\n",
    "punctuation_counts = X[['punctuation_count']]"
   ]
  },
  {
   "cell_type": "code",
   "execution_count": 49,
   "metadata": {},
   "outputs": [],
   "source": [
    "# TF-IDF vectorized tweet text and reappended punctuation counts\n",
    "\n",
    "from sklearn.feature_extraction.text import TfidfVectorizer\n",
    "\n",
    "vectorizer = TfidfVectorizer(ngram_range=(1,3), stop_words=\"english\", max_features=8000)\n",
    "\n",
    "tfidf_vect = vectorizer.fit_transform(X['tweet'])\n",
    "tfidf_feature_names = vectorizer.get_feature_names_out()\n",
    "\n",
    "tfidf_df = pd.DataFrame (tfidf_vect.todense())\n",
    "tfidf_df.columns = tfidf_feature_names\n",
    "tfidf_df['punctuation_count'] = punctuation_counts"
   ]
  },
  {
   "cell_type": "code",
   "execution_count": 50,
   "metadata": {},
   "outputs": [],
   "source": [
    "# Min-max scaled the punctuation counts\n",
    "\n",
    "from sklearn.preprocessing import StandardScaler\n",
    "from sklearn import preprocessing, model_selection\n",
    "\n",
    "min_max_scaler = preprocessing.MinMaxScaler()\n",
    "tfidf_df['punctuation_count'] = min_max_scaler.fit_transform(punctuation_counts)"
   ]
  },
  {
   "cell_type": "code",
   "execution_count": 51,
   "metadata": {},
   "outputs": [
    {
     "data": {
      "text/plain": [
       "(104742, 8001)"
      ]
     },
     "execution_count": 51,
     "metadata": {},
     "output_type": "execute_result"
    }
   ],
   "source": [
    "# Our final matrix shape\n",
    "\n",
    "tfidf_df.shape"
   ]
  },
  {
   "cell_type": "markdown",
   "metadata": {},
   "source": [
    "# Split Data"
   ]
  },
  {
   "cell_type": "code",
   "execution_count": 54,
   "metadata": {},
   "outputs": [],
   "source": [
    "from sklearn.model_selection import train_test_split\n",
    "\n",
    "Xtrain, Xtest, ytrain, ytest = train_test_split(tfidf_df,\n",
    "                                                Y,\n",
    "                                                test_size=0.2,\n",
    "                                                random_state=10)"
   ]
  },
  {
   "cell_type": "code",
   "execution_count": 55,
   "metadata": {},
   "outputs": [
    {
     "data": {
      "text/plain": [
       "((83793, 8001), (20949, 8001), (83793, 1), (20949, 1))"
      ]
     },
     "execution_count": 55,
     "metadata": {},
     "output_type": "execute_result"
    }
   ],
   "source": [
    "Xtrain.shape, Xtest.shape, ytrain.shape, ytest.shape"
   ]
  },
  {
   "cell_type": "code",
   "execution_count": 57,
   "metadata": {},
   "outputs": [],
   "source": [
    "# size/shape of dataframe\n",
    "n_samples = Xtrain.shape[0]\n",
    "n_featuers = Xtrain.shape[1]"
   ]
  },
  {
   "cell_type": "markdown",
   "metadata": {},
   "source": [
    "# Model 1 Sequential NN with TFIDF"
   ]
  },
  {
   "cell_type": "code",
   "execution_count": 58,
   "metadata": {},
   "outputs": [],
   "source": [
    "# Importing the Keras libraries and packages\n",
    "from tensorflow import keras\n",
    "from tensorflow.keras import layers\n",
    "from tensorflow.keras.callbacks import ModelCheckpoint\n",
    "\n",
    "model = keras.Sequential(\n",
    "    [\n",
    "        layers.Dense(3000, activation='relu', name='layer1'),\n",
    "        layers.Dropout(0.5),\n",
    "        layers.Dense(200, activation='sigmoid', name='layer2'),\n",
    "        layers.Dropout(0.5),\n",
    "        layers.Dense(40, activation='sigmoid', name='layer3'),\n",
    "        layers.Dropout(0.5),\n",
    "        layers.Dense(1, activation='sigmoid', name='output1'),\n",
    "    ]\n",
    ")"
   ]
  },
  {
   "cell_type": "code",
   "execution_count": 59,
   "metadata": {},
   "outputs": [],
   "source": [
    "# tried clipping gradients in our model without success, custom optimizer was not used in our final model\n",
    "optimizer = tf.keras.optimizers.Adam(clipnorm=1.0, clipvalue=0.5, name=\"Adam\")"
   ]
  },
  {
   "cell_type": "code",
   "execution_count": 60,
   "metadata": {},
   "outputs": [],
   "source": [
    "# Compiling the ANN\n",
    "model.compile(loss = 'binary_crossentropy' , optimizer = 'adam' , metrics = ['accuracy'] )"
   ]
  },
  {
   "cell_type": "code",
   "execution_count": 61,
   "metadata": {},
   "outputs": [
    {
     "name": "stdout",
     "output_type": "stream",
     "text": [
      "Epoch 1/100\n",
      "9/9 [==============================] - 10s 657ms/step - loss: 0.8607 - accuracy: 0.5023 - val_loss: 0.7085 - val_accuracy: 0.5010\n",
      "Epoch 2/100\n",
      "9/9 [==============================] - 3s 397ms/step - loss: 0.7787 - accuracy: 0.5115 - val_loss: 0.6916 - val_accuracy: 0.5010\n",
      "Epoch 3/100\n",
      "9/9 [==============================] - 4s 403ms/step - loss: 0.7331 - accuracy: 0.5283 - val_loss: 0.6564 - val_accuracy: 0.6801\n",
      "Epoch 4/100\n",
      "9/9 [==============================] - 4s 405ms/step - loss: 0.6859 - accuracy: 0.5748 - val_loss: 0.6142 - val_accuracy: 0.7161\n",
      "Epoch 5/100\n",
      "9/9 [==============================] - 4s 399ms/step - loss: 0.6329 - accuracy: 0.6419 - val_loss: 0.5725 - val_accuracy: 0.7410\n",
      "Epoch 6/100\n",
      "9/9 [==============================] - 4s 402ms/step - loss: 0.5891 - accuracy: 0.6939 - val_loss: 0.5409 - val_accuracy: 0.7460\n",
      "Epoch 7/100\n",
      "9/9 [==============================] - 4s 405ms/step - loss: 0.5508 - accuracy: 0.7331 - val_loss: 0.5197 - val_accuracy: 0.7488\n",
      "Epoch 8/100\n",
      "9/9 [==============================] - 4s 407ms/step - loss: 0.5190 - accuracy: 0.7593 - val_loss: 0.5087 - val_accuracy: 0.7532\n",
      "Epoch 9/100\n",
      "9/9 [==============================] - 4s 402ms/step - loss: 0.4931 - accuracy: 0.7765 - val_loss: 0.5073 - val_accuracy: 0.7550\n",
      "Epoch 10/100\n",
      "9/9 [==============================] - 4s 405ms/step - loss: 0.4746 - accuracy: 0.7895 - val_loss: 0.5101 - val_accuracy: 0.7564\n",
      "Epoch 11/100\n",
      "9/9 [==============================] - 4s 399ms/step - loss: 0.4602 - accuracy: 0.7983 - val_loss: 0.5132 - val_accuracy: 0.7552\n",
      "Epoch 12/100\n",
      "9/9 [==============================] - 4s 395ms/step - loss: 0.4465 - accuracy: 0.8068 - val_loss: 0.5169 - val_accuracy: 0.7545\n",
      "Epoch 13/100\n",
      "9/9 [==============================] - 4s 402ms/step - loss: 0.4341 - accuracy: 0.8135 - val_loss: 0.5211 - val_accuracy: 0.7538\n",
      "Epoch 14/100\n",
      "9/9 [==============================] - 4s 401ms/step - loss: 0.4226 - accuracy: 0.8202 - val_loss: 0.5278 - val_accuracy: 0.7521\n"
     ]
    }
   ],
   "source": [
    "# Setup early stopping and middle checkpoints in our model.  10k batch size, and set to 100 epochs because the model will stop 5 epochs after the 5 epochs of\n",
    "# the epoch with the highest validation accuracy\n",
    "\n",
    "model_save_filename = \"twitter_model.h5\"\n",
    "earlystopping_cb = keras.callbacks.EarlyStopping(patience=5, restore_best_weights=True)\n",
    "mdlcheckpoint_cb = keras.callbacks.ModelCheckpoint(model_save_filename, monitor=\"val_accuracy\", save_best_only=True)\n",
    "\n",
    "\n",
    "history = model.fit(\n",
    "                    Xtrain, \n",
    "                    ytrain, \n",
    "                    batch_size=10000,\n",
    "                    epochs=100, \n",
    "                    callbacks=[earlystopping_cb, mdlcheckpoint_cb],\n",
    "                    validation_data = (Xtest, ytest)\n",
    "                    )"
   ]
  },
  {
   "cell_type": "code",
   "execution_count": 62,
   "metadata": {},
   "outputs": [
    {
     "name": "stdout",
     "output_type": "stream",
     "text": [
      "Model: \"sequential_1\"\n",
      "_________________________________________________________________\n",
      "Layer (type)                 Output Shape              Param #   \n",
      "=================================================================\n",
      "layer1 (Dense)               (None, 3000)              24006000  \n",
      "_________________________________________________________________\n",
      "dropout_5 (Dropout)          (None, 3000)              0         \n",
      "_________________________________________________________________\n",
      "layer2 (Dense)               (None, 200)               600200    \n",
      "_________________________________________________________________\n",
      "dropout_6 (Dropout)          (None, 200)               0         \n",
      "_________________________________________________________________\n",
      "layer3 (Dense)               (None, 40)                8040      \n",
      "_________________________________________________________________\n",
      "dropout_7 (Dropout)          (None, 40)                0         \n",
      "_________________________________________________________________\n",
      "output1 (Dense)              (None, 1)                 41        \n",
      "=================================================================\n",
      "Total params: 24,614,281\n",
      "Trainable params: 24,614,281\n",
      "Non-trainable params: 0\n",
      "_________________________________________________________________\n"
     ]
    }
   ],
   "source": [
    "model.summary()"
   ]
  },
  {
   "cell_type": "code",
   "execution_count": 63,
   "metadata": {},
   "outputs": [],
   "source": [
    "# Make predictions\n",
    "# Predicting the Test set results\n",
    "y_pred_train = model.predict(Xtrain)"
   ]
  },
  {
   "cell_type": "code",
   "execution_count": 64,
   "metadata": {},
   "outputs": [],
   "source": [
    "# Predicting the Test set results\n",
    "y_pred_test = model.predict(Xtest)"
   ]
  },
  {
   "cell_type": "code",
   "execution_count": 82,
   "metadata": {},
   "outputs": [
    {
     "name": "stdout",
     "output_type": "stream",
     "text": [
      "dict_keys(['loss', 'accuracy', 'val_loss', 'val_accuracy'])\n"
     ]
    }
   ],
   "source": [
    "# list all the data in history\n",
    "print(history.history.keys())\n"
   ]
  },
  {
   "cell_type": "code",
   "execution_count": 95,
   "metadata": {},
   "outputs": [
    {
     "data": {
      "image/png": "[encoded data removed]",
      "text/plain": [
       "<Figure size 432x288 with 1 Axes>"
      ]
     },
     "metadata": {
      "needs_background": "light"
     },
     "output_type": "display_data"
    },
    {
     "data": {
      "image/png": "[encoded data removed]",
      "text/plain": [
       "<Figure size 432x288 with 1 Axes>"
      ]
     },
     "metadata": {
      "needs_background": "light"
     },
     "output_type": "display_data"
    }
   ],
   "source": [
    "# Plot the accuracy for both train and validation set\n",
    "plt.subplots() # open a new plot\n",
    "plt.plot(history.history['accuracy'])\n",
    "plt.plot(history.history['val_accuracy'])\n",
    "plt.title('model accuracy')\n",
    "plt.ylabel('accuracy')\n",
    "plt.xlabel('epoch')\n",
    "plt.legend(['train', 'validation'])\n",
    "plt.show()\n",
    "\n",
    "# Plot the loss for both train and validation set\n",
    "plt.subplots() # open a new plot\n",
    "plt.plot(history.history['loss'])\n",
    "plt.plot(history.history['val_loss'])\n",
    "plt.title('model loss')\n",
    "plt.ylabel('loss')\n",
    "plt.xlabel('epoch')\n",
    "plt.legend(['train', 'validation'])\n",
    "plt.show()"
   ]
  },
  {
   "cell_type": "markdown",
   "metadata": {},
   "source": [
    "# Model 2 CNN with Word Embedded Glove "
   ]
  },
  {
   "cell_type": "code",
   "execution_count": 10,
   "metadata": {},
   "outputs": [],
   "source": [
    "import pandas as pd\n",
    "import numpy as np\n",
    "from matplotlib import pyplot as plt\n",
    "\n",
    "import nltk\n",
    "from nltk.corpus import stopwords\n",
    "from nltk.stem import WordNetLemmatizer\n",
    "\n",
    "import tensorflow as tf\n",
    "import sklearn\n",
    "from tensorflow.keras.layers import Conv1D, Bidirectional, LSTM, Dense, Input, Dropout, SpatialDropout1D, GlobalMaxPooling1D\n",
    "from tensorflow.keras.callbacks import ModelCheckpoint\n",
    "from tensorflow.keras.optimizers import Adam\n",
    "from tensorflow.keras.callbacks import ReduceLROnPlateau, EarlyStopping\n",
    "\n",
    "import codecs\n",
    "from tqdm import tqdm"
   ]
  },
  {
   "cell_type": "code",
   "execution_count": 11,
   "metadata": {},
   "outputs": [
    {
     "data": {
      "text/html": [
       "<div>\n",
       "<style scoped>\n",
       "    .dataframe tbody tr th:only-of-type {\n",
       "        vertical-align: middle;\n",
       "    }\n",
       "\n",
       "    .dataframe tbody tr th {\n",
       "        vertical-align: top;\n",
       "    }\n",
       "\n",
       "    .dataframe thead th {\n",
       "        text-align: right;\n",
       "    }\n",
       "</style>\n",
       "<table border=\"1\" class=\"dataframe\">\n",
       "  <thead>\n",
       "    <tr style=\"text-align: right;\">\n",
       "      <th></th>\n",
       "      <th>tweet</th>\n",
       "      <th>punctuation_count</th>\n",
       "      <th>sentiment</th>\n",
       "    </tr>\n",
       "  </thead>\n",
       "  <tbody>\n",
       "    <tr>\n",
       "      <th>0</th>\n",
       "      <td>sleep good remedi fall asleep need one</td>\n",
       "      <td>6</td>\n",
       "      <td>0</td>\n",
       "    </tr>\n",
       "    <tr>\n",
       "      <th>1</th>\n",
       "      <td>work fun</td>\n",
       "      <td>2</td>\n",
       "      <td>0</td>\n",
       "    </tr>\n",
       "    <tr>\n",
       "      <th>2</th>\n",
       "      <td>summer person love dull cold weather centralco...</td>\n",
       "      <td>3</td>\n",
       "      <td>1</td>\n",
       "    </tr>\n",
       "    <tr>\n",
       "      <th>3</th>\n",
       "      <td>want smoke cig lighter</td>\n",
       "      <td>2</td>\n",
       "      <td>0</td>\n",
       "    </tr>\n",
       "    <tr>\n",
       "      <th>4</th>\n",
       "      <td>pass lot twit arriv trend topic bob</td>\n",
       "      <td>8</td>\n",
       "      <td>0</td>\n",
       "    </tr>\n",
       "  </tbody>\n",
       "</table>\n",
       "</div>"
      ],
      "text/plain": [
       "                                               tweet  punctuation_count  \\\n",
       "0            sleep good remedi fall asleep need one                   6   \n",
       "1                                          work fun                   2   \n",
       "2  summer person love dull cold weather centralco...                  3   \n",
       "3                            want smoke cig lighter                   2   \n",
       "4               pass lot twit arriv trend topic bob                   8   \n",
       "\n",
       "   sentiment  \n",
       "0          0  \n",
       "1          0  \n",
       "2          1  \n",
       "3          0  \n",
       "4          0  "
      ]
     },
     "execution_count": 11,
     "metadata": {},
     "output_type": "execute_result"
    }
   ],
   "source": [
    "# Again started with our cleaned dataset.\n",
    "\n",
    "data = pd.read_csv(\"cleaned_text.csv\", encoding='latin1', header = 0)\n",
    "data.drop(data.columns[[0]], axis=1, inplace=True)\n",
    "data.dropna(subset = [\"tweet\"], inplace=True)\n",
    "data.head()"
   ]
  },
  {
   "cell_type": "code",
   "execution_count": 12,
   "metadata": {},
   "outputs": [],
   "source": [
    "tweets = data.tweet.copy()"
   ]
  },
  {
   "cell_type": "code",
   "execution_count": 13,
   "metadata": {},
   "outputs": [
    {
     "data": {
      "text/plain": [
       "'work fun'"
      ]
     },
     "execution_count": 13,
     "metadata": {},
     "output_type": "execute_result"
    }
   ],
   "source": [
    "# Applied some extra cleaning in case some characters were missed in our cleaning\n",
    "\n",
    "def removeWordWithChar(text, char_list):\n",
    "    #Remove words in a text that contains a char from the list.\n",
    "    text = text.split()\n",
    "    res = [ele for ele in text if all(ch not in ele for ch in char_list)]\n",
    "    res = ' '.join(res)\n",
    "    return res\n",
    "\n",
    "char_list = ['@', '#', 'http', 'www', '/']\n",
    "\n",
    "removeWordWithChar(tweets[1], char_list)"
   ]
  },
  {
   "cell_type": "code",
   "execution_count": 14,
   "metadata": {},
   "outputs": [],
   "source": [
    "tweets_cleaned = []\n",
    "for t in tweets:\n",
    "    tweets_cleaned.append(removeWordWithChar(t, char_list))"
   ]
  },
  {
   "cell_type": "code",
   "execution_count": 15,
   "metadata": {},
   "outputs": [
    {
     "data": {
      "text/plain": [
       "104742"
      ]
     },
     "execution_count": 15,
     "metadata": {},
     "output_type": "execute_result"
    }
   ],
   "source": [
    "# Our list of tweets\n",
    "len(tweets_cleaned)"
   ]
  },
  {
   "cell_type": "code",
   "execution_count": 16,
   "metadata": {},
   "outputs": [],
   "source": [
    "# tokenized all our tweets\n",
    "\n",
    "def tokenize(texts):\n",
    "    tokenizer = nltk.RegexpTokenizer(r'\\w+')\n",
    "\n",
    "    texts_tokens = []\n",
    "    for i, val in enumerate(texts):\n",
    "        text_tokens = tokenizer.tokenize(val.lower())\n",
    "\n",
    "        for i in range(len(text_tokens) - 1, -1, -1):\n",
    "            if len(text_tokens[i]) < 4:\n",
    "                del(text_tokens[i])\n",
    "\n",
    "        texts_tokens.append(text_tokens)\n",
    "        \n",
    "    return texts_tokens\n",
    "\n",
    "tweets_tokens = tokenize(tweets_cleaned)"
   ]
  },
  {
   "cell_type": "code",
   "execution_count": 17,
   "metadata": {},
   "outputs": [],
   "source": [
    "# Removed stop words again\n",
    "\n",
    "def removeSW(texts_tokens):\n",
    "    stopWords = set(stopwords.words('english'))\n",
    "    texts_filtered = []\n",
    "\n",
    "    for i, val in enumerate(texts_tokens):\n",
    "        text_filtered = []\n",
    "        for w in val:\n",
    "            if w not in stopWords:\n",
    "                text_filtered.append(w)\n",
    "        texts_filtered.append(text_filtered)\n",
    "        \n",
    "    return texts_filtered\n",
    "\n",
    "tweets_filtered = removeSW(tweets_tokens)"
   ]
  },
  {
   "cell_type": "code",
   "execution_count": 18,
   "metadata": {},
   "outputs": [
    {
     "name": "stderr",
     "output_type": "stream",
     "text": [
      "[nltk_data] Downloading package wordnet to\n",
      "[nltk_data]     C:\\Users\\Mike\\AppData\\Roaming\\nltk_data...\n",
      "[nltk_data]   Package wordnet is already up-to-date!\n"
     ]
    }
   ],
   "source": [
    "# lematized the words again\n",
    "\n",
    "def lemma(texts_filtered):\n",
    "    wordnet_lemmatizer = WordNetLemmatizer()\n",
    "    texts_lem = []\n",
    "\n",
    "    for i, val in enumerate(texts_filtered):\n",
    "        text_lem = []\n",
    "        for word in val:\n",
    "            text_lem.append(wordnet_lemmatizer.lemmatize(word, pos=\"v\"))\n",
    "        texts_lem.append(text_lem)\n",
    "    \n",
    "    return texts_lem\n",
    "\n",
    "nltk.download('wordnet')\n",
    "\n",
    "tweets_lem = lemma(tweets_filtered)"
   ]
  },
  {
   "cell_type": "code",
   "execution_count": 19,
   "metadata": {},
   "outputs": [],
   "source": [
    "#  Created a new list after lematization\n",
    "\n",
    "tweets_ready = []\n",
    "for tweet in tweets_lem:\n",
    "    string = ' '\n",
    "    string = string.join(tweet)\n",
    "    tweets_ready.append(string)"
   ]
  },
  {
   "cell_type": "code",
   "execution_count": 20,
   "metadata": {},
   "outputs": [],
   "source": [
    "data['tweet'] = tweets_ready"
   ]
  },
  {
   "cell_type": "code",
   "execution_count": 21,
   "metadata": {},
   "outputs": [
    {
     "data": {
      "text/html": [
       "<div>\n",
       "<style scoped>\n",
       "    .dataframe tbody tr th:only-of-type {\n",
       "        vertical-align: middle;\n",
       "    }\n",
       "\n",
       "    .dataframe tbody tr th {\n",
       "        vertical-align: top;\n",
       "    }\n",
       "\n",
       "    .dataframe thead th {\n",
       "        text-align: right;\n",
       "    }\n",
       "</style>\n",
       "<table border=\"1\" class=\"dataframe\">\n",
       "  <thead>\n",
       "    <tr style=\"text-align: right;\">\n",
       "      <th></th>\n",
       "      <th>tweet</th>\n",
       "      <th>punctuation_count</th>\n",
       "      <th>sentiment</th>\n",
       "    </tr>\n",
       "  </thead>\n",
       "  <tbody>\n",
       "    <tr>\n",
       "      <th>0</th>\n",
       "      <td>sleep good remedi fall asleep need</td>\n",
       "      <td>6</td>\n",
       "      <td>0</td>\n",
       "    </tr>\n",
       "    <tr>\n",
       "      <th>1</th>\n",
       "      <td>work</td>\n",
       "      <td>2</td>\n",
       "      <td>0</td>\n",
       "    </tr>\n",
       "    <tr>\n",
       "      <th>2</th>\n",
       "      <td>summer person love dull cold weather centralco...</td>\n",
       "      <td>3</td>\n",
       "      <td>1</td>\n",
       "    </tr>\n",
       "    <tr>\n",
       "      <th>3</th>\n",
       "      <td>want smoke lighter</td>\n",
       "      <td>2</td>\n",
       "      <td>0</td>\n",
       "    </tr>\n",
       "    <tr>\n",
       "      <th>4</th>\n",
       "      <td>pass twit arriv trend topic</td>\n",
       "      <td>8</td>\n",
       "      <td>0</td>\n",
       "    </tr>\n",
       "  </tbody>\n",
       "</table>\n",
       "</div>"
      ],
      "text/plain": [
       "                                               tweet  punctuation_count  \\\n",
       "0                 sleep good remedi fall asleep need                  6   \n",
       "1                                               work                  2   \n",
       "2  summer person love dull cold weather centralco...                  3   \n",
       "3                                 want smoke lighter                  2   \n",
       "4                        pass twit arriv trend topic                  8   \n",
       "\n",
       "   sentiment  \n",
       "0          0  \n",
       "1          0  \n",
       "2          1  \n",
       "3          0  \n",
       "4          0  "
      ]
     },
     "execution_count": 21,
     "metadata": {},
     "output_type": "execute_result"
    }
   ],
   "source": [
    "# Our new dataframe after processing\n",
    "\n",
    "data.head()"
   ]
  },
  {
   "cell_type": "code",
   "execution_count": 22,
   "metadata": {},
   "outputs": [],
   "source": [
    "# Called in glove\n",
    "\n",
    "GLOVE_EMB = 'glove.6B.300d.txt'\n",
    "EMBEDDING_DIM = 300"
   ]
  },
  {
   "cell_type": "code",
   "execution_count": 23,
   "metadata": {},
   "outputs": [
    {
     "name": "stderr",
     "output_type": "stream",
     "text": [
      "400000it [00:31, 12566.30it/s]"
     ]
    },
    {
     "name": "stdout",
     "output_type": "stream",
     "text": [
      "Found 400000 word vectors.\n",
      "Wall time: 31.8 s\n"
     ]
    },
    {
     "name": "stderr",
     "output_type": "stream",
     "text": [
      "\n"
     ]
    }
   ],
   "source": [
    "%%time\n",
    "embeddings_index = {}\n",
    "f = codecs.open(GLOVE_EMB, encoding='utf-8')\n",
    "for line in tqdm(f):\n",
    "  values = line.split()\n",
    "  word = value = values[0]\n",
    "  coefs = np.asarray(values[1:], dtype='float32')\n",
    "  embeddings_index[word] = coefs\n",
    "f.close()\n",
    "\n",
    "print('Found %s word vectors.' %len(embeddings_index))"
   ]
  },
  {
   "cell_type": "code",
   "execution_count": 24,
   "metadata": {},
   "outputs": [
    {
     "name": "stdout",
     "output_type": "stream",
     "text": [
      "Vocabulary Size : 24711\n"
     ]
    }
   ],
   "source": [
    "from tensorflow.keras.preprocessing.text import Tokenizer\n",
    "\n",
    "tokenizer = Tokenizer()\n",
    "tokenizer.fit_on_texts(data.tweet)\n",
    "\n",
    "word_index = tokenizer.word_index\n",
    "vocabulary_size = len(tokenizer.word_index) + 1\n",
    "print(\"Vocabulary Size :\", vocabulary_size)"
   ]
  },
  {
   "cell_type": "code",
   "execution_count": 25,
   "metadata": {},
   "outputs": [
    {
     "data": {
      "text/plain": [
       "(24711, 300)"
      ]
     },
     "execution_count": 25,
     "metadata": {},
     "output_type": "execute_result"
    }
   ],
   "source": [
    "#Applied GLoVE word embeddings\n",
    "\n",
    "embedding_matrix = np.zeros((vocabulary_size, EMBEDDING_DIM))\n",
    "for word, i in word_index.items():\n",
    "  embedding_vector = embeddings_index.get(word)\n",
    "  if embedding_vector is not None:\n",
    "    embedding_matrix[i] = embedding_vector\n",
    "embedding_matrix.shape"
   ]
  },
  {
   "cell_type": "code",
   "execution_count": 26,
   "metadata": {},
   "outputs": [
    {
     "name": "stdout",
     "output_type": "stream",
     "text": [
      "Train Data size: 83793\n",
      "Test Data size 20949\n"
     ]
    }
   ],
   "source": [
    "# Train test split\n",
    "\n",
    "X_train, X_test, y_train, y_test = sklearn.model_selection.train_test_split(data['tweet'], data['sentiment'], test_size=0.2, random_state=42)\n",
    "print(\"Train Data size:\", len(X_train))\n",
    "print(\"Test Data size\", len(X_test))"
   ]
  },
  {
   "cell_type": "code",
   "execution_count": 27,
   "metadata": {},
   "outputs": [],
   "source": [
    "# Model defined hyperparameters\n",
    "\n",
    "BATCH_SIZE = 1024\n",
    "EPOCHS = 30\n",
    "MAX_SEQUENCE_LENGTH = 30"
   ]
  },
  {
   "cell_type": "code",
   "execution_count": 28,
   "metadata": {},
   "outputs": [
    {
     "name": "stdout",
     "output_type": "stream",
     "text": [
      "Training X Shape: (83793, 30)\n",
      "Testing X Shape: (20949, 30)\n"
     ]
    }
   ],
   "source": [
    "# Used texts to sequences to prepare our data for our CNN\n",
    "\n",
    "from tensorflow.keras.preprocessing.sequence import pad_sequences\n",
    "\n",
    "X_train = pad_sequences(tokenizer.texts_to_sequences(X_train),\n",
    "                        maxlen = MAX_SEQUENCE_LENGTH)\n",
    "X_test = pad_sequences(tokenizer.texts_to_sequences(X_test),\n",
    "                       maxlen = MAX_SEQUENCE_LENGTH)\n",
    "\n",
    "print(\"Training X Shape:\",X_train.shape)\n",
    "print(\"Testing X Shape:\",X_test.shape)"
   ]
  },
  {
   "cell_type": "code",
   "execution_count": 29,
   "metadata": {},
   "outputs": [],
   "source": [
    "#  Defined embedding layer, early stopping and our model's learning rate will decay as more epocs are run\n",
    "\n",
    "embedding_layer = tf.keras.layers.Embedding(vocabulary_size,\n",
    "                                          EMBEDDING_DIM,\n",
    "                                          weights=[embedding_matrix],\n",
    "                                          input_length=MAX_SEQUENCE_LENGTH,\n",
    "                                          trainable=False)\n",
    "\n",
    "es=EarlyStopping(monitor='val_loss',\n",
    "                 mode='min',\n",
    "                 verbose=1,\n",
    "                 patience=10)\n",
    "\n",
    "reduce_lr = ReduceLROnPlateau(factor=0.1,\n",
    "                                     min_lr = 0.01,\n",
    "                                     monitor = 'val_loss',\n",
    "                                     verbose = 1)"
   ]
  },
  {
   "cell_type": "code",
   "execution_count": 30,
   "metadata": {},
   "outputs": [],
   "source": [
    "#  Model definition\n",
    "\n",
    "inputs = tf.keras.Input(shape=(MAX_SEQUENCE_LENGTH,), dtype=\"int32\")\n",
    "\n",
    "x = embedding_layer(inputs)\n",
    "x = Dropout(0.5)(x)\n",
    "\n",
    "# Conv1D x2 + global max pooling\n",
    "x = Conv1D(128, 7, activation=\"relu\")(x)\n",
    "x = Conv1D(128, 7, activation=\"relu\")(x)\n",
    "x = GlobalMaxPooling1D()(x)\n",
    "\n",
    "# Vanilla hidden layer:\n",
    "x = Dense(512, activation=\"relu\")(x)\n",
    "x = Dropout(0.5)(x)\n",
    "\n",
    "outputs = Dense(1, activation=\"sigmoid\")(x)\n",
    "\n",
    "model_A = tf.keras.Model(inputs, outputs)"
   ]
  },
  {
   "cell_type": "code",
   "execution_count": 31,
   "metadata": {},
   "outputs": [],
   "source": [
    "model_A.compile(optimizer=Adam(), loss='binary_crossentropy', metrics=['accuracy'])"
   ]
  },
  {
   "cell_type": "code",
   "execution_count": 32,
   "metadata": {},
   "outputs": [
    {
     "name": "stdout",
     "output_type": "stream",
     "text": [
      "Model: \"model\"\n",
      "_________________________________________________________________\n",
      "Layer (type)                 Output Shape              Param #   \n",
      "=================================================================\n",
      "input_1 (InputLayer)         [(None, 30)]              0         \n",
      "_________________________________________________________________\n",
      "embedding (Embedding)        (None, 30, 300)           7413300   \n",
      "_________________________________________________________________\n",
      "dropout_3 (Dropout)          (None, 30, 300)           0         \n",
      "_________________________________________________________________\n",
      "conv1d (Conv1D)              (None, 24, 128)           268928    \n",
      "_________________________________________________________________\n",
      "conv1d_1 (Conv1D)            (None, 18, 128)           114816    \n",
      "_________________________________________________________________\n",
      "global_max_pooling1d (Global (None, 128)               0         \n",
      "_________________________________________________________________\n",
      "dense (Dense)                (None, 512)               66048     \n",
      "_________________________________________________________________\n",
      "dropout_4 (Dropout)          (None, 512)               0         \n",
      "_________________________________________________________________\n",
      "dense_1 (Dense)              (None, 1)                 513       \n",
      "=================================================================\n",
      "Total params: 7,863,605\n",
      "Trainable params: 450,305\n",
      "Non-trainable params: 7,413,300\n",
      "_________________________________________________________________\n"
     ]
    }
   ],
   "source": [
    "model_A.summary()"
   ]
  },
  {
   "cell_type": "code",
   "execution_count": 33,
   "metadata": {},
   "outputs": [
    {
     "name": "stdout",
     "output_type": "stream",
     "text": [
      "Epoch 1/30\n",
      "82/82 [==============================] - 9s 29ms/step - loss: 0.6391 - accuracy: 0.6262 - val_loss: 0.5899 - val_accuracy: 0.6857\n",
      "Epoch 2/30\n",
      "82/82 [==============================] - 2s 23ms/step - loss: 0.5953 - accuracy: 0.6747 - val_loss: 0.5726 - val_accuracy: 0.6960\n",
      "Epoch 3/30\n",
      "82/82 [==============================] - 2s 23ms/step - loss: 0.5804 - accuracy: 0.6882 - val_loss: 0.5675 - val_accuracy: 0.6999\n",
      "Epoch 4/30\n",
      "82/82 [==============================] - 2s 23ms/step - loss: 0.5686 - accuracy: 0.6973 - val_loss: 0.5641 - val_accuracy: 0.7060\n",
      "Epoch 5/30\n",
      "82/82 [==============================] - 2s 23ms/step - loss: 0.5583 - accuracy: 0.7074 - val_loss: 0.5700 - val_accuracy: 0.6982\n",
      "Epoch 6/30\n",
      "82/82 [==============================] - 2s 23ms/step - loss: 0.5477 - accuracy: 0.7154 - val_loss: 0.5639 - val_accuracy: 0.7059\n",
      "Epoch 7/30\n",
      "82/82 [==============================] - 2s 23ms/step - loss: 0.5346 - accuracy: 0.7253 - val_loss: 0.5729 - val_accuracy: 0.700348 - accuracy: 0.\n",
      "Epoch 8/30\n",
      "82/82 [==============================] - 2s 23ms/step - loss: 0.5258 - accuracy: 0.7331 - val_loss: 0.5692 - val_accuracy: 0.7023\n",
      "Epoch 9/30\n",
      "82/82 [==============================] - 2s 23ms/step - loss: 0.5173 - accuracy: 0.7372 - val_loss: 0.5711 - val_accuracy: 0.7023\n",
      "Epoch 10/30\n",
      "82/82 [==============================] - 2s 23ms/step - loss: 0.5090 - accuracy: 0.7427 - val_loss: 0.5745 - val_accuracy: 0.7026\n",
      "Epoch 11/30\n",
      "82/82 [==============================] - 2s 23ms/step - loss: 0.4973 - accuracy: 0.7518 - val_loss: 0.5816 - val_accuracy: 0.7002\n",
      "Epoch 12/30\n",
      "82/82 [==============================] - 2s 23ms/step - loss: 0.4919 - accuracy: 0.7543 - val_loss: 0.5776 - val_accuracy: 0.7027\n",
      "Epoch 13/30\n",
      "82/82 [==============================] - 2s 22ms/step - loss: 0.4794 - accuracy: 0.7633 - val_loss: 0.5892 - val_accuracy: 0.6997\n",
      "Epoch 14/30\n",
      "82/82 [==============================] - 2s 23ms/step - loss: 0.4745 - accuracy: 0.7680 - val_loss: 0.5940 - val_accuracy: 0.7007\n",
      "Epoch 15/30\n",
      "82/82 [==============================] - 2s 23ms/step - loss: 0.4653 - accuracy: 0.7712 - val_loss: 0.5962 - val_accuracy: 0.6988\n",
      "Epoch 16/30\n",
      "82/82 [==============================] - 2s 22ms/step - loss: 0.4582 - accuracy: 0.7763 - val_loss: 0.5998 - val_accuracy: 0.6984\n",
      "Epoch 00016: early stopping\n",
      "Wall time: 37.6 s\n"
     ]
    }
   ],
   "source": [
    "%%time \n",
    "history_A = model_A.fit(X_train, y_train, batch_size=BATCH_SIZE, epochs=EPOCHS, validation_data=(X_test, y_test), callbacks=[es, reduce_lr])"
   ]
  },
  {
   "cell_type": "code",
   "execution_count": 34,
   "metadata": {},
   "outputs": [
    {
     "data": {
      "image/png": "[encoded data removed]",
      "text/plain": [
       "<Figure size 432x288 with 1 Axes>"
      ]
     },
     "metadata": {
      "needs_background": "light"
     },
     "output_type": "display_data"
    },
    {
     "data": {
      "image/png": "[encoded data removed]",
      "text/plain": [
       "<Figure size 432x288 with 1 Axes>"
      ]
     },
     "metadata": {
      "needs_background": "light"
     },
     "output_type": "display_data"
    }
   ],
   "source": [
    "# Plot the accuracy for both train and validation set\n",
    "plt.subplots() # open a new plot\n",
    "plt.plot(history_A.history['accuracy'])\n",
    "plt.plot(history_A.history['val_accuracy'])\n",
    "plt.title('model accuracy')\n",
    "plt.ylabel('accuracy')\n",
    "plt.xlabel('epoch')\n",
    "plt.legend(['train', 'validation'])\n",
    "plt.show()\n",
    "\n",
    "# Plot the loss for both train and validation set\n",
    "plt.subplots() # open a new plot\n",
    "plt.plot(history_A.history['loss'])\n",
    "plt.plot(history_A.history['val_loss'])\n",
    "plt.title('model loss')\n",
    "plt.ylabel('loss')\n",
    "plt.xlabel('epoch')\n",
    "plt.legend(['train', 'validation'])\n",
    "plt.show()"
   ]
  },
  {
   "cell_type": "markdown",
   "metadata": {},
   "source": [
    "# Traditional ML Models"
   ]
  },
  {
   "cell_type": "code",
   "execution_count": 23,
   "metadata": {},
   "outputs": [],
   "source": [
    "from sklearn import metrics\n",
    "from sklearn.ensemble import RandomForestClassifier\n",
    "from sklearn.svm import SVC\n",
    "from sklearn.naive_bayes import GaussianNB\n",
    "from sklearn.neighbors import KNeighborsClassifier\n",
    "from sklearn.metrics import confusion_matrix"
   ]
  },
  {
   "cell_type": "code",
   "execution_count": 42,
   "metadata": {},
   "outputs": [
    {
     "name": "stderr",
     "output_type": "stream",
     "text": [
      "C:\\Users\\Mike\\AppData\\Local\\Temp/ipykernel_6980/693845353.py:3: DataConversionWarning: A column-vector y was passed when a 1d array was expected. Please change the shape of y to (n_samples,), for example using ravel().\n",
      "  RF.fit(Xtrain, ytrain)\n"
     ]
    },
    {
     "name": "stdout",
     "output_type": "stream",
     "text": [
      "Accuracy of  RFC : 0.721609623371044 --Specificity of  RFC : 0.7563220940550133\n"
     ]
    }
   ],
   "source": [
    "#Random Forest Classifier\n",
    "RF = RandomForestClassifier(max_depth=10)\n",
    "RF.fit(Xtrain, ytrain)\n",
    "y_pred = RF.predict(Xtest)\n",
    "cm3 = confusion_matrix(y_pred, ytest)\n",
    "total3=sum(sum(cm3))\n",
    "Accuracy = (cm3[0,0]+cm3[1,1])/total3\n",
    "Specificity = cm3[0,0]/(cm3[0,0]+cm3[0,1])\n",
    "print(\"Accuracy of  RFC :\", Accuracy, \"--Specificity of  RFC :\", Specificity )"
   ]
  },
  {
   "cell_type": "code",
   "execution_count": 25,
   "metadata": {},
   "outputs": [
    {
     "name": "stderr",
     "output_type": "stream",
     "text": [
      "C:\\Users\\Mike\\.conda\\envs\\tf-gpu\\lib\\site-packages\\sklearn\\utils\\validation.py:985: DataConversionWarning: A column-vector y was passed when a 1d array was expected. Please change the shape of y to (n_samples, ), for example using ravel().\n",
      "  y = column_or_1d(y, warn=True)\n"
     ]
    },
    {
     "name": "stdout",
     "output_type": "stream",
     "text": [
      "Accuracy of  GaussianNB : 0.6781707957420402 --Sensitivity of  GaussianNB : 0.6545080279950597 --Specificity of  GaussianNB : 0.7108132666969559\n"
     ]
    }
   ],
   "source": [
    "#  GaussianNB \n",
    "model5 = GaussianNB()\n",
    "model5.fit(Xtrain, ytrain)\n",
    "y_pred = model5.predict(Xtest)\n",
    "cm5 = confusion_matrix(y_pred, ytest)\n",
    "total5=sum(sum(cm5))\n",
    "Accuracy = (cm5[0,0]+cm5[1,1])/total5\n",
    "    \n",
    "Specificity = cm5[0,0]/(cm5[0,0]+cm5[0,1])\n",
    "Sensitivity = cm5[1,1]/(cm5[1,0]+cm5[1,1])\n",
    "print(\"Accuracy of  GaussianNB :\", Accuracy, \"--Sensitivity of  GaussianNB :\", Sensitivity, \"--Specificity of  GaussianNB :\", Specificity )"
   ]
  },
  {
   "cell_type": "code",
   "execution_count": null,
   "metadata": {},
   "outputs": [],
   "source": []
  },
  {
   "cell_type": "code",
   "execution_count": null,
   "metadata": {},
   "outputs": [],
   "source": []
  },
  {
   "cell_type": "code",
   "execution_count": null,
   "metadata": {},
   "outputs": [],
   "source": []
  }
 ],
 "metadata": {
  "interpreter": {
   "hash": "069624a5003d722d46b2ddcbbef8ec29c962821c31c4d6de5b70c8b5461f7514"
  },
  "kernelspec": {
   "display_name": "Python 3 (ipykernel)",
   "language": "python",
   "name": "python3"
  },
  "language_info": {
   "codemirror_mode": {
    "name": "ipython",
    "version": 3
   },
   "file_extension": ".py",
   "mimetype": "text/x-python",
   "name": "python",
   "nbconvert_exporter": "python",
   "pygments_lexer": "ipython3",
   "version": "3.9.7"
  }
 },
 "nbformat": 4,
 "nbformat_minor": 4
}
