{
  "cells": [
    {
      "cell_type": "markdown",
      "metadata": {
        "id": "tkLo4TXUcFWd"
      },
      "source": [
        "# Import Libraries"
      ]
    },
    {
      "cell_type": "code",
      "execution_count": 3,
      "metadata": {
        "id": "vxIFR7gMcFWe"
      },
      "outputs": [],
      "source": [
        "import numpy as np\n",
        "import pandas as pd\n",
        "from tensorflow.keras.preprocessing.text import Tokenizer\n",
        "from tensorflow.keras.preprocessing.sequence import pad_sequences\n",
        "from tensorflow.keras.models import Sequential\n",
        "from tensorflow.keras.layers import Dense, Flatten, LSTM\n",
        "from tensorflow.keras import activations\n",
        "from tensorflow.keras.layers import Embedding\n",
        "from tensorflow.keras.layers import GlobalMaxPooling1D, Conv1D\n",
        "from tensorflow.keras.callbacks import ModelCheckpoint\n",
        "from tensorflow import keras\n",
        "from keras.layers import Dropout\n",
        "from tensorflow.keras import layers\n",
        "from keras.layers import Dense\n",
        "from keras.models import Sequential\n",
        "import tensorflow as tf\n",
        "\n",
        "%matplotlib inline"
      ]
    },
    {
      "cell_type": "code",
      "source": [
        "# Fill in your file path here\n",
        "FILE_PATH = '/content/drive/MyDrive/ML/GBC/DL1/Project/'"
      ],
      "metadata": {
        "id": "n5Xfl_haccwL"
      },
      "execution_count": 4,
      "outputs": []
    },
    {
      "cell_type": "markdown",
      "metadata": {
        "id": "RRVKAFk7cFWf"
      },
      "source": [
        "# Import the Dataset"
      ]
    },
    {
      "cell_type": "code",
      "execution_count": 5,
      "metadata": {
        "colab": {
          "base_uri": "https://localhost:8080/",
          "height": 206
        },
        "id": "VZL4phdHcFWg",
        "outputId": "467f826c-1da5-47c2-bebe-c3935f4649d0"
      },
      "outputs": [
        {
          "output_type": "execute_result",
          "data": {
            "text/html": [
              "\n",
              "  <div id=\"df-e78a779c-3d51-41f5-8e23-cc6e39542872\">\n",
              "    <div class=\"colab-df-container\">\n",
              "      <div>\n",
              "<style scoped>\n",
              "    .dataframe tbody tr th:only-of-type {\n",
              "        vertical-align: middle;\n",
              "    }\n",
              "\n",
              "    .dataframe tbody tr th {\n",
              "        vertical-align: top;\n",
              "    }\n",
              "\n",
              "    .dataframe thead th {\n",
              "        text-align: right;\n",
              "    }\n",
              "</style>\n",
              "<table border=\"1\" class=\"dataframe\">\n",
              "  <thead>\n",
              "    <tr style=\"text-align: right;\">\n",
              "      <th></th>\n",
              "      <th>Unnamed: 0</th>\n",
              "      <th>tweet</th>\n",
              "      <th>punctuation_count</th>\n",
              "      <th>sentiment</th>\n",
              "    </tr>\n",
              "  </thead>\n",
              "  <tbody>\n",
              "    <tr>\n",
              "      <th>0</th>\n",
              "      <td>0</td>\n",
              "      <td>sleep good remedi fall asleep need one</td>\n",
              "      <td>6</td>\n",
              "      <td>0</td>\n",
              "    </tr>\n",
              "    <tr>\n",
              "      <th>1</th>\n",
              "      <td>1</td>\n",
              "      <td>work fun</td>\n",
              "      <td>2</td>\n",
              "      <td>0</td>\n",
              "    </tr>\n",
              "    <tr>\n",
              "      <th>2</th>\n",
              "      <td>2</td>\n",
              "      <td>summer person love dull cold weather centralco...</td>\n",
              "      <td>3</td>\n",
              "      <td>1</td>\n",
              "    </tr>\n",
              "    <tr>\n",
              "      <th>3</th>\n",
              "      <td>3</td>\n",
              "      <td>want smoke cig lighter</td>\n",
              "      <td>2</td>\n",
              "      <td>0</td>\n",
              "    </tr>\n",
              "    <tr>\n",
              "      <th>4</th>\n",
              "      <td>4</td>\n",
              "      <td>pass lot twit arriv trend topic bob</td>\n",
              "      <td>8</td>\n",
              "      <td>0</td>\n",
              "    </tr>\n",
              "  </tbody>\n",
              "</table>\n",
              "</div>\n",
              "      <button class=\"colab-df-convert\" onclick=\"convertToInteractive('df-e78a779c-3d51-41f5-8e23-cc6e39542872')\"\n",
              "              title=\"Convert this dataframe to an interactive table.\"\n",
              "              style=\"display:none;\">\n",
              "        \n",
              "  <svg xmlns=\"http://www.w3.org/2000/svg\" height=\"24px\"viewBox=\"0 0 24 24\"\n",
              "       width=\"24px\">\n",
              "    <path d=\"M0 0h24v24H0V0z\" fill=\"none\"/>\n",
              "    <path d=\"M18.56 5.44l.94 2.06.94-2.06 2.06-.94-2.06-.94-.94-2.06-.94 2.06-2.06.94zm-11 1L8.5 8.5l.94-2.06 2.06-.94-2.06-.94L8.5 2.5l-.94 2.06-2.06.94zm10 10l.94 2.06.94-2.06 2.06-.94-2.06-.94-.94-2.06-.94 2.06-2.06.94z\"/><path d=\"M17.41 7.96l-1.37-1.37c-.4-.4-.92-.59-1.43-.59-.52 0-1.04.2-1.43.59L10.3 9.45l-7.72 7.72c-.78.78-.78 2.05 0 2.83L4 21.41c.39.39.9.59 1.41.59.51 0 1.02-.2 1.41-.59l7.78-7.78 2.81-2.81c.8-.78.8-2.07 0-2.86zM5.41 20L4 18.59l7.72-7.72 1.47 1.35L5.41 20z\"/>\n",
              "  </svg>\n",
              "      </button>\n",
              "      \n",
              "  <style>\n",
              "    .colab-df-container {\n",
              "      display:flex;\n",
              "      flex-wrap:wrap;\n",
              "      gap: 12px;\n",
              "    }\n",
              "\n",
              "    .colab-df-convert {\n",
              "      background-color: #E8F0FE;\n",
              "      border: none;\n",
              "      border-radius: 50%;\n",
              "      cursor: pointer;\n",
              "      display: none;\n",
              "      fill: #1967D2;\n",
              "      height: 32px;\n",
              "      padding: 0 0 0 0;\n",
              "      width: 32px;\n",
              "    }\n",
              "\n",
              "    .colab-df-convert:hover {\n",
              "      background-color: #E2EBFA;\n",
              "      box-shadow: 0px 1px 2px rgba(60, 64, 67, 0.3), 0px 1px 3px 1px rgba(60, 64, 67, 0.15);\n",
              "      fill: #174EA6;\n",
              "    }\n",
              "\n",
              "    [theme=dark] .colab-df-convert {\n",
              "      background-color: #3B4455;\n",
              "      fill: #D2E3FC;\n",
              "    }\n",
              "\n",
              "    [theme=dark] .colab-df-convert:hover {\n",
              "      background-color: #434B5C;\n",
              "      box-shadow: 0px 1px 3px 1px rgba(0, 0, 0, 0.15);\n",
              "      filter: drop-shadow(0px 1px 2px rgba(0, 0, 0, 0.3));\n",
              "      fill: #FFFFFF;\n",
              "    }\n",
              "  </style>\n",
              "\n",
              "      <script>\n",
              "        const buttonEl =\n",
              "          document.querySelector('#df-e78a779c-3d51-41f5-8e23-cc6e39542872 button.colab-df-convert');\n",
              "        buttonEl.style.display =\n",
              "          google.colab.kernel.accessAllowed ? 'block' : 'none';\n",
              "\n",
              "        async function convertToInteractive(key) {\n",
              "          const element = document.querySelector('#df-e78a779c-3d51-41f5-8e23-cc6e39542872');\n",
              "          const dataTable =\n",
              "            await google.colab.kernel.invokeFunction('convertToInteractive',\n",
              "                                                     [key], {});\n",
              "          if (!dataTable) return;\n",
              "\n",
              "          const docLinkHtml = 'Like what you see? Visit the ' +\n",
              "            '<a target=\"_blank\" href=https://colab.research.google.com/notebooks/data_table.ipynb>data table notebook</a>'\n",
              "            + ' to learn more about interactive tables.';\n",
              "          element.innerHTML = '';\n",
              "          dataTable['output_type'] = 'display_data';\n",
              "          await google.colab.output.renderOutput(dataTable, element);\n",
              "          const docLink = document.createElement('div');\n",
              "          docLink.innerHTML = docLinkHtml;\n",
              "          element.appendChild(docLink);\n",
              "        }\n",
              "      </script>\n",
              "    </div>\n",
              "  </div>\n",
              "  "
            ],
            "text/plain": [
              "   Unnamed: 0  ... sentiment\n",
              "0           0  ...         0\n",
              "1           1  ...         0\n",
              "2           2  ...         1\n",
              "3           3  ...         0\n",
              "4           4  ...         0\n",
              "\n",
              "[5 rows x 4 columns]"
            ]
          },
          "metadata": {},
          "execution_count": 5
        }
      ],
      "source": [
        "data = pd.read_csv(FILE_PATH + \"stemmed_tweets_with_punctuation_counts.csv\", encoding='latin1', header = 0)\n",
        "data.head()"
      ]
    },
    {
      "cell_type": "markdown",
      "metadata": {
        "id": "sImpEgADcFWg"
      },
      "source": [
        "# Preparing the Dataset"
      ]
    },
    {
      "cell_type": "code",
      "execution_count": 6,
      "metadata": {
        "id": "eizJu_ogcFWg"
      },
      "outputs": [],
      "source": [
        "# Dropping columnns we dont need for the NN model\n",
        "data.drop(data.columns[[0]], axis=1, inplace=True)\n"
      ]
    },
    {
      "cell_type": "code",
      "execution_count": 7,
      "metadata": {
        "colab": {
          "base_uri": "https://localhost:8080/",
          "height": 206
        },
        "id": "Frq7yV_McFWg",
        "outputId": "f7e17e0c-c650-46a2-d8f1-0daedf44dd7c"
      },
      "outputs": [
        {
          "output_type": "execute_result",
          "data": {
            "text/html": [
              "\n",
              "  <div id=\"df-23612b70-61c5-49e2-8404-e4491457bb88\">\n",
              "    <div class=\"colab-df-container\">\n",
              "      <div>\n",
              "<style scoped>\n",
              "    .dataframe tbody tr th:only-of-type {\n",
              "        vertical-align: middle;\n",
              "    }\n",
              "\n",
              "    .dataframe tbody tr th {\n",
              "        vertical-align: top;\n",
              "    }\n",
              "\n",
              "    .dataframe thead th {\n",
              "        text-align: right;\n",
              "    }\n",
              "</style>\n",
              "<table border=\"1\" class=\"dataframe\">\n",
              "  <thead>\n",
              "    <tr style=\"text-align: right;\">\n",
              "      <th></th>\n",
              "      <th>tweet</th>\n",
              "      <th>punctuation_count</th>\n",
              "      <th>sentiment</th>\n",
              "    </tr>\n",
              "  </thead>\n",
              "  <tbody>\n",
              "    <tr>\n",
              "      <th>0</th>\n",
              "      <td>sleep good remedi fall asleep need one</td>\n",
              "      <td>6</td>\n",
              "      <td>0</td>\n",
              "    </tr>\n",
              "    <tr>\n",
              "      <th>1</th>\n",
              "      <td>work fun</td>\n",
              "      <td>2</td>\n",
              "      <td>0</td>\n",
              "    </tr>\n",
              "    <tr>\n",
              "      <th>2</th>\n",
              "      <td>summer person love dull cold weather centralco...</td>\n",
              "      <td>3</td>\n",
              "      <td>1</td>\n",
              "    </tr>\n",
              "    <tr>\n",
              "      <th>3</th>\n",
              "      <td>want smoke cig lighter</td>\n",
              "      <td>2</td>\n",
              "      <td>0</td>\n",
              "    </tr>\n",
              "    <tr>\n",
              "      <th>4</th>\n",
              "      <td>pass lot twit arriv trend topic bob</td>\n",
              "      <td>8</td>\n",
              "      <td>0</td>\n",
              "    </tr>\n",
              "  </tbody>\n",
              "</table>\n",
              "</div>\n",
              "      <button class=\"colab-df-convert\" onclick=\"convertToInteractive('df-23612b70-61c5-49e2-8404-e4491457bb88')\"\n",
              "              title=\"Convert this dataframe to an interactive table.\"\n",
              "              style=\"display:none;\">\n",
              "        \n",
              "  <svg xmlns=\"http://www.w3.org/2000/svg\" height=\"24px\"viewBox=\"0 0 24 24\"\n",
              "       width=\"24px\">\n",
              "    <path d=\"M0 0h24v24H0V0z\" fill=\"none\"/>\n",
              "    <path d=\"M18.56 5.44l.94 2.06.94-2.06 2.06-.94-2.06-.94-.94-2.06-.94 2.06-2.06.94zm-11 1L8.5 8.5l.94-2.06 2.06-.94-2.06-.94L8.5 2.5l-.94 2.06-2.06.94zm10 10l.94 2.06.94-2.06 2.06-.94-2.06-.94-.94-2.06-.94 2.06-2.06.94z\"/><path d=\"M17.41 7.96l-1.37-1.37c-.4-.4-.92-.59-1.43-.59-.52 0-1.04.2-1.43.59L10.3 9.45l-7.72 7.72c-.78.78-.78 2.05 0 2.83L4 21.41c.39.39.9.59 1.41.59.51 0 1.02-.2 1.41-.59l7.78-7.78 2.81-2.81c.8-.78.8-2.07 0-2.86zM5.41 20L4 18.59l7.72-7.72 1.47 1.35L5.41 20z\"/>\n",
              "  </svg>\n",
              "      </button>\n",
              "      \n",
              "  <style>\n",
              "    .colab-df-container {\n",
              "      display:flex;\n",
              "      flex-wrap:wrap;\n",
              "      gap: 12px;\n",
              "    }\n",
              "\n",
              "    .colab-df-convert {\n",
              "      background-color: #E8F0FE;\n",
              "      border: none;\n",
              "      border-radius: 50%;\n",
              "      cursor: pointer;\n",
              "      display: none;\n",
              "      fill: #1967D2;\n",
              "      height: 32px;\n",
              "      padding: 0 0 0 0;\n",
              "      width: 32px;\n",
              "    }\n",
              "\n",
              "    .colab-df-convert:hover {\n",
              "      background-color: #E2EBFA;\n",
              "      box-shadow: 0px 1px 2px rgba(60, 64, 67, 0.3), 0px 1px 3px 1px rgba(60, 64, 67, 0.15);\n",
              "      fill: #174EA6;\n",
              "    }\n",
              "\n",
              "    [theme=dark] .colab-df-convert {\n",
              "      background-color: #3B4455;\n",
              "      fill: #D2E3FC;\n",
              "    }\n",
              "\n",
              "    [theme=dark] .colab-df-convert:hover {\n",
              "      background-color: #434B5C;\n",
              "      box-shadow: 0px 1px 3px 1px rgba(0, 0, 0, 0.15);\n",
              "      filter: drop-shadow(0px 1px 2px rgba(0, 0, 0, 0.3));\n",
              "      fill: #FFFFFF;\n",
              "    }\n",
              "  </style>\n",
              "\n",
              "      <script>\n",
              "        const buttonEl =\n",
              "          document.querySelector('#df-23612b70-61c5-49e2-8404-e4491457bb88 button.colab-df-convert');\n",
              "        buttonEl.style.display =\n",
              "          google.colab.kernel.accessAllowed ? 'block' : 'none';\n",
              "\n",
              "        async function convertToInteractive(key) {\n",
              "          const element = document.querySelector('#df-23612b70-61c5-49e2-8404-e4491457bb88');\n",
              "          const dataTable =\n",
              "            await google.colab.kernel.invokeFunction('convertToInteractive',\n",
              "                                                     [key], {});\n",
              "          if (!dataTable) return;\n",
              "\n",
              "          const docLinkHtml = 'Like what you see? Visit the ' +\n",
              "            '<a target=\"_blank\" href=https://colab.research.google.com/notebooks/data_table.ipynb>data table notebook</a>'\n",
              "            + ' to learn more about interactive tables.';\n",
              "          element.innerHTML = '';\n",
              "          dataTable['output_type'] = 'display_data';\n",
              "          await google.colab.output.renderOutput(dataTable, element);\n",
              "          const docLink = document.createElement('div');\n",
              "          docLink.innerHTML = docLinkHtml;\n",
              "          element.appendChild(docLink);\n",
              "        }\n",
              "      </script>\n",
              "    </div>\n",
              "  </div>\n",
              "  "
            ],
            "text/plain": [
              "                                               tweet  ...  sentiment\n",
              "0            sleep good remedi fall asleep need one   ...          0\n",
              "1                                          work fun   ...          0\n",
              "2  summer person love dull cold weather centralco...  ...          1\n",
              "3                            want smoke cig lighter   ...          0\n",
              "4               pass lot twit arriv trend topic bob   ...          0\n",
              "\n",
              "[5 rows x 3 columns]"
            ]
          },
          "metadata": {},
          "execution_count": 7
        }
      ],
      "source": [
        "data.head()"
      ]
    },
    {
      "cell_type": "code",
      "execution_count": 8,
      "metadata": {
        "colab": {
          "base_uri": "https://localhost:8080/",
          "height": 424
        },
        "id": "N7MMn96XcFWh",
        "outputId": "b8630d75-14ca-4682-9eb1-973551eb6e59"
      },
      "outputs": [
        {
          "output_type": "execute_result",
          "data": {
            "text/html": [
              "\n",
              "  <div id=\"df-6369d473-88a2-416f-a3f3-5c006131a424\">\n",
              "    <div class=\"colab-df-container\">\n",
              "      <div>\n",
              "<style scoped>\n",
              "    .dataframe tbody tr th:only-of-type {\n",
              "        vertical-align: middle;\n",
              "    }\n",
              "\n",
              "    .dataframe tbody tr th {\n",
              "        vertical-align: top;\n",
              "    }\n",
              "\n",
              "    .dataframe thead th {\n",
              "        text-align: right;\n",
              "    }\n",
              "</style>\n",
              "<table border=\"1\" class=\"dataframe\">\n",
              "  <thead>\n",
              "    <tr style=\"text-align: right;\">\n",
              "      <th></th>\n",
              "      <th>tweet</th>\n",
              "      <th>punctuation_count</th>\n",
              "      <th>sentiment</th>\n",
              "    </tr>\n",
              "  </thead>\n",
              "  <tbody>\n",
              "    <tr>\n",
              "      <th>0</th>\n",
              "      <td>sleep good remedi fall asleep need one</td>\n",
              "      <td>6</td>\n",
              "      <td>0</td>\n",
              "    </tr>\n",
              "    <tr>\n",
              "      <th>1</th>\n",
              "      <td>work fun</td>\n",
              "      <td>2</td>\n",
              "      <td>0</td>\n",
              "    </tr>\n",
              "    <tr>\n",
              "      <th>2</th>\n",
              "      <td>summer person love dull cold weather centralco...</td>\n",
              "      <td>3</td>\n",
              "      <td>1</td>\n",
              "    </tr>\n",
              "    <tr>\n",
              "      <th>3</th>\n",
              "      <td>want smoke cig lighter</td>\n",
              "      <td>2</td>\n",
              "      <td>0</td>\n",
              "    </tr>\n",
              "    <tr>\n",
              "      <th>4</th>\n",
              "      <td>pass lot twit arriv trend topic bob</td>\n",
              "      <td>8</td>\n",
              "      <td>0</td>\n",
              "    </tr>\n",
              "    <tr>\n",
              "      <th>...</th>\n",
              "      <td>...</td>\n",
              "      <td>...</td>\n",
              "      <td>...</td>\n",
              "    </tr>\n",
              "    <tr>\n",
              "      <th>105236</th>\n",
              "      <td>i i i i i miss trip hehe turn bird amp turtl l...</td>\n",
              "      <td>15</td>\n",
              "      <td>1</td>\n",
              "    </tr>\n",
              "    <tr>\n",
              "      <th>105237</th>\n",
              "      <td>hump say</td>\n",
              "      <td>2</td>\n",
              "      <td>0</td>\n",
              "    </tr>\n",
              "    <tr>\n",
              "      <th>105238</th>\n",
              "      <td>seriou chemistri revis feel rather ill atm</td>\n",
              "      <td>1</td>\n",
              "      <td>0</td>\n",
              "    </tr>\n",
              "    <tr>\n",
              "      <th>105239</th>\n",
              "      <td>weekend go sound like time iphon poker girl let</td>\n",
              "      <td>5</td>\n",
              "      <td>0</td>\n",
              "    </tr>\n",
              "    <tr>\n",
              "      <th>105240</th>\n",
              "      <td>uff today vote eu parliament also went made cr...</td>\n",
              "      <td>4</td>\n",
              "      <td>1</td>\n",
              "    </tr>\n",
              "  </tbody>\n",
              "</table>\n",
              "<p>104742 rows × 3 columns</p>\n",
              "</div>\n",
              "      <button class=\"colab-df-convert\" onclick=\"convertToInteractive('df-6369d473-88a2-416f-a3f3-5c006131a424')\"\n",
              "              title=\"Convert this dataframe to an interactive table.\"\n",
              "              style=\"display:none;\">\n",
              "        \n",
              "  <svg xmlns=\"http://www.w3.org/2000/svg\" height=\"24px\"viewBox=\"0 0 24 24\"\n",
              "       width=\"24px\">\n",
              "    <path d=\"M0 0h24v24H0V0z\" fill=\"none\"/>\n",
              "    <path d=\"M18.56 5.44l.94 2.06.94-2.06 2.06-.94-2.06-.94-.94-2.06-.94 2.06-2.06.94zm-11 1L8.5 8.5l.94-2.06 2.06-.94-2.06-.94L8.5 2.5l-.94 2.06-2.06.94zm10 10l.94 2.06.94-2.06 2.06-.94-2.06-.94-.94-2.06-.94 2.06-2.06.94z\"/><path d=\"M17.41 7.96l-1.37-1.37c-.4-.4-.92-.59-1.43-.59-.52 0-1.04.2-1.43.59L10.3 9.45l-7.72 7.72c-.78.78-.78 2.05 0 2.83L4 21.41c.39.39.9.59 1.41.59.51 0 1.02-.2 1.41-.59l7.78-7.78 2.81-2.81c.8-.78.8-2.07 0-2.86zM5.41 20L4 18.59l7.72-7.72 1.47 1.35L5.41 20z\"/>\n",
              "  </svg>\n",
              "      </button>\n",
              "      \n",
              "  <style>\n",
              "    .colab-df-container {\n",
              "      display:flex;\n",
              "      flex-wrap:wrap;\n",
              "      gap: 12px;\n",
              "    }\n",
              "\n",
              "    .colab-df-convert {\n",
              "      background-color: #E8F0FE;\n",
              "      border: none;\n",
              "      border-radius: 50%;\n",
              "      cursor: pointer;\n",
              "      display: none;\n",
              "      fill: #1967D2;\n",
              "      height: 32px;\n",
              "      padding: 0 0 0 0;\n",
              "      width: 32px;\n",
              "    }\n",
              "\n",
              "    .colab-df-convert:hover {\n",
              "      background-color: #E2EBFA;\n",
              "      box-shadow: 0px 1px 2px rgba(60, 64, 67, 0.3), 0px 1px 3px 1px rgba(60, 64, 67, 0.15);\n",
              "      fill: #174EA6;\n",
              "    }\n",
              "\n",
              "    [theme=dark] .colab-df-convert {\n",
              "      background-color: #3B4455;\n",
              "      fill: #D2E3FC;\n",
              "    }\n",
              "\n",
              "    [theme=dark] .colab-df-convert:hover {\n",
              "      background-color: #434B5C;\n",
              "      box-shadow: 0px 1px 3px 1px rgba(0, 0, 0, 0.15);\n",
              "      filter: drop-shadow(0px 1px 2px rgba(0, 0, 0, 0.3));\n",
              "      fill: #FFFFFF;\n",
              "    }\n",
              "  </style>\n",
              "\n",
              "      <script>\n",
              "        const buttonEl =\n",
              "          document.querySelector('#df-6369d473-88a2-416f-a3f3-5c006131a424 button.colab-df-convert');\n",
              "        buttonEl.style.display =\n",
              "          google.colab.kernel.accessAllowed ? 'block' : 'none';\n",
              "\n",
              "        async function convertToInteractive(key) {\n",
              "          const element = document.querySelector('#df-6369d473-88a2-416f-a3f3-5c006131a424');\n",
              "          const dataTable =\n",
              "            await google.colab.kernel.invokeFunction('convertToInteractive',\n",
              "                                                     [key], {});\n",
              "          if (!dataTable) return;\n",
              "\n",
              "          const docLinkHtml = 'Like what you see? Visit the ' +\n",
              "            '<a target=\"_blank\" href=https://colab.research.google.com/notebooks/data_table.ipynb>data table notebook</a>'\n",
              "            + ' to learn more about interactive tables.';\n",
              "          element.innerHTML = '';\n",
              "          dataTable['output_type'] = 'display_data';\n",
              "          await google.colab.output.renderOutput(dataTable, element);\n",
              "          const docLink = document.createElement('div');\n",
              "          docLink.innerHTML = docLinkHtml;\n",
              "          element.appendChild(docLink);\n",
              "        }\n",
              "      </script>\n",
              "    </div>\n",
              "  </div>\n",
              "  "
            ],
            "text/plain": [
              "                                                    tweet  ...  sentiment\n",
              "0                 sleep good remedi fall asleep need one   ...          0\n",
              "1                                               work fun   ...          0\n",
              "2       summer person love dull cold weather centralco...  ...          1\n",
              "3                                 want smoke cig lighter   ...          0\n",
              "4                    pass lot twit arriv trend topic bob   ...          0\n",
              "...                                                   ...  ...        ...\n",
              "105236  i i i i i miss trip hehe turn bird amp turtl l...  ...          1\n",
              "105237                                          hump say   ...          0\n",
              "105238        seriou chemistri revis feel rather ill atm   ...          0\n",
              "105239   weekend go sound like time iphon poker girl let   ...          0\n",
              "105240  uff today vote eu parliament also went made cr...  ...          1\n",
              "\n",
              "[104742 rows x 3 columns]"
            ]
          },
          "metadata": {},
          "execution_count": 8
        }
      ],
      "source": [
        "# Drop NA values. These can occur if a tweet is \"cleaned\" down to nothing, for\n",
        "# instance if the original tweet was just tagging another Twitter user.\n",
        "data.dropna()"
      ]
    },
    {
      "cell_type": "code",
      "execution_count": 10,
      "metadata": {
        "colab": {
          "base_uri": "https://localhost:8080/"
        },
        "id": "k8TkBLqbcFWh",
        "outputId": "20c5e9be-2607-4bfe-9454-f14942877276"
      },
      "outputs": [
        {
          "output_type": "execute_result",
          "data": {
            "text/plain": [
              "0    52657\n",
              "1    52584\n",
              "Name: sentiment, dtype: int64"
            ]
          },
          "metadata": {},
          "execution_count": 10
        }
      ],
      "source": [
        "data.sentiment.value_counts() # dataset is already balanced"
      ]
    },
    {
      "cell_type": "code",
      "execution_count": 11,
      "metadata": {
        "colab": {
          "base_uri": "https://localhost:8080/",
          "height": 330
        },
        "id": "IsmqukOQcFWh",
        "outputId": "5643b1d8-11a9-46c9-ac50-4de2d2205350"
      },
      "outputs": [
        {
          "output_type": "execute_result",
          "data": {
            "text/plain": [
              "[Text(0, 0, 'Negative'), Text(0, 0, 'Positive')]"
            ]
          },
          "metadata": {},
          "execution_count": 11
        },
        {
          "output_type": "display_data",
          "data": {
            "image/png": "[encoded data removed]",
            "text/plain": [
              "<Figure size 432x288 with 1 Axes>"
            ]
          },
          "metadata": {}
        }
      ],
      "source": [
        "import seaborn as sns\n",
        "import matplotlib.pyplot as plt\n",
        "%matplotlib inline\n",
        "\n",
        "sns.set(font_scale=1.3)\n",
        "plot = sns.countplot(x = 'sentiment', data = data)\n",
        "plot.set_title(\"Balance of Positive and Negative Tweets\", fontsize=20)\n",
        "plot.set_xticklabels(['Negative','Positive'])"
      ]
    },
    {
      "cell_type": "markdown",
      "source": [
        "(Reminder: 0 = negative, 1 = positive)"
      ],
      "metadata": {
        "id": "SR4XQy3Ld-Ks"
      }
    },
    {
      "cell_type": "code",
      "execution_count": 12,
      "metadata": {
        "colab": {
          "base_uri": "https://localhost:8080/",
          "height": 424
        },
        "id": "6U-Z9iYacFWi",
        "outputId": "c920c23b-78ae-473d-b8ee-63760454464f"
      },
      "outputs": [
        {
          "output_type": "execute_result",
          "data": {
            "text/html": [
              "\n",
              "  <div id=\"df-e5a3af72-333b-4a42-b364-011c9da9c02a\">\n",
              "    <div class=\"colab-df-container\">\n",
              "      <div>\n",
              "<style scoped>\n",
              "    .dataframe tbody tr th:only-of-type {\n",
              "        vertical-align: middle;\n",
              "    }\n",
              "\n",
              "    .dataframe tbody tr th {\n",
              "        vertical-align: top;\n",
              "    }\n",
              "\n",
              "    .dataframe thead th {\n",
              "        text-align: right;\n",
              "    }\n",
              "</style>\n",
              "<table border=\"1\" class=\"dataframe\">\n",
              "  <thead>\n",
              "    <tr style=\"text-align: right;\">\n",
              "      <th></th>\n",
              "      <th>tweet</th>\n",
              "      <th>punctuation_count</th>\n",
              "      <th>sentiment</th>\n",
              "      <th>features</th>\n",
              "    </tr>\n",
              "  </thead>\n",
              "  <tbody>\n",
              "    <tr>\n",
              "      <th>0</th>\n",
              "      <td>sleep good remedi fall asleep need one</td>\n",
              "      <td>6</td>\n",
              "      <td>0</td>\n",
              "      <td>sleep good remedi fall asleep need one  6</td>\n",
              "    </tr>\n",
              "    <tr>\n",
              "      <th>1</th>\n",
              "      <td>work fun</td>\n",
              "      <td>2</td>\n",
              "      <td>0</td>\n",
              "      <td>work fun  2</td>\n",
              "    </tr>\n",
              "    <tr>\n",
              "      <th>2</th>\n",
              "      <td>summer person love dull cold weather centralco...</td>\n",
              "      <td>3</td>\n",
              "      <td>1</td>\n",
              "      <td>summer person love dull cold weather centralco...</td>\n",
              "    </tr>\n",
              "    <tr>\n",
              "      <th>3</th>\n",
              "      <td>want smoke cig lighter</td>\n",
              "      <td>2</td>\n",
              "      <td>0</td>\n",
              "      <td>want smoke cig lighter  2</td>\n",
              "    </tr>\n",
              "    <tr>\n",
              "      <th>4</th>\n",
              "      <td>pass lot twit arriv trend topic bob</td>\n",
              "      <td>8</td>\n",
              "      <td>0</td>\n",
              "      <td>pass lot twit arriv trend topic bob  8</td>\n",
              "    </tr>\n",
              "    <tr>\n",
              "      <th>...</th>\n",
              "      <td>...</td>\n",
              "      <td>...</td>\n",
              "      <td>...</td>\n",
              "      <td>...</td>\n",
              "    </tr>\n",
              "    <tr>\n",
              "      <th>105236</th>\n",
              "      <td>i i i i i miss trip hehe turn bird amp turtl l...</td>\n",
              "      <td>15</td>\n",
              "      <td>1</td>\n",
              "      <td>i i i i i miss trip hehe turn bird amp turtl l...</td>\n",
              "    </tr>\n",
              "    <tr>\n",
              "      <th>105237</th>\n",
              "      <td>hump say</td>\n",
              "      <td>2</td>\n",
              "      <td>0</td>\n",
              "      <td>hump say  2</td>\n",
              "    </tr>\n",
              "    <tr>\n",
              "      <th>105238</th>\n",
              "      <td>seriou chemistri revis feel rather ill atm</td>\n",
              "      <td>1</td>\n",
              "      <td>0</td>\n",
              "      <td>seriou chemistri revis feel rather ill atm  1</td>\n",
              "    </tr>\n",
              "    <tr>\n",
              "      <th>105239</th>\n",
              "      <td>weekend go sound like time iphon poker girl let</td>\n",
              "      <td>5</td>\n",
              "      <td>0</td>\n",
              "      <td>weekend go sound like time iphon poker girl le...</td>\n",
              "    </tr>\n",
              "    <tr>\n",
              "      <th>105240</th>\n",
              "      <td>uff today vote eu parliament also went made cr...</td>\n",
              "      <td>4</td>\n",
              "      <td>1</td>\n",
              "      <td>uff today vote eu parliament also went made cr...</td>\n",
              "    </tr>\n",
              "  </tbody>\n",
              "</table>\n",
              "<p>105241 rows × 4 columns</p>\n",
              "</div>\n",
              "      <button class=\"colab-df-convert\" onclick=\"convertToInteractive('df-e5a3af72-333b-4a42-b364-011c9da9c02a')\"\n",
              "              title=\"Convert this dataframe to an interactive table.\"\n",
              "              style=\"display:none;\">\n",
              "        \n",
              "  <svg xmlns=\"http://www.w3.org/2000/svg\" height=\"24px\"viewBox=\"0 0 24 24\"\n",
              "       width=\"24px\">\n",
              "    <path d=\"M0 0h24v24H0V0z\" fill=\"none\"/>\n",
              "    <path d=\"M18.56 5.44l.94 2.06.94-2.06 2.06-.94-2.06-.94-.94-2.06-.94 2.06-2.06.94zm-11 1L8.5 8.5l.94-2.06 2.06-.94-2.06-.94L8.5 2.5l-.94 2.06-2.06.94zm10 10l.94 2.06.94-2.06 2.06-.94-2.06-.94-.94-2.06-.94 2.06-2.06.94z\"/><path d=\"M17.41 7.96l-1.37-1.37c-.4-.4-.92-.59-1.43-.59-.52 0-1.04.2-1.43.59L10.3 9.45l-7.72 7.72c-.78.78-.78 2.05 0 2.83L4 21.41c.39.39.9.59 1.41.59.51 0 1.02-.2 1.41-.59l7.78-7.78 2.81-2.81c.8-.78.8-2.07 0-2.86zM5.41 20L4 18.59l7.72-7.72 1.47 1.35L5.41 20z\"/>\n",
              "  </svg>\n",
              "      </button>\n",
              "      \n",
              "  <style>\n",
              "    .colab-df-container {\n",
              "      display:flex;\n",
              "      flex-wrap:wrap;\n",
              "      gap: 12px;\n",
              "    }\n",
              "\n",
              "    .colab-df-convert {\n",
              "      background-color: #E8F0FE;\n",
              "      border: none;\n",
              "      border-radius: 50%;\n",
              "      cursor: pointer;\n",
              "      display: none;\n",
              "      fill: #1967D2;\n",
              "      height: 32px;\n",
              "      padding: 0 0 0 0;\n",
              "      width: 32px;\n",
              "    }\n",
              "\n",
              "    .colab-df-convert:hover {\n",
              "      background-color: #E2EBFA;\n",
              "      box-shadow: 0px 1px 2px rgba(60, 64, 67, 0.3), 0px 1px 3px 1px rgba(60, 64, 67, 0.15);\n",
              "      fill: #174EA6;\n",
              "    }\n",
              "\n",
              "    [theme=dark] .colab-df-convert {\n",
              "      background-color: #3B4455;\n",
              "      fill: #D2E3FC;\n",
              "    }\n",
              "\n",
              "    [theme=dark] .colab-df-convert:hover {\n",
              "      background-color: #434B5C;\n",
              "      box-shadow: 0px 1px 3px 1px rgba(0, 0, 0, 0.15);\n",
              "      filter: drop-shadow(0px 1px 2px rgba(0, 0, 0, 0.3));\n",
              "      fill: #FFFFFF;\n",
              "    }\n",
              "  </style>\n",
              "\n",
              "      <script>\n",
              "        const buttonEl =\n",
              "          document.querySelector('#df-e5a3af72-333b-4a42-b364-011c9da9c02a button.colab-df-convert');\n",
              "        buttonEl.style.display =\n",
              "          google.colab.kernel.accessAllowed ? 'block' : 'none';\n",
              "\n",
              "        async function convertToInteractive(key) {\n",
              "          const element = document.querySelector('#df-e5a3af72-333b-4a42-b364-011c9da9c02a');\n",
              "          const dataTable =\n",
              "            await google.colab.kernel.invokeFunction('convertToInteractive',\n",
              "                                                     [key], {});\n",
              "          if (!dataTable) return;\n",
              "\n",
              "          const docLinkHtml = 'Like what you see? Visit the ' +\n",
              "            '<a target=\"_blank\" href=https://colab.research.google.com/notebooks/data_table.ipynb>data table notebook</a>'\n",
              "            + ' to learn more about interactive tables.';\n",
              "          element.innerHTML = '';\n",
              "          dataTable['output_type'] = 'display_data';\n",
              "          await google.colab.output.renderOutput(dataTable, element);\n",
              "          const docLink = document.createElement('div');\n",
              "          docLink.innerHTML = docLinkHtml;\n",
              "          element.appendChild(docLink);\n",
              "        }\n",
              "      </script>\n",
              "    </div>\n",
              "  </div>\n",
              "  "
            ],
            "text/plain": [
              "                                                    tweet  ...                                           features\n",
              "0                 sleep good remedi fall asleep need one   ...          sleep good remedi fall asleep need one  6\n",
              "1                                               work fun   ...                                        work fun  2\n",
              "2       summer person love dull cold weather centralco...  ...  summer person love dull cold weather centralco...\n",
              "3                                 want smoke cig lighter   ...                          want smoke cig lighter  2\n",
              "4                    pass lot twit arriv trend topic bob   ...             pass lot twit arriv trend topic bob  8\n",
              "...                                                   ...  ...                                                ...\n",
              "105236  i i i i i miss trip hehe turn bird amp turtl l...  ...  i i i i i miss trip hehe turn bird amp turtl l...\n",
              "105237                                          hump say   ...                                        hump say  2\n",
              "105238        seriou chemistri revis feel rather ill atm   ...      seriou chemistri revis feel rather ill atm  1\n",
              "105239   weekend go sound like time iphon poker girl let   ...  weekend go sound like time iphon poker girl le...\n",
              "105240  uff today vote eu parliament also went made cr...  ...  uff today vote eu parliament also went made cr...\n",
              "\n",
              "[105241 rows x 4 columns]"
            ]
          },
          "metadata": {},
          "execution_count": 12
        }
      ],
      "source": [
        "data['features']=data['tweet'].map(str)+' '+data['punctuation_count'].map(str)\n",
        "data"
      ]
    },
    {
      "cell_type": "code",
      "execution_count": 13,
      "metadata": {
        "colab": {
          "base_uri": "https://localhost:8080/"
        },
        "id": "p99Mx6U2cFWj",
        "outputId": "de475007-54b2-4076-cc06-e6fc631b3553"
      },
      "outputs": [
        {
          "output_type": "execute_result",
          "data": {
            "text/plain": [
              "array(['sleep good remedi fall asleep need one  6', 'work fun  2',\n",
              "       'summer person love dull cold weather centralcoastnsw  3', ...,\n",
              "       'seriou chemistri revis feel rather ill atm  1',\n",
              "       'weekend go sound like time iphon poker girl let  5',\n",
              "       'uff today vote eu parliament also went made cross big piec paper  4'],\n",
              "      dtype='<U146')"
            ]
          },
          "metadata": {},
          "execution_count": 13
        }
      ],
      "source": [
        "X=data.iloc[0:,3].values.astype(str)\n",
        "X"
      ]
    },
    {
      "cell_type": "markdown",
      "metadata": {
        "id": "B5GvQUKdcFWj"
      },
      "source": [
        "# Tokenize"
      ]
    },
    {
      "cell_type": "code",
      "execution_count": 14,
      "metadata": {
        "colab": {
          "base_uri": "https://localhost:8080/"
        },
        "id": "kR7Jy-vEcFWj",
        "outputId": "6a9894ef-21f5-4661-a077-63b1265fd3bb"
      },
      "outputs": [
        {
          "output_type": "execute_result",
          "data": {
            "text/plain": [
              "array([[0.        , 0.        , 0.        , ..., 0.        , 0.        ,\n",
              "        0.        ],\n",
              "       [0.        , 0.        , 2.01025613, ..., 0.        , 0.        ,\n",
              "        0.        ],\n",
              "       [0.        , 0.        , 0.        , ..., 0.        , 0.        ,\n",
              "        0.        ],\n",
              "       ...,\n",
              "       [0.        , 1.92795661, 0.        , ..., 0.        , 0.        ,\n",
              "        0.        ],\n",
              "       [0.        , 0.        , 0.        , ..., 0.        , 0.        ,\n",
              "        0.        ],\n",
              "       [0.        , 0.        , 0.        , ..., 0.        , 0.        ,\n",
              "        0.        ]])"
            ]
          },
          "metadata": {},
          "execution_count": 14
        }
      ],
      "source": [
        "tokenizer = Tokenizer(num_words=1000)\n",
        "tokenizer.fit_on_texts(X)\n",
        "\n",
        "X = tokenizer.texts_to_matrix(X, mode='tfidf')\n",
        "X"
      ]
    },
    {
      "cell_type": "code",
      "execution_count": 15,
      "metadata": {
        "colab": {
          "base_uri": "https://localhost:8080/"
        },
        "id": "U5NX-rA-cFWk",
        "outputId": "aadef01a-09bf-441a-914f-5b88335280f6"
      },
      "outputs": [
        {
          "output_type": "stream",
          "name": "stdout",
          "text": [
            "1000\n"
          ]
        }
      ],
      "source": [
        "maxlenth=len(max(X, key=len))\n",
        "print(maxlenth)"
      ]
    },
    {
      "cell_type": "code",
      "source": [
        "#import seaborn as sns\n",
        "#%matplotlib inline\n",
        "#sns.distplot(X)\n",
        "#plt.xlim([0,512])\n",
        "#plt.xlabel('Token count')"
      ],
      "metadata": {
        "id": "yc4V0jSJY8Lw"
      },
      "execution_count": 23,
      "outputs": []
    },
    {
      "cell_type": "code",
      "execution_count": 24,
      "metadata": {
        "colab": {
          "base_uri": "https://localhost:8080/"
        },
        "id": "NrqxVT7HcFWl",
        "outputId": "704b290f-745f-4a40-9c22-38d28e35b999"
      },
      "outputs": [
        {
          "output_type": "execute_result",
          "data": {
            "text/plain": [
              "array([[0, 0, 0, ..., 0, 0, 0],\n",
              "       [0, 0, 2, ..., 0, 0, 0],\n",
              "       [0, 0, 0, ..., 0, 0, 0],\n",
              "       ...,\n",
              "       [0, 1, 0, ..., 0, 0, 0],\n",
              "       [0, 0, 0, ..., 0, 0, 0],\n",
              "       [0, 0, 0, ..., 0, 0, 0]], dtype=int32)"
            ]
          },
          "metadata": {},
          "execution_count": 24
        }
      ],
      "source": [
        "vocab_size = len(tokenizer.word_index) + 1\n",
        "\n",
        "maxlen = maxlenth\n",
        "\n",
        "X = pad_sequences(X, padding='pre', truncating='pre', maxlen=maxlen)\n",
        "\n",
        "X"
      ]
    },
    {
      "cell_type": "code",
      "source": [
        ""
      ],
      "metadata": {
        "id": "Bo08CNv5c5yt"
      },
      "execution_count": 24,
      "outputs": []
    },
    {
      "cell_type": "code",
      "source": [
        "from google.colab import drive\n",
        "drive.mount('/content/drive')"
      ],
      "metadata": {
        "colab": {
          "base_uri": "https://localhost:8080/"
        },
        "id": "IgSbXzdZMpul",
        "outputId": "373f309f-e208-4071-8df2-330b9b1ea6fd"
      },
      "execution_count": 51,
      "outputs": [
        {
          "output_type": "stream",
          "name": "stdout",
          "text": [
            "Drive already mounted at /content/drive; to attempt to forcibly remount, call drive.mount(\"/content/drive\", force_remount=True).\n"
          ]
        }
      ]
    },
    {
      "cell_type": "code",
      "execution_count": 25,
      "metadata": {
        "colab": {
          "base_uri": "https://localhost:8080/"
        },
        "id": "MgjcX9rucFWl",
        "outputId": "cf7dde71-b13b-4224-80f2-b2d8af07d3b9"
      },
      "outputs": [
        {
          "output_type": "execute_result",
          "data": {
            "text/plain": [
              "(105241, 1000)"
            ]
          },
          "metadata": {},
          "execution_count": 25
        }
      ],
      "source": [
        "X.shape"
      ]
    },
    {
      "cell_type": "code",
      "execution_count": 26,
      "metadata": {
        "colab": {
          "base_uri": "https://localhost:8080/"
        },
        "id": "-KnSUj8rcFWl",
        "outputId": "be3cde6e-96ab-4357-a403-8c4a6bd4921c"
      },
      "outputs": [
        {
          "output_type": "execute_result",
          "data": {
            "text/plain": [
              "0         0\n",
              "1         0\n",
              "2         1\n",
              "3         0\n",
              "4         0\n",
              "         ..\n",
              "105236    1\n",
              "105237    0\n",
              "105238    0\n",
              "105239    0\n",
              "105240    1\n",
              "Name: sentiment, Length: 105241, dtype: int64"
            ]
          },
          "metadata": {},
          "execution_count": 26
        }
      ],
      "source": [
        "y = data.sentiment\n",
        "y"
      ]
    },
    {
      "cell_type": "markdown",
      "metadata": {
        "id": "UeYbbOT5cFWm"
      },
      "source": [
        "# Split Data"
      ]
    },
    {
      "cell_type": "code",
      "execution_count": 27,
      "metadata": {
        "id": "QphvhJYkcFWm"
      },
      "outputs": [],
      "source": [
        "from sklearn.model_selection import train_test_split\n",
        "\n",
        "Xtrain, Xtest, ytrain, ytest = train_test_split(X,\n",
        "                                                y,\n",
        "                                                test_size=0.2,\n",
        "                                                random_state=10, stratify=y )"
      ]
    },
    {
      "cell_type": "code",
      "execution_count": 28,
      "metadata": {
        "colab": {
          "base_uri": "https://localhost:8080/"
        },
        "id": "9urCEeb0cFWm",
        "outputId": "0a142aba-ce29-48ad-beaf-9a960d1811bb"
      },
      "outputs": [
        {
          "output_type": "execute_result",
          "data": {
            "text/plain": [
              "((84192, 1000), (21049, 1000), (84192,), (21049,))"
            ]
          },
          "metadata": {},
          "execution_count": 28
        }
      ],
      "source": [
        "Xtrain.shape, Xtest.shape, ytrain.shape, ytest.shape"
      ]
    },
    {
      "cell_type": "code",
      "execution_count": 29,
      "metadata": {
        "id": "SfQa7oakcFWm"
      },
      "outputs": [],
      "source": [
        "# size/shape of dataframe\n",
        "n_samples = Xtrain.shape[0]\n",
        "n_features = Xtrain.shape[1]"
      ]
    },
    {
      "cell_type": "markdown",
      "metadata": {
        "id": "BKdimjWrcFWm"
      },
      "source": [
        "# Model 1"
      ]
    },
    {
      "cell_type": "code",
      "execution_count": 30,
      "metadata": {
        "id": "Lz4XD9_EcFWm"
      },
      "outputs": [],
      "source": [
        "# Make the NN -----------------------------------------------------------------\n",
        "\n",
        "# Importing the Keras libraries and packages\n",
        "from keras.layers import Dense\n",
        "from keras.models import Sequential\n",
        "\n",
        "# define and initialize the model\n",
        "my_classifier = Sequential()\n",
        "\n",
        "# Adding the input layer AND the first hidden layer\n",
        "my_classifier.add(Dense(units = 100, kernel_regularizer='l2',\n",
        "                        activation = 'sigmoid', input_dim = n_features)),\n",
        "my_classifier.add(Dropout(0.2)),\n",
        "\n",
        "# Adding the second hidden layer\n",
        "my_classifier.add(Dense(units = 100, kernel_regularizer='l2',\n",
        "                        activation = 'relu')),\n",
        "#my_classifier.add(Dropout(0.2)),\n",
        "\n",
        "# Adding the third hidden layer\n",
        "my_classifier.add(Dense(units = 50, kernel_regularizer='l2',\n",
        "                        activation = 'relu')),\n",
        "#my_classifier.add(Dropout(0.2)),\n",
        "\n",
        "# Adding the last (output) layer\n",
        "my_classifier.add(Dense(units = 1, kernel_regularizer='l2',\n",
        "                        activation = 'sigmoid'))"
      ]
    },
    {
      "cell_type": "code",
      "execution_count": 31,
      "metadata": {
        "id": "wFp36b0gcFWm"
      },
      "outputs": [],
      "source": [
        "# Compiling the NN\n",
        "optimizer = tf.keras.optimizers.Adam(learning_rate=0.00001, beta_1=0.9, beta_2=0.999, epsilon=1e-07, amsgrad=True, name=\"Adam\")\n",
        "my_classifier.compile(optimizer = optimizer, loss = 'binary_crossentropy',\n",
        "                      metrics = ['accuracy'])"
      ]
    },
    {
      "cell_type": "code",
      "execution_count": 32,
      "metadata": {
        "colab": {
          "base_uri": "https://localhost:8080/",
          "height": 644
        },
        "id": "O0_yUJTGcFWm",
        "outputId": "42777a4a-17ac-49ef-f5db-712b33c0fe3d"
      },
      "outputs": [
        {
          "output_type": "execute_result",
          "data": {
            "image/png": "[encoded data removed]",
            "text/plain": [
              "<IPython.core.display.Image object>"
            ]
          },
          "metadata": {},
          "execution_count": 32
        }
      ],
      "source": [
        "#-- plot the model\n",
        "from keras.utils.vis_utils import plot_model\n",
        "plot_model(my_classifier, to_file='model.png', show_shapes=True)"
      ]
    },
    {
      "cell_type": "code",
      "execution_count": 33,
      "metadata": {
        "colab": {
          "base_uri": "https://localhost:8080/"
        },
        "id": "jiq1rN-lcFWm",
        "outputId": "938f22d3-91dd-47ae-c02b-55991cab8c97"
      },
      "outputs": [
        {
          "output_type": "stream",
          "name": "stdout",
          "text": [
            "Epoch 1/400\n",
            "6/6 [==============================] - 2s 59ms/step - loss: 4.2209 - accuracy: 0.4998 - val_loss: 4.2092 - val_accuracy: 0.5000\n",
            "Epoch 2/400\n",
            "6/6 [==============================] - 0s 27ms/step - loss: 4.2129 - accuracy: 0.5001 - val_loss: 4.2013 - val_accuracy: 0.5000\n",
            "Epoch 3/400\n",
            "6/6 [==============================] - 0s 26ms/step - loss: 4.2051 - accuracy: 0.5000 - val_loss: 4.1934 - val_accuracy: 0.5000\n",
            "Epoch 4/400\n",
            "6/6 [==============================] - 0s 26ms/step - loss: 4.1964 - accuracy: 0.5000 - val_loss: 4.1857 - val_accuracy: 0.5001\n",
            "Epoch 5/400\n",
            "6/6 [==============================] - 0s 29ms/step - loss: 4.1893 - accuracy: 0.5002 - val_loss: 4.1781 - val_accuracy: 0.5001\n",
            "Epoch 6/400\n",
            "6/6 [==============================] - 0s 28ms/step - loss: 4.1825 - accuracy: 0.5006 - val_loss: 4.1707 - val_accuracy: 0.5001\n",
            "Epoch 7/400\n",
            "6/6 [==============================] - 0s 29ms/step - loss: 4.1743 - accuracy: 0.5000 - val_loss: 4.1634 - val_accuracy: 0.5001\n",
            "Epoch 8/400\n",
            "6/6 [==============================] - 0s 29ms/step - loss: 4.1673 - accuracy: 0.4992 - val_loss: 4.1562 - val_accuracy: 0.5002\n",
            "Epoch 9/400\n",
            "6/6 [==============================] - 0s 29ms/step - loss: 4.1605 - accuracy: 0.5003 - val_loss: 4.1492 - val_accuracy: 0.4999\n",
            "Epoch 10/400\n",
            "6/6 [==============================] - 0s 30ms/step - loss: 4.1531 - accuracy: 0.5002 - val_loss: 4.1423 - val_accuracy: 0.4999\n",
            "Epoch 11/400\n",
            "6/6 [==============================] - 0s 28ms/step - loss: 4.1462 - accuracy: 0.4989 - val_loss: 4.1355 - val_accuracy: 0.4997\n",
            "Epoch 12/400\n",
            "6/6 [==============================] - 0s 30ms/step - loss: 4.1395 - accuracy: 0.5003 - val_loss: 4.1288 - val_accuracy: 0.4997\n",
            "Epoch 13/400\n",
            "6/6 [==============================] - 0s 27ms/step - loss: 4.1328 - accuracy: 0.4986 - val_loss: 4.1222 - val_accuracy: 0.4995\n",
            "Epoch 14/400\n",
            "6/6 [==============================] - 0s 27ms/step - loss: 4.1253 - accuracy: 0.5001 - val_loss: 4.1156 - val_accuracy: 0.4996\n",
            "Epoch 15/400\n",
            "6/6 [==============================] - 0s 29ms/step - loss: 4.1191 - accuracy: 0.5004 - val_loss: 4.1092 - val_accuracy: 0.4992\n",
            "Epoch 16/400\n",
            "6/6 [==============================] - 0s 31ms/step - loss: 4.1129 - accuracy: 0.4993 - val_loss: 4.1028 - val_accuracy: 0.4992\n",
            "Epoch 17/400\n",
            "6/6 [==============================] - 0s 28ms/step - loss: 4.1070 - accuracy: 0.4991 - val_loss: 4.0965 - val_accuracy: 0.4989\n",
            "Epoch 18/400\n",
            "6/6 [==============================] - 0s 28ms/step - loss: 4.0996 - accuracy: 0.4977 - val_loss: 4.0903 - val_accuracy: 0.4985\n",
            "Epoch 19/400\n",
            "6/6 [==============================] - 0s 28ms/step - loss: 4.0937 - accuracy: 0.5001 - val_loss: 4.0841 - val_accuracy: 0.4981\n",
            "Epoch 20/400\n",
            "6/6 [==============================] - 0s 28ms/step - loss: 4.0882 - accuracy: 0.4983 - val_loss: 4.0780 - val_accuracy: 0.4979\n",
            "Epoch 21/400\n",
            "6/6 [==============================] - 0s 29ms/step - loss: 4.0815 - accuracy: 0.5008 - val_loss: 4.0719 - val_accuracy: 0.4980\n",
            "Epoch 22/400\n",
            "6/6 [==============================] - 0s 30ms/step - loss: 4.0751 - accuracy: 0.5014 - val_loss: 4.0659 - val_accuracy: 0.4978\n",
            "Epoch 23/400\n",
            "6/6 [==============================] - 0s 29ms/step - loss: 4.0696 - accuracy: 0.4983 - val_loss: 4.0599 - val_accuracy: 0.4977\n",
            "Epoch 24/400\n",
            "6/6 [==============================] - 0s 27ms/step - loss: 4.0634 - accuracy: 0.4995 - val_loss: 4.0540 - val_accuracy: 0.4975\n",
            "Epoch 25/400\n",
            "6/6 [==============================] - 0s 30ms/step - loss: 4.0579 - accuracy: 0.4991 - val_loss: 4.0481 - val_accuracy: 0.4978\n",
            "Epoch 26/400\n",
            "6/6 [==============================] - 0s 26ms/step - loss: 4.0514 - accuracy: 0.5020 - val_loss: 4.0422 - val_accuracy: 0.4966\n",
            "Epoch 27/400\n",
            "6/6 [==============================] - 0s 28ms/step - loss: 4.0455 - accuracy: 0.4996 - val_loss: 4.0364 - val_accuracy: 0.4987\n",
            "Epoch 28/400\n",
            "6/6 [==============================] - 0s 29ms/step - loss: 4.0399 - accuracy: 0.4995 - val_loss: 4.0306 - val_accuracy: 0.4978\n",
            "Epoch 29/400\n",
            "6/6 [==============================] - 0s 27ms/step - loss: 4.0334 - accuracy: 0.5018 - val_loss: 4.0249 - val_accuracy: 0.4977\n",
            "Epoch 30/400\n",
            "6/6 [==============================] - 0s 30ms/step - loss: 4.0283 - accuracy: 0.4969 - val_loss: 4.0192 - val_accuracy: 0.4964\n",
            "Epoch 31/400\n",
            "6/6 [==============================] - 0s 26ms/step - loss: 4.0223 - accuracy: 0.5018 - val_loss: 4.0135 - val_accuracy: 0.4975\n",
            "Epoch 32/400\n",
            "6/6 [==============================] - 0s 30ms/step - loss: 4.0165 - accuracy: 0.5027 - val_loss: 4.0078 - val_accuracy: 0.4985\n",
            "Epoch 33/400\n",
            "6/6 [==============================] - 0s 27ms/step - loss: 4.0105 - accuracy: 0.5027 - val_loss: 4.0021 - val_accuracy: 0.4989\n",
            "Epoch 34/400\n",
            "6/6 [==============================] - 0s 28ms/step - loss: 4.0051 - accuracy: 0.4987 - val_loss: 3.9965 - val_accuracy: 0.4999\n",
            "Epoch 35/400\n",
            "6/6 [==============================] - 0s 26ms/step - loss: 3.9992 - accuracy: 0.5021 - val_loss: 3.9909 - val_accuracy: 0.4985\n",
            "Epoch 36/400\n",
            "6/6 [==============================] - 0s 29ms/step - loss: 3.9929 - accuracy: 0.5042 - val_loss: 3.9853 - val_accuracy: 0.4975\n",
            "Epoch 37/400\n",
            "6/6 [==============================] - 0s 26ms/step - loss: 3.9882 - accuracy: 0.5020 - val_loss: 3.9797 - val_accuracy: 0.4968\n",
            "Epoch 38/400\n",
            "6/6 [==============================] - 0s 27ms/step - loss: 3.9831 - accuracy: 0.5002 - val_loss: 3.9741 - val_accuracy: 0.4966\n",
            "Epoch 39/400\n",
            "6/6 [==============================] - 0s 28ms/step - loss: 3.9766 - accuracy: 0.5013 - val_loss: 3.9686 - val_accuracy: 0.4970\n",
            "Epoch 40/400\n",
            "6/6 [==============================] - 0s 29ms/step - loss: 3.9711 - accuracy: 0.5026 - val_loss: 3.9631 - val_accuracy: 0.4968\n",
            "Epoch 41/400\n",
            "6/6 [==============================] - 0s 29ms/step - loss: 3.9660 - accuracy: 0.4997 - val_loss: 3.9575 - val_accuracy: 0.4988\n",
            "Epoch 42/400\n",
            "6/6 [==============================] - 0s 30ms/step - loss: 3.9602 - accuracy: 0.5029 - val_loss: 3.9520 - val_accuracy: 0.4998\n",
            "Epoch 43/400\n",
            "6/6 [==============================] - 0s 28ms/step - loss: 3.9547 - accuracy: 0.5048 - val_loss: 3.9466 - val_accuracy: 0.5000\n",
            "Epoch 44/400\n",
            "6/6 [==============================] - 0s 30ms/step - loss: 3.9493 - accuracy: 0.5004 - val_loss: 3.9411 - val_accuracy: 0.5008\n",
            "Epoch 45/400\n",
            "6/6 [==============================] - 0s 27ms/step - loss: 3.9438 - accuracy: 0.5007 - val_loss: 3.9356 - val_accuracy: 0.5021\n",
            "Epoch 46/400\n",
            "6/6 [==============================] - 0s 28ms/step - loss: 3.9385 - accuracy: 0.5022 - val_loss: 3.9302 - val_accuracy: 0.5034\n",
            "Epoch 47/400\n",
            "6/6 [==============================] - 0s 29ms/step - loss: 3.9329 - accuracy: 0.5030 - val_loss: 3.9247 - val_accuracy: 0.5038\n",
            "Epoch 48/400\n",
            "6/6 [==============================] - 0s 32ms/step - loss: 3.9276 - accuracy: 0.4998 - val_loss: 3.9193 - val_accuracy: 0.5061\n",
            "Epoch 49/400\n",
            "6/6 [==============================] - 0s 29ms/step - loss: 3.9219 - accuracy: 0.5032 - val_loss: 3.9139 - val_accuracy: 0.5073\n",
            "Epoch 50/400\n",
            "6/6 [==============================] - 0s 26ms/step - loss: 3.9161 - accuracy: 0.5052 - val_loss: 3.9085 - val_accuracy: 0.5077\n",
            "Epoch 51/400\n",
            "6/6 [==============================] - 0s 29ms/step - loss: 3.9113 - accuracy: 0.4998 - val_loss: 3.9031 - val_accuracy: 0.5086\n",
            "Epoch 52/400\n",
            "6/6 [==============================] - 0s 31ms/step - loss: 3.9059 - accuracy: 0.5002 - val_loss: 3.8977 - val_accuracy: 0.5098\n",
            "Epoch 53/400\n",
            "6/6 [==============================] - 0s 26ms/step - loss: 3.9006 - accuracy: 0.5024 - val_loss: 3.8924 - val_accuracy: 0.5119\n",
            "Epoch 54/400\n",
            "6/6 [==============================] - 0s 27ms/step - loss: 3.8945 - accuracy: 0.5033 - val_loss: 3.8870 - val_accuracy: 0.5120\n",
            "Epoch 55/400\n",
            "6/6 [==============================] - 0s 26ms/step - loss: 3.8897 - accuracy: 0.5016 - val_loss: 3.8817 - val_accuracy: 0.5136\n",
            "Epoch 56/400\n",
            "6/6 [==============================] - 0s 28ms/step - loss: 3.8838 - accuracy: 0.5025 - val_loss: 3.8763 - val_accuracy: 0.5152\n",
            "Epoch 57/400\n",
            "6/6 [==============================] - 0s 29ms/step - loss: 3.8791 - accuracy: 0.4997 - val_loss: 3.8710 - val_accuracy: 0.5152\n",
            "Epoch 58/400\n",
            "6/6 [==============================] - 0s 29ms/step - loss: 3.8735 - accuracy: 0.5008 - val_loss: 3.8657 - val_accuracy: 0.5152\n",
            "Epoch 59/400\n",
            "6/6 [==============================] - 0s 28ms/step - loss: 3.8681 - accuracy: 0.5027 - val_loss: 3.8604 - val_accuracy: 0.5159\n",
            "Epoch 60/400\n",
            "6/6 [==============================] - 0s 28ms/step - loss: 3.8628 - accuracy: 0.5021 - val_loss: 3.8551 - val_accuracy: 0.5152\n",
            "Epoch 61/400\n",
            "6/6 [==============================] - 0s 28ms/step - loss: 3.8575 - accuracy: 0.5031 - val_loss: 3.8498 - val_accuracy: 0.5165\n",
            "Epoch 62/400\n",
            "6/6 [==============================] - 0s 27ms/step - loss: 3.8518 - accuracy: 0.5051 - val_loss: 3.8445 - val_accuracy: 0.5172\n",
            "Epoch 63/400\n",
            "6/6 [==============================] - 0s 27ms/step - loss: 3.8462 - accuracy: 0.5074 - val_loss: 3.8392 - val_accuracy: 0.5170\n",
            "Epoch 64/400\n",
            "6/6 [==============================] - 0s 29ms/step - loss: 3.8412 - accuracy: 0.5048 - val_loss: 3.8340 - val_accuracy: 0.5157\n",
            "Epoch 65/400\n",
            "6/6 [==============================] - 0s 29ms/step - loss: 3.8365 - accuracy: 0.5016 - val_loss: 3.8287 - val_accuracy: 0.5164\n",
            "Epoch 66/400\n",
            "6/6 [==============================] - 0s 29ms/step - loss: 3.8304 - accuracy: 0.5072 - val_loss: 3.8235 - val_accuracy: 0.5169\n",
            "Epoch 67/400\n",
            "6/6 [==============================] - 0s 29ms/step - loss: 3.8256 - accuracy: 0.5052 - val_loss: 3.8182 - val_accuracy: 0.5174\n",
            "Epoch 68/400\n",
            "6/6 [==============================] - 0s 28ms/step - loss: 3.8206 - accuracy: 0.4999 - val_loss: 3.8130 - val_accuracy: 0.5174\n",
            "Epoch 69/400\n",
            "6/6 [==============================] - 0s 27ms/step - loss: 3.8152 - accuracy: 0.5037 - val_loss: 3.8078 - val_accuracy: 0.5177\n",
            "Epoch 70/400\n",
            "6/6 [==============================] - 0s 29ms/step - loss: 3.8096 - accuracy: 0.5053 - val_loss: 3.8026 - val_accuracy: 0.5178\n",
            "Epoch 71/400\n",
            "6/6 [==============================] - 0s 29ms/step - loss: 3.8048 - accuracy: 0.5041 - val_loss: 3.7974 - val_accuracy: 0.5179\n",
            "Epoch 72/400\n",
            "6/6 [==============================] - 0s 28ms/step - loss: 3.7991 - accuracy: 0.5058 - val_loss: 3.7922 - val_accuracy: 0.5195\n",
            "Epoch 73/400\n",
            "6/6 [==============================] - 0s 27ms/step - loss: 3.7940 - accuracy: 0.5057 - val_loss: 3.7870 - val_accuracy: 0.5196\n",
            "Epoch 74/400\n",
            "6/6 [==============================] - 0s 28ms/step - loss: 3.7889 - accuracy: 0.5067 - val_loss: 3.7819 - val_accuracy: 0.5194\n",
            "Epoch 75/400\n",
            "6/6 [==============================] - 0s 29ms/step - loss: 3.7839 - accuracy: 0.5038 - val_loss: 3.7767 - val_accuracy: 0.5196\n",
            "Epoch 76/400\n",
            "6/6 [==============================] - 0s 29ms/step - loss: 3.7781 - accuracy: 0.5066 - val_loss: 3.7716 - val_accuracy: 0.5196\n",
            "Epoch 77/400\n",
            "6/6 [==============================] - 0s 26ms/step - loss: 3.7736 - accuracy: 0.5041 - val_loss: 3.7664 - val_accuracy: 0.5197\n",
            "Epoch 78/400\n",
            "6/6 [==============================] - 0s 30ms/step - loss: 3.7677 - accuracy: 0.5091 - val_loss: 3.7613 - val_accuracy: 0.5198\n",
            "Epoch 79/400\n",
            "6/6 [==============================] - 0s 29ms/step - loss: 3.7630 - accuracy: 0.5053 - val_loss: 3.7562 - val_accuracy: 0.5205\n",
            "Epoch 80/400\n",
            "6/6 [==============================] - 0s 27ms/step - loss: 3.7575 - accuracy: 0.5080 - val_loss: 3.7511 - val_accuracy: 0.5205\n",
            "Epoch 81/400\n",
            "6/6 [==============================] - 0s 29ms/step - loss: 3.7530 - accuracy: 0.5059 - val_loss: 3.7460 - val_accuracy: 0.5213\n",
            "Epoch 82/400\n",
            "6/6 [==============================] - 0s 27ms/step - loss: 3.7486 - accuracy: 0.5034 - val_loss: 3.7409 - val_accuracy: 0.5216\n",
            "Epoch 83/400\n",
            "6/6 [==============================] - 0s 27ms/step - loss: 3.7428 - accuracy: 0.5041 - val_loss: 3.7358 - val_accuracy: 0.5220\n",
            "Epoch 84/400\n",
            "6/6 [==============================] - 0s 29ms/step - loss: 3.7376 - accuracy: 0.5071 - val_loss: 3.7307 - val_accuracy: 0.5224\n",
            "Epoch 85/400\n",
            "6/6 [==============================] - 0s 27ms/step - loss: 3.7323 - accuracy: 0.5077 - val_loss: 3.7256 - val_accuracy: 0.5224\n",
            "Epoch 86/400\n",
            "6/6 [==============================] - 0s 27ms/step - loss: 3.7280 - accuracy: 0.5035 - val_loss: 3.7206 - val_accuracy: 0.5222\n",
            "Epoch 87/400\n",
            "6/6 [==============================] - 0s 31ms/step - loss: 3.7228 - accuracy: 0.5033 - val_loss: 3.7155 - val_accuracy: 0.5224\n",
            "Epoch 88/400\n",
            "6/6 [==============================] - 0s 26ms/step - loss: 3.7168 - accuracy: 0.5098 - val_loss: 3.7105 - val_accuracy: 0.5224\n",
            "Epoch 89/400\n",
            "6/6 [==============================] - 0s 28ms/step - loss: 3.7121 - accuracy: 0.5078 - val_loss: 3.7055 - val_accuracy: 0.5223\n",
            "Epoch 90/400\n",
            "6/6 [==============================] - 0s 27ms/step - loss: 3.7071 - accuracy: 0.5082 - val_loss: 3.7004 - val_accuracy: 0.5224\n",
            "Epoch 91/400\n",
            "6/6 [==============================] - 0s 28ms/step - loss: 3.7020 - accuracy: 0.5079 - val_loss: 3.6954 - val_accuracy: 0.5224\n",
            "Epoch 92/400\n",
            "6/6 [==============================] - 0s 30ms/step - loss: 3.6973 - accuracy: 0.5060 - val_loss: 3.6904 - val_accuracy: 0.5229\n",
            "Epoch 93/400\n",
            "6/6 [==============================] - 0s 30ms/step - loss: 3.6921 - accuracy: 0.5072 - val_loss: 3.6854 - val_accuracy: 0.5237\n",
            "Epoch 94/400\n",
            "6/6 [==============================] - 0s 31ms/step - loss: 3.6872 - accuracy: 0.5041 - val_loss: 3.6804 - val_accuracy: 0.5241\n",
            "Epoch 95/400\n",
            "6/6 [==============================] - 0s 28ms/step - loss: 3.6822 - accuracy: 0.5073 - val_loss: 3.6754 - val_accuracy: 0.5242\n",
            "Epoch 96/400\n",
            "6/6 [==============================] - 0s 30ms/step - loss: 3.6776 - accuracy: 0.5040 - val_loss: 3.6705 - val_accuracy: 0.5243\n",
            "Epoch 97/400\n",
            "6/6 [==============================] - 0s 26ms/step - loss: 3.6726 - accuracy: 0.5038 - val_loss: 3.6655 - val_accuracy: 0.5244\n",
            "Epoch 98/400\n",
            "6/6 [==============================] - 0s 28ms/step - loss: 3.6675 - accuracy: 0.5058 - val_loss: 3.6606 - val_accuracy: 0.5246\n",
            "Epoch 99/400\n",
            "6/6 [==============================] - 0s 28ms/step - loss: 3.6623 - accuracy: 0.5074 - val_loss: 3.6556 - val_accuracy: 0.5247\n",
            "Epoch 100/400\n",
            "6/6 [==============================] - 0s 28ms/step - loss: 3.6574 - accuracy: 0.5070 - val_loss: 3.6507 - val_accuracy: 0.5249\n",
            "Epoch 101/400\n",
            "6/6 [==============================] - 0s 29ms/step - loss: 3.6517 - accuracy: 0.5133 - val_loss: 3.6457 - val_accuracy: 0.5249\n",
            "Epoch 102/400\n",
            "6/6 [==============================] - 0s 27ms/step - loss: 3.6473 - accuracy: 0.5097 - val_loss: 3.6408 - val_accuracy: 0.5254\n",
            "Epoch 103/400\n",
            "6/6 [==============================] - 0s 28ms/step - loss: 3.6420 - accuracy: 0.5094 - val_loss: 3.6359 - val_accuracy: 0.5257\n",
            "Epoch 104/400\n",
            "6/6 [==============================] - 0s 29ms/step - loss: 3.6374 - accuracy: 0.5070 - val_loss: 3.6310 - val_accuracy: 0.5262\n",
            "Epoch 105/400\n",
            "6/6 [==============================] - 0s 27ms/step - loss: 3.6334 - accuracy: 0.5043 - val_loss: 3.6261 - val_accuracy: 0.5264\n",
            "Epoch 106/400\n",
            "6/6 [==============================] - 0s 29ms/step - loss: 3.6284 - accuracy: 0.5053 - val_loss: 3.6212 - val_accuracy: 0.5266\n",
            "Epoch 107/400\n",
            "6/6 [==============================] - 0s 28ms/step - loss: 3.6236 - accuracy: 0.5049 - val_loss: 3.6164 - val_accuracy: 0.5268\n",
            "Epoch 108/400\n",
            "6/6 [==============================] - 0s 29ms/step - loss: 3.6180 - accuracy: 0.5084 - val_loss: 3.6115 - val_accuracy: 0.5266\n",
            "Epoch 109/400\n",
            "6/6 [==============================] - 0s 28ms/step - loss: 3.6137 - accuracy: 0.5061 - val_loss: 3.6066 - val_accuracy: 0.5270\n",
            "Epoch 110/400\n",
            "6/6 [==============================] - 0s 30ms/step - loss: 3.6081 - accuracy: 0.5077 - val_loss: 3.6018 - val_accuracy: 0.5272\n",
            "Epoch 111/400\n",
            "6/6 [==============================] - 0s 26ms/step - loss: 3.6033 - accuracy: 0.5102 - val_loss: 3.5969 - val_accuracy: 0.5270\n",
            "Epoch 112/400\n",
            "6/6 [==============================] - 0s 30ms/step - loss: 3.5988 - accuracy: 0.5068 - val_loss: 3.5921 - val_accuracy: 0.5275\n",
            "Epoch 113/400\n",
            "6/6 [==============================] - 0s 28ms/step - loss: 3.5931 - accuracy: 0.5105 - val_loss: 3.5873 - val_accuracy: 0.5272\n",
            "Epoch 114/400\n",
            "6/6 [==============================] - 0s 27ms/step - loss: 3.5892 - accuracy: 0.5074 - val_loss: 3.5825 - val_accuracy: 0.5276\n",
            "Epoch 115/400\n",
            "6/6 [==============================] - 0s 30ms/step - loss: 3.5839 - accuracy: 0.5094 - val_loss: 3.5777 - val_accuracy: 0.5279\n",
            "Epoch 116/400\n",
            "6/6 [==============================] - 0s 28ms/step - loss: 3.5795 - accuracy: 0.5041 - val_loss: 3.5729 - val_accuracy: 0.5282\n",
            "Epoch 117/400\n",
            "6/6 [==============================] - 0s 29ms/step - loss: 3.5749 - accuracy: 0.5077 - val_loss: 3.5681 - val_accuracy: 0.5283\n",
            "Epoch 118/400\n",
            "6/6 [==============================] - 0s 29ms/step - loss: 3.5700 - accuracy: 0.5076 - val_loss: 3.5633 - val_accuracy: 0.5281\n",
            "Epoch 119/400\n",
            "6/6 [==============================] - 0s 31ms/step - loss: 3.5650 - accuracy: 0.5085 - val_loss: 3.5585 - val_accuracy: 0.5277\n",
            "Epoch 120/400\n",
            "6/6 [==============================] - 0s 28ms/step - loss: 3.5602 - accuracy: 0.5090 - val_loss: 3.5537 - val_accuracy: 0.5276\n",
            "Epoch 121/400\n",
            "6/6 [==============================] - 0s 28ms/step - loss: 3.5557 - accuracy: 0.5078 - val_loss: 3.5490 - val_accuracy: 0.5275\n",
            "Epoch 122/400\n",
            "6/6 [==============================] - 0s 27ms/step - loss: 3.5504 - accuracy: 0.5087 - val_loss: 3.5442 - val_accuracy: 0.5273\n",
            "Epoch 123/400\n",
            "6/6 [==============================] - 0s 28ms/step - loss: 3.5457 - accuracy: 0.5110 - val_loss: 3.5395 - val_accuracy: 0.5274\n",
            "Epoch 124/400\n",
            "6/6 [==============================] - 0s 29ms/step - loss: 3.5410 - accuracy: 0.5089 - val_loss: 3.5347 - val_accuracy: 0.5281\n",
            "Epoch 125/400\n",
            "6/6 [==============================] - 0s 27ms/step - loss: 3.5364 - accuracy: 0.5078 - val_loss: 3.5300 - val_accuracy: 0.5281\n",
            "Epoch 126/400\n",
            "6/6 [==============================] - 0s 27ms/step - loss: 3.5316 - accuracy: 0.5089 - val_loss: 3.5253 - val_accuracy: 0.5280\n",
            "Epoch 127/400\n",
            "6/6 [==============================] - 0s 26ms/step - loss: 3.5266 - accuracy: 0.5102 - val_loss: 3.5206 - val_accuracy: 0.5278\n",
            "Epoch 128/400\n",
            "6/6 [==============================] - 0s 29ms/step - loss: 3.5219 - accuracy: 0.5103 - val_loss: 3.5159 - val_accuracy: 0.5278\n",
            "Epoch 129/400\n",
            "6/6 [==============================] - 0s 27ms/step - loss: 3.5176 - accuracy: 0.5102 - val_loss: 3.5112 - val_accuracy: 0.5281\n",
            "Epoch 130/400\n",
            "6/6 [==============================] - 0s 31ms/step - loss: 3.5131 - accuracy: 0.5092 - val_loss: 3.5065 - val_accuracy: 0.5284\n",
            "Epoch 131/400\n",
            "6/6 [==============================] - 0s 28ms/step - loss: 3.5083 - accuracy: 0.5085 - val_loss: 3.5018 - val_accuracy: 0.5287\n",
            "Epoch 132/400\n",
            "6/6 [==============================] - 0s 30ms/step - loss: 3.5030 - accuracy: 0.5119 - val_loss: 3.4972 - val_accuracy: 0.5289\n",
            "Epoch 133/400\n",
            "6/6 [==============================] - 0s 26ms/step - loss: 3.4985 - accuracy: 0.5119 - val_loss: 3.4925 - val_accuracy: 0.5290\n",
            "Epoch 134/400\n",
            "6/6 [==============================] - 0s 30ms/step - loss: 3.4935 - accuracy: 0.5126 - val_loss: 3.4878 - val_accuracy: 0.5292\n",
            "Epoch 135/400\n",
            "6/6 [==============================] - 0s 27ms/step - loss: 3.4889 - accuracy: 0.5120 - val_loss: 3.4832 - val_accuracy: 0.5293\n",
            "Epoch 136/400\n",
            "6/6 [==============================] - 0s 28ms/step - loss: 3.4850 - accuracy: 0.5088 - val_loss: 3.4785 - val_accuracy: 0.5297\n",
            "Epoch 137/400\n",
            "6/6 [==============================] - 0s 30ms/step - loss: 3.4799 - accuracy: 0.5109 - val_loss: 3.4739 - val_accuracy: 0.5298\n",
            "Epoch 138/400\n",
            "6/6 [==============================] - 0s 29ms/step - loss: 3.4755 - accuracy: 0.5090 - val_loss: 3.4693 - val_accuracy: 0.5296\n",
            "Epoch 139/400\n",
            "6/6 [==============================] - 0s 28ms/step - loss: 3.4706 - accuracy: 0.5115 - val_loss: 3.4647 - val_accuracy: 0.5299\n",
            "Epoch 140/400\n",
            "6/6 [==============================] - 0s 29ms/step - loss: 3.4664 - accuracy: 0.5093 - val_loss: 3.4601 - val_accuracy: 0.5299\n",
            "Epoch 141/400\n",
            "6/6 [==============================] - 0s 27ms/step - loss: 3.4613 - accuracy: 0.5120 - val_loss: 3.4555 - val_accuracy: 0.5299\n",
            "Epoch 142/400\n",
            "6/6 [==============================] - 0s 29ms/step - loss: 3.4570 - accuracy: 0.5111 - val_loss: 3.4509 - val_accuracy: 0.5302\n",
            "Epoch 143/400\n",
            "6/6 [==============================] - 0s 28ms/step - loss: 3.4524 - accuracy: 0.5112 - val_loss: 3.4463 - val_accuracy: 0.5301\n",
            "Epoch 144/400\n",
            "6/6 [==============================] - 0s 29ms/step - loss: 3.4480 - accuracy: 0.5096 - val_loss: 3.4417 - val_accuracy: 0.5302\n",
            "Epoch 145/400\n",
            "6/6 [==============================] - 0s 28ms/step - loss: 3.4430 - accuracy: 0.5128 - val_loss: 3.4372 - val_accuracy: 0.5302\n",
            "Epoch 146/400\n",
            "6/6 [==============================] - 0s 27ms/step - loss: 3.4386 - accuracy: 0.5088 - val_loss: 3.4326 - val_accuracy: 0.5297\n",
            "Epoch 147/400\n",
            "6/6 [==============================] - 0s 28ms/step - loss: 3.4341 - accuracy: 0.5101 - val_loss: 3.4280 - val_accuracy: 0.5296\n",
            "Epoch 148/400\n",
            "6/6 [==============================] - 0s 29ms/step - loss: 3.4294 - accuracy: 0.5147 - val_loss: 3.4235 - val_accuracy: 0.5298\n",
            "Epoch 149/400\n",
            "6/6 [==============================] - 0s 26ms/step - loss: 3.4249 - accuracy: 0.5092 - val_loss: 3.4190 - val_accuracy: 0.5299\n",
            "Epoch 150/400\n",
            "6/6 [==============================] - 0s 29ms/step - loss: 3.4201 - accuracy: 0.5137 - val_loss: 3.4144 - val_accuracy: 0.5302\n",
            "Epoch 151/400\n",
            "6/6 [==============================] - 0s 28ms/step - loss: 3.4160 - accuracy: 0.5121 - val_loss: 3.4099 - val_accuracy: 0.5305\n",
            "Epoch 152/400\n",
            "6/6 [==============================] - 0s 27ms/step - loss: 3.4115 - accuracy: 0.5109 - val_loss: 3.4054 - val_accuracy: 0.5307\n",
            "Epoch 153/400\n",
            "6/6 [==============================] - 0s 28ms/step - loss: 3.4067 - accuracy: 0.5102 - val_loss: 3.4009 - val_accuracy: 0.5305\n",
            "Epoch 154/400\n",
            "6/6 [==============================] - 0s 26ms/step - loss: 3.4023 - accuracy: 0.5134 - val_loss: 3.3964 - val_accuracy: 0.5307\n",
            "Epoch 155/400\n",
            "6/6 [==============================] - 0s 27ms/step - loss: 3.3980 - accuracy: 0.5108 - val_loss: 3.3919 - val_accuracy: 0.5305\n",
            "Epoch 156/400\n",
            "6/6 [==============================] - 0s 28ms/step - loss: 3.3933 - accuracy: 0.5129 - val_loss: 3.3874 - val_accuracy: 0.5307\n",
            "Epoch 157/400\n",
            "6/6 [==============================] - 0s 27ms/step - loss: 3.3895 - accuracy: 0.5101 - val_loss: 3.3829 - val_accuracy: 0.5313\n",
            "Epoch 158/400\n",
            "6/6 [==============================] - 0s 27ms/step - loss: 3.3846 - accuracy: 0.5110 - val_loss: 3.3785 - val_accuracy: 0.5315\n",
            "Epoch 159/400\n",
            "6/6 [==============================] - 0s 28ms/step - loss: 3.3804 - accuracy: 0.5086 - val_loss: 3.3740 - val_accuracy: 0.5316\n",
            "Epoch 160/400\n",
            "6/6 [==============================] - 0s 28ms/step - loss: 3.3755 - accuracy: 0.5120 - val_loss: 3.3696 - val_accuracy: 0.5314\n",
            "Epoch 161/400\n",
            "6/6 [==============================] - 0s 27ms/step - loss: 3.3715 - accuracy: 0.5102 - val_loss: 3.3651 - val_accuracy: 0.5311\n",
            "Epoch 162/400\n",
            "6/6 [==============================] - 0s 30ms/step - loss: 3.3668 - accuracy: 0.5108 - val_loss: 3.3607 - val_accuracy: 0.5313\n",
            "Epoch 163/400\n",
            "6/6 [==============================] - 0s 28ms/step - loss: 3.3617 - accuracy: 0.5154 - val_loss: 3.3563 - val_accuracy: 0.5311\n",
            "Epoch 164/400\n",
            "6/6 [==============================] - 0s 30ms/step - loss: 3.3576 - accuracy: 0.5153 - val_loss: 3.3518 - val_accuracy: 0.5312\n",
            "Epoch 165/400\n",
            "6/6 [==============================] - 0s 30ms/step - loss: 3.3531 - accuracy: 0.5127 - val_loss: 3.3474 - val_accuracy: 0.5317\n",
            "Epoch 166/400\n",
            "6/6 [==============================] - 0s 27ms/step - loss: 3.3487 - accuracy: 0.5122 - val_loss: 3.3430 - val_accuracy: 0.5312\n",
            "Epoch 167/400\n",
            "6/6 [==============================] - 0s 27ms/step - loss: 3.3443 - accuracy: 0.5115 - val_loss: 3.3386 - val_accuracy: 0.5311\n",
            "Epoch 168/400\n",
            "6/6 [==============================] - 0s 29ms/step - loss: 3.3401 - accuracy: 0.5124 - val_loss: 3.3342 - val_accuracy: 0.5314\n",
            "Epoch 169/400\n",
            "6/6 [==============================] - 0s 29ms/step - loss: 3.3362 - accuracy: 0.5105 - val_loss: 3.3298 - val_accuracy: 0.5314\n",
            "Epoch 170/400\n",
            "6/6 [==============================] - 0s 30ms/step - loss: 3.3313 - accuracy: 0.5144 - val_loss: 3.3255 - val_accuracy: 0.5313\n",
            "Epoch 171/400\n",
            "6/6 [==============================] - 0s 28ms/step - loss: 3.3266 - accuracy: 0.5142 - val_loss: 3.3211 - val_accuracy: 0.5315\n",
            "Epoch 172/400\n",
            "6/6 [==============================] - 0s 28ms/step - loss: 3.3225 - accuracy: 0.5137 - val_loss: 3.3167 - val_accuracy: 0.5314\n",
            "Epoch 173/400\n",
            "6/6 [==============================] - 0s 28ms/step - loss: 3.3179 - accuracy: 0.5135 - val_loss: 3.3124 - val_accuracy: 0.5311\n",
            "Epoch 174/400\n",
            "6/6 [==============================] - 0s 27ms/step - loss: 3.3137 - accuracy: 0.5115 - val_loss: 3.3080 - val_accuracy: 0.5312\n",
            "Epoch 175/400\n",
            "6/6 [==============================] - 0s 29ms/step - loss: 3.3097 - accuracy: 0.5121 - val_loss: 3.3037 - val_accuracy: 0.5318\n",
            "Epoch 176/400\n",
            "6/6 [==============================] - 0s 27ms/step - loss: 3.3048 - accuracy: 0.5131 - val_loss: 3.2994 - val_accuracy: 0.5317\n",
            "Epoch 177/400\n",
            "6/6 [==============================] - 0s 30ms/step - loss: 3.3008 - accuracy: 0.5133 - val_loss: 3.2950 - val_accuracy: 0.5319\n",
            "Epoch 178/400\n",
            "6/6 [==============================] - 0s 27ms/step - loss: 3.2967 - accuracy: 0.5125 - val_loss: 3.2907 - val_accuracy: 0.5324\n",
            "Epoch 179/400\n",
            "6/6 [==============================] - 0s 28ms/step - loss: 3.2925 - accuracy: 0.5120 - val_loss: 3.2864 - val_accuracy: 0.5324\n",
            "Epoch 180/400\n",
            "6/6 [==============================] - 0s 28ms/step - loss: 3.2884 - accuracy: 0.5114 - val_loss: 3.2821 - val_accuracy: 0.5325\n",
            "Epoch 181/400\n",
            "6/6 [==============================] - 0s 28ms/step - loss: 3.2832 - accuracy: 0.5160 - val_loss: 3.2778 - val_accuracy: 0.5327\n",
            "Epoch 182/400\n",
            "6/6 [==============================] - 0s 27ms/step - loss: 3.2786 - accuracy: 0.5157 - val_loss: 3.2735 - val_accuracy: 0.5327\n",
            "Epoch 183/400\n",
            "6/6 [==============================] - 0s 28ms/step - loss: 3.2745 - accuracy: 0.5139 - val_loss: 3.2692 - val_accuracy: 0.5327\n",
            "Epoch 184/400\n",
            "6/6 [==============================] - 0s 28ms/step - loss: 3.2707 - accuracy: 0.5125 - val_loss: 3.2649 - val_accuracy: 0.5330\n",
            "Epoch 185/400\n",
            "6/6 [==============================] - 0s 29ms/step - loss: 3.2660 - accuracy: 0.5156 - val_loss: 3.2607 - val_accuracy: 0.5333\n",
            "Epoch 186/400\n",
            "6/6 [==============================] - 0s 28ms/step - loss: 3.2624 - accuracy: 0.5113 - val_loss: 3.2564 - val_accuracy: 0.5336\n",
            "Epoch 187/400\n",
            "6/6 [==============================] - 0s 27ms/step - loss: 3.2577 - accuracy: 0.5137 - val_loss: 3.2522 - val_accuracy: 0.5335\n",
            "Epoch 188/400\n",
            "6/6 [==============================] - 0s 28ms/step - loss: 3.2531 - accuracy: 0.5145 - val_loss: 3.2479 - val_accuracy: 0.5337\n",
            "Epoch 189/400\n",
            "6/6 [==============================] - 0s 28ms/step - loss: 3.2494 - accuracy: 0.5129 - val_loss: 3.2437 - val_accuracy: 0.5339\n",
            "Epoch 190/400\n",
            "6/6 [==============================] - 0s 28ms/step - loss: 3.2452 - accuracy: 0.5137 - val_loss: 3.2395 - val_accuracy: 0.5338\n",
            "Epoch 191/400\n",
            "6/6 [==============================] - 0s 29ms/step - loss: 3.2403 - accuracy: 0.5160 - val_loss: 3.2352 - val_accuracy: 0.5337\n",
            "Epoch 192/400\n",
            "6/6 [==============================] - 0s 27ms/step - loss: 3.2365 - accuracy: 0.5141 - val_loss: 3.2310 - val_accuracy: 0.5338\n",
            "Epoch 193/400\n",
            "6/6 [==============================] - 0s 28ms/step - loss: 3.2327 - accuracy: 0.5137 - val_loss: 3.2268 - val_accuracy: 0.5341\n",
            "Epoch 194/400\n",
            "6/6 [==============================] - 0s 28ms/step - loss: 3.2281 - accuracy: 0.5131 - val_loss: 3.2226 - val_accuracy: 0.5340\n",
            "Epoch 195/400\n",
            "6/6 [==============================] - 0s 29ms/step - loss: 3.2238 - accuracy: 0.5162 - val_loss: 3.2184 - val_accuracy: 0.5339\n",
            "Epoch 196/400\n",
            "6/6 [==============================] - 0s 30ms/step - loss: 3.2195 - accuracy: 0.5162 - val_loss: 3.2142 - val_accuracy: 0.5339\n",
            "Epoch 197/400\n",
            "6/6 [==============================] - 0s 26ms/step - loss: 3.2157 - accuracy: 0.5126 - val_loss: 3.2100 - val_accuracy: 0.5341\n",
            "Epoch 198/400\n",
            "6/6 [==============================] - 0s 28ms/step - loss: 3.2114 - accuracy: 0.5132 - val_loss: 3.2059 - val_accuracy: 0.5342\n",
            "Epoch 199/400\n",
            "6/6 [==============================] - 0s 29ms/step - loss: 3.2071 - accuracy: 0.5137 - val_loss: 3.2017 - val_accuracy: 0.5344\n",
            "Epoch 200/400\n",
            "6/6 [==============================] - 0s 27ms/step - loss: 3.2032 - accuracy: 0.5144 - val_loss: 3.1975 - val_accuracy: 0.5346\n",
            "Epoch 201/400\n",
            "6/6 [==============================] - 0s 27ms/step - loss: 3.1987 - accuracy: 0.5136 - val_loss: 3.1934 - val_accuracy: 0.5345\n",
            "Epoch 202/400\n",
            "6/6 [==============================] - 0s 28ms/step - loss: 3.1946 - accuracy: 0.5145 - val_loss: 3.1892 - val_accuracy: 0.5348\n",
            "Epoch 203/400\n",
            "6/6 [==============================] - 0s 30ms/step - loss: 3.1912 - accuracy: 0.5118 - val_loss: 3.1851 - val_accuracy: 0.5353\n",
            "Epoch 204/400\n",
            "6/6 [==============================] - 0s 29ms/step - loss: 3.1867 - accuracy: 0.5129 - val_loss: 3.1810 - val_accuracy: 0.5348\n",
            "Epoch 205/400\n",
            "6/6 [==============================] - 0s 27ms/step - loss: 3.1825 - accuracy: 0.5160 - val_loss: 3.1768 - val_accuracy: 0.5348\n",
            "Epoch 206/400\n",
            "6/6 [==============================] - 0s 28ms/step - loss: 3.1781 - accuracy: 0.5159 - val_loss: 3.1727 - val_accuracy: 0.5348\n",
            "Epoch 207/400\n",
            "6/6 [==============================] - 0s 27ms/step - loss: 3.1743 - accuracy: 0.5138 - val_loss: 3.1686 - val_accuracy: 0.5346\n",
            "Epoch 208/400\n",
            "6/6 [==============================] - 0s 29ms/step - loss: 3.1700 - accuracy: 0.5145 - val_loss: 3.1645 - val_accuracy: 0.5346\n",
            "Epoch 209/400\n",
            "6/6 [==============================] - 0s 29ms/step - loss: 3.1657 - accuracy: 0.5159 - val_loss: 3.1604 - val_accuracy: 0.5346\n",
            "Epoch 210/400\n",
            "6/6 [==============================] - 0s 29ms/step - loss: 3.1618 - accuracy: 0.5131 - val_loss: 3.1563 - val_accuracy: 0.5347\n",
            "Epoch 211/400\n",
            "6/6 [==============================] - 0s 27ms/step - loss: 3.1574 - accuracy: 0.5170 - val_loss: 3.1523 - val_accuracy: 0.5353\n",
            "Epoch 212/400\n",
            "6/6 [==============================] - 0s 30ms/step - loss: 3.1533 - accuracy: 0.5158 - val_loss: 3.1482 - val_accuracy: 0.5354\n",
            "Epoch 213/400\n",
            "6/6 [==============================] - 0s 30ms/step - loss: 3.1496 - accuracy: 0.5141 - val_loss: 3.1441 - val_accuracy: 0.5355\n",
            "Epoch 214/400\n",
            "6/6 [==============================] - 0s 27ms/step - loss: 3.1456 - accuracy: 0.5163 - val_loss: 3.1400 - val_accuracy: 0.5358\n",
            "Epoch 215/400\n",
            "6/6 [==============================] - 0s 29ms/step - loss: 3.1414 - accuracy: 0.5141 - val_loss: 3.1360 - val_accuracy: 0.5359\n",
            "Epoch 216/400\n",
            "6/6 [==============================] - 0s 28ms/step - loss: 3.1373 - accuracy: 0.5145 - val_loss: 3.1319 - val_accuracy: 0.5360\n",
            "Epoch 217/400\n",
            "6/6 [==============================] - 0s 28ms/step - loss: 3.1329 - accuracy: 0.5186 - val_loss: 3.1279 - val_accuracy: 0.5355\n",
            "Epoch 218/400\n",
            "6/6 [==============================] - 0s 28ms/step - loss: 3.1290 - accuracy: 0.5151 - val_loss: 3.1239 - val_accuracy: 0.5358\n",
            "Epoch 219/400\n",
            "6/6 [==============================] - 0s 29ms/step - loss: 3.1250 - accuracy: 0.5152 - val_loss: 3.1198 - val_accuracy: 0.5360\n",
            "Epoch 220/400\n",
            "6/6 [==============================] - 0s 30ms/step - loss: 3.1211 - accuracy: 0.5152 - val_loss: 3.1158 - val_accuracy: 0.5364\n",
            "Epoch 221/400\n",
            "6/6 [==============================] - 0s 27ms/step - loss: 3.1167 - accuracy: 0.5174 - val_loss: 3.1118 - val_accuracy: 0.5364\n",
            "Epoch 222/400\n",
            "6/6 [==============================] - 0s 29ms/step - loss: 3.1129 - accuracy: 0.5172 - val_loss: 3.1078 - val_accuracy: 0.5366\n",
            "Epoch 223/400\n",
            "6/6 [==============================] - 0s 28ms/step - loss: 3.1092 - accuracy: 0.5167 - val_loss: 3.1038 - val_accuracy: 0.5365\n",
            "Epoch 224/400\n",
            "6/6 [==============================] - 0s 28ms/step - loss: 3.1047 - accuracy: 0.5164 - val_loss: 3.0998 - val_accuracy: 0.5367\n",
            "Epoch 225/400\n",
            "6/6 [==============================] - 0s 29ms/step - loss: 3.1012 - accuracy: 0.5166 - val_loss: 3.0958 - val_accuracy: 0.5365\n",
            "Epoch 226/400\n",
            "6/6 [==============================] - 0s 27ms/step - loss: 3.0973 - accuracy: 0.5133 - val_loss: 3.0919 - val_accuracy: 0.5368\n",
            "Epoch 227/400\n",
            "6/6 [==============================] - 0s 30ms/step - loss: 3.0930 - accuracy: 0.5176 - val_loss: 3.0879 - val_accuracy: 0.5371\n",
            "Epoch 228/400\n",
            "6/6 [==============================] - 0s 26ms/step - loss: 3.0892 - accuracy: 0.5158 - val_loss: 3.0839 - val_accuracy: 0.5372\n",
            "Epoch 229/400\n",
            "6/6 [==============================] - 0s 28ms/step - loss: 3.0857 - accuracy: 0.5112 - val_loss: 3.0800 - val_accuracy: 0.5373\n",
            "Epoch 230/400\n",
            "6/6 [==============================] - 0s 30ms/step - loss: 3.0812 - accuracy: 0.5166 - val_loss: 3.0760 - val_accuracy: 0.5370\n",
            "Epoch 231/400\n",
            "6/6 [==============================] - 0s 30ms/step - loss: 3.0774 - accuracy: 0.5171 - val_loss: 3.0721 - val_accuracy: 0.5374\n",
            "Epoch 232/400\n",
            "6/6 [==============================] - 0s 29ms/step - loss: 3.0735 - accuracy: 0.5139 - val_loss: 3.0681 - val_accuracy: 0.5373\n",
            "Epoch 233/400\n",
            "6/6 [==============================] - 0s 27ms/step - loss: 3.0692 - accuracy: 0.5181 - val_loss: 3.0642 - val_accuracy: 0.5373\n",
            "Epoch 234/400\n",
            "6/6 [==============================] - 0s 27ms/step - loss: 3.0650 - accuracy: 0.5195 - val_loss: 3.0603 - val_accuracy: 0.5374\n",
            "Epoch 235/400\n",
            "6/6 [==============================] - 0s 28ms/step - loss: 3.0613 - accuracy: 0.5183 - val_loss: 3.0564 - val_accuracy: 0.5377\n",
            "Epoch 236/400\n",
            "6/6 [==============================] - 0s 30ms/step - loss: 3.0575 - accuracy: 0.5165 - val_loss: 3.0525 - val_accuracy: 0.5378\n",
            "Epoch 237/400\n",
            "6/6 [==============================] - 0s 28ms/step - loss: 3.0540 - accuracy: 0.5136 - val_loss: 3.0485 - val_accuracy: 0.5380\n",
            "Epoch 238/400\n",
            "6/6 [==============================] - 0s 28ms/step - loss: 3.0499 - accuracy: 0.5153 - val_loss: 3.0446 - val_accuracy: 0.5384\n",
            "Epoch 239/400\n",
            "6/6 [==============================] - 0s 29ms/step - loss: 3.0458 - accuracy: 0.5157 - val_loss: 3.0408 - val_accuracy: 0.5384\n",
            "Epoch 240/400\n",
            "6/6 [==============================] - 0s 30ms/step - loss: 3.0420 - accuracy: 0.5168 - val_loss: 3.0369 - val_accuracy: 0.5384\n",
            "Epoch 241/400\n",
            "6/6 [==============================] - 0s 27ms/step - loss: 3.0377 - accuracy: 0.5200 - val_loss: 3.0330 - val_accuracy: 0.5385\n",
            "Epoch 242/400\n",
            "6/6 [==============================] - 0s 32ms/step - loss: 3.0346 - accuracy: 0.5166 - val_loss: 3.0291 - val_accuracy: 0.5385\n",
            "Epoch 243/400\n",
            "6/6 [==============================] - 0s 29ms/step - loss: 3.0300 - accuracy: 0.5202 - val_loss: 3.0253 - val_accuracy: 0.5388\n",
            "Epoch 244/400\n",
            "6/6 [==============================] - 0s 27ms/step - loss: 3.0267 - accuracy: 0.5163 - val_loss: 3.0214 - val_accuracy: 0.5389\n",
            "Epoch 245/400\n",
            "6/6 [==============================] - 0s 28ms/step - loss: 3.0224 - accuracy: 0.5179 - val_loss: 3.0175 - val_accuracy: 0.5388\n",
            "Epoch 246/400\n",
            "6/6 [==============================] - 0s 30ms/step - loss: 3.0190 - accuracy: 0.5144 - val_loss: 3.0137 - val_accuracy: 0.5393\n",
            "Epoch 247/400\n",
            "6/6 [==============================] - 0s 27ms/step - loss: 3.0149 - accuracy: 0.5186 - val_loss: 3.0099 - val_accuracy: 0.5393\n",
            "Epoch 248/400\n",
            "6/6 [==============================] - 0s 30ms/step - loss: 3.0113 - accuracy: 0.5164 - val_loss: 3.0060 - val_accuracy: 0.5397\n",
            "Epoch 249/400\n",
            "6/6 [==============================] - 0s 29ms/step - loss: 3.0067 - accuracy: 0.5206 - val_loss: 3.0022 - val_accuracy: 0.5399\n",
            "Epoch 250/400\n",
            "6/6 [==============================] - 0s 28ms/step - loss: 3.0033 - accuracy: 0.5173 - val_loss: 2.9984 - val_accuracy: 0.5399\n",
            "Epoch 251/400\n",
            "6/6 [==============================] - 0s 30ms/step - loss: 2.9994 - accuracy: 0.5189 - val_loss: 2.9946 - val_accuracy: 0.5401\n",
            "Epoch 252/400\n",
            "6/6 [==============================] - 0s 27ms/step - loss: 2.9960 - accuracy: 0.5168 - val_loss: 2.9908 - val_accuracy: 0.5401\n",
            "Epoch 253/400\n",
            "6/6 [==============================] - 0s 28ms/step - loss: 2.9917 - accuracy: 0.5173 - val_loss: 2.9870 - val_accuracy: 0.5398\n",
            "Epoch 254/400\n",
            "6/6 [==============================] - 0s 29ms/step - loss: 2.9883 - accuracy: 0.5182 - val_loss: 2.9832 - val_accuracy: 0.5399\n",
            "Epoch 255/400\n",
            "6/6 [==============================] - 0s 28ms/step - loss: 2.9844 - accuracy: 0.5181 - val_loss: 2.9794 - val_accuracy: 0.5399\n",
            "Epoch 256/400\n",
            "6/6 [==============================] - 0s 29ms/step - loss: 2.9809 - accuracy: 0.5156 - val_loss: 2.9756 - val_accuracy: 0.5398\n",
            "Epoch 257/400\n",
            "6/6 [==============================] - 0s 27ms/step - loss: 2.9768 - accuracy: 0.5157 - val_loss: 2.9718 - val_accuracy: 0.5401\n",
            "Epoch 258/400\n",
            "6/6 [==============================] - 0s 27ms/step - loss: 2.9729 - accuracy: 0.5202 - val_loss: 2.9681 - val_accuracy: 0.5401\n",
            "Epoch 259/400\n",
            "6/6 [==============================] - 0s 27ms/step - loss: 2.9693 - accuracy: 0.5178 - val_loss: 2.9643 - val_accuracy: 0.5404\n",
            "Epoch 260/400\n",
            "6/6 [==============================] - 0s 29ms/step - loss: 2.9657 - accuracy: 0.5165 - val_loss: 2.9606 - val_accuracy: 0.5409\n",
            "Epoch 261/400\n",
            "6/6 [==============================] - 0s 30ms/step - loss: 2.9620 - accuracy: 0.5176 - val_loss: 2.9568 - val_accuracy: 0.5409\n",
            "Epoch 262/400\n",
            "6/6 [==============================] - 0s 28ms/step - loss: 2.9580 - accuracy: 0.5186 - val_loss: 2.9531 - val_accuracy: 0.5413\n",
            "Epoch 263/400\n",
            "6/6 [==============================] - 0s 28ms/step - loss: 2.9541 - accuracy: 0.5185 - val_loss: 2.9493 - val_accuracy: 0.5410\n",
            "Epoch 264/400\n",
            "6/6 [==============================] - 0s 27ms/step - loss: 2.9505 - accuracy: 0.5182 - val_loss: 2.9456 - val_accuracy: 0.5411\n",
            "Epoch 265/400\n",
            "6/6 [==============================] - 0s 29ms/step - loss: 2.9464 - accuracy: 0.5201 - val_loss: 2.9419 - val_accuracy: 0.5412\n",
            "Epoch 266/400\n",
            "6/6 [==============================] - 0s 29ms/step - loss: 2.9433 - accuracy: 0.5189 - val_loss: 2.9382 - val_accuracy: 0.5413\n",
            "Epoch 267/400\n",
            "6/6 [==============================] - 0s 30ms/step - loss: 2.9396 - accuracy: 0.5175 - val_loss: 2.9345 - val_accuracy: 0.5417\n",
            "Epoch 268/400\n",
            "6/6 [==============================] - 0s 27ms/step - loss: 2.9353 - accuracy: 0.5199 - val_loss: 2.9308 - val_accuracy: 0.5418\n",
            "Epoch 269/400\n",
            "6/6 [==============================] - 0s 30ms/step - loss: 2.9322 - accuracy: 0.5184 - val_loss: 2.9271 - val_accuracy: 0.5414\n",
            "Epoch 270/400\n",
            "6/6 [==============================] - 0s 28ms/step - loss: 2.9285 - accuracy: 0.5163 - val_loss: 2.9234 - val_accuracy: 0.5417\n",
            "Epoch 271/400\n",
            "6/6 [==============================] - 0s 28ms/step - loss: 2.9248 - accuracy: 0.5174 - val_loss: 2.9197 - val_accuracy: 0.5417\n",
            "Epoch 272/400\n",
            "6/6 [==============================] - 0s 27ms/step - loss: 2.9205 - accuracy: 0.5210 - val_loss: 2.9160 - val_accuracy: 0.5416\n",
            "Epoch 273/400\n",
            "6/6 [==============================] - 0s 26ms/step - loss: 2.9168 - accuracy: 0.5217 - val_loss: 2.9124 - val_accuracy: 0.5413\n",
            "Epoch 274/400\n",
            "6/6 [==============================] - 0s 26ms/step - loss: 2.9134 - accuracy: 0.5202 - val_loss: 2.9087 - val_accuracy: 0.5415\n",
            "Epoch 275/400\n",
            "6/6 [==============================] - 0s 27ms/step - loss: 2.9099 - accuracy: 0.5193 - val_loss: 2.9051 - val_accuracy: 0.5414\n",
            "Epoch 276/400\n",
            "6/6 [==============================] - 0s 29ms/step - loss: 2.9066 - accuracy: 0.5167 - val_loss: 2.9014 - val_accuracy: 0.5414\n",
            "Epoch 277/400\n",
            "6/6 [==============================] - 0s 28ms/step - loss: 2.9021 - accuracy: 0.5237 - val_loss: 2.8978 - val_accuracy: 0.5413\n",
            "Epoch 278/400\n",
            "6/6 [==============================] - 0s 30ms/step - loss: 2.8991 - accuracy: 0.5194 - val_loss: 2.8942 - val_accuracy: 0.5414\n",
            "Epoch 279/400\n",
            "6/6 [==============================] - 0s 29ms/step - loss: 2.8950 - accuracy: 0.5203 - val_loss: 2.8905 - val_accuracy: 0.5417\n",
            "Epoch 280/400\n",
            "6/6 [==============================] - 0s 28ms/step - loss: 2.8920 - accuracy: 0.5163 - val_loss: 2.8869 - val_accuracy: 0.5418\n",
            "Epoch 281/400\n",
            "6/6 [==============================] - 0s 28ms/step - loss: 2.8884 - accuracy: 0.5194 - val_loss: 2.8833 - val_accuracy: 0.5418\n",
            "Epoch 282/400\n",
            "6/6 [==============================] - 0s 26ms/step - loss: 2.8844 - accuracy: 0.5200 - val_loss: 2.8797 - val_accuracy: 0.5422\n",
            "Epoch 283/400\n",
            "6/6 [==============================] - 0s 29ms/step - loss: 2.8809 - accuracy: 0.5196 - val_loss: 2.8761 - val_accuracy: 0.5423\n",
            "Epoch 284/400\n",
            "6/6 [==============================] - 0s 30ms/step - loss: 2.8773 - accuracy: 0.5197 - val_loss: 2.8725 - val_accuracy: 0.5426\n",
            "Epoch 285/400\n",
            "6/6 [==============================] - 0s 29ms/step - loss: 2.8734 - accuracy: 0.5218 - val_loss: 2.8689 - val_accuracy: 0.5424\n",
            "Epoch 286/400\n",
            "6/6 [==============================] - 0s 30ms/step - loss: 2.8703 - accuracy: 0.5195 - val_loss: 2.8653 - val_accuracy: 0.5424\n",
            "Epoch 287/400\n",
            "6/6 [==============================] - 0s 28ms/step - loss: 2.8660 - accuracy: 0.5229 - val_loss: 2.8617 - val_accuracy: 0.5426\n",
            "Epoch 288/400\n",
            "6/6 [==============================] - 0s 29ms/step - loss: 2.8626 - accuracy: 0.5235 - val_loss: 2.8582 - val_accuracy: 0.5428\n",
            "Epoch 289/400\n",
            "6/6 [==============================] - 0s 28ms/step - loss: 2.8594 - accuracy: 0.5213 - val_loss: 2.8546 - val_accuracy: 0.5427\n",
            "Epoch 290/400\n",
            "6/6 [==============================] - 0s 27ms/step - loss: 2.8553 - accuracy: 0.5232 - val_loss: 2.8510 - val_accuracy: 0.5431\n",
            "Epoch 291/400\n",
            "6/6 [==============================] - 0s 29ms/step - loss: 2.8518 - accuracy: 0.5233 - val_loss: 2.8475 - val_accuracy: 0.5429\n",
            "Epoch 292/400\n",
            "6/6 [==============================] - 0s 26ms/step - loss: 2.8491 - accuracy: 0.5180 - val_loss: 2.8440 - val_accuracy: 0.5429\n",
            "Epoch 293/400\n",
            "6/6 [==============================] - 0s 26ms/step - loss: 2.8446 - accuracy: 0.5246 - val_loss: 2.8404 - val_accuracy: 0.5429\n",
            "Epoch 294/400\n",
            "6/6 [==============================] - 0s 31ms/step - loss: 2.8420 - accuracy: 0.5194 - val_loss: 2.8369 - val_accuracy: 0.5428\n",
            "Epoch 295/400\n",
            "6/6 [==============================] - 0s 28ms/step - loss: 2.8380 - accuracy: 0.5201 - val_loss: 2.8334 - val_accuracy: 0.5432\n",
            "Epoch 296/400\n",
            "6/6 [==============================] - 0s 27ms/step - loss: 2.8345 - accuracy: 0.5203 - val_loss: 2.8298 - val_accuracy: 0.5434\n",
            "Epoch 297/400\n",
            "6/6 [==============================] - 0s 27ms/step - loss: 2.8310 - accuracy: 0.5194 - val_loss: 2.8263 - val_accuracy: 0.5434\n",
            "Epoch 298/400\n",
            "6/6 [==============================] - 0s 30ms/step - loss: 2.8273 - accuracy: 0.5195 - val_loss: 2.8228 - val_accuracy: 0.5435\n",
            "Epoch 299/400\n",
            "6/6 [==============================] - 0s 27ms/step - loss: 2.8240 - accuracy: 0.5218 - val_loss: 2.8193 - val_accuracy: 0.5436\n",
            "Epoch 300/400\n",
            "6/6 [==============================] - 0s 28ms/step - loss: 2.8199 - accuracy: 0.5234 - val_loss: 2.8158 - val_accuracy: 0.5437\n",
            "Epoch 301/400\n",
            "6/6 [==============================] - 0s 31ms/step - loss: 2.8167 - accuracy: 0.5207 - val_loss: 2.8123 - val_accuracy: 0.5442\n",
            "Epoch 302/400\n",
            "6/6 [==============================] - 0s 30ms/step - loss: 2.8137 - accuracy: 0.5200 - val_loss: 2.8089 - val_accuracy: 0.5443\n",
            "Epoch 303/400\n",
            "6/6 [==============================] - 0s 28ms/step - loss: 2.8098 - accuracy: 0.5198 - val_loss: 2.8054 - val_accuracy: 0.5445\n",
            "Epoch 304/400\n",
            "6/6 [==============================] - 0s 28ms/step - loss: 2.8062 - accuracy: 0.5218 - val_loss: 2.8019 - val_accuracy: 0.5446\n",
            "Epoch 305/400\n",
            "6/6 [==============================] - 0s 28ms/step - loss: 2.8032 - accuracy: 0.5203 - val_loss: 2.7985 - val_accuracy: 0.5450\n",
            "Epoch 306/400\n",
            "6/6 [==============================] - 0s 28ms/step - loss: 2.7995 - accuracy: 0.5202 - val_loss: 2.7950 - val_accuracy: 0.5452\n",
            "Epoch 307/400\n",
            "6/6 [==============================] - 0s 28ms/step - loss: 2.7961 - accuracy: 0.5217 - val_loss: 2.7916 - val_accuracy: 0.5455\n",
            "Epoch 308/400\n",
            "6/6 [==============================] - 0s 27ms/step - loss: 2.7925 - accuracy: 0.5202 - val_loss: 2.7881 - val_accuracy: 0.5455\n",
            "Epoch 309/400\n",
            "6/6 [==============================] - 0s 28ms/step - loss: 2.7894 - accuracy: 0.5206 - val_loss: 2.7847 - val_accuracy: 0.5457\n",
            "Epoch 310/400\n",
            "6/6 [==============================] - 0s 28ms/step - loss: 2.7866 - accuracy: 0.5156 - val_loss: 2.7813 - val_accuracy: 0.5456\n",
            "Epoch 311/400\n",
            "6/6 [==============================] - 0s 28ms/step - loss: 2.7827 - accuracy: 0.5191 - val_loss: 2.7778 - val_accuracy: 0.5457\n",
            "Epoch 312/400\n",
            "6/6 [==============================] - 0s 27ms/step - loss: 2.7791 - accuracy: 0.5219 - val_loss: 2.7744 - val_accuracy: 0.5456\n",
            "Epoch 313/400\n",
            "6/6 [==============================] - 0s 31ms/step - loss: 2.7756 - accuracy: 0.5214 - val_loss: 2.7710 - val_accuracy: 0.5456\n",
            "Epoch 314/400\n",
            "6/6 [==============================] - 0s 29ms/step - loss: 2.7725 - accuracy: 0.5198 - val_loss: 2.7676 - val_accuracy: 0.5456\n",
            "Epoch 315/400\n",
            "6/6 [==============================] - 0s 29ms/step - loss: 2.7695 - accuracy: 0.5165 - val_loss: 2.7642 - val_accuracy: 0.5458\n",
            "Epoch 316/400\n",
            "6/6 [==============================] - 0s 29ms/step - loss: 2.7657 - accuracy: 0.5204 - val_loss: 2.7608 - val_accuracy: 0.5460\n",
            "Epoch 317/400\n",
            "6/6 [==============================] - 0s 30ms/step - loss: 2.7618 - accuracy: 0.5220 - val_loss: 2.7574 - val_accuracy: 0.5461\n",
            "Epoch 318/400\n",
            "6/6 [==============================] - 0s 28ms/step - loss: 2.7582 - accuracy: 0.5233 - val_loss: 2.7541 - val_accuracy: 0.5461\n",
            "Epoch 319/400\n",
            "6/6 [==============================] - 0s 29ms/step - loss: 2.7548 - accuracy: 0.5239 - val_loss: 2.7507 - val_accuracy: 0.5460\n",
            "Epoch 320/400\n",
            "6/6 [==============================] - 0s 30ms/step - loss: 2.7520 - accuracy: 0.5204 - val_loss: 2.7473 - val_accuracy: 0.5461\n",
            "Epoch 321/400\n",
            "6/6 [==============================] - 0s 28ms/step - loss: 2.7480 - accuracy: 0.5238 - val_loss: 2.7440 - val_accuracy: 0.5462\n",
            "Epoch 322/400\n",
            "6/6 [==============================] - 0s 27ms/step - loss: 2.7452 - accuracy: 0.5213 - val_loss: 2.7406 - val_accuracy: 0.5461\n",
            "Epoch 323/400\n",
            "6/6 [==============================] - 0s 29ms/step - loss: 2.7416 - accuracy: 0.5214 - val_loss: 2.7373 - val_accuracy: 0.5459\n",
            "Epoch 324/400\n",
            "6/6 [==============================] - 0s 28ms/step - loss: 2.7377 - accuracy: 0.5254 - val_loss: 2.7339 - val_accuracy: 0.5460\n",
            "Epoch 325/400\n",
            "6/6 [==============================] - 0s 28ms/step - loss: 2.7349 - accuracy: 0.5229 - val_loss: 2.7306 - val_accuracy: 0.5462\n",
            "Epoch 326/400\n",
            "6/6 [==============================] - 0s 26ms/step - loss: 2.7322 - accuracy: 0.5189 - val_loss: 2.7273 - val_accuracy: 0.5466\n",
            "Epoch 327/400\n",
            "6/6 [==============================] - 0s 28ms/step - loss: 2.7283 - accuracy: 0.5210 - val_loss: 2.7239 - val_accuracy: 0.5469\n",
            "Epoch 328/400\n",
            "6/6 [==============================] - 0s 28ms/step - loss: 2.7251 - accuracy: 0.5250 - val_loss: 2.7206 - val_accuracy: 0.5468\n",
            "Epoch 329/400\n",
            "6/6 [==============================] - 0s 28ms/step - loss: 2.7222 - accuracy: 0.5180 - val_loss: 2.7173 - val_accuracy: 0.5472\n",
            "Epoch 330/400\n",
            "6/6 [==============================] - 0s 28ms/step - loss: 2.7187 - accuracy: 0.5213 - val_loss: 2.7140 - val_accuracy: 0.5472\n",
            "Epoch 331/400\n",
            "6/6 [==============================] - 0s 28ms/step - loss: 2.7152 - accuracy: 0.5222 - val_loss: 2.7107 - val_accuracy: 0.5475\n",
            "Epoch 332/400\n",
            "6/6 [==============================] - 0s 28ms/step - loss: 2.7120 - accuracy: 0.5226 - val_loss: 2.7074 - val_accuracy: 0.5477\n",
            "Epoch 333/400\n",
            "6/6 [==============================] - 0s 28ms/step - loss: 2.7088 - accuracy: 0.5224 - val_loss: 2.7041 - val_accuracy: 0.5474\n",
            "Epoch 334/400\n",
            "6/6 [==============================] - 0s 29ms/step - loss: 2.7050 - accuracy: 0.5235 - val_loss: 2.7009 - val_accuracy: 0.5478\n",
            "Epoch 335/400\n",
            "6/6 [==============================] - 0s 28ms/step - loss: 2.7023 - accuracy: 0.5218 - val_loss: 2.6976 - val_accuracy: 0.5474\n",
            "Epoch 336/400\n",
            "6/6 [==============================] - 0s 29ms/step - loss: 2.6988 - accuracy: 0.5238 - val_loss: 2.6943 - val_accuracy: 0.5477\n",
            "Epoch 337/400\n",
            "6/6 [==============================] - 0s 28ms/step - loss: 2.6953 - accuracy: 0.5261 - val_loss: 2.6911 - val_accuracy: 0.5485\n",
            "Epoch 338/400\n",
            "6/6 [==============================] - 0s 28ms/step - loss: 2.6925 - accuracy: 0.5208 - val_loss: 2.6878 - val_accuracy: 0.5483\n",
            "Epoch 339/400\n",
            "6/6 [==============================] - 0s 28ms/step - loss: 2.6891 - accuracy: 0.5224 - val_loss: 2.6846 - val_accuracy: 0.5487\n",
            "Epoch 340/400\n",
            "6/6 [==============================] - 0s 29ms/step - loss: 2.6858 - accuracy: 0.5232 - val_loss: 2.6813 - val_accuracy: 0.5482\n",
            "Epoch 341/400\n",
            "6/6 [==============================] - 0s 31ms/step - loss: 2.6824 - accuracy: 0.5243 - val_loss: 2.6781 - val_accuracy: 0.5482\n",
            "Epoch 342/400\n",
            "6/6 [==============================] - 0s 29ms/step - loss: 2.6792 - accuracy: 0.5209 - val_loss: 2.6749 - val_accuracy: 0.5482\n",
            "Epoch 343/400\n",
            "6/6 [==============================] - 0s 27ms/step - loss: 2.6762 - accuracy: 0.5228 - val_loss: 2.6716 - val_accuracy: 0.5481\n",
            "Epoch 344/400\n",
            "6/6 [==============================] - 0s 28ms/step - loss: 2.6730 - accuracy: 0.5241 - val_loss: 2.6684 - val_accuracy: 0.5485\n",
            "Epoch 345/400\n",
            "6/6 [==============================] - 0s 26ms/step - loss: 2.6696 - accuracy: 0.5233 - val_loss: 2.6652 - val_accuracy: 0.5487\n",
            "Epoch 346/400\n",
            "6/6 [==============================] - 0s 32ms/step - loss: 2.6665 - accuracy: 0.5227 - val_loss: 2.6620 - val_accuracy: 0.5487\n",
            "Epoch 347/400\n",
            "6/6 [==============================] - 0s 28ms/step - loss: 2.6636 - accuracy: 0.5208 - val_loss: 2.6588 - val_accuracy: 0.5490\n",
            "Epoch 348/400\n",
            "6/6 [==============================] - 0s 30ms/step - loss: 2.6600 - accuracy: 0.5229 - val_loss: 2.6556 - val_accuracy: 0.5488\n",
            "Epoch 349/400\n",
            "6/6 [==============================] - 0s 28ms/step - loss: 2.6566 - accuracy: 0.5254 - val_loss: 2.6524 - val_accuracy: 0.5492\n",
            "Epoch 350/400\n",
            "6/6 [==============================] - 0s 28ms/step - loss: 2.6537 - accuracy: 0.5241 - val_loss: 2.6493 - val_accuracy: 0.5495\n",
            "Epoch 351/400\n",
            "6/6 [==============================] - 0s 30ms/step - loss: 2.6504 - accuracy: 0.5252 - val_loss: 2.6461 - val_accuracy: 0.5495\n",
            "Epoch 352/400\n",
            "6/6 [==============================] - 0s 28ms/step - loss: 2.6472 - accuracy: 0.5236 - val_loss: 2.6429 - val_accuracy: 0.5497\n",
            "Epoch 353/400\n",
            "6/6 [==============================] - 0s 31ms/step - loss: 2.6444 - accuracy: 0.5245 - val_loss: 2.6398 - val_accuracy: 0.5491\n",
            "Epoch 354/400\n",
            "6/6 [==============================] - 0s 28ms/step - loss: 2.6410 - accuracy: 0.5258 - val_loss: 2.6366 - val_accuracy: 0.5490\n",
            "Epoch 355/400\n",
            "6/6 [==============================] - 0s 29ms/step - loss: 2.6373 - accuracy: 0.5267 - val_loss: 2.6335 - val_accuracy: 0.5489\n",
            "Epoch 356/400\n",
            "6/6 [==============================] - 0s 28ms/step - loss: 2.6345 - accuracy: 0.5251 - val_loss: 2.6303 - val_accuracy: 0.5489\n",
            "Epoch 357/400\n",
            "6/6 [==============================] - 0s 28ms/step - loss: 2.6316 - accuracy: 0.5215 - val_loss: 2.6272 - val_accuracy: 0.5490\n",
            "Epoch 358/400\n",
            "6/6 [==============================] - 0s 30ms/step - loss: 2.6283 - accuracy: 0.5261 - val_loss: 2.6240 - val_accuracy: 0.5496\n",
            "Epoch 359/400\n",
            "6/6 [==============================] - 0s 33ms/step - loss: 2.6251 - accuracy: 0.5238 - val_loss: 2.6209 - val_accuracy: 0.5499\n",
            "Epoch 360/400\n",
            "6/6 [==============================] - 0s 28ms/step - loss: 2.6227 - accuracy: 0.5222 - val_loss: 2.6178 - val_accuracy: 0.5503\n",
            "Epoch 361/400\n",
            "6/6 [==============================] - 0s 29ms/step - loss: 2.6190 - accuracy: 0.5236 - val_loss: 2.6147 - val_accuracy: 0.5513\n",
            "Epoch 362/400\n",
            "6/6 [==============================] - 0s 28ms/step - loss: 2.6160 - accuracy: 0.5239 - val_loss: 2.6116 - val_accuracy: 0.5520\n",
            "Epoch 363/400\n",
            "6/6 [==============================] - 0s 30ms/step - loss: 2.6126 - accuracy: 0.5250 - val_loss: 2.6085 - val_accuracy: 0.5518\n",
            "Epoch 364/400\n",
            "6/6 [==============================] - 0s 29ms/step - loss: 2.6096 - accuracy: 0.5260 - val_loss: 2.6054 - val_accuracy: 0.5519\n",
            "Epoch 365/400\n",
            "6/6 [==============================] - 0s 30ms/step - loss: 2.6070 - accuracy: 0.5238 - val_loss: 2.6023 - val_accuracy: 0.5523\n",
            "Epoch 366/400\n",
            "6/6 [==============================] - 0s 27ms/step - loss: 2.6038 - accuracy: 0.5233 - val_loss: 2.5992 - val_accuracy: 0.5520\n",
            "Epoch 367/400\n",
            "6/6 [==============================] - 0s 28ms/step - loss: 2.6002 - accuracy: 0.5252 - val_loss: 2.5961 - val_accuracy: 0.5523\n",
            "Epoch 368/400\n",
            "6/6 [==============================] - 0s 29ms/step - loss: 2.5970 - accuracy: 0.5261 - val_loss: 2.5931 - val_accuracy: 0.5523\n",
            "Epoch 369/400\n",
            "6/6 [==============================] - 0s 30ms/step - loss: 2.5941 - accuracy: 0.5254 - val_loss: 2.5900 - val_accuracy: 0.5523\n",
            "Epoch 370/400\n",
            "6/6 [==============================] - 0s 27ms/step - loss: 2.5911 - accuracy: 0.5235 - val_loss: 2.5869 - val_accuracy: 0.5524\n",
            "Epoch 371/400\n",
            "6/6 [==============================] - 0s 29ms/step - loss: 2.5882 - accuracy: 0.5240 - val_loss: 2.5839 - val_accuracy: 0.5529\n",
            "Epoch 372/400\n",
            "6/6 [==============================] - 0s 29ms/step - loss: 2.5853 - accuracy: 0.5233 - val_loss: 2.5808 - val_accuracy: 0.5533\n",
            "Epoch 373/400\n",
            "6/6 [==============================] - 0s 30ms/step - loss: 2.5819 - accuracy: 0.5264 - val_loss: 2.5778 - val_accuracy: 0.5532\n",
            "Epoch 374/400\n",
            "6/6 [==============================] - 0s 28ms/step - loss: 2.5788 - accuracy: 0.5257 - val_loss: 2.5748 - val_accuracy: 0.5533\n",
            "Epoch 375/400\n",
            "6/6 [==============================] - 0s 30ms/step - loss: 2.5762 - accuracy: 0.5223 - val_loss: 2.5717 - val_accuracy: 0.5534\n",
            "Epoch 376/400\n",
            "6/6 [==============================] - 0s 27ms/step - loss: 2.5728 - accuracy: 0.5232 - val_loss: 2.5687 - val_accuracy: 0.5535\n",
            "Epoch 377/400\n",
            "6/6 [==============================] - 0s 31ms/step - loss: 2.5703 - accuracy: 0.5233 - val_loss: 2.5657 - val_accuracy: 0.5534\n",
            "Epoch 378/400\n",
            "6/6 [==============================] - 0s 30ms/step - loss: 2.5670 - accuracy: 0.5234 - val_loss: 2.5627 - val_accuracy: 0.5534\n",
            "Epoch 379/400\n",
            "6/6 [==============================] - 0s 28ms/step - loss: 2.5636 - accuracy: 0.5264 - val_loss: 2.5597 - val_accuracy: 0.5537\n",
            "Epoch 380/400\n",
            "6/6 [==============================] - 0s 31ms/step - loss: 2.5605 - accuracy: 0.5271 - val_loss: 2.5567 - val_accuracy: 0.5538\n",
            "Epoch 381/400\n",
            "6/6 [==============================] - 0s 30ms/step - loss: 2.5580 - accuracy: 0.5229 - val_loss: 2.5537 - val_accuracy: 0.5538\n",
            "Epoch 382/400\n",
            "6/6 [==============================] - 0s 30ms/step - loss: 2.5551 - accuracy: 0.5248 - val_loss: 2.5507 - val_accuracy: 0.5539\n",
            "Epoch 383/400\n",
            "6/6 [==============================] - 0s 30ms/step - loss: 2.5515 - accuracy: 0.5286 - val_loss: 2.5477 - val_accuracy: 0.5542\n",
            "Epoch 384/400\n",
            "6/6 [==============================] - 0s 29ms/step - loss: 2.5487 - accuracy: 0.5270 - val_loss: 2.5447 - val_accuracy: 0.5544\n",
            "Epoch 385/400\n",
            "6/6 [==============================] - 0s 31ms/step - loss: 2.5461 - accuracy: 0.5249 - val_loss: 2.5418 - val_accuracy: 0.5542\n",
            "Epoch 386/400\n",
            "6/6 [==============================] - 0s 31ms/step - loss: 2.5424 - accuracy: 0.5296 - val_loss: 2.5388 - val_accuracy: 0.5545\n",
            "Epoch 387/400\n",
            "6/6 [==============================] - 0s 28ms/step - loss: 2.5404 - accuracy: 0.5244 - val_loss: 2.5358 - val_accuracy: 0.5546\n",
            "Epoch 388/400\n",
            "6/6 [==============================] - 0s 28ms/step - loss: 2.5372 - accuracy: 0.5239 - val_loss: 2.5329 - val_accuracy: 0.5547\n",
            "Epoch 389/400\n",
            "6/6 [==============================] - 0s 30ms/step - loss: 2.5342 - accuracy: 0.5281 - val_loss: 2.5299 - val_accuracy: 0.5550\n",
            "Epoch 390/400\n",
            "6/6 [==============================] - 0s 28ms/step - loss: 2.5308 - accuracy: 0.5295 - val_loss: 2.5270 - val_accuracy: 0.5551\n",
            "Epoch 391/400\n",
            "6/6 [==============================] - 0s 28ms/step - loss: 2.5285 - accuracy: 0.5261 - val_loss: 2.5241 - val_accuracy: 0.5554\n",
            "Epoch 392/400\n",
            "6/6 [==============================] - 0s 26ms/step - loss: 2.5256 - accuracy: 0.5227 - val_loss: 2.5211 - val_accuracy: 0.5559\n",
            "Epoch 393/400\n",
            "6/6 [==============================] - 0s 29ms/step - loss: 2.5226 - accuracy: 0.5231 - val_loss: 2.5182 - val_accuracy: 0.5559\n",
            "Epoch 394/400\n",
            "6/6 [==============================] - 0s 28ms/step - loss: 2.5199 - accuracy: 0.5239 - val_loss: 2.5153 - val_accuracy: 0.5559\n",
            "Epoch 395/400\n",
            "6/6 [==============================] - 0s 28ms/step - loss: 2.5165 - accuracy: 0.5293 - val_loss: 2.5124 - val_accuracy: 0.5556\n",
            "Epoch 396/400\n",
            "6/6 [==============================] - 0s 27ms/step - loss: 2.5137 - accuracy: 0.5258 - val_loss: 2.5095 - val_accuracy: 0.5556\n",
            "Epoch 397/400\n",
            "6/6 [==============================] - 0s 27ms/step - loss: 2.5109 - accuracy: 0.5269 - val_loss: 2.5066 - val_accuracy: 0.5559\n",
            "Epoch 398/400\n",
            "6/6 [==============================] - 0s 27ms/step - loss: 2.5076 - accuracy: 0.5272 - val_loss: 2.5037 - val_accuracy: 0.5564\n",
            "Epoch 399/400\n",
            "6/6 [==============================] - 0s 27ms/step - loss: 2.5048 - accuracy: 0.5269 - val_loss: 2.5008 - val_accuracy: 0.5564\n",
            "Epoch 400/400\n",
            "6/6 [==============================] - 0s 26ms/step - loss: 2.5019 - accuracy: 0.5287 - val_loss: 2.4979 - val_accuracy: 0.5564\n"
          ]
        }
      ],
      "source": [
        "#model.summary() # model architecture\n",
        "checkpointer = ModelCheckpoint(filepath=\"weights.hdf\", monitor = 'val_accuracy', verbose=1, save_best_only=True) # save model's best weights\n",
        "\n",
        "# Fitting the ANN to the Training set\n",
        "history = my_classifier.fit(Xtrain, ytrain, validation_split=0.3,\n",
        "                            batch_size = 10000, \n",
        "                            epochs = 400)"
      ]
    },
    {
      "cell_type": "code",
      "execution_count": 34,
      "metadata": {
        "colab": {
          "base_uri": "https://localhost:8080/"
        },
        "id": "TvbTi1UIcFWn",
        "outputId": "4f73eb04-cc8d-4452-dd83-757ea6d2a1ba"
      },
      "outputs": [
        {
          "output_type": "stream",
          "name": "stdout",
          "text": [
            "Model: \"sequential\"\n",
            "_________________________________________________________________\n",
            " Layer (type)                Output Shape              Param #   \n",
            "=================================================================\n",
            " dense (Dense)               (None, 100)               100100    \n",
            "                                                                 \n",
            " dropout (Dropout)           (None, 100)               0         \n",
            "                                                                 \n",
            " dense_1 (Dense)             (None, 100)               10100     \n",
            "                                                                 \n",
            " dense_2 (Dense)             (None, 50)                5050      \n",
            "                                                                 \n",
            " dense_3 (Dense)             (None, 1)                 51        \n",
            "                                                                 \n",
            "=================================================================\n",
            "Total params: 115,301\n",
            "Trainable params: 115,301\n",
            "Non-trainable params: 0\n",
            "_________________________________________________________________\n"
          ]
        }
      ],
      "source": [
        "my_classifier.summary()"
      ]
    },
    {
      "cell_type": "code",
      "execution_count": 35,
      "metadata": {
        "id": "YeXSjyMccFWn"
      },
      "outputs": [],
      "source": [
        "# Make predictions\n",
        "# Predicting the Test set results\n",
        "y_pred_train = my_classifier.predict(Xtrain)"
      ]
    },
    {
      "cell_type": "code",
      "execution_count": 36,
      "metadata": {
        "id": "lqBhaZHacFWn"
      },
      "outputs": [],
      "source": [
        "# Predicting the Test set results\n",
        "y_pred_test = my_classifier.predict(Xtest)"
      ]
    },
    {
      "cell_type": "code",
      "source": [
        "# Making the Confusion Matrix\n",
        "\n",
        "from sklearn.metrics import multilabel_confusion_matrix\n",
        "from sklearn.metrics import classification_report\n",
        "from sklearn.metrics import confusion_matrix\n",
        "from sklearn.metrics import ConfusionMatrixDisplay\n",
        "import itertools\n",
        "import matplotlib.pyplot as plt\n",
        "\n",
        "pred = y_pred_test.round()\n",
        "labels = ytest\n",
        "title = np.array(['Positive', 'Negative'])\n",
        "\n",
        "confusion_mtx = tf.math.confusion_matrix(labels, pred)\n",
        "plt.figure(figsize=(10, 8))\n",
        "sns.heatmap(confusion_mtx,\n",
        "            xticklabels=title,\n",
        "            yticklabels=title,\n",
        "            annot=True, fmt='g')\n",
        "plt.xlabel('Prediction')\n",
        "plt.ylabel('Label')\n",
        "plt.title(\"Confusion Matrix for Tweet Sentiment\", fontsize=30)\n",
        "plt.show()"
      ],
      "metadata": {
        "colab": {
          "base_uri": "https://localhost:8080/",
          "height": 537
        },
        "id": "2F-YfPmtfSgL",
        "outputId": "9643af5b-3adc-405f-f3ce-f04b0ece2ecc"
      },
      "execution_count": 38,
      "outputs": [
        {
          "output_type": "display_data",
          "data": {
            "image/png": "[encoded data removed]",
            "text/plain": [
              "<Figure size 720x576 with 2 Axes>"
            ]
          },
          "metadata": {
            "needs_background": "light"
          }
        }
      ]
    },
    {
      "cell_type": "code",
      "execution_count": 39,
      "metadata": {
        "colab": {
          "base_uri": "https://localhost:8080/"
        },
        "id": "UX6ceZZvcFWn",
        "outputId": "d4b1c087-00de-4e04-961b-e10e2110ff95"
      },
      "outputs": [
        {
          "output_type": "stream",
          "name": "stdout",
          "text": [
            "dict_keys(['loss', 'accuracy', 'val_loss', 'val_accuracy'])\n"
          ]
        }
      ],
      "source": [
        "# list all the data in history\n",
        "print(history.history.keys())\n"
      ]
    },
    {
      "cell_type": "code",
      "execution_count": 40,
      "metadata": {
        "colab": {
          "base_uri": "https://localhost:8080/",
          "height": 601
        },
        "id": "MO5MPR2LcFWo",
        "outputId": "1a041520-ef04-436e-d0e6-ddc881b4e914"
      },
      "outputs": [
        {
          "output_type": "display_data",
          "data": {
            "image/png": "[encoded data removed]",
            "text/plain": [
              "<Figure size 432x288 with 1 Axes>"
            ]
          },
          "metadata": {
            "needs_background": "light"
          }
        },
        {
          "output_type": "display_data",
          "data": {
            "image/png": "[encoded data removed]",
            "text/plain": [
              "<Figure size 432x288 with 1 Axes>"
            ]
          },
          "metadata": {
            "needs_background": "light"
          }
        }
      ],
      "source": [
        "# Plot the accuracy for both train and validation set\n",
        "plt.subplots() # open a new plot\n",
        "plt.plot(history.history['accuracy'])\n",
        "plt.plot(history.history['val_accuracy'])\n",
        "plt.title('model accuracy')\n",
        "plt.ylabel('accuracy')\n",
        "plt.xlabel('epoch')\n",
        "plt.legend(['train', 'validation'])\n",
        "plt.show()\n",
        "\n",
        "# Plot the loss for both train and validation set\n",
        "plt.subplots() # open a new plot\n",
        "plt.plot(history.history['loss'])\n",
        "plt.plot(history.history['val_loss'])\n",
        "plt.title('model loss')\n",
        "plt.ylabel('loss')\n",
        "plt.xlabel('epoch')\n",
        "plt.legend(['train', 'validation'])\n",
        "plt.show()"
      ]
    },
    {
      "cell_type": "markdown",
      "metadata": {
        "id": "CaN2gGrdcFWo"
      },
      "source": [
        "# Model 2"
      ]
    },
    {
      "cell_type": "code",
      "execution_count": null,
      "metadata": {
        "id": "LhV91CFHcFWo"
      },
      "outputs": [],
      "source": [
        "# Make the NN -----------------------------------------------------------------\n",
        "\n",
        "# Importing the Keras libraries and packages\n",
        "from keras.layers import Dense\n",
        "from keras.models import Sequential\n",
        "\n",
        "# define and initialize the model\n",
        "my_classifier2 = Sequential()\n",
        "\n",
        "# Adding the input layer AND the first hidden layer\n",
        "my_classifier2.add(Dense(units = 40, kernel_initializer = 'uniform',\n",
        "                        activation = 'relu', input_dim = n_features))\n",
        "\n",
        "# Adding the second hidden layer\n",
        "my_classifier2.add(Dense(units = 30, kernel_initializer = 'uniform',\n",
        "                        activation = 'relu'))\n",
        "\n",
        "# Adding the third hidden layer\n",
        "my_classifier2.add(Dense(units = 15, kernel_initializer = 'uniform',\n",
        "                        activation = 'relu'))\n",
        "\n",
        "\n",
        "# Adding the last (output) layer\n",
        "my_classifier2.add(Dense(units = 1, kernel_initializer = 'uniform',\n",
        "                        activation = 'sigmoid'))"
      ]
    },
    {
      "cell_type": "code",
      "execution_count": null,
      "metadata": {
        "id": "3LqRym58cFWo"
      },
      "outputs": [],
      "source": [
        "# Compiling the ANN\n",
        "my_classifier2.compile(optimizer = 'adam', loss = 'binary_crossentropy',\n",
        "                      metrics = ['accuracy'])"
      ]
    },
    {
      "cell_type": "code",
      "execution_count": null,
      "metadata": {
        "colab": {
          "base_uri": "https://localhost:8080/",
          "height": 533
        },
        "id": "MXMZ11XGcFWo",
        "outputId": "010d3d8e-55d7-4feb-9b24-2aee9b81ae36"
      },
      "outputs": [
        {
          "output_type": "execute_result",
          "data": {
            "image/png": "[encoded data removed]",
            "text/plain": [
              "<IPython.core.display.Image object>"
            ]
          },
          "metadata": {},
          "execution_count": 73
        }
      ],
      "source": [
        "#-- plot the model\n",
        "from keras.utils.vis_utils import plot_model\n",
        "plot_model(my_classifier2, to_file='model2.png', show_shapes=True)"
      ]
    },
    {
      "cell_type": "code",
      "execution_count": null,
      "metadata": {
        "colab": {
          "base_uri": "https://localhost:8080/"
        },
        "id": "HOr2qwfRcFWo",
        "outputId": "58f329e6-d5ac-4999-acc5-f64b354ad2c6"
      },
      "outputs": [
        {
          "output_type": "stream",
          "name": "stdout",
          "text": [
            "Epoch 1/60\n",
            "6736/6736 [==============================] - 21s 3ms/step - loss: 0.6132 - accuracy: 0.6418 - val_loss: 0.6023 - val_accuracy: 0.6489\n",
            "Epoch 2/60\n",
            "6736/6736 [==============================] - 23s 3ms/step - loss: 0.6032 - accuracy: 0.6522 - val_loss: 0.6020 - val_accuracy: 0.6483\n",
            "Epoch 3/60\n",
            "6736/6736 [==============================] - 20s 3ms/step - loss: 0.5990 - accuracy: 0.6563 - val_loss: 0.5998 - val_accuracy: 0.6531\n",
            "Epoch 4/60\n",
            "6736/6736 [==============================] - 20s 3ms/step - loss: 0.5947 - accuracy: 0.6614 - val_loss: 0.6004 - val_accuracy: 0.6530\n",
            "Epoch 5/60\n",
            "6736/6736 [==============================] - 20s 3ms/step - loss: 0.5908 - accuracy: 0.6644 - val_loss: 0.6027 - val_accuracy: 0.6531\n",
            "Epoch 6/60\n",
            "6736/6736 [==============================] - 20s 3ms/step - loss: 0.5872 - accuracy: 0.6675 - val_loss: 0.6048 - val_accuracy: 0.6500\n",
            "Epoch 7/60\n",
            "6736/6736 [==============================] - 20s 3ms/step - loss: 0.5845 - accuracy: 0.6690 - val_loss: 0.6053 - val_accuracy: 0.6503\n",
            "Epoch 8/60\n",
            "6736/6736 [==============================] - 20s 3ms/step - loss: 0.5815 - accuracy: 0.6721 - val_loss: 0.6071 - val_accuracy: 0.6504\n",
            "Epoch 9/60\n",
            "6736/6736 [==============================] - 20s 3ms/step - loss: 0.5785 - accuracy: 0.6740 - val_loss: 0.6080 - val_accuracy: 0.6520\n",
            "Epoch 10/60\n",
            "6736/6736 [==============================] - 20s 3ms/step - loss: 0.5767 - accuracy: 0.6750 - val_loss: 0.6109 - val_accuracy: 0.6512\n",
            "Epoch 11/60\n",
            "6736/6736 [==============================] - 20s 3ms/step - loss: 0.5749 - accuracy: 0.6761 - val_loss: 0.6108 - val_accuracy: 0.6502\n",
            "Epoch 12/60\n",
            "6736/6736 [==============================] - 20s 3ms/step - loss: 0.5722 - accuracy: 0.6765 - val_loss: 0.6116 - val_accuracy: 0.6471\n",
            "Epoch 13/60\n",
            "6736/6736 [==============================] - 20s 3ms/step - loss: 0.5702 - accuracy: 0.6797 - val_loss: 0.6146 - val_accuracy: 0.6450\n",
            "Epoch 14/60\n",
            "6736/6736 [==============================] - 20s 3ms/step - loss: 0.5684 - accuracy: 0.6813 - val_loss: 0.6124 - val_accuracy: 0.6480\n",
            "Epoch 15/60\n",
            "6736/6736 [==============================] - 29s 4ms/step - loss: 0.5661 - accuracy: 0.6828 - val_loss: 0.6154 - val_accuracy: 0.6470\n",
            "Epoch 16/60\n",
            "6736/6736 [==============================] - 20s 3ms/step - loss: 0.5644 - accuracy: 0.6837 - val_loss: 0.6206 - val_accuracy: 0.6449\n",
            "Epoch 17/60\n",
            "6736/6736 [==============================] - 20s 3ms/step - loss: 0.5630 - accuracy: 0.6843 - val_loss: 0.6252 - val_accuracy: 0.6468\n",
            "Epoch 18/60\n",
            "6736/6736 [==============================] - 20s 3ms/step - loss: 0.5609 - accuracy: 0.6864 - val_loss: 0.6237 - val_accuracy: 0.6462\n",
            "Epoch 19/60\n",
            "6736/6736 [==============================] - 20s 3ms/step - loss: 0.5587 - accuracy: 0.6882 - val_loss: 0.6305 - val_accuracy: 0.6440\n",
            "Epoch 20/60\n",
            "6736/6736 [==============================] - 20s 3ms/step - loss: 0.5574 - accuracy: 0.6894 - val_loss: 0.6390 - val_accuracy: 0.6453\n",
            "Epoch 21/60\n",
            "6736/6736 [==============================] - 21s 3ms/step - loss: 0.5554 - accuracy: 0.6897 - val_loss: 0.6325 - val_accuracy: 0.6442\n",
            "Epoch 22/60\n",
            "6736/6736 [==============================] - 22s 3ms/step - loss: 0.5543 - accuracy: 0.6895 - val_loss: 0.6329 - val_accuracy: 0.6422\n",
            "Epoch 23/60\n",
            "6736/6736 [==============================] - 20s 3ms/step - loss: 0.5526 - accuracy: 0.6918 - val_loss: 0.6328 - val_accuracy: 0.6432\n",
            "Epoch 24/60\n",
            "6736/6736 [==============================] - 20s 3ms/step - loss: 0.5512 - accuracy: 0.6914 - val_loss: 0.6358 - val_accuracy: 0.6464\n",
            "Epoch 25/60\n",
            "6736/6736 [==============================] - 20s 3ms/step - loss: 0.5500 - accuracy: 0.6931 - val_loss: 0.6420 - val_accuracy: 0.6462\n",
            "Epoch 26/60\n",
            "6736/6736 [==============================] - 20s 3ms/step - loss: 0.5488 - accuracy: 0.6937 - val_loss: 0.6474 - val_accuracy: 0.6443\n",
            "Epoch 27/60\n",
            "6736/6736 [==============================] - 20s 3ms/step - loss: 0.5473 - accuracy: 0.6939 - val_loss: 0.6526 - val_accuracy: 0.6425\n",
            "Epoch 28/60\n",
            "6736/6736 [==============================] - 21s 3ms/step - loss: 0.5455 - accuracy: 0.6958 - val_loss: 0.6531 - val_accuracy: 0.6417\n",
            "Epoch 29/60\n",
            "6736/6736 [==============================] - 20s 3ms/step - loss: 0.5447 - accuracy: 0.6961 - val_loss: 0.6657 - val_accuracy: 0.6428\n",
            "Epoch 30/60\n",
            "6736/6736 [==============================] - 20s 3ms/step - loss: 0.5437 - accuracy: 0.6964 - val_loss: 0.6545 - val_accuracy: 0.6436\n",
            "Epoch 31/60\n",
            "6736/6736 [==============================] - 20s 3ms/step - loss: 0.5422 - accuracy: 0.6976 - val_loss: 0.6714 - val_accuracy: 0.6394\n",
            "Epoch 32/60\n",
            "6736/6736 [==============================] - 20s 3ms/step - loss: 0.5412 - accuracy: 0.6977 - val_loss: 0.6617 - val_accuracy: 0.6431\n",
            "Epoch 33/60\n",
            "6736/6736 [==============================] - 20s 3ms/step - loss: 0.5404 - accuracy: 0.6972 - val_loss: 0.6597 - val_accuracy: 0.6417\n",
            "Epoch 34/60\n",
            "6736/6736 [==============================] - 20s 3ms/step - loss: 0.5396 - accuracy: 0.6989 - val_loss: 0.6679 - val_accuracy: 0.6437\n",
            "Epoch 35/60\n",
            "6736/6736 [==============================] - 20s 3ms/step - loss: 0.5384 - accuracy: 0.6999 - val_loss: 0.6629 - val_accuracy: 0.6377\n",
            "Epoch 36/60\n",
            "6736/6736 [==============================] - 20s 3ms/step - loss: 0.5377 - accuracy: 0.6978 - val_loss: 0.6639 - val_accuracy: 0.6420\n",
            "Epoch 37/60\n",
            "6736/6736 [==============================] - 20s 3ms/step - loss: 0.5375 - accuracy: 0.6998 - val_loss: 0.6708 - val_accuracy: 0.6418\n",
            "Epoch 38/60\n",
            "6736/6736 [==============================] - 20s 3ms/step - loss: 0.5366 - accuracy: 0.6994 - val_loss: 0.6804 - val_accuracy: 0.6390\n",
            "Epoch 39/60\n",
            "6736/6736 [==============================] - 20s 3ms/step - loss: 0.5350 - accuracy: 0.7011 - val_loss: 0.6821 - val_accuracy: 0.6399\n",
            "Epoch 40/60\n",
            "6736/6736 [==============================] - 20s 3ms/step - loss: 0.5349 - accuracy: 0.6994 - val_loss: 0.6879 - val_accuracy: 0.6413\n",
            "Epoch 41/60\n",
            "6736/6736 [==============================] - 20s 3ms/step - loss: 0.5345 - accuracy: 0.7015 - val_loss: 0.6827 - val_accuracy: 0.6396\n",
            "Epoch 42/60\n",
            "6736/6736 [==============================] - 20s 3ms/step - loss: 0.5334 - accuracy: 0.7004 - val_loss: 0.6744 - val_accuracy: 0.6383\n",
            "Epoch 43/60\n",
            "6736/6736 [==============================] - 21s 3ms/step - loss: 0.5327 - accuracy: 0.7004 - val_loss: 0.6865 - val_accuracy: 0.6380\n",
            "Epoch 44/60\n",
            "6736/6736 [==============================] - 21s 3ms/step - loss: 0.5316 - accuracy: 0.7007 - val_loss: 0.6997 - val_accuracy: 0.6391\n",
            "Epoch 45/60\n",
            "6736/6736 [==============================] - 20s 3ms/step - loss: 0.5312 - accuracy: 0.7017 - val_loss: 0.6824 - val_accuracy: 0.6392\n",
            "Epoch 46/60\n",
            "6736/6736 [==============================] - 20s 3ms/step - loss: 0.5307 - accuracy: 0.7019 - val_loss: 0.6982 - val_accuracy: 0.6368\n",
            "Epoch 47/60\n",
            "6736/6736 [==============================] - 21s 3ms/step - loss: 0.5302 - accuracy: 0.7018 - val_loss: 0.6958 - val_accuracy: 0.6375\n",
            "Epoch 48/60\n",
            "6736/6736 [==============================] - 20s 3ms/step - loss: 0.5295 - accuracy: 0.7024 - val_loss: 0.6975 - val_accuracy: 0.6348\n",
            "Epoch 49/60\n",
            "6736/6736 [==============================] - 20s 3ms/step - loss: 0.5289 - accuracy: 0.7031 - val_loss: 0.6925 - val_accuracy: 0.6346\n",
            "Epoch 50/60\n",
            "6736/6736 [==============================] - 20s 3ms/step - loss: 0.5277 - accuracy: 0.7033 - val_loss: 0.6946 - val_accuracy: 0.6322\n",
            "Epoch 51/60\n",
            "6736/6736 [==============================] - 20s 3ms/step - loss: 0.5270 - accuracy: 0.7039 - val_loss: 0.7087 - val_accuracy: 0.6342\n",
            "Epoch 52/60\n",
            "6736/6736 [==============================] - 20s 3ms/step - loss: 0.5272 - accuracy: 0.7042 - val_loss: 0.7060 - val_accuracy: 0.6385\n",
            "Epoch 53/60\n",
            "6736/6736 [==============================] - 21s 3ms/step - loss: 0.5266 - accuracy: 0.7042 - val_loss: 0.7140 - val_accuracy: 0.6371\n",
            "Epoch 54/60\n",
            "6736/6736 [==============================] - 20s 3ms/step - loss: 0.5270 - accuracy: 0.7026 - val_loss: 0.7251 - val_accuracy: 0.6391\n",
            "Epoch 55/60\n",
            "6736/6736 [==============================] - 20s 3ms/step - loss: 0.5259 - accuracy: 0.7027 - val_loss: 0.7139 - val_accuracy: 0.6388\n",
            "Epoch 56/60\n",
            "6736/6736 [==============================] - 21s 3ms/step - loss: 0.5252 - accuracy: 0.7032 - val_loss: 0.7225 - val_accuracy: 0.6360\n",
            "Epoch 57/60\n",
            "6736/6736 [==============================] - 20s 3ms/step - loss: 0.5254 - accuracy: 0.7031 - val_loss: 0.7016 - val_accuracy: 0.6335\n",
            "Epoch 58/60\n",
            "6736/6736 [==============================] - 21s 3ms/step - loss: 0.5238 - accuracy: 0.7034 - val_loss: 0.7073 - val_accuracy: 0.6350\n",
            "Epoch 59/60\n",
            "6736/6736 [==============================] - 20s 3ms/step - loss: 0.5243 - accuracy: 0.7046 - val_loss: 0.7194 - val_accuracy: 0.6376\n",
            "Epoch 60/60\n",
            "6736/6736 [==============================] - 20s 3ms/step - loss: 0.5232 - accuracy: 0.7062 - val_loss: 0.7214 - val_accuracy: 0.6346\n"
          ]
        }
      ],
      "source": [
        "# Fitting the ANN to the Training set\n",
        "history = my_classifier2.fit(Xtrain, ytrain, validation_split=0.2,\n",
        "                            batch_size = 10, epochs = 60)"
      ]
    },
    {
      "cell_type": "code",
      "execution_count": null,
      "metadata": {
        "colab": {
          "base_uri": "https://localhost:8080/"
        },
        "id": "_Ke8N-Q0cFWo",
        "outputId": "1f558953-bc6f-45d4-c8bc-e3c8ef583533"
      },
      "outputs": [
        {
          "output_type": "stream",
          "name": "stdout",
          "text": [
            "Model: \"sequential_2\"\n",
            "_________________________________________________________________\n",
            " Layer (type)                Output Shape              Param #   \n",
            "=================================================================\n",
            " dense_4 (Dense)             (None, 40)                4040      \n",
            "                                                                 \n",
            " dense_5 (Dense)             (None, 30)                1230      \n",
            "                                                                 \n",
            " dense_6 (Dense)             (None, 15)                465       \n",
            "                                                                 \n",
            " dense_7 (Dense)             (None, 1)                 16        \n",
            "                                                                 \n",
            "=================================================================\n",
            "Total params: 5,751\n",
            "Trainable params: 5,751\n",
            "Non-trainable params: 0\n",
            "_________________________________________________________________\n"
          ]
        }
      ],
      "source": [
        "my_classifier2.summary()"
      ]
    },
    {
      "cell_type": "code",
      "execution_count": null,
      "metadata": {
        "id": "0zq9PY2McFWo"
      },
      "outputs": [],
      "source": [
        "# Make predictions\n",
        "# Predicting the Test set results\n",
        "y_pred_train = my_classifier2.predict(Xtrain)"
      ]
    },
    {
      "cell_type": "code",
      "execution_count": null,
      "metadata": {
        "id": "CKr4lUa2cFWo"
      },
      "outputs": [],
      "source": [
        "# Predicting the Test set results\n",
        "y_pred_test = my_classifier2.predict(Xtest)"
      ]
    },
    {
      "cell_type": "code",
      "execution_count": null,
      "metadata": {
        "colab": {
          "base_uri": "https://localhost:8080/",
          "height": 361
        },
        "id": "La_Oh39dcFWp",
        "outputId": "18df4fc2-abe6-45b6-c289-29960640034f"
      },
      "outputs": [
        {
          "output_type": "error",
          "ename": "ValueError",
          "evalue": "ignored",
          "traceback": [
            "\u001b[0;31m---------------------------------------------------------------------------\u001b[0m",
            "\u001b[0;31mValueError\u001b[0m                                Traceback (most recent call last)",
            "\u001b[0;32m<ipython-input-82-2f7c65951f4a>\u001b[0m in \u001b[0;36m<module>\u001b[0;34m()\u001b[0m\n\u001b[1;32m      1\u001b[0m \u001b[0;31m# Making the Confusion Matrix\u001b[0m\u001b[0;34m\u001b[0m\u001b[0;34m\u001b[0m\u001b[0;34m\u001b[0m\u001b[0m\n\u001b[1;32m      2\u001b[0m \u001b[0;31m#from sklearn.metrics import confusion_matrix\u001b[0m\u001b[0;34m\u001b[0m\u001b[0;34m\u001b[0m\u001b[0;34m\u001b[0m\u001b[0m\n\u001b[0;32m----> 3\u001b[0;31m \u001b[0mcm\u001b[0m \u001b[0;34m=\u001b[0m \u001b[0mconfusion_matrix\u001b[0m\u001b[0;34m(\u001b[0m\u001b[0mytest\u001b[0m\u001b[0;34m,\u001b[0m \u001b[0my_pred_test\u001b[0m\u001b[0;34m)\u001b[0m\u001b[0;34m\u001b[0m\u001b[0;34m\u001b[0m\u001b[0m\n\u001b[0m",
            "\u001b[0;32m/usr/local/lib/python3.7/dist-packages/sklearn/metrics/_classification.py\u001b[0m in \u001b[0;36mconfusion_matrix\u001b[0;34m(y_true, y_pred, labels, sample_weight, normalize)\u001b[0m\n\u001b[1;32m    305\u001b[0m     \u001b[0;34m(\u001b[0m\u001b[0;36m0\u001b[0m\u001b[0;34m,\u001b[0m \u001b[0;36m2\u001b[0m\u001b[0;34m,\u001b[0m \u001b[0;36m1\u001b[0m\u001b[0;34m,\u001b[0m \u001b[0;36m1\u001b[0m\u001b[0;34m)\u001b[0m\u001b[0;34m\u001b[0m\u001b[0;34m\u001b[0m\u001b[0m\n\u001b[1;32m    306\u001b[0m     \"\"\"\n\u001b[0;32m--> 307\u001b[0;31m     \u001b[0my_type\u001b[0m\u001b[0;34m,\u001b[0m \u001b[0my_true\u001b[0m\u001b[0;34m,\u001b[0m \u001b[0my_pred\u001b[0m \u001b[0;34m=\u001b[0m \u001b[0m_check_targets\u001b[0m\u001b[0;34m(\u001b[0m\u001b[0my_true\u001b[0m\u001b[0;34m,\u001b[0m \u001b[0my_pred\u001b[0m\u001b[0;34m)\u001b[0m\u001b[0;34m\u001b[0m\u001b[0;34m\u001b[0m\u001b[0m\n\u001b[0m\u001b[1;32m    308\u001b[0m     \u001b[0;32mif\u001b[0m \u001b[0my_type\u001b[0m \u001b[0;32mnot\u001b[0m \u001b[0;32min\u001b[0m \u001b[0;34m(\u001b[0m\u001b[0;34m\"binary\"\u001b[0m\u001b[0;34m,\u001b[0m \u001b[0;34m\"multiclass\"\u001b[0m\u001b[0;34m)\u001b[0m\u001b[0;34m:\u001b[0m\u001b[0;34m\u001b[0m\u001b[0;34m\u001b[0m\u001b[0m\n\u001b[1;32m    309\u001b[0m         \u001b[0;32mraise\u001b[0m \u001b[0mValueError\u001b[0m\u001b[0;34m(\u001b[0m\u001b[0;34m\"%s is not supported\"\u001b[0m \u001b[0;34m%\u001b[0m \u001b[0my_type\u001b[0m\u001b[0;34m)\u001b[0m\u001b[0;34m\u001b[0m\u001b[0;34m\u001b[0m\u001b[0m\n",
            "\u001b[0;32m/usr/local/lib/python3.7/dist-packages/sklearn/metrics/_classification.py\u001b[0m in \u001b[0;36m_check_targets\u001b[0;34m(y_true, y_pred)\u001b[0m\n\u001b[1;32m     93\u001b[0m         raise ValueError(\n\u001b[1;32m     94\u001b[0m             \"Classification metrics can't handle a mix of {0} and {1} targets\".format(\n\u001b[0;32m---> 95\u001b[0;31m                 \u001b[0mtype_true\u001b[0m\u001b[0;34m,\u001b[0m \u001b[0mtype_pred\u001b[0m\u001b[0;34m\u001b[0m\u001b[0;34m\u001b[0m\u001b[0m\n\u001b[0m\u001b[1;32m     96\u001b[0m             )\n\u001b[1;32m     97\u001b[0m         )\n",
            "\u001b[0;31mValueError\u001b[0m: Classification metrics can't handle a mix of binary and continuous targets"
          ]
        }
      ],
      "source": [
        "# Making the Confusion Matrix\n",
        "#from sklearn.metrics import confusion_matrix\n",
        "#cm = confusion_matrix(ytest, y_pred_test)\n"
      ]
    },
    {
      "cell_type": "code",
      "execution_count": null,
      "metadata": {
        "colab": {
          "base_uri": "https://localhost:8080/"
        },
        "id": "reQOYhm6cFWp",
        "outputId": "27f39c06-f71d-4f58-80bc-54e553f202cc"
      },
      "outputs": [
        {
          "output_type": "stream",
          "name": "stdout",
          "text": [
            "dict_keys(['loss', 'accuracy', 'val_loss', 'val_accuracy'])\n"
          ]
        }
      ],
      "source": [
        "# list all the data in history\n",
        "print(history.history.keys())\n"
      ]
    },
    {
      "cell_type": "code",
      "execution_count": null,
      "metadata": {
        "colab": {
          "base_uri": "https://localhost:8080/",
          "height": 601
        },
        "id": "7uJqUU5BcFWp",
        "outputId": "c83bafef-1ddc-4067-f673-1b85bb9e1e8b"
      },
      "outputs": [
        {
          "output_type": "display_data",
          "data": {
            "image/png": "[encoded data removed]",
            "text/plain": [
              "<Figure size 432x288 with 1 Axes>"
            ]
          },
          "metadata": {}
        },
        {
          "output_type": "display_data",
          "data": {
            "image/png": "[encoded data removed]",
            "text/plain": [
              "<Figure size 432x288 with 1 Axes>"
            ]
          },
          "metadata": {}
        }
      ],
      "source": [
        "# Plot the accuracy for both train and validation set\n",
        "plt.subplots() # open a new plot\n",
        "plt.plot(history.history['accuracy'])\n",
        "plt.plot(history.history['val_accuracy'])\n",
        "plt.title('model accuracy')\n",
        "plt.ylabel('accuracy')\n",
        "plt.xlabel('epoch')\n",
        "plt.legend(['train', 'validation'])\n",
        "plt.show()\n",
        "\n",
        "# Plot the loss for both train and validation set\n",
        "plt.subplots() # open a new plot\n",
        "plt.plot(history.history['loss'])\n",
        "plt.plot(history.history['val_loss'])\n",
        "plt.title('model loss')\n",
        "plt.ylabel('loss')\n",
        "plt.xlabel('epoch')\n",
        "plt.legend(['train', 'validation'])\n",
        "plt.show()"
      ]
    }
  ],
  "metadata": {
    "interpreter": {
      "hash": "069624a5003d722d46b2ddcbbef8ec29c962821c31c4d6de5b70c8b5461f7514"
    },
    "kernelspec": {
      "display_name": "Python 3.8.12 64-bit ('tensorgpupy38': conda)",
      "language": "python",
      "name": "python3"
    },
    "language_info": {
      "codemirror_mode": {
        "name": "ipython",
        "version": 3
      },
      "file_extension": ".py",
      "mimetype": "text/x-python",
      "name": "python",
      "nbconvert_exporter": "python",
      "pygments_lexer": "ipython3",
      "version": "3.8.12"
    },
    "orig_nbformat": 4,
    "colab": {
      "name": "ann_1.ipynb",
      "provenance": [],
      "collapsed_sections": [
        "CaN2gGrdcFWo"
      ],
      "machine_shape": "hm"
    },
    "accelerator": "GPU"
  },
  "nbformat": 4,
  "nbformat_minor": 0
}