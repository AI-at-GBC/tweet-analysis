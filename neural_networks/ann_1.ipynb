{
  "cells": [
    {
      "cell_type": "markdown",
      "metadata": {
        "id": "tkLo4TXUcFWd"
      },
      "source": [
        "# Import Libraries"
      ]
    },
    {
      "cell_type": "code",
      "execution_count": 41,
      "metadata": {
        "id": "vxIFR7gMcFWe"
      },
      "outputs": [],
      "source": [
        "import numpy as np\n",
        "import pandas as pd\n",
        "from tensorflow.keras.preprocessing.text import Tokenizer\n",
        "from tensorflow.keras.preprocessing.sequence import pad_sequences\n",
        "from tensorflow.keras.models import Sequential\n",
        "from tensorflow.keras.layers import Dense, Flatten, LSTM\n",
        "from tensorflow.keras import activations\n",
        "from tensorflow.keras.layers import Embedding\n",
        "from tensorflow.keras.layers import GlobalMaxPooling1D, Conv1D\n",
        "from tensorflow.keras.callbacks import ModelCheckpoint\n",
        "from tensorflow import keras\n",
        "from keras.layers import Dropout\n",
        "from tensorflow.keras import layers\n",
        "from keras.layers import Dense\n",
        "from keras.models import Sequential\n",
        "import tensorflow as tf\n",
        "\n",
        "%matplotlib inline"
      ]
    },
    {
      "cell_type": "code",
      "source": [
        "# Fill in your file path here\n",
        "FILE_PATH = '/content/drive/MyDrive/ML/GBC/DL1/Project/'"
      ],
      "metadata": {
        "colab": {
          "base_uri": "https://localhost:8080/"
        },
        "id": "n5Xfl_haccwL",
        "outputId": "405e0d43-f7b7-4a4a-d570-1bc637dada7d"
      },
      "execution_count": 42,
      "outputs": [
        {
          "output_type": "stream",
          "name": "stdout",
          "text": [
            "Drive already mounted at /content/drive; to attempt to forcibly remount, call drive.mount(\"/content/drive\", force_remount=True).\n"
          ]
        }
      ]
    },
    {
      "cell_type": "markdown",
      "metadata": {
        "id": "RRVKAFk7cFWf"
      },
      "source": [
        "# Import the Dataset"
      ]
    },
    {
      "cell_type": "code",
      "execution_count": 43,
      "metadata": {
        "colab": {
          "base_uri": "https://localhost:8080/",
          "height": 206
        },
        "id": "VZL4phdHcFWg",
        "outputId": "1ab7d728-b22d-4c92-82cf-cd236c4e5b73"
      },
      "outputs": [
        {
          "output_type": "execute_result",
          "data": {
            "text/html": [
              "\n",
              "  <div id=\"df-ddd52596-fe12-41b1-b239-f71b9d8e260d\">\n",
              "    <div class=\"colab-df-container\">\n",
              "      <div>\n",
              "<style scoped>\n",
              "    .dataframe tbody tr th:only-of-type {\n",
              "        vertical-align: middle;\n",
              "    }\n",
              "\n",
              "    .dataframe tbody tr th {\n",
              "        vertical-align: top;\n",
              "    }\n",
              "\n",
              "    .dataframe thead th {\n",
              "        text-align: right;\n",
              "    }\n",
              "</style>\n",
              "<table border=\"1\" class=\"dataframe\">\n",
              "  <thead>\n",
              "    <tr style=\"text-align: right;\">\n",
              "      <th></th>\n",
              "      <th>Unnamed: 0</th>\n",
              "      <th>tweet</th>\n",
              "      <th>punctuation_count</th>\n",
              "      <th>sentiment</th>\n",
              "    </tr>\n",
              "  </thead>\n",
              "  <tbody>\n",
              "    <tr>\n",
              "      <th>0</th>\n",
              "      <td>0</td>\n",
              "      <td>sleep good remedi fall asleep need one</td>\n",
              "      <td>6</td>\n",
              "      <td>0</td>\n",
              "    </tr>\n",
              "    <tr>\n",
              "      <th>1</th>\n",
              "      <td>1</td>\n",
              "      <td>work fun</td>\n",
              "      <td>2</td>\n",
              "      <td>0</td>\n",
              "    </tr>\n",
              "    <tr>\n",
              "      <th>2</th>\n",
              "      <td>2</td>\n",
              "      <td>summer person love dull cold weather centralco...</td>\n",
              "      <td>3</td>\n",
              "      <td>1</td>\n",
              "    </tr>\n",
              "    <tr>\n",
              "      <th>3</th>\n",
              "      <td>3</td>\n",
              "      <td>want smoke cig lighter</td>\n",
              "      <td>2</td>\n",
              "      <td>0</td>\n",
              "    </tr>\n",
              "    <tr>\n",
              "      <th>4</th>\n",
              "      <td>4</td>\n",
              "      <td>pass lot twit arriv trend topic bob</td>\n",
              "      <td>8</td>\n",
              "      <td>0</td>\n",
              "    </tr>\n",
              "  </tbody>\n",
              "</table>\n",
              "</div>\n",
              "      <button class=\"colab-df-convert\" onclick=\"convertToInteractive('df-ddd52596-fe12-41b1-b239-f71b9d8e260d')\"\n",
              "              title=\"Convert this dataframe to an interactive table.\"\n",
              "              style=\"display:none;\">\n",
              "        \n",
              "  <svg xmlns=\"http://www.w3.org/2000/svg\" height=\"24px\"viewBox=\"0 0 24 24\"\n",
              "       width=\"24px\">\n",
              "    <path d=\"M0 0h24v24H0V0z\" fill=\"none\"/>\n",
              "    <path d=\"M18.56 5.44l.94 2.06.94-2.06 2.06-.94-2.06-.94-.94-2.06-.94 2.06-2.06.94zm-11 1L8.5 8.5l.94-2.06 2.06-.94-2.06-.94L8.5 2.5l-.94 2.06-2.06.94zm10 10l.94 2.06.94-2.06 2.06-.94-2.06-.94-.94-2.06-.94 2.06-2.06.94z\"/><path d=\"M17.41 7.96l-1.37-1.37c-.4-.4-.92-.59-1.43-.59-.52 0-1.04.2-1.43.59L10.3 9.45l-7.72 7.72c-.78.78-.78 2.05 0 2.83L4 21.41c.39.39.9.59 1.41.59.51 0 1.02-.2 1.41-.59l7.78-7.78 2.81-2.81c.8-.78.8-2.07 0-2.86zM5.41 20L4 18.59l7.72-7.72 1.47 1.35L5.41 20z\"/>\n",
              "  </svg>\n",
              "      </button>\n",
              "      \n",
              "  <style>\n",
              "    .colab-df-container {\n",
              "      display:flex;\n",
              "      flex-wrap:wrap;\n",
              "      gap: 12px;\n",
              "    }\n",
              "\n",
              "    .colab-df-convert {\n",
              "      background-color: #E8F0FE;\n",
              "      border: none;\n",
              "      border-radius: 50%;\n",
              "      cursor: pointer;\n",
              "      display: none;\n",
              "      fill: #1967D2;\n",
              "      height: 32px;\n",
              "      padding: 0 0 0 0;\n",
              "      width: 32px;\n",
              "    }\n",
              "\n",
              "    .colab-df-convert:hover {\n",
              "      background-color: #E2EBFA;\n",
              "      box-shadow: 0px 1px 2px rgba(60, 64, 67, 0.3), 0px 1px 3px 1px rgba(60, 64, 67, 0.15);\n",
              "      fill: #174EA6;\n",
              "    }\n",
              "\n",
              "    [theme=dark] .colab-df-convert {\n",
              "      background-color: #3B4455;\n",
              "      fill: #D2E3FC;\n",
              "    }\n",
              "\n",
              "    [theme=dark] .colab-df-convert:hover {\n",
              "      background-color: #434B5C;\n",
              "      box-shadow: 0px 1px 3px 1px rgba(0, 0, 0, 0.15);\n",
              "      filter: drop-shadow(0px 1px 2px rgba(0, 0, 0, 0.3));\n",
              "      fill: #FFFFFF;\n",
              "    }\n",
              "  </style>\n",
              "\n",
              "      <script>\n",
              "        const buttonEl =\n",
              "          document.querySelector('#df-ddd52596-fe12-41b1-b239-f71b9d8e260d button.colab-df-convert');\n",
              "        buttonEl.style.display =\n",
              "          google.colab.kernel.accessAllowed ? 'block' : 'none';\n",
              "\n",
              "        async function convertToInteractive(key) {\n",
              "          const element = document.querySelector('#df-ddd52596-fe12-41b1-b239-f71b9d8e260d');\n",
              "          const dataTable =\n",
              "            await google.colab.kernel.invokeFunction('convertToInteractive',\n",
              "                                                     [key], {});\n",
              "          if (!dataTable) return;\n",
              "\n",
              "          const docLinkHtml = 'Like what you see? Visit the ' +\n",
              "            '<a target=\"_blank\" href=https://colab.research.google.com/notebooks/data_table.ipynb>data table notebook</a>'\n",
              "            + ' to learn more about interactive tables.';\n",
              "          element.innerHTML = '';\n",
              "          dataTable['output_type'] = 'display_data';\n",
              "          await google.colab.output.renderOutput(dataTable, element);\n",
              "          const docLink = document.createElement('div');\n",
              "          docLink.innerHTML = docLinkHtml;\n",
              "          element.appendChild(docLink);\n",
              "        }\n",
              "      </script>\n",
              "    </div>\n",
              "  </div>\n",
              "  "
            ],
            "text/plain": [
              "   Unnamed: 0  ... sentiment\n",
              "0           0  ...         0\n",
              "1           1  ...         0\n",
              "2           2  ...         1\n",
              "3           3  ...         0\n",
              "4           4  ...         0\n",
              "\n",
              "[5 rows x 4 columns]"
            ]
          },
          "metadata": {},
          "execution_count": 43
        }
      ],
      "source": [
        "data = pd.read_csv(FILE_PATH + \"stemmed_tweets_with_punctuation_counts.csv\", encoding='latin1', header = 0)\n",
        "data.head()"
      ]
    },
    {
      "cell_type": "markdown",
      "metadata": {
        "id": "sImpEgADcFWg"
      },
      "source": [
        "# Preparing the Dataset"
      ]
    },
    {
      "cell_type": "code",
      "execution_count": 44,
      "metadata": {
        "id": "eizJu_ogcFWg"
      },
      "outputs": [],
      "source": [
        "# Dropping columnns we dont need for the NN model\n",
        "data.drop(data.columns[[0]], axis=1, inplace=True)\n"
      ]
    },
    {
      "cell_type": "code",
      "execution_count": 45,
      "metadata": {
        "colab": {
          "base_uri": "https://localhost:8080/",
          "height": 206
        },
        "id": "Frq7yV_McFWg",
        "outputId": "af654931-3e46-4604-b04e-ca2b9d31fd43"
      },
      "outputs": [
        {
          "output_type": "execute_result",
          "data": {
            "text/html": [
              "\n",
              "  <div id=\"df-e25abc55-6d98-4ce3-a4d4-423697e69668\">\n",
              "    <div class=\"colab-df-container\">\n",
              "      <div>\n",
              "<style scoped>\n",
              "    .dataframe tbody tr th:only-of-type {\n",
              "        vertical-align: middle;\n",
              "    }\n",
              "\n",
              "    .dataframe tbody tr th {\n",
              "        vertical-align: top;\n",
              "    }\n",
              "\n",
              "    .dataframe thead th {\n",
              "        text-align: right;\n",
              "    }\n",
              "</style>\n",
              "<table border=\"1\" class=\"dataframe\">\n",
              "  <thead>\n",
              "    <tr style=\"text-align: right;\">\n",
              "      <th></th>\n",
              "      <th>tweet</th>\n",
              "      <th>punctuation_count</th>\n",
              "      <th>sentiment</th>\n",
              "    </tr>\n",
              "  </thead>\n",
              "  <tbody>\n",
              "    <tr>\n",
              "      <th>0</th>\n",
              "      <td>sleep good remedi fall asleep need one</td>\n",
              "      <td>6</td>\n",
              "      <td>0</td>\n",
              "    </tr>\n",
              "    <tr>\n",
              "      <th>1</th>\n",
              "      <td>work fun</td>\n",
              "      <td>2</td>\n",
              "      <td>0</td>\n",
              "    </tr>\n",
              "    <tr>\n",
              "      <th>2</th>\n",
              "      <td>summer person love dull cold weather centralco...</td>\n",
              "      <td>3</td>\n",
              "      <td>1</td>\n",
              "    </tr>\n",
              "    <tr>\n",
              "      <th>3</th>\n",
              "      <td>want smoke cig lighter</td>\n",
              "      <td>2</td>\n",
              "      <td>0</td>\n",
              "    </tr>\n",
              "    <tr>\n",
              "      <th>4</th>\n",
              "      <td>pass lot twit arriv trend topic bob</td>\n",
              "      <td>8</td>\n",
              "      <td>0</td>\n",
              "    </tr>\n",
              "  </tbody>\n",
              "</table>\n",
              "</div>\n",
              "      <button class=\"colab-df-convert\" onclick=\"convertToInteractive('df-e25abc55-6d98-4ce3-a4d4-423697e69668')\"\n",
              "              title=\"Convert this dataframe to an interactive table.\"\n",
              "              style=\"display:none;\">\n",
              "        \n",
              "  <svg xmlns=\"http://www.w3.org/2000/svg\" height=\"24px\"viewBox=\"0 0 24 24\"\n",
              "       width=\"24px\">\n",
              "    <path d=\"M0 0h24v24H0V0z\" fill=\"none\"/>\n",
              "    <path d=\"M18.56 5.44l.94 2.06.94-2.06 2.06-.94-2.06-.94-.94-2.06-.94 2.06-2.06.94zm-11 1L8.5 8.5l.94-2.06 2.06-.94-2.06-.94L8.5 2.5l-.94 2.06-2.06.94zm10 10l.94 2.06.94-2.06 2.06-.94-2.06-.94-.94-2.06-.94 2.06-2.06.94z\"/><path d=\"M17.41 7.96l-1.37-1.37c-.4-.4-.92-.59-1.43-.59-.52 0-1.04.2-1.43.59L10.3 9.45l-7.72 7.72c-.78.78-.78 2.05 0 2.83L4 21.41c.39.39.9.59 1.41.59.51 0 1.02-.2 1.41-.59l7.78-7.78 2.81-2.81c.8-.78.8-2.07 0-2.86zM5.41 20L4 18.59l7.72-7.72 1.47 1.35L5.41 20z\"/>\n",
              "  </svg>\n",
              "      </button>\n",
              "      \n",
              "  <style>\n",
              "    .colab-df-container {\n",
              "      display:flex;\n",
              "      flex-wrap:wrap;\n",
              "      gap: 12px;\n",
              "    }\n",
              "\n",
              "    .colab-df-convert {\n",
              "      background-color: #E8F0FE;\n",
              "      border: none;\n",
              "      border-radius: 50%;\n",
              "      cursor: pointer;\n",
              "      display: none;\n",
              "      fill: #1967D2;\n",
              "      height: 32px;\n",
              "      padding: 0 0 0 0;\n",
              "      width: 32px;\n",
              "    }\n",
              "\n",
              "    .colab-df-convert:hover {\n",
              "      background-color: #E2EBFA;\n",
              "      box-shadow: 0px 1px 2px rgba(60, 64, 67, 0.3), 0px 1px 3px 1px rgba(60, 64, 67, 0.15);\n",
              "      fill: #174EA6;\n",
              "    }\n",
              "\n",
              "    [theme=dark] .colab-df-convert {\n",
              "      background-color: #3B4455;\n",
              "      fill: #D2E3FC;\n",
              "    }\n",
              "\n",
              "    [theme=dark] .colab-df-convert:hover {\n",
              "      background-color: #434B5C;\n",
              "      box-shadow: 0px 1px 3px 1px rgba(0, 0, 0, 0.15);\n",
              "      filter: drop-shadow(0px 1px 2px rgba(0, 0, 0, 0.3));\n",
              "      fill: #FFFFFF;\n",
              "    }\n",
              "  </style>\n",
              "\n",
              "      <script>\n",
              "        const buttonEl =\n",
              "          document.querySelector('#df-e25abc55-6d98-4ce3-a4d4-423697e69668 button.colab-df-convert');\n",
              "        buttonEl.style.display =\n",
              "          google.colab.kernel.accessAllowed ? 'block' : 'none';\n",
              "\n",
              "        async function convertToInteractive(key) {\n",
              "          const element = document.querySelector('#df-e25abc55-6d98-4ce3-a4d4-423697e69668');\n",
              "          const dataTable =\n",
              "            await google.colab.kernel.invokeFunction('convertToInteractive',\n",
              "                                                     [key], {});\n",
              "          if (!dataTable) return;\n",
              "\n",
              "          const docLinkHtml = 'Like what you see? Visit the ' +\n",
              "            '<a target=\"_blank\" href=https://colab.research.google.com/notebooks/data_table.ipynb>data table notebook</a>'\n",
              "            + ' to learn more about interactive tables.';\n",
              "          element.innerHTML = '';\n",
              "          dataTable['output_type'] = 'display_data';\n",
              "          await google.colab.output.renderOutput(dataTable, element);\n",
              "          const docLink = document.createElement('div');\n",
              "          docLink.innerHTML = docLinkHtml;\n",
              "          element.appendChild(docLink);\n",
              "        }\n",
              "      </script>\n",
              "    </div>\n",
              "  </div>\n",
              "  "
            ],
            "text/plain": [
              "                                               tweet  ...  sentiment\n",
              "0            sleep good remedi fall asleep need one   ...          0\n",
              "1                                          work fun   ...          0\n",
              "2  summer person love dull cold weather centralco...  ...          1\n",
              "3                            want smoke cig lighter   ...          0\n",
              "4               pass lot twit arriv trend topic bob   ...          0\n",
              "\n",
              "[5 rows x 3 columns]"
            ]
          },
          "metadata": {},
          "execution_count": 45
        }
      ],
      "source": [
        "data.head()"
      ]
    },
    {
      "cell_type": "code",
      "execution_count": 46,
      "metadata": {
        "colab": {
          "base_uri": "https://localhost:8080/",
          "height": 424
        },
        "id": "N7MMn96XcFWh",
        "outputId": "785d71e5-02c7-4d19-c473-30032f4859e6"
      },
      "outputs": [
        {
          "output_type": "execute_result",
          "data": {
            "text/html": [
              "\n",
              "  <div id=\"df-f2c09f8a-7ae9-4d13-bce6-c7089cd5b8b6\">\n",
              "    <div class=\"colab-df-container\">\n",
              "      <div>\n",
              "<style scoped>\n",
              "    .dataframe tbody tr th:only-of-type {\n",
              "        vertical-align: middle;\n",
              "    }\n",
              "\n",
              "    .dataframe tbody tr th {\n",
              "        vertical-align: top;\n",
              "    }\n",
              "\n",
              "    .dataframe thead th {\n",
              "        text-align: right;\n",
              "    }\n",
              "</style>\n",
              "<table border=\"1\" class=\"dataframe\">\n",
              "  <thead>\n",
              "    <tr style=\"text-align: right;\">\n",
              "      <th></th>\n",
              "      <th>tweet</th>\n",
              "      <th>punctuation_count</th>\n",
              "      <th>sentiment</th>\n",
              "    </tr>\n",
              "  </thead>\n",
              "  <tbody>\n",
              "    <tr>\n",
              "      <th>0</th>\n",
              "      <td>sleep good remedi fall asleep need one</td>\n",
              "      <td>6</td>\n",
              "      <td>0</td>\n",
              "    </tr>\n",
              "    <tr>\n",
              "      <th>1</th>\n",
              "      <td>work fun</td>\n",
              "      <td>2</td>\n",
              "      <td>0</td>\n",
              "    </tr>\n",
              "    <tr>\n",
              "      <th>2</th>\n",
              "      <td>summer person love dull cold weather centralco...</td>\n",
              "      <td>3</td>\n",
              "      <td>1</td>\n",
              "    </tr>\n",
              "    <tr>\n",
              "      <th>3</th>\n",
              "      <td>want smoke cig lighter</td>\n",
              "      <td>2</td>\n",
              "      <td>0</td>\n",
              "    </tr>\n",
              "    <tr>\n",
              "      <th>4</th>\n",
              "      <td>pass lot twit arriv trend topic bob</td>\n",
              "      <td>8</td>\n",
              "      <td>0</td>\n",
              "    </tr>\n",
              "    <tr>\n",
              "      <th>...</th>\n",
              "      <td>...</td>\n",
              "      <td>...</td>\n",
              "      <td>...</td>\n",
              "    </tr>\n",
              "    <tr>\n",
              "      <th>105236</th>\n",
              "      <td>i i i i i miss trip hehe turn bird amp turtl l...</td>\n",
              "      <td>15</td>\n",
              "      <td>1</td>\n",
              "    </tr>\n",
              "    <tr>\n",
              "      <th>105237</th>\n",
              "      <td>hump say</td>\n",
              "      <td>2</td>\n",
              "      <td>0</td>\n",
              "    </tr>\n",
              "    <tr>\n",
              "      <th>105238</th>\n",
              "      <td>seriou chemistri revis feel rather ill atm</td>\n",
              "      <td>1</td>\n",
              "      <td>0</td>\n",
              "    </tr>\n",
              "    <tr>\n",
              "      <th>105239</th>\n",
              "      <td>weekend go sound like time iphon poker girl let</td>\n",
              "      <td>5</td>\n",
              "      <td>0</td>\n",
              "    </tr>\n",
              "    <tr>\n",
              "      <th>105240</th>\n",
              "      <td>uff today vote eu parliament also went made cr...</td>\n",
              "      <td>4</td>\n",
              "      <td>1</td>\n",
              "    </tr>\n",
              "  </tbody>\n",
              "</table>\n",
              "<p>104742 rows × 3 columns</p>\n",
              "</div>\n",
              "      <button class=\"colab-df-convert\" onclick=\"convertToInteractive('df-f2c09f8a-7ae9-4d13-bce6-c7089cd5b8b6')\"\n",
              "              title=\"Convert this dataframe to an interactive table.\"\n",
              "              style=\"display:none;\">\n",
              "        \n",
              "  <svg xmlns=\"http://www.w3.org/2000/svg\" height=\"24px\"viewBox=\"0 0 24 24\"\n",
              "       width=\"24px\">\n",
              "    <path d=\"M0 0h24v24H0V0z\" fill=\"none\"/>\n",
              "    <path d=\"M18.56 5.44l.94 2.06.94-2.06 2.06-.94-2.06-.94-.94-2.06-.94 2.06-2.06.94zm-11 1L8.5 8.5l.94-2.06 2.06-.94-2.06-.94L8.5 2.5l-.94 2.06-2.06.94zm10 10l.94 2.06.94-2.06 2.06-.94-2.06-.94-.94-2.06-.94 2.06-2.06.94z\"/><path d=\"M17.41 7.96l-1.37-1.37c-.4-.4-.92-.59-1.43-.59-.52 0-1.04.2-1.43.59L10.3 9.45l-7.72 7.72c-.78.78-.78 2.05 0 2.83L4 21.41c.39.39.9.59 1.41.59.51 0 1.02-.2 1.41-.59l7.78-7.78 2.81-2.81c.8-.78.8-2.07 0-2.86zM5.41 20L4 18.59l7.72-7.72 1.47 1.35L5.41 20z\"/>\n",
              "  </svg>\n",
              "      </button>\n",
              "      \n",
              "  <style>\n",
              "    .colab-df-container {\n",
              "      display:flex;\n",
              "      flex-wrap:wrap;\n",
              "      gap: 12px;\n",
              "    }\n",
              "\n",
              "    .colab-df-convert {\n",
              "      background-color: #E8F0FE;\n",
              "      border: none;\n",
              "      border-radius: 50%;\n",
              "      cursor: pointer;\n",
              "      display: none;\n",
              "      fill: #1967D2;\n",
              "      height: 32px;\n",
              "      padding: 0 0 0 0;\n",
              "      width: 32px;\n",
              "    }\n",
              "\n",
              "    .colab-df-convert:hover {\n",
              "      background-color: #E2EBFA;\n",
              "      box-shadow: 0px 1px 2px rgba(60, 64, 67, 0.3), 0px 1px 3px 1px rgba(60, 64, 67, 0.15);\n",
              "      fill: #174EA6;\n",
              "    }\n",
              "\n",
              "    [theme=dark] .colab-df-convert {\n",
              "      background-color: #3B4455;\n",
              "      fill: #D2E3FC;\n",
              "    }\n",
              "\n",
              "    [theme=dark] .colab-df-convert:hover {\n",
              "      background-color: #434B5C;\n",
              "      box-shadow: 0px 1px 3px 1px rgba(0, 0, 0, 0.15);\n",
              "      filter: drop-shadow(0px 1px 2px rgba(0, 0, 0, 0.3));\n",
              "      fill: #FFFFFF;\n",
              "    }\n",
              "  </style>\n",
              "\n",
              "      <script>\n",
              "        const buttonEl =\n",
              "          document.querySelector('#df-f2c09f8a-7ae9-4d13-bce6-c7089cd5b8b6 button.colab-df-convert');\n",
              "        buttonEl.style.display =\n",
              "          google.colab.kernel.accessAllowed ? 'block' : 'none';\n",
              "\n",
              "        async function convertToInteractive(key) {\n",
              "          const element = document.querySelector('#df-f2c09f8a-7ae9-4d13-bce6-c7089cd5b8b6');\n",
              "          const dataTable =\n",
              "            await google.colab.kernel.invokeFunction('convertToInteractive',\n",
              "                                                     [key], {});\n",
              "          if (!dataTable) return;\n",
              "\n",
              "          const docLinkHtml = 'Like what you see? Visit the ' +\n",
              "            '<a target=\"_blank\" href=https://colab.research.google.com/notebooks/data_table.ipynb>data table notebook</a>'\n",
              "            + ' to learn more about interactive tables.';\n",
              "          element.innerHTML = '';\n",
              "          dataTable['output_type'] = 'display_data';\n",
              "          await google.colab.output.renderOutput(dataTable, element);\n",
              "          const docLink = document.createElement('div');\n",
              "          docLink.innerHTML = docLinkHtml;\n",
              "          element.appendChild(docLink);\n",
              "        }\n",
              "      </script>\n",
              "    </div>\n",
              "  </div>\n",
              "  "
            ],
            "text/plain": [
              "                                                    tweet  ...  sentiment\n",
              "0                 sleep good remedi fall asleep need one   ...          0\n",
              "1                                               work fun   ...          0\n",
              "2       summer person love dull cold weather centralco...  ...          1\n",
              "3                                 want smoke cig lighter   ...          0\n",
              "4                    pass lot twit arriv trend topic bob   ...          0\n",
              "...                                                   ...  ...        ...\n",
              "105236  i i i i i miss trip hehe turn bird amp turtl l...  ...          1\n",
              "105237                                          hump say   ...          0\n",
              "105238        seriou chemistri revis feel rather ill atm   ...          0\n",
              "105239   weekend go sound like time iphon poker girl let   ...          0\n",
              "105240  uff today vote eu parliament also went made cr...  ...          1\n",
              "\n",
              "[104742 rows x 3 columns]"
            ]
          },
          "metadata": {},
          "execution_count": 46
        }
      ],
      "source": [
        "# Drop NA values. These can occur if a tweet is \"cleaned\" down to nothing, for\n",
        "# instance if the original tweet was just tagging another Twitter user.\n",
        "data.dropna()"
      ]
    },
    {
      "cell_type": "code",
      "execution_count": 47,
      "metadata": {
        "colab": {
          "base_uri": "https://localhost:8080/"
        },
        "id": "k8TkBLqbcFWh",
        "outputId": "751b085e-bed7-4bd9-efb7-a2435fd05fdb"
      },
      "outputs": [
        {
          "output_type": "execute_result",
          "data": {
            "text/plain": [
              "0    52657\n",
              "1    52584\n",
              "Name: sentiment, dtype: int64"
            ]
          },
          "metadata": {},
          "execution_count": 47
        }
      ],
      "source": [
        "data.sentiment.value_counts() # dataset is already balanced"
      ]
    },
    {
      "cell_type": "code",
      "execution_count": 75,
      "metadata": {
        "colab": {
          "base_uri": "https://localhost:8080/",
          "height": 330
        },
        "id": "IsmqukOQcFWh",
        "outputId": "64436a6c-54e3-4c88-aeb3-e22dd5cf8d7a"
      },
      "outputs": [
        {
          "output_type": "execute_result",
          "data": {
            "text/plain": [
              "[Text(0, 0, 'Negative'), Text(0, 0, 'Positive')]"
            ]
          },
          "metadata": {},
          "execution_count": 75
        },
        {
          "output_type": "display_data",
          "data": {
            "image/png": "[encoded data removed]",
            "text/plain": [
              "<Figure size 432x288 with 1 Axes>"
            ]
          },
          "metadata": {}
        }
      ],
      "source": [
        "import seaborn as sns\n",
        "import matplotlib.pyplot as plt\n",
        "%matplotlib inline\n",
        "\n",
        "sns.set(font_scale=1.3)\n",
        "plot = sns.countplot(x = 'sentiment', data = data)\n",
        "plot.set_title(\"Balance of Positive and Negative Tweets\", fontsize=20)\n",
        "plot.set_xticklabels(['Negative','Positive'])"
      ]
    },
    {
      "cell_type": "markdown",
      "source": [
        "(Reminder: 0 = negative, 1 = positive)"
      ],
      "metadata": {
        "id": "SR4XQy3Ld-Ks"
      }
    },
    {
      "cell_type": "code",
      "execution_count": 49,
      "metadata": {
        "colab": {
          "base_uri": "https://localhost:8080/",
          "height": 424
        },
        "id": "6U-Z9iYacFWi",
        "outputId": "1566cea1-b8f8-4ed1-c967-44fd8bf512de"
      },
      "outputs": [
        {
          "output_type": "execute_result",
          "data": {
            "text/html": [
              "\n",
              "  <div id=\"df-31d8ec6a-ebbd-482a-b6b9-d569f50d0754\">\n",
              "    <div class=\"colab-df-container\">\n",
              "      <div>\n",
              "<style scoped>\n",
              "    .dataframe tbody tr th:only-of-type {\n",
              "        vertical-align: middle;\n",
              "    }\n",
              "\n",
              "    .dataframe tbody tr th {\n",
              "        vertical-align: top;\n",
              "    }\n",
              "\n",
              "    .dataframe thead th {\n",
              "        text-align: right;\n",
              "    }\n",
              "</style>\n",
              "<table border=\"1\" class=\"dataframe\">\n",
              "  <thead>\n",
              "    <tr style=\"text-align: right;\">\n",
              "      <th></th>\n",
              "      <th>tweet</th>\n",
              "      <th>punctuation_count</th>\n",
              "      <th>sentiment</th>\n",
              "      <th>features</th>\n",
              "    </tr>\n",
              "  </thead>\n",
              "  <tbody>\n",
              "    <tr>\n",
              "      <th>0</th>\n",
              "      <td>sleep good remedi fall asleep need one</td>\n",
              "      <td>6</td>\n",
              "      <td>0</td>\n",
              "      <td>sleep good remedi fall asleep need one  6</td>\n",
              "    </tr>\n",
              "    <tr>\n",
              "      <th>1</th>\n",
              "      <td>work fun</td>\n",
              "      <td>2</td>\n",
              "      <td>0</td>\n",
              "      <td>work fun  2</td>\n",
              "    </tr>\n",
              "    <tr>\n",
              "      <th>2</th>\n",
              "      <td>summer person love dull cold weather centralco...</td>\n",
              "      <td>3</td>\n",
              "      <td>1</td>\n",
              "      <td>summer person love dull cold weather centralco...</td>\n",
              "    </tr>\n",
              "    <tr>\n",
              "      <th>3</th>\n",
              "      <td>want smoke cig lighter</td>\n",
              "      <td>2</td>\n",
              "      <td>0</td>\n",
              "      <td>want smoke cig lighter  2</td>\n",
              "    </tr>\n",
              "    <tr>\n",
              "      <th>4</th>\n",
              "      <td>pass lot twit arriv trend topic bob</td>\n",
              "      <td>8</td>\n",
              "      <td>0</td>\n",
              "      <td>pass lot twit arriv trend topic bob  8</td>\n",
              "    </tr>\n",
              "    <tr>\n",
              "      <th>...</th>\n",
              "      <td>...</td>\n",
              "      <td>...</td>\n",
              "      <td>...</td>\n",
              "      <td>...</td>\n",
              "    </tr>\n",
              "    <tr>\n",
              "      <th>105236</th>\n",
              "      <td>i i i i i miss trip hehe turn bird amp turtl l...</td>\n",
              "      <td>15</td>\n",
              "      <td>1</td>\n",
              "      <td>i i i i i miss trip hehe turn bird amp turtl l...</td>\n",
              "    </tr>\n",
              "    <tr>\n",
              "      <th>105237</th>\n",
              "      <td>hump say</td>\n",
              "      <td>2</td>\n",
              "      <td>0</td>\n",
              "      <td>hump say  2</td>\n",
              "    </tr>\n",
              "    <tr>\n",
              "      <th>105238</th>\n",
              "      <td>seriou chemistri revis feel rather ill atm</td>\n",
              "      <td>1</td>\n",
              "      <td>0</td>\n",
              "      <td>seriou chemistri revis feel rather ill atm  1</td>\n",
              "    </tr>\n",
              "    <tr>\n",
              "      <th>105239</th>\n",
              "      <td>weekend go sound like time iphon poker girl let</td>\n",
              "      <td>5</td>\n",
              "      <td>0</td>\n",
              "      <td>weekend go sound like time iphon poker girl le...</td>\n",
              "    </tr>\n",
              "    <tr>\n",
              "      <th>105240</th>\n",
              "      <td>uff today vote eu parliament also went made cr...</td>\n",
              "      <td>4</td>\n",
              "      <td>1</td>\n",
              "      <td>uff today vote eu parliament also went made cr...</td>\n",
              "    </tr>\n",
              "  </tbody>\n",
              "</table>\n",
              "<p>105241 rows × 4 columns</p>\n",
              "</div>\n",
              "      <button class=\"colab-df-convert\" onclick=\"convertToInteractive('df-31d8ec6a-ebbd-482a-b6b9-d569f50d0754')\"\n",
              "              title=\"Convert this dataframe to an interactive table.\"\n",
              "              style=\"display:none;\">\n",
              "        \n",
              "  <svg xmlns=\"http://www.w3.org/2000/svg\" height=\"24px\"viewBox=\"0 0 24 24\"\n",
              "       width=\"24px\">\n",
              "    <path d=\"M0 0h24v24H0V0z\" fill=\"none\"/>\n",
              "    <path d=\"M18.56 5.44l.94 2.06.94-2.06 2.06-.94-2.06-.94-.94-2.06-.94 2.06-2.06.94zm-11 1L8.5 8.5l.94-2.06 2.06-.94-2.06-.94L8.5 2.5l-.94 2.06-2.06.94zm10 10l.94 2.06.94-2.06 2.06-.94-2.06-.94-.94-2.06-.94 2.06-2.06.94z\"/><path d=\"M17.41 7.96l-1.37-1.37c-.4-.4-.92-.59-1.43-.59-.52 0-1.04.2-1.43.59L10.3 9.45l-7.72 7.72c-.78.78-.78 2.05 0 2.83L4 21.41c.39.39.9.59 1.41.59.51 0 1.02-.2 1.41-.59l7.78-7.78 2.81-2.81c.8-.78.8-2.07 0-2.86zM5.41 20L4 18.59l7.72-7.72 1.47 1.35L5.41 20z\"/>\n",
              "  </svg>\n",
              "      </button>\n",
              "      \n",
              "  <style>\n",
              "    .colab-df-container {\n",
              "      display:flex;\n",
              "      flex-wrap:wrap;\n",
              "      gap: 12px;\n",
              "    }\n",
              "\n",
              "    .colab-df-convert {\n",
              "      background-color: #E8F0FE;\n",
              "      border: none;\n",
              "      border-radius: 50%;\n",
              "      cursor: pointer;\n",
              "      display: none;\n",
              "      fill: #1967D2;\n",
              "      height: 32px;\n",
              "      padding: 0 0 0 0;\n",
              "      width: 32px;\n",
              "    }\n",
              "\n",
              "    .colab-df-convert:hover {\n",
              "      background-color: #E2EBFA;\n",
              "      box-shadow: 0px 1px 2px rgba(60, 64, 67, 0.3), 0px 1px 3px 1px rgba(60, 64, 67, 0.15);\n",
              "      fill: #174EA6;\n",
              "    }\n",
              "\n",
              "    [theme=dark] .colab-df-convert {\n",
              "      background-color: #3B4455;\n",
              "      fill: #D2E3FC;\n",
              "    }\n",
              "\n",
              "    [theme=dark] .colab-df-convert:hover {\n",
              "      background-color: #434B5C;\n",
              "      box-shadow: 0px 1px 3px 1px rgba(0, 0, 0, 0.15);\n",
              "      filter: drop-shadow(0px 1px 2px rgba(0, 0, 0, 0.3));\n",
              "      fill: #FFFFFF;\n",
              "    }\n",
              "  </style>\n",
              "\n",
              "      <script>\n",
              "        const buttonEl =\n",
              "          document.querySelector('#df-31d8ec6a-ebbd-482a-b6b9-d569f50d0754 button.colab-df-convert');\n",
              "        buttonEl.style.display =\n",
              "          google.colab.kernel.accessAllowed ? 'block' : 'none';\n",
              "\n",
              "        async function convertToInteractive(key) {\n",
              "          const element = document.querySelector('#df-31d8ec6a-ebbd-482a-b6b9-d569f50d0754');\n",
              "          const dataTable =\n",
              "            await google.colab.kernel.invokeFunction('convertToInteractive',\n",
              "                                                     [key], {});\n",
              "          if (!dataTable) return;\n",
              "\n",
              "          const docLinkHtml = 'Like what you see? Visit the ' +\n",
              "            '<a target=\"_blank\" href=https://colab.research.google.com/notebooks/data_table.ipynb>data table notebook</a>'\n",
              "            + ' to learn more about interactive tables.';\n",
              "          element.innerHTML = '';\n",
              "          dataTable['output_type'] = 'display_data';\n",
              "          await google.colab.output.renderOutput(dataTable, element);\n",
              "          const docLink = document.createElement('div');\n",
              "          docLink.innerHTML = docLinkHtml;\n",
              "          element.appendChild(docLink);\n",
              "        }\n",
              "      </script>\n",
              "    </div>\n",
              "  </div>\n",
              "  "
            ],
            "text/plain": [
              "                                                    tweet  ...                                           features\n",
              "0                 sleep good remedi fall asleep need one   ...          sleep good remedi fall asleep need one  6\n",
              "1                                               work fun   ...                                        work fun  2\n",
              "2       summer person love dull cold weather centralco...  ...  summer person love dull cold weather centralco...\n",
              "3                                 want smoke cig lighter   ...                          want smoke cig lighter  2\n",
              "4                    pass lot twit arriv trend topic bob   ...             pass lot twit arriv trend topic bob  8\n",
              "...                                                   ...  ...                                                ...\n",
              "105236  i i i i i miss trip hehe turn bird amp turtl l...  ...  i i i i i miss trip hehe turn bird amp turtl l...\n",
              "105237                                          hump say   ...                                        hump say  2\n",
              "105238        seriou chemistri revis feel rather ill atm   ...      seriou chemistri revis feel rather ill atm  1\n",
              "105239   weekend go sound like time iphon poker girl let   ...  weekend go sound like time iphon poker girl le...\n",
              "105240  uff today vote eu parliament also went made cr...  ...  uff today vote eu parliament also went made cr...\n",
              "\n",
              "[105241 rows x 4 columns]"
            ]
          },
          "metadata": {},
          "execution_count": 49
        }
      ],
      "source": [
        "data['features']=data['tweet'].map(str)+' '+data['punctuation_count'].map(str)\n",
        "data"
      ]
    },
    {
      "cell_type": "code",
      "execution_count": 50,
      "metadata": {
        "colab": {
          "base_uri": "https://localhost:8080/"
        },
        "id": "p99Mx6U2cFWj",
        "outputId": "ba5101cf-d8ce-49e4-c31d-11d4df1d20e9"
      },
      "outputs": [
        {
          "output_type": "execute_result",
          "data": {
            "text/plain": [
              "array(['sleep good remedi fall asleep need one  6', 'work fun  2',\n",
              "       'summer person love dull cold weather centralcoastnsw  3', ...,\n",
              "       'seriou chemistri revis feel rather ill atm  1',\n",
              "       'weekend go sound like time iphon poker girl let  5',\n",
              "       'uff today vote eu parliament also went made cross big piec paper  4'],\n",
              "      dtype='<U146')"
            ]
          },
          "metadata": {},
          "execution_count": 50
        }
      ],
      "source": [
        "X=data.iloc[0:,3].values.astype(str)\n",
        "X"
      ]
    },
    {
      "cell_type": "markdown",
      "metadata": {
        "id": "B5GvQUKdcFWj"
      },
      "source": [
        "# Tokenize"
      ]
    },
    {
      "cell_type": "code",
      "execution_count": 51,
      "metadata": {
        "colab": {
          "base_uri": "https://localhost:8080/"
        },
        "id": "kR7Jy-vEcFWj",
        "outputId": "85d6ec47-1f30-4eb3-a1b5-1bd8bdaf7e1c"
      },
      "outputs": [
        {
          "output_type": "execute_result",
          "data": {
            "text/plain": [
              "array([[0.        , 0.        , 0.        , ..., 0.        , 0.        ,\n",
              "        0.        ],\n",
              "       [0.        , 0.        , 2.01025613, ..., 0.        , 0.        ,\n",
              "        0.        ],\n",
              "       [0.        , 0.        , 0.        , ..., 0.        , 0.        ,\n",
              "        0.        ],\n",
              "       ...,\n",
              "       [0.        , 1.92795661, 0.        , ..., 0.        , 0.        ,\n",
              "        0.        ],\n",
              "       [0.        , 0.        , 0.        , ..., 4.40692576, 0.        ,\n",
              "        4.4331292 ],\n",
              "       [0.        , 0.        , 0.        , ..., 0.        , 0.        ,\n",
              "        0.        ]])"
            ]
          },
          "metadata": {},
          "execution_count": 51
        }
      ],
      "source": [
        "tokenizer = Tokenizer(num_words=100)\n",
        "tokenizer.fit_on_texts(X)\n",
        "\n",
        "X = tokenizer.texts_to_matrix(X, mode='tfidf')\n",
        "X"
      ]
    },
    {
      "cell_type": "code",
      "execution_count": 52,
      "metadata": {
        "colab": {
          "base_uri": "https://localhost:8080/"
        },
        "id": "U5NX-rA-cFWk",
        "outputId": "c9d2b2e4-1120-4324-a546-c59712c3fb09"
      },
      "outputs": [
        {
          "output_type": "stream",
          "name": "stdout",
          "text": [
            "100\n"
          ]
        }
      ],
      "source": [
        "maxlenth=len(max(X, key=len))\n",
        "print(maxlenth)"
      ]
    },
    {
      "cell_type": "code",
      "execution_count": 53,
      "metadata": {
        "colab": {
          "base_uri": "https://localhost:8080/"
        },
        "id": "NrqxVT7HcFWl",
        "outputId": "715bad1c-f28d-44f4-a61a-4676c33eb705"
      },
      "outputs": [
        {
          "output_type": "execute_result",
          "data": {
            "text/plain": [
              "array([[0, 0, 0, ..., 0, 0, 0],\n",
              "       [0, 0, 2, ..., 0, 0, 0],\n",
              "       [0, 0, 0, ..., 0, 0, 0],\n",
              "       ...,\n",
              "       [0, 1, 0, ..., 0, 0, 0],\n",
              "       [0, 0, 0, ..., 4, 0, 4],\n",
              "       [0, 0, 0, ..., 0, 0, 0]], dtype=int32)"
            ]
          },
          "metadata": {},
          "execution_count": 53
        }
      ],
      "source": [
        "vocab_size = len(tokenizer.word_index) + 1\n",
        "\n",
        "maxlen = maxlenth\n",
        "\n",
        "X = pad_sequences(X, padding='post', maxlen=maxlen)\n",
        "\n",
        "X"
      ]
    },
    {
      "cell_type": "code",
      "execution_count": 54,
      "metadata": {
        "colab": {
          "base_uri": "https://localhost:8080/"
        },
        "id": "MgjcX9rucFWl",
        "outputId": "25dd4cf6-f298-4908-f014-e1a2fee853f8"
      },
      "outputs": [
        {
          "output_type": "execute_result",
          "data": {
            "text/plain": [
              "(105241, 100)"
            ]
          },
          "metadata": {},
          "execution_count": 54
        }
      ],
      "source": [
        "X.shape"
      ]
    },
    {
      "cell_type": "code",
      "execution_count": 55,
      "metadata": {
        "colab": {
          "base_uri": "https://localhost:8080/"
        },
        "id": "-KnSUj8rcFWl",
        "outputId": "75da5b4c-62a5-4604-baa9-098a84e2e595"
      },
      "outputs": [
        {
          "output_type": "execute_result",
          "data": {
            "text/plain": [
              "0         0\n",
              "1         0\n",
              "2         1\n",
              "3         0\n",
              "4         0\n",
              "         ..\n",
              "105236    1\n",
              "105237    0\n",
              "105238    0\n",
              "105239    0\n",
              "105240    1\n",
              "Name: sentiment, Length: 105241, dtype: int64"
            ]
          },
          "metadata": {},
          "execution_count": 55
        }
      ],
      "source": [
        "y = data.sentiment\n",
        "y"
      ]
    },
    {
      "cell_type": "markdown",
      "metadata": {
        "id": "UeYbbOT5cFWm"
      },
      "source": [
        "# Split Data"
      ]
    },
    {
      "cell_type": "code",
      "execution_count": 56,
      "metadata": {
        "id": "QphvhJYkcFWm"
      },
      "outputs": [],
      "source": [
        "from sklearn.model_selection import train_test_split\n",
        "\n",
        "Xtrain, Xtest, ytrain, ytest = train_test_split(X,\n",
        "                                                y,\n",
        "                                                test_size=0.2,\n",
        "                                                random_state=10, stratify=y )"
      ]
    },
    {
      "cell_type": "code",
      "execution_count": 57,
      "metadata": {
        "colab": {
          "base_uri": "https://localhost:8080/"
        },
        "id": "9urCEeb0cFWm",
        "outputId": "6f9936d5-a789-4bc9-bbf2-73d529f90f4f"
      },
      "outputs": [
        {
          "output_type": "execute_result",
          "data": {
            "text/plain": [
              "((84192, 100), (21049, 100), (84192,), (21049,))"
            ]
          },
          "metadata": {},
          "execution_count": 57
        }
      ],
      "source": [
        "Xtrain.shape, Xtest.shape, ytrain.shape, ytest.shape"
      ]
    },
    {
      "cell_type": "code",
      "execution_count": 58,
      "metadata": {
        "id": "SfQa7oakcFWm"
      },
      "outputs": [],
      "source": [
        "# size/shape of dataframe\n",
        "n_samples = Xtrain.shape[0]\n",
        "n_features = Xtrain.shape[1]"
      ]
    },
    {
      "cell_type": "markdown",
      "metadata": {
        "id": "BKdimjWrcFWm"
      },
      "source": [
        "# Model 1"
      ]
    },
    {
      "cell_type": "code",
      "execution_count": 59,
      "metadata": {
        "id": "Lz4XD9_EcFWm"
      },
      "outputs": [],
      "source": [
        "# Make the NN -----------------------------------------------------------------\n",
        "\n",
        "# Importing the Keras libraries and packages\n",
        "from keras.layers import Dense\n",
        "from keras.models import Sequential\n",
        "\n",
        "# define and initialize the model\n",
        "my_classifier = Sequential()\n",
        "\n",
        "# Adding the input layer AND the first hidden layer\n",
        "my_classifier.add(Dense(units = 100, kernel_regularizer='l2',\n",
        "                        activation = 'sigmoid', input_dim = n_features)),\n",
        "my_classifier.add(Dropout(0.2)),\n",
        "\n",
        "# Adding the second hidden layer\n",
        "my_classifier.add(Dense(units = 100, kernel_regularizer='l2',\n",
        "                        activation = 'relu')),\n",
        "#my_classifier.add(Dropout(0.2)),\n",
        "\n",
        "# Adding the third hidden layer\n",
        "my_classifier.add(Dense(units = 50, kernel_regularizer='l2',\n",
        "                        activation = 'relu')),\n",
        "#my_classifier.add(Dropout(0.2)),\n",
        "\n",
        "# Adding the last (output) layer\n",
        "my_classifier.add(Dense(units = 1, kernel_regularizer='l2',\n",
        "                        activation = 'softmax'))"
      ]
    },
    {
      "cell_type": "code",
      "execution_count": 60,
      "metadata": {
        "id": "wFp36b0gcFWm"
      },
      "outputs": [],
      "source": [
        "# Compiling the NN\n",
        "optimizer = tf.keras.optimizers.Adam(learning_rate=0.00001, beta_1=0.9, beta_2=0.999, epsilon=1e-07, amsgrad=True, name=\"Adam\")\n",
        "my_classifier.compile(optimizer = optimizer, loss = 'binary_crossentropy',\n",
        "                      metrics = ['accuracy'])"
      ]
    },
    {
      "cell_type": "code",
      "execution_count": 61,
      "metadata": {
        "colab": {
          "base_uri": "https://localhost:8080/",
          "height": 644
        },
        "id": "O0_yUJTGcFWm",
        "outputId": "7ca61cfa-9ffc-4299-d95d-ee6f0610e133"
      },
      "outputs": [
        {
          "output_type": "execute_result",
          "data": {
            "image/png": "[encoded data removed]",
            "text/plain": [
              "<IPython.core.display.Image object>"
            ]
          },
          "metadata": {},
          "execution_count": 61
        }
      ],
      "source": [
        "#-- plot the model\n",
        "from keras.utils.vis_utils import plot_model\n",
        "plot_model(my_classifier, to_file='model.png', show_shapes=True)"
      ]
    },
    {
      "cell_type": "code",
      "execution_count": 62,
      "metadata": {
        "colab": {
          "base_uri": "https://localhost:8080/"
        },
        "id": "jiq1rN-lcFWm",
        "outputId": "be86eb39-2480-475a-dbe9-ce96b097cf81"
      },
      "outputs": [
        {
          "output_type": "stream",
          "name": "stdout",
          "text": [
            "Epoch 1/50\n",
            "1842/1842 [==============================] - 9s 4ms/step - loss: 3.0721 - accuracy: 0.4995 - val_loss: 2.7858 - val_accuracy: 0.5000\n",
            "Epoch 2/50\n",
            "1842/1842 [==============================] - 7s 4ms/step - loss: 2.5430 - accuracy: 0.4995 - val_loss: 2.3145 - val_accuracy: 0.5000\n",
            "Epoch 3/50\n",
            "1842/1842 [==============================] - 7s 4ms/step - loss: 2.1292 - accuracy: 0.4995 - val_loss: 1.9561 - val_accuracy: 0.5000\n",
            "Epoch 4/50\n",
            "1842/1842 [==============================] - 7s 4ms/step - loss: 1.8176 - accuracy: 0.4995 - val_loss: 1.6874 - val_accuracy: 0.5000\n",
            "Epoch 5/50\n",
            "1842/1842 [==============================] - 8s 4ms/step - loss: 1.5831 - accuracy: 0.4995 - val_loss: 1.4837 - val_accuracy: 0.5000\n",
            "Epoch 6/50\n",
            "1842/1842 [==============================] - 7s 4ms/step - loss: 1.4039 - accuracy: 0.4995 - val_loss: 1.3279 - val_accuracy: 0.5000\n",
            "Epoch 7/50\n",
            "1842/1842 [==============================] - 8s 4ms/step - loss: 1.2667 - accuracy: 0.4995 - val_loss: 1.2072 - val_accuracy: 0.5000\n",
            "Epoch 8/50\n",
            "1842/1842 [==============================] - 7s 4ms/step - loss: 1.1597 - accuracy: 0.4995 - val_loss: 1.1133 - val_accuracy: 0.5000\n",
            "Epoch 9/50\n",
            "1842/1842 [==============================] - 7s 4ms/step - loss: 1.0760 - accuracy: 0.4995 - val_loss: 1.0394 - val_accuracy: 0.5000\n",
            "Epoch 10/50\n",
            "1842/1842 [==============================] - 7s 4ms/step - loss: 1.0100 - accuracy: 0.4995 - val_loss: 0.9809 - val_accuracy: 0.5000\n",
            "Epoch 11/50\n",
            "1842/1842 [==============================] - 7s 4ms/step - loss: 0.9577 - accuracy: 0.4995 - val_loss: 0.9342 - val_accuracy: 0.5000\n",
            "Epoch 12/50\n",
            "1842/1842 [==============================] - 7s 4ms/step - loss: 0.9154 - accuracy: 0.4995 - val_loss: 0.8967 - val_accuracy: 0.5000\n",
            "Epoch 13/50\n",
            "1842/1842 [==============================] - 7s 4ms/step - loss: 0.8819 - accuracy: 0.4995 - val_loss: 0.8663 - val_accuracy: 0.5000\n",
            "Epoch 14/50\n",
            "1842/1842 [==============================] - 8s 4ms/step - loss: 0.8539 - accuracy: 0.4995 - val_loss: 0.8415 - val_accuracy: 0.5000\n",
            "Epoch 15/50\n",
            "1842/1842 [==============================] - 7s 4ms/step - loss: 0.8314 - accuracy: 0.4995 - val_loss: 0.8211 - val_accuracy: 0.5000\n",
            "Epoch 16/50\n",
            "1842/1842 [==============================] - 7s 4ms/step - loss: 0.8128 - accuracy: 0.4995 - val_loss: 0.8043 - val_accuracy: 0.5000\n",
            "Epoch 17/50\n",
            "1842/1842 [==============================] - 7s 4ms/step - loss: 0.7975 - accuracy: 0.4995 - val_loss: 0.7903 - val_accuracy: 0.5000\n",
            "Epoch 18/50\n",
            "1842/1842 [==============================] - 7s 4ms/step - loss: 0.7845 - accuracy: 0.4995 - val_loss: 0.7786 - val_accuracy: 0.5000\n",
            "Epoch 19/50\n",
            "1842/1842 [==============================] - 7s 4ms/step - loss: 0.7737 - accuracy: 0.4995 - val_loss: 0.7687 - val_accuracy: 0.5000\n",
            "Epoch 20/50\n",
            "1842/1842 [==============================] - 7s 4ms/step - loss: 0.7645 - accuracy: 0.4995 - val_loss: 0.7603 - val_accuracy: 0.5000\n",
            "Epoch 21/50\n",
            "1842/1842 [==============================] - 7s 4ms/step - loss: 0.7567 - accuracy: 0.4995 - val_loss: 0.7531 - val_accuracy: 0.5000\n",
            "Epoch 22/50\n",
            "1842/1842 [==============================] - 7s 4ms/step - loss: 0.7500 - accuracy: 0.4995 - val_loss: 0.7469 - val_accuracy: 0.5000\n",
            "Epoch 23/50\n",
            "1842/1842 [==============================] - 7s 4ms/step - loss: 0.7443 - accuracy: 0.4995 - val_loss: 0.7416 - val_accuracy: 0.5000\n",
            "Epoch 24/50\n",
            "1842/1842 [==============================] - 7s 4ms/step - loss: 0.7393 - accuracy: 0.4995 - val_loss: 0.7369 - val_accuracy: 0.5000\n",
            "Epoch 25/50\n",
            "1842/1842 [==============================] - 7s 4ms/step - loss: 0.7350 - accuracy: 0.4995 - val_loss: 0.7329 - val_accuracy: 0.5000\n",
            "Epoch 26/50\n",
            "1842/1842 [==============================] - 7s 4ms/step - loss: 0.7311 - accuracy: 0.4995 - val_loss: 0.7294 - val_accuracy: 0.5000\n",
            "Epoch 27/50\n",
            "1842/1842 [==============================] - 7s 4ms/step - loss: 0.7278 - accuracy: 0.4995 - val_loss: 0.7262 - val_accuracy: 0.5000\n",
            "Epoch 28/50\n",
            "1842/1842 [==============================] - 7s 4ms/step - loss: 0.7249 - accuracy: 0.4995 - val_loss: 0.7235 - val_accuracy: 0.5000\n",
            "Epoch 29/50\n",
            "1842/1842 [==============================] - 7s 4ms/step - loss: 0.7223 - accuracy: 0.4995 - val_loss: 0.7210 - val_accuracy: 0.5000\n",
            "Epoch 30/50\n",
            "1842/1842 [==============================] - 7s 4ms/step - loss: 0.7199 - accuracy: 0.4995 - val_loss: 0.7188 - val_accuracy: 0.5000\n",
            "Epoch 31/50\n",
            "1842/1842 [==============================] - 7s 4ms/step - loss: 0.7178 - accuracy: 0.4995 - val_loss: 0.7168 - val_accuracy: 0.5000\n",
            "Epoch 32/50\n",
            "1842/1842 [==============================] - 7s 4ms/step - loss: 0.7160 - accuracy: 0.4995 - val_loss: 0.7151 - val_accuracy: 0.5000\n",
            "Epoch 33/50\n",
            "1842/1842 [==============================] - 7s 4ms/step - loss: 0.7143 - accuracy: 0.4995 - val_loss: 0.7135 - val_accuracy: 0.5000\n",
            "Epoch 34/50\n",
            "1842/1842 [==============================] - 7s 4ms/step - loss: 0.7128 - accuracy: 0.4995 - val_loss: 0.7121 - val_accuracy: 0.5000\n",
            "Epoch 35/50\n",
            "1842/1842 [==============================] - 7s 4ms/step - loss: 0.7114 - accuracy: 0.4995 - val_loss: 0.7108 - val_accuracy: 0.5000\n",
            "Epoch 36/50\n",
            "1842/1842 [==============================] - 7s 4ms/step - loss: 0.7102 - accuracy: 0.4995 - val_loss: 0.7096 - val_accuracy: 0.5000\n",
            "Epoch 37/50\n",
            "1842/1842 [==============================] - 7s 4ms/step - loss: 0.7090 - accuracy: 0.4995 - val_loss: 0.7085 - val_accuracy: 0.5000\n",
            "Epoch 38/50\n",
            "1842/1842 [==============================] - 7s 4ms/step - loss: 0.7080 - accuracy: 0.4995 - val_loss: 0.7075 - val_accuracy: 0.5000\n",
            "Epoch 39/50\n",
            "1842/1842 [==============================] - 7s 4ms/step - loss: 0.7071 - accuracy: 0.4995 - val_loss: 0.7066 - val_accuracy: 0.5000\n",
            "Epoch 40/50\n",
            "1842/1842 [==============================] - 7s 4ms/step - loss: 0.7062 - accuracy: 0.4995 - val_loss: 0.7058 - val_accuracy: 0.5000\n",
            "Epoch 41/50\n",
            "1842/1842 [==============================] - 7s 4ms/step - loss: 0.7054 - accuracy: 0.4995 - val_loss: 0.7050 - val_accuracy: 0.5000\n",
            "Epoch 42/50\n",
            "1842/1842 [==============================] - 7s 4ms/step - loss: 0.7047 - accuracy: 0.4995 - val_loss: 0.7043 - val_accuracy: 0.5000\n",
            "Epoch 43/50\n",
            "1842/1842 [==============================] - 7s 4ms/step - loss: 0.7040 - accuracy: 0.4995 - val_loss: 0.7037 - val_accuracy: 0.5000\n",
            "Epoch 44/50\n",
            "1842/1842 [==============================] - 7s 4ms/step - loss: 0.7034 - accuracy: 0.4995 - val_loss: 0.7031 - val_accuracy: 0.5000\n",
            "Epoch 45/50\n",
            "1842/1842 [==============================] - 7s 4ms/step - loss: 0.7028 - accuracy: 0.4995 - val_loss: 0.7025 - val_accuracy: 0.5000\n",
            "Epoch 46/50\n",
            "1842/1842 [==============================] - 7s 4ms/step - loss: 0.7023 - accuracy: 0.4995 - val_loss: 0.7020 - val_accuracy: 0.5000\n",
            "Epoch 47/50\n",
            "1842/1842 [==============================] - 7s 4ms/step - loss: 0.7018 - accuracy: 0.4995 - val_loss: 0.7016 - val_accuracy: 0.5000\n",
            "Epoch 48/50\n",
            "1842/1842 [==============================] - 7s 4ms/step - loss: 0.7013 - accuracy: 0.4995 - val_loss: 0.7011 - val_accuracy: 0.5000\n",
            "Epoch 49/50\n",
            "1842/1842 [==============================] - 7s 4ms/step - loss: 0.7009 - accuracy: 0.4995 - val_loss: 0.7007 - val_accuracy: 0.5000\n",
            "Epoch 50/50\n",
            "1842/1842 [==============================] - 7s 4ms/step - loss: 0.7005 - accuracy: 0.4995 - val_loss: 0.7003 - val_accuracy: 0.5000\n"
          ]
        }
      ],
      "source": [
        "#model.summary() # model architecture\n",
        "checkpointer = ModelCheckpoint(filepath=\"weights.hdf\", monitor = 'val_accuracy', verbose=1, save_best_only=True) # save model's best weights\n",
        "\n",
        "# Fitting the ANN to the Training set\n",
        "history = my_classifier.fit(Xtrain, ytrain, validation_split=0.3,\n",
        "                            #batch_size = 5, \n",
        "                            epochs = 50)"
      ]
    },
    {
      "cell_type": "code",
      "execution_count": 63,
      "metadata": {
        "colab": {
          "base_uri": "https://localhost:8080/"
        },
        "id": "TvbTi1UIcFWn",
        "outputId": "0829e434-c18f-4ee5-8c47-96a8611373c5"
      },
      "outputs": [
        {
          "output_type": "stream",
          "name": "stdout",
          "text": [
            "Model: \"sequential\"\n",
            "_________________________________________________________________\n",
            " Layer (type)                Output Shape              Param #   \n",
            "=================================================================\n",
            " dense (Dense)               (None, 100)               10100     \n",
            "                                                                 \n",
            " dropout (Dropout)           (None, 100)               0         \n",
            "                                                                 \n",
            " dense_1 (Dense)             (None, 100)               10100     \n",
            "                                                                 \n",
            " dense_2 (Dense)             (None, 50)                5050      \n",
            "                                                                 \n",
            " dense_3 (Dense)             (None, 1)                 51        \n",
            "                                                                 \n",
            "=================================================================\n",
            "Total params: 25,301\n",
            "Trainable params: 25,301\n",
            "Non-trainable params: 0\n",
            "_________________________________________________________________\n"
          ]
        }
      ],
      "source": [
        "my_classifier.summary()"
      ]
    },
    {
      "cell_type": "code",
      "execution_count": 64,
      "metadata": {
        "id": "YeXSjyMccFWn"
      },
      "outputs": [],
      "source": [
        "# Make predictions\n",
        "# Predicting the Test set results\n",
        "y_pred_train = my_classifier.predict(Xtrain)"
      ]
    },
    {
      "cell_type": "code",
      "execution_count": 65,
      "metadata": {
        "id": "lqBhaZHacFWn"
      },
      "outputs": [],
      "source": [
        "# Predicting the Test set results\n",
        "y_pred_test = my_classifier.predict(Xtest)"
      ]
    },
    {
      "cell_type": "code",
      "execution_count": 66,
      "metadata": {
        "colab": {
          "base_uri": "https://localhost:8080/"
        },
        "id": "Dfp4xOIXcFWn",
        "outputId": "c2b2a275-2749-4651-ebb9-5fc7a5f66aa7"
      },
      "outputs": [
        {
          "output_type": "execute_result",
          "data": {
            "text/plain": [
              "array([[    0, 10532],\n",
              "       [    0, 10517]])"
            ]
          },
          "metadata": {},
          "execution_count": 66
        }
      ],
      "source": [
        "# Making the Confusion Matrix\n",
        "from sklearn.metrics import confusion_matrix\n",
        "cm = confusion_matrix(ytest, y_pred_test)\n",
        "cm"
      ]
    },
    {
      "cell_type": "code",
      "execution_count": 67,
      "metadata": {
        "id": "wBCJTieNcFWn"
      },
      "outputs": [],
      "source": [
        "#confusion_mtx = tf.math.confusion_matrix(ytest, y_pred_test)\n",
        "#plt.figure(figsize=(10, 8))\n",
        "#sns.heatmap(confusion_mtx,\n",
        "#            xticklabels=y,\n",
        "#            yticklabels=y,\n",
        "#            annot=True, fmt='g')\n",
        "#plt.xlabel('Prediction')\n",
        "#plt.ylabel('Label')\n",
        "#plt.show()"
      ]
    },
    {
      "cell_type": "code",
      "execution_count": 68,
      "metadata": {
        "colab": {
          "base_uri": "https://localhost:8080/"
        },
        "id": "UX6ceZZvcFWn",
        "outputId": "91a2669e-8378-4d9d-a93f-ce10693538e9"
      },
      "outputs": [
        {
          "output_type": "stream",
          "name": "stdout",
          "text": [
            "dict_keys(['loss', 'accuracy', 'val_loss', 'val_accuracy'])\n"
          ]
        }
      ],
      "source": [
        "# list all the data in history\n",
        "print(history.history.keys())\n"
      ]
    },
    {
      "cell_type": "code",
      "execution_count": 69,
      "metadata": {
        "colab": {
          "base_uri": "https://localhost:8080/",
          "height": 601
        },
        "id": "MO5MPR2LcFWo",
        "outputId": "19119f16-72b9-4a1b-9a03-92a9591c74d6"
      },
      "outputs": [
        {
          "output_type": "display_data",
          "data": {
            "image/png": "[encoded data removed]",
            "text/plain": [
              "<Figure size 432x288 with 1 Axes>"
            ]
          },
          "metadata": {}
        },
        {
          "output_type": "display_data",
          "data": {
            "image/png": "[encoded data removed]",
            "text/plain": [
              "<Figure size 432x288 with 1 Axes>"
            ]
          },
          "metadata": {}
        }
      ],
      "source": [
        "# Plot the accuracy for both train and validation set\n",
        "plt.subplots() # open a new plot\n",
        "plt.plot(history.history['accuracy'])\n",
        "plt.plot(history.history['val_accuracy'])\n",
        "plt.title('model accuracy')\n",
        "plt.ylabel('accuracy')\n",
        "plt.xlabel('epoch')\n",
        "plt.legend(['train', 'validation'])\n",
        "plt.show()\n",
        "\n",
        "# Plot the loss for both train and validation set\n",
        "plt.subplots() # open a new plot\n",
        "plt.plot(history.history['loss'])\n",
        "plt.plot(history.history['val_loss'])\n",
        "plt.title('model loss')\n",
        "plt.ylabel('loss')\n",
        "plt.xlabel('epoch')\n",
        "plt.legend(['train', 'validation'])\n",
        "plt.show()"
      ]
    },
    {
      "cell_type": "markdown",
      "metadata": {
        "id": "CaN2gGrdcFWo"
      },
      "source": [
        "# Model 2"
      ]
    },
    {
      "cell_type": "code",
      "execution_count": 71,
      "metadata": {
        "id": "LhV91CFHcFWo"
      },
      "outputs": [],
      "source": [
        "# Make the NN -----------------------------------------------------------------\n",
        "\n",
        "# Importing the Keras libraries and packages\n",
        "from keras.layers import Dense\n",
        "from keras.models import Sequential\n",
        "\n",
        "# define and initialize the model\n",
        "my_classifier2 = Sequential()\n",
        "\n",
        "# Adding the input layer AND the first hidden layer\n",
        "my_classifier2.add(Dense(units = 40, kernel_initializer = 'uniform',\n",
        "                        activation = 'relu', input_dim = n_features))\n",
        "\n",
        "# Adding the second hidden layer\n",
        "my_classifier2.add(Dense(units = 30, kernel_initializer = 'uniform',\n",
        "                        activation = 'relu'))\n",
        "\n",
        "# Adding the third hidden layer\n",
        "my_classifier2.add(Dense(units = 15, kernel_initializer = 'uniform',\n",
        "                        activation = 'relu'))\n",
        "\n",
        "\n",
        "# Adding the last (output) layer\n",
        "my_classifier2.add(Dense(units = 1, kernel_initializer = 'uniform',\n",
        "                        activation = 'sigmoid'))"
      ]
    },
    {
      "cell_type": "code",
      "execution_count": 72,
      "metadata": {
        "id": "3LqRym58cFWo"
      },
      "outputs": [],
      "source": [
        "# Compiling the ANN\n",
        "my_classifier2.compile(optimizer = 'adam', loss = 'binary_crossentropy',\n",
        "                      metrics = ['accuracy'])"
      ]
    },
    {
      "cell_type": "code",
      "execution_count": 73,
      "metadata": {
        "colab": {
          "base_uri": "https://localhost:8080/",
          "height": 533
        },
        "id": "MXMZ11XGcFWo",
        "outputId": "010d3d8e-55d7-4feb-9b24-2aee9b81ae36"
      },
      "outputs": [
        {
          "output_type": "execute_result",
          "data": {
            "image/png": "[encoded data removed]",
            "text/plain": [
              "<IPython.core.display.Image object>"
            ]
          },
          "metadata": {},
          "execution_count": 73
        }
      ],
      "source": [
        "#-- plot the model\n",
        "from keras.utils.vis_utils import plot_model\n",
        "plot_model(my_classifier2, to_file='model2.png', show_shapes=True)"
      ]
    },
    {
      "cell_type": "code",
      "execution_count": 74,
      "metadata": {
        "colab": {
          "base_uri": "https://localhost:8080/"
        },
        "id": "HOr2qwfRcFWo",
        "outputId": "58f329e6-d5ac-4999-acc5-f64b354ad2c6"
      },
      "outputs": [
        {
          "output_type": "stream",
          "name": "stdout",
          "text": [
            "Epoch 1/60\n",
            "6736/6736 [==============================] - 21s 3ms/step - loss: 0.6132 - accuracy: 0.6418 - val_loss: 0.6023 - val_accuracy: 0.6489\n",
            "Epoch 2/60\n",
            "6736/6736 [==============================] - 23s 3ms/step - loss: 0.6032 - accuracy: 0.6522 - val_loss: 0.6020 - val_accuracy: 0.6483\n",
            "Epoch 3/60\n",
            "6736/6736 [==============================] - 20s 3ms/step - loss: 0.5990 - accuracy: 0.6563 - val_loss: 0.5998 - val_accuracy: 0.6531\n",
            "Epoch 4/60\n",
            "6736/6736 [==============================] - 20s 3ms/step - loss: 0.5947 - accuracy: 0.6614 - val_loss: 0.6004 - val_accuracy: 0.6530\n",
            "Epoch 5/60\n",
            "6736/6736 [==============================] - 20s 3ms/step - loss: 0.5908 - accuracy: 0.6644 - val_loss: 0.6027 - val_accuracy: 0.6531\n",
            "Epoch 6/60\n",
            "6736/6736 [==============================] - 20s 3ms/step - loss: 0.5872 - accuracy: 0.6675 - val_loss: 0.6048 - val_accuracy: 0.6500\n",
            "Epoch 7/60\n",
            "6736/6736 [==============================] - 20s 3ms/step - loss: 0.5845 - accuracy: 0.6690 - val_loss: 0.6053 - val_accuracy: 0.6503\n",
            "Epoch 8/60\n",
            "6736/6736 [==============================] - 20s 3ms/step - loss: 0.5815 - accuracy: 0.6721 - val_loss: 0.6071 - val_accuracy: 0.6504\n",
            "Epoch 9/60\n",
            "6736/6736 [==============================] - 20s 3ms/step - loss: 0.5785 - accuracy: 0.6740 - val_loss: 0.6080 - val_accuracy: 0.6520\n",
            "Epoch 10/60\n",
            "6736/6736 [==============================] - 20s 3ms/step - loss: 0.5767 - accuracy: 0.6750 - val_loss: 0.6109 - val_accuracy: 0.6512\n",
            "Epoch 11/60\n",
            "6736/6736 [==============================] - 20s 3ms/step - loss: 0.5749 - accuracy: 0.6761 - val_loss: 0.6108 - val_accuracy: 0.6502\n",
            "Epoch 12/60\n",
            "6736/6736 [==============================] - 20s 3ms/step - loss: 0.5722 - accuracy: 0.6765 - val_loss: 0.6116 - val_accuracy: 0.6471\n",
            "Epoch 13/60\n",
            "6736/6736 [==============================] - 20s 3ms/step - loss: 0.5702 - accuracy: 0.6797 - val_loss: 0.6146 - val_accuracy: 0.6450\n",
            "Epoch 14/60\n",
            "6736/6736 [==============================] - 20s 3ms/step - loss: 0.5684 - accuracy: 0.6813 - val_loss: 0.6124 - val_accuracy: 0.6480\n",
            "Epoch 15/60\n",
            "6736/6736 [==============================] - 29s 4ms/step - loss: 0.5661 - accuracy: 0.6828 - val_loss: 0.6154 - val_accuracy: 0.6470\n",
            "Epoch 16/60\n",
            "6736/6736 [==============================] - 20s 3ms/step - loss: 0.5644 - accuracy: 0.6837 - val_loss: 0.6206 - val_accuracy: 0.6449\n",
            "Epoch 17/60\n",
            "6736/6736 [==============================] - 20s 3ms/step - loss: 0.5630 - accuracy: 0.6843 - val_loss: 0.6252 - val_accuracy: 0.6468\n",
            "Epoch 18/60\n",
            "6736/6736 [==============================] - 20s 3ms/step - loss: 0.5609 - accuracy: 0.6864 - val_loss: 0.6237 - val_accuracy: 0.6462\n",
            "Epoch 19/60\n",
            "6736/6736 [==============================] - 20s 3ms/step - loss: 0.5587 - accuracy: 0.6882 - val_loss: 0.6305 - val_accuracy: 0.6440\n",
            "Epoch 20/60\n",
            "6736/6736 [==============================] - 20s 3ms/step - loss: 0.5574 - accuracy: 0.6894 - val_loss: 0.6390 - val_accuracy: 0.6453\n",
            "Epoch 21/60\n",
            "6736/6736 [==============================] - 21s 3ms/step - loss: 0.5554 - accuracy: 0.6897 - val_loss: 0.6325 - val_accuracy: 0.6442\n",
            "Epoch 22/60\n",
            "6736/6736 [==============================] - 22s 3ms/step - loss: 0.5543 - accuracy: 0.6895 - val_loss: 0.6329 - val_accuracy: 0.6422\n",
            "Epoch 23/60\n",
            "6736/6736 [==============================] - 20s 3ms/step - loss: 0.5526 - accuracy: 0.6918 - val_loss: 0.6328 - val_accuracy: 0.6432\n",
            "Epoch 24/60\n",
            "6736/6736 [==============================] - 20s 3ms/step - loss: 0.5512 - accuracy: 0.6914 - val_loss: 0.6358 - val_accuracy: 0.6464\n",
            "Epoch 25/60\n",
            "6736/6736 [==============================] - 20s 3ms/step - loss: 0.5500 - accuracy: 0.6931 - val_loss: 0.6420 - val_accuracy: 0.6462\n",
            "Epoch 26/60\n",
            "6736/6736 [==============================] - 20s 3ms/step - loss: 0.5488 - accuracy: 0.6937 - val_loss: 0.6474 - val_accuracy: 0.6443\n",
            "Epoch 27/60\n",
            "6736/6736 [==============================] - 20s 3ms/step - loss: 0.5473 - accuracy: 0.6939 - val_loss: 0.6526 - val_accuracy: 0.6425\n",
            "Epoch 28/60\n",
            "6736/6736 [==============================] - 21s 3ms/step - loss: 0.5455 - accuracy: 0.6958 - val_loss: 0.6531 - val_accuracy: 0.6417\n",
            "Epoch 29/60\n",
            "6736/6736 [==============================] - 20s 3ms/step - loss: 0.5447 - accuracy: 0.6961 - val_loss: 0.6657 - val_accuracy: 0.6428\n",
            "Epoch 30/60\n",
            "6736/6736 [==============================] - 20s 3ms/step - loss: 0.5437 - accuracy: 0.6964 - val_loss: 0.6545 - val_accuracy: 0.6436\n",
            "Epoch 31/60\n",
            "6736/6736 [==============================] - 20s 3ms/step - loss: 0.5422 - accuracy: 0.6976 - val_loss: 0.6714 - val_accuracy: 0.6394\n",
            "Epoch 32/60\n",
            "6736/6736 [==============================] - 20s 3ms/step - loss: 0.5412 - accuracy: 0.6977 - val_loss: 0.6617 - val_accuracy: 0.6431\n",
            "Epoch 33/60\n",
            "6736/6736 [==============================] - 20s 3ms/step - loss: 0.5404 - accuracy: 0.6972 - val_loss: 0.6597 - val_accuracy: 0.6417\n",
            "Epoch 34/60\n",
            "6736/6736 [==============================] - 20s 3ms/step - loss: 0.5396 - accuracy: 0.6989 - val_loss: 0.6679 - val_accuracy: 0.6437\n",
            "Epoch 35/60\n",
            "6736/6736 [==============================] - 20s 3ms/step - loss: 0.5384 - accuracy: 0.6999 - val_loss: 0.6629 - val_accuracy: 0.6377\n",
            "Epoch 36/60\n",
            "6736/6736 [==============================] - 20s 3ms/step - loss: 0.5377 - accuracy: 0.6978 - val_loss: 0.6639 - val_accuracy: 0.6420\n",
            "Epoch 37/60\n",
            "6736/6736 [==============================] - 20s 3ms/step - loss: 0.5375 - accuracy: 0.6998 - val_loss: 0.6708 - val_accuracy: 0.6418\n",
            "Epoch 38/60\n",
            "6736/6736 [==============================] - 20s 3ms/step - loss: 0.5366 - accuracy: 0.6994 - val_loss: 0.6804 - val_accuracy: 0.6390\n",
            "Epoch 39/60\n",
            "6736/6736 [==============================] - 20s 3ms/step - loss: 0.5350 - accuracy: 0.7011 - val_loss: 0.6821 - val_accuracy: 0.6399\n",
            "Epoch 40/60\n",
            "6736/6736 [==============================] - 20s 3ms/step - loss: 0.5349 - accuracy: 0.6994 - val_loss: 0.6879 - val_accuracy: 0.6413\n",
            "Epoch 41/60\n",
            "6736/6736 [==============================] - 20s 3ms/step - loss: 0.5345 - accuracy: 0.7015 - val_loss: 0.6827 - val_accuracy: 0.6396\n",
            "Epoch 42/60\n",
            "6736/6736 [==============================] - 20s 3ms/step - loss: 0.5334 - accuracy: 0.7004 - val_loss: 0.6744 - val_accuracy: 0.6383\n",
            "Epoch 43/60\n",
            "6736/6736 [==============================] - 21s 3ms/step - loss: 0.5327 - accuracy: 0.7004 - val_loss: 0.6865 - val_accuracy: 0.6380\n",
            "Epoch 44/60\n",
            "6736/6736 [==============================] - 21s 3ms/step - loss: 0.5316 - accuracy: 0.7007 - val_loss: 0.6997 - val_accuracy: 0.6391\n",
            "Epoch 45/60\n",
            "6736/6736 [==============================] - 20s 3ms/step - loss: 0.5312 - accuracy: 0.7017 - val_loss: 0.6824 - val_accuracy: 0.6392\n",
            "Epoch 46/60\n",
            "6736/6736 [==============================] - 20s 3ms/step - loss: 0.5307 - accuracy: 0.7019 - val_loss: 0.6982 - val_accuracy: 0.6368\n",
            "Epoch 47/60\n",
            "6736/6736 [==============================] - 21s 3ms/step - loss: 0.5302 - accuracy: 0.7018 - val_loss: 0.6958 - val_accuracy: 0.6375\n",
            "Epoch 48/60\n",
            "6736/6736 [==============================] - 20s 3ms/step - loss: 0.5295 - accuracy: 0.7024 - val_loss: 0.6975 - val_accuracy: 0.6348\n",
            "Epoch 49/60\n",
            "6736/6736 [==============================] - 20s 3ms/step - loss: 0.5289 - accuracy: 0.7031 - val_loss: 0.6925 - val_accuracy: 0.6346\n",
            "Epoch 50/60\n",
            "6736/6736 [==============================] - 20s 3ms/step - loss: 0.5277 - accuracy: 0.7033 - val_loss: 0.6946 - val_accuracy: 0.6322\n",
            "Epoch 51/60\n",
            "6736/6736 [==============================] - 20s 3ms/step - loss: 0.5270 - accuracy: 0.7039 - val_loss: 0.7087 - val_accuracy: 0.6342\n",
            "Epoch 52/60\n",
            "6736/6736 [==============================] - 20s 3ms/step - loss: 0.5272 - accuracy: 0.7042 - val_loss: 0.7060 - val_accuracy: 0.6385\n",
            "Epoch 53/60\n",
            "6736/6736 [==============================] - 21s 3ms/step - loss: 0.5266 - accuracy: 0.7042 - val_loss: 0.7140 - val_accuracy: 0.6371\n",
            "Epoch 54/60\n",
            "6736/6736 [==============================] - 20s 3ms/step - loss: 0.5270 - accuracy: 0.7026 - val_loss: 0.7251 - val_accuracy: 0.6391\n",
            "Epoch 55/60\n",
            "6736/6736 [==============================] - 20s 3ms/step - loss: 0.5259 - accuracy: 0.7027 - val_loss: 0.7139 - val_accuracy: 0.6388\n",
            "Epoch 56/60\n",
            "6736/6736 [==============================] - 21s 3ms/step - loss: 0.5252 - accuracy: 0.7032 - val_loss: 0.7225 - val_accuracy: 0.6360\n",
            "Epoch 57/60\n",
            "6736/6736 [==============================] - 20s 3ms/step - loss: 0.5254 - accuracy: 0.7031 - val_loss: 0.7016 - val_accuracy: 0.6335\n",
            "Epoch 58/60\n",
            "6736/6736 [==============================] - 21s 3ms/step - loss: 0.5238 - accuracy: 0.7034 - val_loss: 0.7073 - val_accuracy: 0.6350\n",
            "Epoch 59/60\n",
            "6736/6736 [==============================] - 20s 3ms/step - loss: 0.5243 - accuracy: 0.7046 - val_loss: 0.7194 - val_accuracy: 0.6376\n",
            "Epoch 60/60\n",
            "6736/6736 [==============================] - 20s 3ms/step - loss: 0.5232 - accuracy: 0.7062 - val_loss: 0.7214 - val_accuracy: 0.6346\n"
          ]
        }
      ],
      "source": [
        "# Fitting the ANN to the Training set\n",
        "history = my_classifier2.fit(Xtrain, ytrain, validation_split=0.2,\n",
        "                            batch_size = 10, epochs = 60)"
      ]
    },
    {
      "cell_type": "code",
      "execution_count": 76,
      "metadata": {
        "colab": {
          "base_uri": "https://localhost:8080/"
        },
        "id": "_Ke8N-Q0cFWo",
        "outputId": "1f558953-bc6f-45d4-c8bc-e3c8ef583533"
      },
      "outputs": [
        {
          "output_type": "stream",
          "name": "stdout",
          "text": [
            "Model: \"sequential_2\"\n",
            "_________________________________________________________________\n",
            " Layer (type)                Output Shape              Param #   \n",
            "=================================================================\n",
            " dense_4 (Dense)             (None, 40)                4040      \n",
            "                                                                 \n",
            " dense_5 (Dense)             (None, 30)                1230      \n",
            "                                                                 \n",
            " dense_6 (Dense)             (None, 15)                465       \n",
            "                                                                 \n",
            " dense_7 (Dense)             (None, 1)                 16        \n",
            "                                                                 \n",
            "=================================================================\n",
            "Total params: 5,751\n",
            "Trainable params: 5,751\n",
            "Non-trainable params: 0\n",
            "_________________________________________________________________\n"
          ]
        }
      ],
      "source": [
        "my_classifier2.summary()"
      ]
    },
    {
      "cell_type": "code",
      "execution_count": 77,
      "metadata": {
        "id": "0zq9PY2McFWo"
      },
      "outputs": [],
      "source": [
        "# Make predictions\n",
        "# Predicting the Test set results\n",
        "y_pred_train = my_classifier2.predict(Xtrain)"
      ]
    },
    {
      "cell_type": "code",
      "execution_count": 78,
      "metadata": {
        "id": "CKr4lUa2cFWo"
      },
      "outputs": [],
      "source": [
        "# Predicting the Test set results\n",
        "y_pred_test = my_classifier2.predict(Xtest)"
      ]
    },
    {
      "cell_type": "code",
      "execution_count": 82,
      "metadata": {
        "colab": {
          "base_uri": "https://localhost:8080/",
          "height": 361
        },
        "id": "La_Oh39dcFWp",
        "outputId": "18df4fc2-abe6-45b6-c289-29960640034f"
      },
      "outputs": [
        {
          "output_type": "error",
          "ename": "ValueError",
          "evalue": "ignored",
          "traceback": [
            "\u001b[0;31m---------------------------------------------------------------------------\u001b[0m",
            "\u001b[0;31mValueError\u001b[0m                                Traceback (most recent call last)",
            "\u001b[0;32m<ipython-input-82-2f7c65951f4a>\u001b[0m in \u001b[0;36m<module>\u001b[0;34m()\u001b[0m\n\u001b[1;32m      1\u001b[0m \u001b[0;31m# Making the Confusion Matrix\u001b[0m\u001b[0;34m\u001b[0m\u001b[0;34m\u001b[0m\u001b[0;34m\u001b[0m\u001b[0m\n\u001b[1;32m      2\u001b[0m \u001b[0;31m#from sklearn.metrics import confusion_matrix\u001b[0m\u001b[0;34m\u001b[0m\u001b[0;34m\u001b[0m\u001b[0;34m\u001b[0m\u001b[0m\n\u001b[0;32m----> 3\u001b[0;31m \u001b[0mcm\u001b[0m \u001b[0;34m=\u001b[0m \u001b[0mconfusion_matrix\u001b[0m\u001b[0;34m(\u001b[0m\u001b[0mytest\u001b[0m\u001b[0;34m,\u001b[0m \u001b[0my_pred_test\u001b[0m\u001b[0;34m)\u001b[0m\u001b[0;34m\u001b[0m\u001b[0;34m\u001b[0m\u001b[0m\n\u001b[0m",
            "\u001b[0;32m/usr/local/lib/python3.7/dist-packages/sklearn/metrics/_classification.py\u001b[0m in \u001b[0;36mconfusion_matrix\u001b[0;34m(y_true, y_pred, labels, sample_weight, normalize)\u001b[0m\n\u001b[1;32m    305\u001b[0m     \u001b[0;34m(\u001b[0m\u001b[0;36m0\u001b[0m\u001b[0;34m,\u001b[0m \u001b[0;36m2\u001b[0m\u001b[0;34m,\u001b[0m \u001b[0;36m1\u001b[0m\u001b[0;34m,\u001b[0m \u001b[0;36m1\u001b[0m\u001b[0;34m)\u001b[0m\u001b[0;34m\u001b[0m\u001b[0;34m\u001b[0m\u001b[0m\n\u001b[1;32m    306\u001b[0m     \"\"\"\n\u001b[0;32m--> 307\u001b[0;31m     \u001b[0my_type\u001b[0m\u001b[0;34m,\u001b[0m \u001b[0my_true\u001b[0m\u001b[0;34m,\u001b[0m \u001b[0my_pred\u001b[0m \u001b[0;34m=\u001b[0m \u001b[0m_check_targets\u001b[0m\u001b[0;34m(\u001b[0m\u001b[0my_true\u001b[0m\u001b[0;34m,\u001b[0m \u001b[0my_pred\u001b[0m\u001b[0;34m)\u001b[0m\u001b[0;34m\u001b[0m\u001b[0;34m\u001b[0m\u001b[0m\n\u001b[0m\u001b[1;32m    308\u001b[0m     \u001b[0;32mif\u001b[0m \u001b[0my_type\u001b[0m \u001b[0;32mnot\u001b[0m \u001b[0;32min\u001b[0m \u001b[0;34m(\u001b[0m\u001b[0;34m\"binary\"\u001b[0m\u001b[0;34m,\u001b[0m \u001b[0;34m\"multiclass\"\u001b[0m\u001b[0;34m)\u001b[0m\u001b[0;34m:\u001b[0m\u001b[0;34m\u001b[0m\u001b[0;34m\u001b[0m\u001b[0m\n\u001b[1;32m    309\u001b[0m         \u001b[0;32mraise\u001b[0m \u001b[0mValueError\u001b[0m\u001b[0;34m(\u001b[0m\u001b[0;34m\"%s is not supported\"\u001b[0m \u001b[0;34m%\u001b[0m \u001b[0my_type\u001b[0m\u001b[0;34m)\u001b[0m\u001b[0;34m\u001b[0m\u001b[0;34m\u001b[0m\u001b[0m\n",
            "\u001b[0;32m/usr/local/lib/python3.7/dist-packages/sklearn/metrics/_classification.py\u001b[0m in \u001b[0;36m_check_targets\u001b[0;34m(y_true, y_pred)\u001b[0m\n\u001b[1;32m     93\u001b[0m         raise ValueError(\n\u001b[1;32m     94\u001b[0m             \"Classification metrics can't handle a mix of {0} and {1} targets\".format(\n\u001b[0;32m---> 95\u001b[0;31m                 \u001b[0mtype_true\u001b[0m\u001b[0;34m,\u001b[0m \u001b[0mtype_pred\u001b[0m\u001b[0;34m\u001b[0m\u001b[0;34m\u001b[0m\u001b[0m\n\u001b[0m\u001b[1;32m     96\u001b[0m             )\n\u001b[1;32m     97\u001b[0m         )\n",
            "\u001b[0;31mValueError\u001b[0m: Classification metrics can't handle a mix of binary and continuous targets"
          ]
        }
      ],
      "source": [
        "# Making the Confusion Matrix\n",
        "#from sklearn.metrics import confusion_matrix\n",
        "#cm = confusion_matrix(ytest, y_pred_test)\n"
      ]
    },
    {
      "cell_type": "code",
      "execution_count": 80,
      "metadata": {
        "colab": {
          "base_uri": "https://localhost:8080/"
        },
        "id": "reQOYhm6cFWp",
        "outputId": "27f39c06-f71d-4f58-80bc-54e553f202cc"
      },
      "outputs": [
        {
          "output_type": "stream",
          "name": "stdout",
          "text": [
            "dict_keys(['loss', 'accuracy', 'val_loss', 'val_accuracy'])\n"
          ]
        }
      ],
      "source": [
        "# list all the data in history\n",
        "print(history.history.keys())\n"
      ]
    },
    {
      "cell_type": "code",
      "execution_count": 81,
      "metadata": {
        "colab": {
          "base_uri": "https://localhost:8080/",
          "height": 601
        },
        "id": "7uJqUU5BcFWp",
        "outputId": "c83bafef-1ddc-4067-f673-1b85bb9e1e8b"
      },
      "outputs": [
        {
          "output_type": "display_data",
          "data": {
            "image/png": "[encoded data removed]",
            "text/plain": [
              "<Figure size 432x288 with 1 Axes>"
            ]
          },
          "metadata": {}
        },
        {
          "output_type": "display_data",
          "data": {
            "image/png": "[encoded data removed]",
            "text/plain": [
              "<Figure size 432x288 with 1 Axes>"
            ]
          },
          "metadata": {}
        }
      ],
      "source": [
        "# Plot the accuracy for both train and validation set\n",
        "plt.subplots() # open a new plot\n",
        "plt.plot(history.history['accuracy'])\n",
        "plt.plot(history.history['val_accuracy'])\n",
        "plt.title('model accuracy')\n",
        "plt.ylabel('accuracy')\n",
        "plt.xlabel('epoch')\n",
        "plt.legend(['train', 'validation'])\n",
        "plt.show()\n",
        "\n",
        "# Plot the loss for both train and validation set\n",
        "plt.subplots() # open a new plot\n",
        "plt.plot(history.history['loss'])\n",
        "plt.plot(history.history['val_loss'])\n",
        "plt.title('model loss')\n",
        "plt.ylabel('loss')\n",
        "plt.xlabel('epoch')\n",
        "plt.legend(['train', 'validation'])\n",
        "plt.show()"
      ]
    }
  ],
  "metadata": {
    "interpreter": {
      "hash": "069624a5003d722d46b2ddcbbef8ec29c962821c31c4d6de5b70c8b5461f7514"
    },
    "kernelspec": {
      "display_name": "Python 3.8.12 64-bit ('tensorgpupy38': conda)",
      "language": "python",
      "name": "python3"
    },
    "language_info": {
      "codemirror_mode": {
        "name": "ipython",
        "version": 3
      },
      "file_extension": ".py",
      "mimetype": "text/x-python",
      "name": "python",
      "nbconvert_exporter": "python",
      "pygments_lexer": "ipython3",
      "version": "3.8.12"
    },
    "orig_nbformat": 4,
    "colab": {
      "name": "NN.ipynb",
      "provenance": []
    },
    "accelerator": "GPU"
  },
  "nbformat": 4,
  "nbformat_minor": 0
}