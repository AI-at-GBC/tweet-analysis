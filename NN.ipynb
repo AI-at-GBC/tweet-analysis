{
 "cells": [
  {
   "cell_type": "markdown",
   "metadata": {},
   "source": [
    "# Import Libraries"
   ]
  },
  {
   "cell_type": "code",
   "execution_count": 201,
   "metadata": {},
   "outputs": [],
   "source": [
    "import numpy as np\n",
    "import pandas as pd\n",
    "from tensorflow.keras.preprocessing.text import Tokenizer\n",
    "from tensorflow.keras.preprocessing.sequence import pad_sequences\n",
    "from tensorflow.keras.models import Sequential\n",
    "from tensorflow.keras.layers import Dense, Flatten, LSTM\n",
    "from tensorflow.keras import activations\n",
    "from tensorflow.keras.layers import Embedding\n",
    "from tensorflow.keras.layers import GlobalMaxPooling1D, Conv1D\n",
    "from tensorflow.keras.callbacks import ModelCheckpoint\n",
    "from tensorflow import keras\n",
    "from keras.layers import Dropout\n",
    "from tensorflow.keras import layers\n",
    "from keras.layers import Dense\n",
    "from keras.models import Sequential\n",
    "import tensorflow as tf\n",
    "\n",
    "%matplotlib inline"
   ]
  },
  {
   "cell_type": "markdown",
   "metadata": {},
   "source": [
    "# Import the Dataset"
   ]
  },
  {
   "cell_type": "code",
   "execution_count": 202,
   "metadata": {},
   "outputs": [
    {
     "data": {
      "text/html": [
       "<div>\n",
       "<style scoped>\n",
       "    .dataframe tbody tr th:only-of-type {\n",
       "        vertical-align: middle;\n",
       "    }\n",
       "\n",
       "    .dataframe tbody tr th {\n",
       "        vertical-align: top;\n",
       "    }\n",
       "\n",
       "    .dataframe thead th {\n",
       "        text-align: right;\n",
       "    }\n",
       "</style>\n",
       "<table border=\"1\" class=\"dataframe\">\n",
       "  <thead>\n",
       "    <tr style=\"text-align: right;\">\n",
       "      <th></th>\n",
       "      <th>Unnamed: 0</th>\n",
       "      <th>tweet</th>\n",
       "      <th>punctuation_count</th>\n",
       "      <th>sentiment</th>\n",
       "    </tr>\n",
       "  </thead>\n",
       "  <tbody>\n",
       "    <tr>\n",
       "      <th>0</th>\n",
       "      <td>0</td>\n",
       "      <td>sleep good remedi fall asleep need one</td>\n",
       "      <td>6</td>\n",
       "      <td>0</td>\n",
       "    </tr>\n",
       "    <tr>\n",
       "      <th>1</th>\n",
       "      <td>1</td>\n",
       "      <td>work fun</td>\n",
       "      <td>2</td>\n",
       "      <td>0</td>\n",
       "    </tr>\n",
       "    <tr>\n",
       "      <th>2</th>\n",
       "      <td>2</td>\n",
       "      <td>summer person love dull cold weather centralco...</td>\n",
       "      <td>3</td>\n",
       "      <td>1</td>\n",
       "    </tr>\n",
       "    <tr>\n",
       "      <th>3</th>\n",
       "      <td>3</td>\n",
       "      <td>want smoke cig lighter</td>\n",
       "      <td>2</td>\n",
       "      <td>0</td>\n",
       "    </tr>\n",
       "    <tr>\n",
       "      <th>4</th>\n",
       "      <td>4</td>\n",
       "      <td>pass lot twit arriv trend topic bob</td>\n",
       "      <td>8</td>\n",
       "      <td>0</td>\n",
       "    </tr>\n",
       "    <tr>\n",
       "      <th>...</th>\n",
       "      <td>...</td>\n",
       "      <td>...</td>\n",
       "      <td>...</td>\n",
       "      <td>...</td>\n",
       "    </tr>\n",
       "    <tr>\n",
       "      <th>105236</th>\n",
       "      <td>105236</td>\n",
       "      <td>i i i i i miss trip hehe turn bird amp turtl l...</td>\n",
       "      <td>15</td>\n",
       "      <td>1</td>\n",
       "    </tr>\n",
       "    <tr>\n",
       "      <th>105237</th>\n",
       "      <td>105237</td>\n",
       "      <td>hump say</td>\n",
       "      <td>2</td>\n",
       "      <td>0</td>\n",
       "    </tr>\n",
       "    <tr>\n",
       "      <th>105238</th>\n",
       "      <td>105238</td>\n",
       "      <td>seriou chemistri revis feel rather ill atm</td>\n",
       "      <td>1</td>\n",
       "      <td>0</td>\n",
       "    </tr>\n",
       "    <tr>\n",
       "      <th>105239</th>\n",
       "      <td>105239</td>\n",
       "      <td>weekend go sound like time iphon poker girl let</td>\n",
       "      <td>5</td>\n",
       "      <td>0</td>\n",
       "    </tr>\n",
       "    <tr>\n",
       "      <th>105240</th>\n",
       "      <td>105240</td>\n",
       "      <td>uff today vote eu parliament also went made cr...</td>\n",
       "      <td>4</td>\n",
       "      <td>1</td>\n",
       "    </tr>\n",
       "  </tbody>\n",
       "</table>\n",
       "<p>105241 rows × 4 columns</p>\n",
       "</div>"
      ],
      "text/plain": [
       "        Unnamed: 0                                              tweet  \\\n",
       "0                0            sleep good remedi fall asleep need one    \n",
       "1                1                                          work fun    \n",
       "2                2  summer person love dull cold weather centralco...   \n",
       "3                3                            want smoke cig lighter    \n",
       "4                4               pass lot twit arriv trend topic bob    \n",
       "...            ...                                                ...   \n",
       "105236      105236  i i i i i miss trip hehe turn bird amp turtl l...   \n",
       "105237      105237                                          hump say    \n",
       "105238      105238        seriou chemistri revis feel rather ill atm    \n",
       "105239      105239   weekend go sound like time iphon poker girl let    \n",
       "105240      105240  uff today vote eu parliament also went made cr...   \n",
       "\n",
       "        punctuation_count  sentiment  \n",
       "0                       6          0  \n",
       "1                       2          0  \n",
       "2                       3          1  \n",
       "3                       2          0  \n",
       "4                       8          0  \n",
       "...                   ...        ...  \n",
       "105236                 15          1  \n",
       "105237                  2          0  \n",
       "105238                  1          0  \n",
       "105239                  5          0  \n",
       "105240                  4          1  \n",
       "\n",
       "[105241 rows x 4 columns]"
      ]
     },
     "execution_count": 202,
     "metadata": {},
     "output_type": "execute_result"
    }
   ],
   "source": [
    "data = pd.read_csv(\"cleaned_text.csv\", encoding='latin1', header = 0)\n",
    "#data.columns = [\"tweet\", \"sentiment\"]\n",
    "data"
   ]
  },
  {
   "cell_type": "markdown",
   "metadata": {},
   "source": [
    "# Preparing the Dataset"
   ]
  },
  {
   "cell_type": "code",
   "execution_count": 203,
   "metadata": {},
   "outputs": [],
   "source": [
    "#Droping columnns we dont need for the NN model\n",
    "data.drop(data.columns[[0]], axis=1, inplace=True)\n"
   ]
  },
  {
   "cell_type": "code",
   "execution_count": 204,
   "metadata": {},
   "outputs": [
    {
     "data": {
      "text/html": [
       "<div>\n",
       "<style scoped>\n",
       "    .dataframe tbody tr th:only-of-type {\n",
       "        vertical-align: middle;\n",
       "    }\n",
       "\n",
       "    .dataframe tbody tr th {\n",
       "        vertical-align: top;\n",
       "    }\n",
       "\n",
       "    .dataframe thead th {\n",
       "        text-align: right;\n",
       "    }\n",
       "</style>\n",
       "<table border=\"1\" class=\"dataframe\">\n",
       "  <thead>\n",
       "    <tr style=\"text-align: right;\">\n",
       "      <th></th>\n",
       "      <th>tweet</th>\n",
       "      <th>punctuation_count</th>\n",
       "      <th>sentiment</th>\n",
       "    </tr>\n",
       "  </thead>\n",
       "  <tbody>\n",
       "    <tr>\n",
       "      <th>0</th>\n",
       "      <td>sleep good remedi fall asleep need one</td>\n",
       "      <td>6</td>\n",
       "      <td>0</td>\n",
       "    </tr>\n",
       "    <tr>\n",
       "      <th>1</th>\n",
       "      <td>work fun</td>\n",
       "      <td>2</td>\n",
       "      <td>0</td>\n",
       "    </tr>\n",
       "    <tr>\n",
       "      <th>2</th>\n",
       "      <td>summer person love dull cold weather centralco...</td>\n",
       "      <td>3</td>\n",
       "      <td>1</td>\n",
       "    </tr>\n",
       "    <tr>\n",
       "      <th>3</th>\n",
       "      <td>want smoke cig lighter</td>\n",
       "      <td>2</td>\n",
       "      <td>0</td>\n",
       "    </tr>\n",
       "    <tr>\n",
       "      <th>4</th>\n",
       "      <td>pass lot twit arriv trend topic bob</td>\n",
       "      <td>8</td>\n",
       "      <td>0</td>\n",
       "    </tr>\n",
       "    <tr>\n",
       "      <th>...</th>\n",
       "      <td>...</td>\n",
       "      <td>...</td>\n",
       "      <td>...</td>\n",
       "    </tr>\n",
       "    <tr>\n",
       "      <th>105236</th>\n",
       "      <td>i i i i i miss trip hehe turn bird amp turtl l...</td>\n",
       "      <td>15</td>\n",
       "      <td>1</td>\n",
       "    </tr>\n",
       "    <tr>\n",
       "      <th>105237</th>\n",
       "      <td>hump say</td>\n",
       "      <td>2</td>\n",
       "      <td>0</td>\n",
       "    </tr>\n",
       "    <tr>\n",
       "      <th>105238</th>\n",
       "      <td>seriou chemistri revis feel rather ill atm</td>\n",
       "      <td>1</td>\n",
       "      <td>0</td>\n",
       "    </tr>\n",
       "    <tr>\n",
       "      <th>105239</th>\n",
       "      <td>weekend go sound like time iphon poker girl let</td>\n",
       "      <td>5</td>\n",
       "      <td>0</td>\n",
       "    </tr>\n",
       "    <tr>\n",
       "      <th>105240</th>\n",
       "      <td>uff today vote eu parliament also went made cr...</td>\n",
       "      <td>4</td>\n",
       "      <td>1</td>\n",
       "    </tr>\n",
       "  </tbody>\n",
       "</table>\n",
       "<p>105241 rows × 3 columns</p>\n",
       "</div>"
      ],
      "text/plain": [
       "                                                    tweet  punctuation_count  \\\n",
       "0                 sleep good remedi fall asleep need one                   6   \n",
       "1                                               work fun                   2   \n",
       "2       summer person love dull cold weather centralco...                  3   \n",
       "3                                 want smoke cig lighter                   2   \n",
       "4                    pass lot twit arriv trend topic bob                   8   \n",
       "...                                                   ...                ...   \n",
       "105236  i i i i i miss trip hehe turn bird amp turtl l...                 15   \n",
       "105237                                          hump say                   2   \n",
       "105238        seriou chemistri revis feel rather ill atm                   1   \n",
       "105239   weekend go sound like time iphon poker girl let                   5   \n",
       "105240  uff today vote eu parliament also went made cr...                  4   \n",
       "\n",
       "        sentiment  \n",
       "0               0  \n",
       "1               0  \n",
       "2               1  \n",
       "3               0  \n",
       "4               0  \n",
       "...           ...  \n",
       "105236          1  \n",
       "105237          0  \n",
       "105238          0  \n",
       "105239          0  \n",
       "105240          1  \n",
       "\n",
       "[105241 rows x 3 columns]"
      ]
     },
     "execution_count": 204,
     "metadata": {},
     "output_type": "execute_result"
    }
   ],
   "source": [
    "data"
   ]
  },
  {
   "cell_type": "code",
   "execution_count": 205,
   "metadata": {},
   "outputs": [
    {
     "data": {
      "text/plain": [
       "0    52657\n",
       "1    52584\n",
       "Name: sentiment, dtype: int64"
      ]
     },
     "execution_count": 205,
     "metadata": {},
     "output_type": "execute_result"
    }
   ],
   "source": [
    "data.sentiment.value_counts() # dataset is already balanced"
   ]
  },
  {
   "cell_type": "code",
   "execution_count": 206,
   "metadata": {},
   "outputs": [
    {
     "data": {
      "text/plain": [
       "<AxesSubplot:xlabel='sentiment', ylabel='count'>"
      ]
     },
     "execution_count": 206,
     "metadata": {},
     "output_type": "execute_result"
    },
    {
     "data": {
      "image/png": "[encoded data removed]",
      "text/plain": [
       "<Figure size 432x288 with 1 Axes>"
      ]
     },
     "metadata": {
      "needs_background": "light"
     },
     "output_type": "display_data"
    }
   ],
   "source": [
    "import seaborn as sns\n",
    "import matplotlib.pyplot as plt\n",
    "%matplotlib inline\n",
    "\n",
    "sns.countplot(x = 'sentiment', data = data)"
   ]
  },
  {
   "cell_type": "code",
   "execution_count": 207,
   "metadata": {},
   "outputs": [
    {
     "data": {
      "text/html": [
       "<div>\n",
       "<style scoped>\n",
       "    .dataframe tbody tr th:only-of-type {\n",
       "        vertical-align: middle;\n",
       "    }\n",
       "\n",
       "    .dataframe tbody tr th {\n",
       "        vertical-align: top;\n",
       "    }\n",
       "\n",
       "    .dataframe thead th {\n",
       "        text-align: right;\n",
       "    }\n",
       "</style>\n",
       "<table border=\"1\" class=\"dataframe\">\n",
       "  <thead>\n",
       "    <tr style=\"text-align: right;\">\n",
       "      <th></th>\n",
       "      <th>tweet</th>\n",
       "      <th>punctuation_count</th>\n",
       "      <th>sentiment</th>\n",
       "    </tr>\n",
       "  </thead>\n",
       "  <tbody>\n",
       "    <tr>\n",
       "      <th>0</th>\n",
       "      <td>sleep good remedi fall asleep need one</td>\n",
       "      <td>6</td>\n",
       "      <td>0</td>\n",
       "    </tr>\n",
       "    <tr>\n",
       "      <th>1</th>\n",
       "      <td>work fun</td>\n",
       "      <td>2</td>\n",
       "      <td>0</td>\n",
       "    </tr>\n",
       "    <tr>\n",
       "      <th>2</th>\n",
       "      <td>summer person love dull cold weather centralco...</td>\n",
       "      <td>3</td>\n",
       "      <td>1</td>\n",
       "    </tr>\n",
       "    <tr>\n",
       "      <th>3</th>\n",
       "      <td>want smoke cig lighter</td>\n",
       "      <td>2</td>\n",
       "      <td>0</td>\n",
       "    </tr>\n",
       "    <tr>\n",
       "      <th>4</th>\n",
       "      <td>pass lot twit arriv trend topic bob</td>\n",
       "      <td>8</td>\n",
       "      <td>0</td>\n",
       "    </tr>\n",
       "    <tr>\n",
       "      <th>...</th>\n",
       "      <td>...</td>\n",
       "      <td>...</td>\n",
       "      <td>...</td>\n",
       "    </tr>\n",
       "    <tr>\n",
       "      <th>105236</th>\n",
       "      <td>i i i i i miss trip hehe turn bird amp turtl l...</td>\n",
       "      <td>15</td>\n",
       "      <td>1</td>\n",
       "    </tr>\n",
       "    <tr>\n",
       "      <th>105237</th>\n",
       "      <td>hump say</td>\n",
       "      <td>2</td>\n",
       "      <td>0</td>\n",
       "    </tr>\n",
       "    <tr>\n",
       "      <th>105238</th>\n",
       "      <td>seriou chemistri revis feel rather ill atm</td>\n",
       "      <td>1</td>\n",
       "      <td>0</td>\n",
       "    </tr>\n",
       "    <tr>\n",
       "      <th>105239</th>\n",
       "      <td>weekend go sound like time iphon poker girl let</td>\n",
       "      <td>5</td>\n",
       "      <td>0</td>\n",
       "    </tr>\n",
       "    <tr>\n",
       "      <th>105240</th>\n",
       "      <td>uff today vote eu parliament also went made cr...</td>\n",
       "      <td>4</td>\n",
       "      <td>1</td>\n",
       "    </tr>\n",
       "  </tbody>\n",
       "</table>\n",
       "<p>104742 rows × 3 columns</p>\n",
       "</div>"
      ],
      "text/plain": [
       "                                                    tweet  punctuation_count  \\\n",
       "0                 sleep good remedi fall asleep need one                   6   \n",
       "1                                               work fun                   2   \n",
       "2       summer person love dull cold weather centralco...                  3   \n",
       "3                                 want smoke cig lighter                   2   \n",
       "4                    pass lot twit arriv trend topic bob                   8   \n",
       "...                                                   ...                ...   \n",
       "105236  i i i i i miss trip hehe turn bird amp turtl l...                 15   \n",
       "105237                                          hump say                   2   \n",
       "105238        seriou chemistri revis feel rather ill atm                   1   \n",
       "105239   weekend go sound like time iphon poker girl let                   5   \n",
       "105240  uff today vote eu parliament also went made cr...                  4   \n",
       "\n",
       "        sentiment  \n",
       "0               0  \n",
       "1               0  \n",
       "2               1  \n",
       "3               0  \n",
       "4               0  \n",
       "...           ...  \n",
       "105236          1  \n",
       "105237          0  \n",
       "105238          0  \n",
       "105239          0  \n",
       "105240          1  \n",
       "\n",
       "[104742 rows x 3 columns]"
      ]
     },
     "execution_count": 207,
     "metadata": {},
     "output_type": "execute_result"
    }
   ],
   "source": [
    "data.dropna() #Just droping NA values, for some reason we have blank rows in the data"
   ]
  },
  {
   "cell_type": "code",
   "execution_count": 208,
   "metadata": {},
   "outputs": [
    {
     "name": "stdout",
     "output_type": "stream",
     "text": [
      "<class 'pandas.core.frame.DataFrame'>\n",
      "RangeIndex: 105241 entries, 0 to 105240\n",
      "Data columns (total 3 columns):\n",
      " #   Column             Non-Null Count   Dtype \n",
      "---  ------             --------------   ----- \n",
      " 0   tweet              104742 non-null  object\n",
      " 1   punctuation_count  105241 non-null  int64 \n",
      " 2   sentiment          105241 non-null  int64 \n",
      "dtypes: int64(2), object(1)\n",
      "memory usage: 2.4+ MB\n"
     ]
    }
   ],
   "source": [
    "data.info()"
   ]
  },
  {
   "cell_type": "code",
   "execution_count": 209,
   "metadata": {},
   "outputs": [
    {
     "data": {
      "text/html": [
       "<div>\n",
       "<style scoped>\n",
       "    .dataframe tbody tr th:only-of-type {\n",
       "        vertical-align: middle;\n",
       "    }\n",
       "\n",
       "    .dataframe tbody tr th {\n",
       "        vertical-align: top;\n",
       "    }\n",
       "\n",
       "    .dataframe thead th {\n",
       "        text-align: right;\n",
       "    }\n",
       "</style>\n",
       "<table border=\"1\" class=\"dataframe\">\n",
       "  <thead>\n",
       "    <tr style=\"text-align: right;\">\n",
       "      <th></th>\n",
       "      <th>tweet</th>\n",
       "      <th>punctuation_count</th>\n",
       "      <th>sentiment</th>\n",
       "      <th>features</th>\n",
       "    </tr>\n",
       "  </thead>\n",
       "  <tbody>\n",
       "    <tr>\n",
       "      <th>0</th>\n",
       "      <td>sleep good remedi fall asleep need one</td>\n",
       "      <td>6</td>\n",
       "      <td>0</td>\n",
       "      <td>sleep good remedi fall asleep need one  6</td>\n",
       "    </tr>\n",
       "    <tr>\n",
       "      <th>1</th>\n",
       "      <td>work fun</td>\n",
       "      <td>2</td>\n",
       "      <td>0</td>\n",
       "      <td>work fun  2</td>\n",
       "    </tr>\n",
       "    <tr>\n",
       "      <th>2</th>\n",
       "      <td>summer person love dull cold weather centralco...</td>\n",
       "      <td>3</td>\n",
       "      <td>1</td>\n",
       "      <td>summer person love dull cold weather centralco...</td>\n",
       "    </tr>\n",
       "    <tr>\n",
       "      <th>3</th>\n",
       "      <td>want smoke cig lighter</td>\n",
       "      <td>2</td>\n",
       "      <td>0</td>\n",
       "      <td>want smoke cig lighter  2</td>\n",
       "    </tr>\n",
       "    <tr>\n",
       "      <th>4</th>\n",
       "      <td>pass lot twit arriv trend topic bob</td>\n",
       "      <td>8</td>\n",
       "      <td>0</td>\n",
       "      <td>pass lot twit arriv trend topic bob  8</td>\n",
       "    </tr>\n",
       "    <tr>\n",
       "      <th>...</th>\n",
       "      <td>...</td>\n",
       "      <td>...</td>\n",
       "      <td>...</td>\n",
       "      <td>...</td>\n",
       "    </tr>\n",
       "    <tr>\n",
       "      <th>105236</th>\n",
       "      <td>i i i i i miss trip hehe turn bird amp turtl l...</td>\n",
       "      <td>15</td>\n",
       "      <td>1</td>\n",
       "      <td>i i i i i miss trip hehe turn bird amp turtl l...</td>\n",
       "    </tr>\n",
       "    <tr>\n",
       "      <th>105237</th>\n",
       "      <td>hump say</td>\n",
       "      <td>2</td>\n",
       "      <td>0</td>\n",
       "      <td>hump say  2</td>\n",
       "    </tr>\n",
       "    <tr>\n",
       "      <th>105238</th>\n",
       "      <td>seriou chemistri revis feel rather ill atm</td>\n",
       "      <td>1</td>\n",
       "      <td>0</td>\n",
       "      <td>seriou chemistri revis feel rather ill atm  1</td>\n",
       "    </tr>\n",
       "    <tr>\n",
       "      <th>105239</th>\n",
       "      <td>weekend go sound like time iphon poker girl let</td>\n",
       "      <td>5</td>\n",
       "      <td>0</td>\n",
       "      <td>weekend go sound like time iphon poker girl le...</td>\n",
       "    </tr>\n",
       "    <tr>\n",
       "      <th>105240</th>\n",
       "      <td>uff today vote eu parliament also went made cr...</td>\n",
       "      <td>4</td>\n",
       "      <td>1</td>\n",
       "      <td>uff today vote eu parliament also went made cr...</td>\n",
       "    </tr>\n",
       "  </tbody>\n",
       "</table>\n",
       "<p>105241 rows × 4 columns</p>\n",
       "</div>"
      ],
      "text/plain": [
       "                                                    tweet  punctuation_count  \\\n",
       "0                 sleep good remedi fall asleep need one                   6   \n",
       "1                                               work fun                   2   \n",
       "2       summer person love dull cold weather centralco...                  3   \n",
       "3                                 want smoke cig lighter                   2   \n",
       "4                    pass lot twit arriv trend topic bob                   8   \n",
       "...                                                   ...                ...   \n",
       "105236  i i i i i miss trip hehe turn bird amp turtl l...                 15   \n",
       "105237                                          hump say                   2   \n",
       "105238        seriou chemistri revis feel rather ill atm                   1   \n",
       "105239   weekend go sound like time iphon poker girl let                   5   \n",
       "105240  uff today vote eu parliament also went made cr...                  4   \n",
       "\n",
       "        sentiment                                           features  \n",
       "0               0          sleep good remedi fall asleep need one  6  \n",
       "1               0                                        work fun  2  \n",
       "2               1  summer person love dull cold weather centralco...  \n",
       "3               0                          want smoke cig lighter  2  \n",
       "4               0             pass lot twit arriv trend topic bob  8  \n",
       "...           ...                                                ...  \n",
       "105236          1  i i i i i miss trip hehe turn bird amp turtl l...  \n",
       "105237          0                                        hump say  2  \n",
       "105238          0      seriou chemistri revis feel rather ill atm  1  \n",
       "105239          0  weekend go sound like time iphon poker girl le...  \n",
       "105240          1  uff today vote eu parliament also went made cr...  \n",
       "\n",
       "[105241 rows x 4 columns]"
      ]
     },
     "execution_count": 209,
     "metadata": {},
     "output_type": "execute_result"
    }
   ],
   "source": [
    "data['features']=data['tweet'].map(str)+' '+data['punctuation_count'].map(str)\n",
    "data"
   ]
  },
  {
   "cell_type": "code",
   "execution_count": 210,
   "metadata": {},
   "outputs": [
    {
     "data": {
      "text/plain": [
       "array(['sleep good remedi fall asleep need one  6', 'work fun  2',\n",
       "       'summer person love dull cold weather centralcoastnsw  3', ...,\n",
       "       'seriou chemistri revis feel rather ill atm  1',\n",
       "       'weekend go sound like time iphon poker girl let  5',\n",
       "       'uff today vote eu parliament also went made cross big piec paper  4'],\n",
       "      dtype='<U146')"
      ]
     },
     "execution_count": 210,
     "metadata": {},
     "output_type": "execute_result"
    }
   ],
   "source": [
    "\n",
    "X=data.iloc[0:,3].values.astype(str)\n",
    "X"
   ]
  },
  {
   "cell_type": "markdown",
   "metadata": {},
   "source": [
    "# Tokenize"
   ]
  },
  {
   "cell_type": "code",
   "execution_count": 211,
   "metadata": {},
   "outputs": [
    {
     "data": {
      "text/plain": [
       "array([[0.        , 0.        , 0.        , ..., 0.        , 0.        ,\n",
       "        0.        ],\n",
       "       [0.        , 0.        , 2.01025613, ..., 0.        , 0.        ,\n",
       "        0.        ],\n",
       "       [0.        , 0.        , 0.        , ..., 0.        , 0.        ,\n",
       "        0.        ],\n",
       "       ...,\n",
       "       [0.        , 1.92795661, 0.        , ..., 0.        , 0.        ,\n",
       "        0.        ],\n",
       "       [0.        , 0.        , 0.        , ..., 4.40692576, 0.        ,\n",
       "        4.4331292 ],\n",
       "       [0.        , 0.        , 0.        , ..., 0.        , 0.        ,\n",
       "        0.        ]])"
      ]
     },
     "execution_count": 211,
     "metadata": {},
     "output_type": "execute_result"
    }
   ],
   "source": [
    "tokenizer = Tokenizer(num_words=100)\n",
    "tokenizer.fit_on_texts(X)\n",
    "\n",
    "X = tokenizer.texts_to_matrix(X, mode='tfidf')\n",
    "X"
   ]
  },
  {
   "cell_type": "code",
   "execution_count": 212,
   "metadata": {},
   "outputs": [
    {
     "name": "stdout",
     "output_type": "stream",
     "text": [
      "100\n"
     ]
    }
   ],
   "source": [
    "maxlenth=len(max(X, key=len))\n",
    "print(maxlenth)"
   ]
  },
  {
   "cell_type": "code",
   "execution_count": 213,
   "metadata": {},
   "outputs": [
    {
     "data": {
      "text/plain": [
       "array([[0, 0, 0, ..., 0, 0, 0],\n",
       "       [0, 0, 2, ..., 0, 0, 0],\n",
       "       [0, 0, 0, ..., 0, 0, 0],\n",
       "       ...,\n",
       "       [0, 1, 0, ..., 0, 0, 0],\n",
       "       [0, 0, 0, ..., 4, 0, 4],\n",
       "       [0, 0, 0, ..., 0, 0, 0]])"
      ]
     },
     "execution_count": 213,
     "metadata": {},
     "output_type": "execute_result"
    }
   ],
   "source": [
    "vocab_size = len(tokenizer.word_index) + 1\n",
    "\n",
    "maxlen = maxlenth\n",
    "\n",
    "X = pad_sequences(X, padding='post', maxlen=maxlen)\n",
    "\n",
    "X"
   ]
  },
  {
   "cell_type": "code",
   "execution_count": 214,
   "metadata": {},
   "outputs": [
    {
     "data": {
      "text/plain": [
       "(105241, 100)"
      ]
     },
     "execution_count": 214,
     "metadata": {},
     "output_type": "execute_result"
    }
   ],
   "source": [
    "X.shape"
   ]
  },
  {
   "cell_type": "code",
   "execution_count": 215,
   "metadata": {},
   "outputs": [
    {
     "data": {
      "text/plain": [
       "0         0\n",
       "1         0\n",
       "2         1\n",
       "3         0\n",
       "4         0\n",
       "         ..\n",
       "105236    1\n",
       "105237    0\n",
       "105238    0\n",
       "105239    0\n",
       "105240    1\n",
       "Name: sentiment, Length: 105241, dtype: int64"
      ]
     },
     "execution_count": 215,
     "metadata": {},
     "output_type": "execute_result"
    }
   ],
   "source": [
    "y = data.sentiment\n",
    "y"
   ]
  },
  {
   "cell_type": "markdown",
   "metadata": {},
   "source": [
    "# Split Data"
   ]
  },
  {
   "cell_type": "code",
   "execution_count": 216,
   "metadata": {},
   "outputs": [],
   "source": [
    "from sklearn.model_selection import train_test_split\n",
    "\n",
    "Xtrain, Xtest, ytrain, ytest = train_test_split(X,\n",
    "                                                y,\n",
    "                                                test_size=0.2,\n",
    "                                                random_state=10, stratify=y )"
   ]
  },
  {
   "cell_type": "code",
   "execution_count": 217,
   "metadata": {},
   "outputs": [
    {
     "data": {
      "text/plain": [
       "((84192, 100), (21049, 100), (84192,), (21049,))"
      ]
     },
     "execution_count": 217,
     "metadata": {},
     "output_type": "execute_result"
    }
   ],
   "source": [
    "Xtrain.shape, Xtest.shape, ytrain.shape, ytest.shape"
   ]
  },
  {
   "cell_type": "code",
   "execution_count": 218,
   "metadata": {},
   "outputs": [],
   "source": [
    "# size/shape of dataframe\n",
    "n_samples = Xtrain.shape[0]\n",
    "n_features = Xtrain.shape[1]"
   ]
  },
  {
   "cell_type": "markdown",
   "metadata": {},
   "source": [
    "# Model 1"
   ]
  },
  {
   "cell_type": "code",
   "execution_count": 223,
   "metadata": {},
   "outputs": [],
   "source": [
    "# Make the NN -----------------------------------------------------------------\n",
    "\n",
    "# Importing the Keras libraries and packages\n",
    "from keras.layers import Dense\n",
    "from keras.models import Sequential\n",
    "\n",
    "# define and initialize the model\n",
    "my_classifier = Sequential()\n",
    "\n",
    "# Adding the input layer AND the first hidden layer\n",
    "my_classifier.add(Dense(units = 100, kernel_regularizer='l2',\n",
    "                        activation = 'sigmoid', input_dim = n_features)),\n",
    "my_classifier.add(Dropout(0.2)),\n",
    "\n",
    "# Adding the second hidden layer\n",
    "my_classifier.add(Dense(units = 100, kernel_regularizer='l2',\n",
    "                        activation = 'relu')),\n",
    "#my_classifier.add(Dropout(0.2)),\n",
    "\n",
    "# Adding the third hidden layer\n",
    "my_classifier.add(Dense(units = 50, kernel_regularizer='l2',\n",
    "                        activation = 'relu')),\n",
    "#my_classifier.add(Dropout(0.2)),\n",
    "\n",
    "# Adding the last (output) layer\n",
    "my_classifier.add(Dense(units = 1, kernel_regularizer='l2',\n",
    "                        activation = 'softmax'))"
   ]
  },
  {
   "cell_type": "code",
   "execution_count": 224,
   "metadata": {},
   "outputs": [],
   "source": [
    "# Compiling the NN\n",
    "optimizer = tf.keras.optimizers.Adam(learning_rate=0.00001, beta_1=0.9, beta_2=0.999, epsilon=1e-07, amsgrad=True, name=\"Adam\")\n",
    "my_classifier.compile(optimizer = optimizer, loss = 'binary_crossentropy',\n",
    "                      metrics = ['accuracy'])"
   ]
  },
  {
   "cell_type": "code",
   "execution_count": 225,
   "metadata": {},
   "outputs": [
    {
     "data": {
      "image/png": "[encoded data removed]",
      "text/plain": [
       "<IPython.core.display.Image object>"
      ]
     },
     "execution_count": 225,
     "metadata": {},
     "output_type": "execute_result"
    }
   ],
   "source": [
    "#-- plot the model\n",
    "from keras.utils.vis_utils import plot_model\n",
    "plot_model(my_classifier, to_file='model.png', show_shapes=True)"
   ]
  },
  {
   "cell_type": "code",
   "execution_count": 226,
   "metadata": {},
   "outputs": [
    {
     "name": "stdout",
     "output_type": "stream",
     "text": [
      "Epoch 1/50\n",
      "1842/1842 [==============================] - 3s 2ms/step - loss: 3.0731 - accuracy: 0.4995 - val_loss: 2.7787 - val_accuracy: 0.5000\n",
      "Epoch 2/50\n",
      "1842/1842 [==============================] - 3s 1ms/step - loss: 2.5277 - accuracy: 0.4995 - val_loss: 2.2941 - val_accuracy: 0.5000\n",
      "Epoch 3/50\n",
      "1842/1842 [==============================] - 3s 1ms/step - loss: 2.1033 - accuracy: 0.4995 - val_loss: 1.9273 - val_accuracy: 0.5000\n",
      "Epoch 4/50\n",
      "1842/1842 [==============================] - 3s 1ms/step - loss: 1.7849 - accuracy: 0.4995 - val_loss: 1.6532 - val_accuracy: 0.5000\n",
      "Epoch 5/50\n",
      "1842/1842 [==============================] - 3s 1ms/step - loss: 1.5469 - accuracy: 0.4995 - val_loss: 1.4474 - val_accuracy: 0.5000\n",
      "Epoch 6/50\n",
      "1842/1842 [==============================] - 3s 1ms/step - loss: 1.3668 - accuracy: 0.4995 - val_loss: 1.2910 - val_accuracy: 0.5000\n",
      "Epoch 7/50\n",
      "1842/1842 [==============================] - 3s 2ms/step - loss: 1.2293 - accuracy: 0.4995 - val_loss: 1.1707 - val_accuracy: 0.5000\n",
      "Epoch 8/50\n",
      "1842/1842 [==============================] - 3s 2ms/step - loss: 1.1230 - accuracy: 0.4995 - val_loss: 1.0776 - val_accuracy: 0.5000\n",
      "Epoch 9/50\n",
      "1842/1842 [==============================] - 3s 1ms/step - loss: 1.0404 - accuracy: 0.4995 - val_loss: 1.0049 - val_accuracy: 0.5000\n",
      "Epoch 10/50\n",
      "1842/1842 [==============================] - 3s 1ms/step - loss: 0.9755 - accuracy: 0.4995 - val_loss: 0.9478 - val_accuracy: 0.5000\n",
      "Epoch 11/50\n",
      "1842/1842 [==============================] - 3s 1ms/step - loss: 0.9248 - accuracy: 0.4995 - val_loss: 0.9026 - val_accuracy: 0.5000\n",
      "Epoch 12/50\n",
      "1842/1842 [==============================] - 3s 1ms/step - loss: 0.8842 - accuracy: 0.4995 - val_loss: 0.8666 - val_accuracy: 0.5000\n",
      "Epoch 13/50\n",
      "1842/1842 [==============================] - 3s 1ms/step - loss: 0.8519 - accuracy: 0.4995 - val_loss: 0.8377 - val_accuracy: 0.5000\n",
      "Epoch 14/50\n",
      "1842/1842 [==============================] - 3s 1ms/step - loss: 0.8258 - accuracy: 0.4995 - val_loss: 0.8145 - val_accuracy: 0.5000\n",
      "Epoch 15/50\n",
      "1842/1842 [==============================] - 3s 1ms/step - loss: 0.8048 - accuracy: 0.4995 - val_loss: 0.7956 - val_accuracy: 0.5000\n",
      "Epoch 16/50\n",
      "1842/1842 [==============================] - 3s 1ms/step - loss: 0.7879 - accuracy: 0.4995 - val_loss: 0.7802 - val_accuracy: 0.5000\n",
      "Epoch 17/50\n",
      "1842/1842 [==============================] - 3s 1ms/step - loss: 0.7739 - accuracy: 0.4995 - val_loss: 0.7676 - val_accuracy: 0.5000\n",
      "Epoch 18/50\n",
      "1842/1842 [==============================] - 3s 1ms/step - loss: 0.7623 - accuracy: 0.4995 - val_loss: 0.7573 - val_accuracy: 0.5000\n",
      "Epoch 19/50\n",
      "1842/1842 [==============================] - 3s 2ms/step - loss: 0.7529 - accuracy: 0.4995 - val_loss: 0.7486 - val_accuracy: 0.5000\n",
      "Epoch 20/50\n",
      "1842/1842 [==============================] - 3s 1ms/step - loss: 0.7450 - accuracy: 0.4995 - val_loss: 0.7415 - val_accuracy: 0.5000\n",
      "Epoch 21/50\n",
      "1842/1842 [==============================] - 3s 1ms/step - loss: 0.7384 - accuracy: 0.4995 - val_loss: 0.7354 - val_accuracy: 0.5000\n",
      "Epoch 22/50\n",
      "1842/1842 [==============================] - 3s 1ms/step - loss: 0.7329 - accuracy: 0.4995 - val_loss: 0.7304 - val_accuracy: 0.5000\n",
      "Epoch 23/50\n",
      "1842/1842 [==============================] - 3s 1ms/step - loss: 0.7282 - accuracy: 0.4995 - val_loss: 0.7261 - val_accuracy: 0.5000 0.7292 - accuracy - ETA: \n",
      "Epoch 24/50\n",
      "1842/1842 [==============================] - 3s 1ms/step - loss: 0.7242 - accuracy: 0.4995 - val_loss: 0.7224 - val_accuracy: 0.5000\n",
      "Epoch 25/50\n",
      "1842/1842 [==============================] - 3s 1ms/step - loss: 0.7208 - accuracy: 0.4995 - val_loss: 0.7193 - val_accuracy: 0.5000\n",
      "Epoch 26/50\n",
      "1842/1842 [==============================] - 3s 2ms/step - loss: 0.7179 - accuracy: 0.4995 - val_loss: 0.7166 - val_accuracy: 0.5000\n",
      "Epoch 27/50\n",
      "1842/1842 [==============================] - 3s 1ms/step - loss: 0.7154 - accuracy: 0.4995 - val_loss: 0.7143 - val_accuracy: 0.5000\n",
      "Epoch 28/50\n",
      "1842/1842 [==============================] - 3s 1ms/step - loss: 0.7133 - accuracy: 0.4995 - val_loss: 0.7123 - val_accuracy: 0.5000\n",
      "Epoch 29/50\n",
      "1842/1842 [==============================] - 3s 1ms/step - loss: 0.7114 - accuracy: 0.4995 - val_loss: 0.7105 - val_accuracy: 0.5000\n",
      "Epoch 30/50\n",
      "1842/1842 [==============================] - 3s 1ms/step - loss: 0.7097 - accuracy: 0.4995 - val_loss: 0.7090 - val_accuracy: 0.5000racy: 0.49\n",
      "Epoch 31/50\n",
      "1842/1842 [==============================] - 3s 2ms/step - loss: 0.7083 - accuracy: 0.4995 - val_loss: 0.7076 - val_accuracy: 0.5000\n",
      "Epoch 32/50\n",
      "1842/1842 [==============================] - 3s 1ms/step - loss: 0.7070 - accuracy: 0.4995 - val_loss: 0.7064 - val_accuracy: 0.5000\n",
      "Epoch 33/50\n",
      "1842/1842 [==============================] - 3s 1ms/step - loss: 0.7059 - accuracy: 0.4995 - val_loss: 0.7054 - val_accuracy: 0.5000\n",
      "Epoch 34/50\n",
      "1842/1842 [==============================] - 3s 1ms/step - loss: 0.7049 - accuracy: 0.4995 - val_loss: 0.7044 - val_accuracy: 0.5000\n",
      "Epoch 35/50\n",
      "1842/1842 [==============================] - 3s 1ms/step - loss: 0.7040 - accuracy: 0.4995 - val_loss: 0.7036 - val_accuracy: 0.5000\n",
      "Epoch 36/50\n",
      "1842/1842 [==============================] - 3s 1ms/step - loss: 0.7032 - accuracy: 0.4995 - val_loss: 0.7028 - val_accuracy: 0.5000\n",
      "Epoch 37/50\n",
      "1842/1842 [==============================] - 3s 1ms/step - loss: 0.7025 - accuracy: 0.4995 - val_loss: 0.7022 - val_accuracy: 0.5000\n",
      "Epoch 38/50\n",
      "1842/1842 [==============================] - 3s 1ms/step - loss: 0.7019 - accuracy: 0.4995 - val_loss: 0.7015 - val_accuracy: 0.5000\n",
      "Epoch 39/50\n",
      "1842/1842 [==============================] - 3s 1ms/step - loss: 0.7013 - accuracy: 0.4995 - val_loss: 0.7010 - val_accuracy: 0.5000\n",
      "Epoch 40/50\n",
      "1842/1842 [==============================] - 3s 1ms/step - loss: 0.7007 - accuracy: 0.4995 - val_loss: 0.7005 - val_accuracy: 0.5000\n",
      "Epoch 41/50\n",
      "1842/1842 [==============================] - 3s 2ms/step - loss: 0.7003 - accuracy: 0.4995 - val_loss: 0.7000 - val_accuracy: 0.5000\n",
      "Epoch 42/50\n",
      "1842/1842 [==============================] - 3s 1ms/step - loss: 0.6998 - accuracy: 0.4995 - val_loss: 0.6996 - val_accuracy: 0.5000\n",
      "Epoch 43/50\n",
      "1842/1842 [==============================] - 3s 1ms/step - loss: 0.6994 - accuracy: 0.4995 - val_loss: 0.6992 - val_accuracy: 0.5000\n",
      "Epoch 44/50\n",
      "1842/1842 [==============================] - 3s 1ms/step - loss: 0.6991 - accuracy: 0.4995 - val_loss: 0.6989 - val_accuracy: 0.5000\n",
      "Epoch 45/50\n",
      "1842/1842 [==============================] - 3s 1ms/step - loss: 0.6987 - accuracy: 0.4995 - val_loss: 0.6986 - val_accuracy: 0.5000\n",
      "Epoch 46/50\n",
      "1842/1842 [==============================] - 3s 1ms/step - loss: 0.6984 - accuracy: 0.4995 - val_loss: 0.6983 - val_accuracy: 0.5000- accura\n",
      "Epoch 47/50\n",
      "1842/1842 [==============================] - 3s 1ms/step - loss: 0.6981 - accuracy: 0.4995 - val_loss: 0.6980 - val_accuracy: 0.5000\n",
      "Epoch 48/50\n",
      "1842/1842 [==============================] - 3s 1ms/step - loss: 0.6979 - accuracy: 0.4995 - val_loss: 0.6977 - val_accuracy: 0.5000\n",
      "Epoch 49/50\n",
      "1842/1842 [==============================] - 3s 1ms/step - loss: 0.6976 - accuracy: 0.4995 - val_loss: 0.6975 - val_accuracy: 0.5000\n",
      "Epoch 50/50\n",
      "1842/1842 [==============================] - 3s 1ms/step - loss: 0.6974 - accuracy: 0.4995 - val_loss: 0.6973 - val_accuracy: 0.5000\n"
     ]
    }
   ],
   "source": [
    "#model.summary() # model architecture\n",
    "checkpointer = ModelCheckpoint(filepath=\"weights.hdf\", monitor = 'val_accuracy', verbose=1, save_best_only=True) # save model's best weights\n",
    "\n",
    "# Fitting the ANN to the Training set\n",
    "history = my_classifier.fit(Xtrain, ytrain, validation_split=0.3,\n",
    "                            #batch_size = 5, \n",
    "                            epochs = 50)"
   ]
  },
  {
   "cell_type": "code",
   "execution_count": 227,
   "metadata": {},
   "outputs": [
    {
     "name": "stdout",
     "output_type": "stream",
     "text": [
      "Model: \"sequential_25\"\n",
      "_________________________________________________________________\n",
      " Layer (type)                Output Shape              Param #   \n",
      "=================================================================\n",
      " dense_108 (Dense)           (None, 100)               10100     \n",
      "                                                                 \n",
      " dropout_26 (Dropout)        (None, 100)               0         \n",
      "                                                                 \n",
      " dense_109 (Dense)           (None, 100)               10100     \n",
      "                                                                 \n",
      " dense_110 (Dense)           (None, 50)                5050      \n",
      "                                                                 \n",
      " dense_111 (Dense)           (None, 1)                 51        \n",
      "                                                                 \n",
      "=================================================================\n",
      "Total params: 25,301\n",
      "Trainable params: 25,301\n",
      "Non-trainable params: 0\n",
      "_________________________________________________________________\n"
     ]
    }
   ],
   "source": [
    "my_classifier.summary()"
   ]
  },
  {
   "cell_type": "code",
   "execution_count": 228,
   "metadata": {},
   "outputs": [],
   "source": [
    "# Make predictions\n",
    "# Predicting the Test set results\n",
    "y_pred_train = my_classifier.predict(Xtrain)"
   ]
  },
  {
   "cell_type": "code",
   "execution_count": 229,
   "metadata": {},
   "outputs": [],
   "source": [
    "# Predicting the Test set results\n",
    "y_pred_test = my_classifier.predict(Xtest)"
   ]
  },
  {
   "cell_type": "code",
   "execution_count": 230,
   "metadata": {},
   "outputs": [
    {
     "data": {
      "text/plain": [
       "array([[    0, 10532],\n",
       "       [    0, 10517]], dtype=int64)"
      ]
     },
     "execution_count": 230,
     "metadata": {},
     "output_type": "execute_result"
    }
   ],
   "source": [
    "# Making the Confusion Matrix\n",
    "from sklearn.metrics import confusion_matrix\n",
    "cm = confusion_matrix(ytest, y_pred_test)\n",
    "cm"
   ]
  },
  {
   "cell_type": "code",
   "execution_count": 231,
   "metadata": {},
   "outputs": [],
   "source": [
    "#confusion_mtx = tf.math.confusion_matrix(ytest, y_pred_test)\n",
    "#plt.figure(figsize=(10, 8))\n",
    "#sns.heatmap(confusion_mtx,\n",
    "#            xticklabels=y,\n",
    "#            yticklabels=y,\n",
    "#            annot=True, fmt='g')\n",
    "#plt.xlabel('Prediction')\n",
    "#plt.ylabel('Label')\n",
    "#plt.show()"
   ]
  },
  {
   "cell_type": "code",
   "execution_count": 232,
   "metadata": {},
   "outputs": [
    {
     "name": "stdout",
     "output_type": "stream",
     "text": [
      "dict_keys(['loss', 'accuracy', 'val_loss', 'val_accuracy'])\n"
     ]
    }
   ],
   "source": [
    "# list all the data in history\n",
    "print(history.history.keys())\n"
   ]
  },
  {
   "cell_type": "code",
   "execution_count": 233,
   "metadata": {},
   "outputs": [
    {
     "data": {
      "image/png": "[encoded data removed]",
      "text/plain": [
       "<Figure size 432x288 with 1 Axes>"
      ]
     },
     "metadata": {
      "needs_background": "light"
     },
     "output_type": "display_data"
    },
    {
     "data": {
      "image/png": "[encoded data removed]",
      "text/plain": [
       "<Figure size 432x288 with 1 Axes>"
      ]
     },
     "metadata": {
      "needs_background": "light"
     },
     "output_type": "display_data"
    }
   ],
   "source": [
    "# Plot the accuracy for both train and validation set\n",
    "plt.subplots() # open a new plot\n",
    "plt.plot(history.history['accuracy'])\n",
    "plt.plot(history.history['val_accuracy'])\n",
    "plt.title('model accuracy')\n",
    "plt.ylabel('accuracy')\n",
    "plt.xlabel('epoch')\n",
    "plt.legend(['train', 'validation'])\n",
    "plt.show()\n",
    "\n",
    "# Plot the loss for both train and validation set\n",
    "plt.subplots() # open a new plot\n",
    "plt.plot(history.history['loss'])\n",
    "plt.plot(history.history['val_loss'])\n",
    "plt.title('model loss')\n",
    "plt.ylabel('loss')\n",
    "plt.xlabel('epoch')\n",
    "plt.legend(['train', 'validation'])\n",
    "plt.show()"
   ]
  },
  {
   "cell_type": "markdown",
   "metadata": {},
   "source": [
    "# Model 2"
   ]
  },
  {
   "cell_type": "code",
   "execution_count": 144,
   "metadata": {},
   "outputs": [],
   "source": [
    "# Make the NN -----------------------------------------------------------------\n",
    "\n",
    "# Importing the Keras libraries and packages\n",
    "from keras.layers import Dense\n",
    "from keras.models import Sequential\n",
    "\n",
    "# define and initialize the model\n",
    "my_classifier2 = Sequential()\n",
    "\n",
    "# Adding the input layer AND the first hidden layer\n",
    "my_classifier2.add(Dense(units = 40, kernel_initializer = 'uniform',\n",
    "                        activation = 'relu', input_dim = n_featuers))\n",
    "\n",
    "# Adding the second hidden layer\n",
    "my_classifier2.add(Dense(units = 30, kernel_initializer = 'uniform',\n",
    "                        activation = 'relu'))\n",
    "\n",
    "# Adding the third hidden layer\n",
    "my_classifier2.add(Dense(units = 15, kernel_initializer = 'uniform',\n",
    "                        activation = 'relu'))\n",
    "\n",
    "\n",
    "# Adding the last (output) layer\n",
    "my_classifier2.add(Dense(units = 1, kernel_initializer = 'uniform',\n",
    "                        activation = 'sigmoid'))"
   ]
  },
  {
   "cell_type": "code",
   "execution_count": 145,
   "metadata": {},
   "outputs": [],
   "source": [
    "# Compiling the ANN\n",
    "my_classifier2.compile(optimizer = 'adam', loss = 'binary_crossentropy',\n",
    "                      metrics = ['accuracy'])"
   ]
  },
  {
   "cell_type": "code",
   "execution_count": 146,
   "metadata": {},
   "outputs": [
    {
     "data": {
      "image/png": "[encoded data removed]",
      "text/plain": [
       "<IPython.core.display.Image object>"
      ]
     },
     "execution_count": 146,
     "metadata": {},
     "output_type": "execute_result"
    }
   ],
   "source": [
    "#-- plot the model\n",
    "from keras.utils.vis_utils import plot_model\n",
    "plot_model(my_classifier2, to_file='model2.png', show_shapes=True)"
   ]
  },
  {
   "cell_type": "code",
   "execution_count": 147,
   "metadata": {},
   "outputs": [
    {
     "name": "stdout",
     "output_type": "stream",
     "text": [
      "Epoch 1/60\n",
      "6736/6736 [==============================] - 6s 905us/step - loss: 0.6936 - accuracy: 0.5018 - val_loss: 0.6932 - val_accuracy: 0.4970\n",
      "Epoch 2/60\n",
      "6736/6736 [==============================] - 6s 872us/step - loss: 0.6933 - accuracy: 0.4980 - val_loss: 0.6932 - val_accuracy: 0.4970\n",
      "Epoch 3/60\n",
      "6736/6736 [==============================] - 6s 860us/step - loss: 0.6933 - accuracy: 0.5001 - val_loss: 0.6931 - val_accuracy: 0.5070\n",
      "Epoch 4/60\n",
      "6736/6736 [==============================] - 6s 864us/step - loss: 0.6934 - accuracy: 0.5020 - val_loss: 0.6930 - val_accuracy: 0.4970\n",
      "Epoch 5/60\n",
      "6736/6736 [==============================] - 6s 878us/step - loss: 0.6928 - accuracy: 0.5013 - val_loss: 0.7029 - val_accuracy: 0.5101\n",
      "Epoch 6/60\n",
      "6736/6736 [==============================] - 5s 803us/step - loss: 0.6932 - accuracy: 0.5026 - val_loss: 0.6929 - val_accuracy: 0.4970\n",
      "Epoch 7/60\n",
      "6736/6736 [==============================] - 9s 1ms/step - loss: 0.6928 - accuracy: 0.5030 - val_loss: 0.6932 - val_accuracy: 0.4970\n",
      "Epoch 8/60\n",
      "6736/6736 [==============================] - 7s 1ms/step - loss: 0.6928 - accuracy: 0.5008 - val_loss: 0.6927 - val_accuracy: 0.5056\n",
      "Epoch 9/60\n",
      "6736/6736 [==============================] - 6s 877us/step - loss: 0.6931 - accuracy: 0.5022 - val_loss: 0.6927 - val_accuracy: 0.4970\n",
      "Epoch 10/60\n",
      "6736/6736 [==============================] - 6s 818us/step - loss: 0.6926 - accuracy: 0.5007 - val_loss: 0.6925 - val_accuracy: 0.5064\n",
      "Epoch 11/60\n",
      "6736/6736 [==============================] - 6s 895us/step - loss: 0.6927 - accuracy: 0.5020 - val_loss: 0.6925 - val_accuracy: 0.5061\n",
      "Epoch 12/60\n",
      "6736/6736 [==============================] - 6s 847us/step - loss: 0.6924 - accuracy: 0.5013 - val_loss: 0.6922 - val_accuracy: 0.5062\n",
      "Epoch 13/60\n",
      "6736/6736 [==============================] - 6s 850us/step - loss: 0.6924 - accuracy: 0.5037 - val_loss: 0.6922 - val_accuracy: 0.5072\n",
      "Epoch 14/60\n",
      "6736/6736 [==============================] - 6s 826us/step - loss: 0.6923 - accuracy: 0.5032 - val_loss: 0.6924 - val_accuracy: 0.5059\n",
      "Epoch 15/60\n",
      "6736/6736 [==============================] - 5s 813us/step - loss: 0.6920 - accuracy: 0.5047 - val_loss: 0.6923 - val_accuracy: 0.4970\n",
      "Epoch 16/60\n",
      "6736/6736 [==============================] - 6s 903us/step - loss: 0.6920 - accuracy: 0.5023 - val_loss: 0.6921 - val_accuracy: 0.5079\n",
      "Epoch 17/60\n",
      "6736/6736 [==============================] - 6s 850us/step - loss: 0.6920 - accuracy: 0.5042 - val_loss: 0.6918 - val_accuracy: 0.5080\n",
      "Epoch 18/60\n",
      "6736/6736 [==============================] - 6s 843us/step - loss: 0.6918 - accuracy: 0.5060 - val_loss: 0.6917 - val_accuracy: 0.5075\n",
      "Epoch 19/60\n",
      "6736/6736 [==============================] - 6s 835us/step - loss: 0.6921 - accuracy: 0.5041 - val_loss: 0.6917 - val_accuracy: 0.5070\n",
      "Epoch 20/60\n",
      "6736/6736 [==============================] - 6s 833us/step - loss: 0.6918 - accuracy: 0.5047 - val_loss: 0.6919 - val_accuracy: 0.5068\n",
      "Epoch 21/60\n",
      "6736/6736 [==============================] - 6s 830us/step - loss: 0.6919 - accuracy: 0.5014 - val_loss: 0.6915 - val_accuracy: 0.5069\n",
      "Epoch 22/60\n",
      "6736/6736 [==============================] - 6s 843us/step - loss: 0.6917 - accuracy: 0.5034 - val_loss: 0.6920 - val_accuracy: 0.4970\n",
      "Epoch 23/60\n",
      "6736/6736 [==============================] - 6s 856us/step - loss: 0.6918 - accuracy: 0.5020 - val_loss: 0.6922 - val_accuracy: 0.4970\n",
      "Epoch 24/60\n",
      "6736/6736 [==============================] - 6s 887us/step - loss: 0.6918 - accuracy: 0.5014 - val_loss: 0.6915 - val_accuracy: 0.5070\n",
      "Epoch 25/60\n",
      "6736/6736 [==============================] - 6s 848us/step - loss: 0.6918 - accuracy: 0.5025 - val_loss: 0.6916 - val_accuracy: 0.5066\n",
      "Epoch 26/60\n",
      "6736/6736 [==============================] - 6s 829us/step - loss: 0.6916 - accuracy: 0.5016 - val_loss: 0.6918 - val_accuracy: 0.5069\n",
      "Epoch 27/60\n",
      "6736/6736 [==============================] - 6s 831us/step - loss: 0.6917 - accuracy: 0.5010 - val_loss: 0.6916 - val_accuracy: 0.4970\n",
      "Epoch 28/60\n",
      "6736/6736 [==============================] - 6s 846us/step - loss: 0.6919 - accuracy: 0.5018 - val_loss: 0.6916 - val_accuracy: 0.4970\n",
      "Epoch 29/60\n",
      "6736/6736 [==============================] - 6s 833us/step - loss: 0.6917 - accuracy: 0.5028 - val_loss: 0.6918 - val_accuracy: 0.5059\n",
      "Epoch 30/60\n",
      "6736/6736 [==============================] - 6s 865us/step - loss: 0.6919 - accuracy: 0.5026 - val_loss: 0.6916 - val_accuracy: 0.5069\n",
      "Epoch 31/60\n",
      "6736/6736 [==============================] - 6s 856us/step - loss: 0.6918 - accuracy: 0.5028 - val_loss: 0.6917 - val_accuracy: 0.4970\n",
      "Epoch 32/60\n",
      "6736/6736 [==============================] - 6s 833us/step - loss: 0.6919 - accuracy: 0.5047 - val_loss: 0.6915 - val_accuracy: 0.5070\n",
      "Epoch 33/60\n",
      "6736/6736 [==============================] - 6s 825us/step - loss: 0.6916 - accuracy: 0.5030 - val_loss: 0.6919 - val_accuracy: 0.5063\n",
      "Epoch 34/60\n",
      "6736/6736 [==============================] - 6s 905us/step - loss: 0.6918 - accuracy: 0.5003 - val_loss: 0.6919 - val_accuracy: 0.4970\n",
      "Epoch 35/60\n",
      "6736/6736 [==============================] - 6s 896us/step - loss: 0.6917 - accuracy: 0.4986 - val_loss: 0.6919 - val_accuracy: 0.5062\n",
      "Epoch 36/60\n",
      "6736/6736 [==============================] - 6s 873us/step - loss: 0.6917 - accuracy: 0.5016 - val_loss: 0.6915 - val_accuracy: 0.5068\n",
      "Epoch 37/60\n",
      "6736/6736 [==============================] - 6s 884us/step - loss: 0.6922 - accuracy: 0.5012 - val_loss: 0.6917 - val_accuracy: 0.4970\n",
      "Epoch 38/60\n",
      "6736/6736 [==============================] - 6s 881us/step - loss: 0.6919 - accuracy: 0.5044 - val_loss: 0.6920 - val_accuracy: 0.5080\n",
      "Epoch 39/60\n",
      "6736/6736 [==============================] - 6s 870us/step - loss: 0.6919 - accuracy: 0.5038 - val_loss: 0.6919 - val_accuracy: 0.5069\n",
      "Epoch 40/60\n",
      "6736/6736 [==============================] - 6s 876us/step - loss: 0.6917 - accuracy: 0.5039 - val_loss: 0.6915 - val_accuracy: 0.5071\n",
      "Epoch 41/60\n",
      "6736/6736 [==============================] - 6s 884us/step - loss: 0.6944 - accuracy: 0.5027 - val_loss: 0.6915 - val_accuracy: 0.5073\n",
      "Epoch 42/60\n",
      "6736/6736 [==============================] - 6s 870us/step - loss: 0.6916 - accuracy: 0.5011 - val_loss: 0.6918 - val_accuracy: 0.4970\n",
      "Epoch 43/60\n",
      "6736/6736 [==============================] - 6s 868us/step - loss: 0.6917 - accuracy: 0.5036 - val_loss: 0.6914 - val_accuracy: 0.5066\n",
      "Epoch 44/60\n",
      "6736/6736 [==============================] - 6s 873us/step - loss: 0.6918 - accuracy: 0.5029 - val_loss: 0.6917 - val_accuracy: 0.4970\n",
      "Epoch 45/60\n",
      "6736/6736 [==============================] - 6s 888us/step - loss: 0.6918 - accuracy: 0.5046 - val_loss: 0.6914 - val_accuracy: 0.5069\n",
      "Epoch 46/60\n",
      "6736/6736 [==============================] - 6s 862us/step - loss: 0.6917 - accuracy: 0.4998 - val_loss: 0.6917 - val_accuracy: 0.5066\n",
      "Epoch 47/60\n",
      "6736/6736 [==============================] - 6s 860us/step - loss: 0.6918 - accuracy: 0.4985 - val_loss: 0.6914 - val_accuracy: 0.5073\n",
      "Epoch 48/60\n",
      "6736/6736 [==============================] - 6s 857us/step - loss: 0.6916 - accuracy: 0.4993 - val_loss: 0.6913 - val_accuracy: 0.4970\n",
      "Epoch 49/60\n",
      "6736/6736 [==============================] - 6s 857us/step - loss: 0.6916 - accuracy: 0.5029 - val_loss: 0.6914 - val_accuracy: 0.5067\n",
      "Epoch 50/60\n",
      "6736/6736 [==============================] - 6s 848us/step - loss: 0.6921 - accuracy: 0.5003 - val_loss: 0.6930 - val_accuracy: 0.5036\n",
      "Epoch 51/60\n",
      "6736/6736 [==============================] - 6s 844us/step - loss: 0.6925 - accuracy: 0.5005 - val_loss: 0.6916 - val_accuracy: 0.5066\n",
      "Epoch 52/60\n",
      "6736/6736 [==============================] - 6s 854us/step - loss: 0.6919 - accuracy: 0.5044 - val_loss: 0.6917 - val_accuracy: 0.4970\n",
      "Epoch 53/60\n",
      "6736/6736 [==============================] - 6s 844us/step - loss: 0.6918 - accuracy: 0.5023 - val_loss: 0.6916 - val_accuracy: 0.4970\n",
      "Epoch 54/60\n",
      "6736/6736 [==============================] - 6s 846us/step - loss: 0.6919 - accuracy: 0.5003 - val_loss: 0.6920 - val_accuracy: 0.5057\n",
      "Epoch 55/60\n",
      "6736/6736 [==============================] - 6s 841us/step - loss: 0.6918 - accuracy: 0.4995 - val_loss: 0.6919 - val_accuracy: 0.4970\n",
      "Epoch 56/60\n",
      "6736/6736 [==============================] - 6s 920us/step - loss: 0.6917 - accuracy: 0.4990 - val_loss: 0.6915 - val_accuracy: 0.5062\n",
      "Epoch 57/60\n",
      "6736/6736 [==============================] - 6s 863us/step - loss: 0.6918 - accuracy: 0.5008 - val_loss: 0.6916 - val_accuracy: 0.5060\n",
      "Epoch 58/60\n",
      "6736/6736 [==============================] - 6s 877us/step - loss: 0.6917 - accuracy: 0.5028 - val_loss: 0.6917 - val_accuracy: 0.5060\n",
      "Epoch 59/60\n",
      "6736/6736 [==============================] - 6s 842us/step - loss: 0.6917 - accuracy: 0.4993 - val_loss: 0.6918 - val_accuracy: 0.4970\n",
      "Epoch 60/60\n",
      "6736/6736 [==============================] - 6s 863us/step - loss: 0.6917 - accuracy: 0.5026 - val_loss: 0.6918 - val_accuracy: 0.5063\n"
     ]
    }
   ],
   "source": [
    "# Fitting the ANN to the Training set\n",
    "history = my_classifier2.fit(Xtrain, ytrain, validation_split=0.2,\n",
    "                            batch_size = 10, epochs = 60)"
   ]
  },
  {
   "cell_type": "code",
   "execution_count": 151,
   "metadata": {},
   "outputs": [
    {
     "name": "stdout",
     "output_type": "stream",
     "text": [
      "Model: \"sequential_4\"\n",
      "_________________________________________________________________\n",
      " Layer (type)                Output Shape              Param #   \n",
      "=================================================================\n",
      " dense_13 (Dense)            (None, 40)                2040      \n",
      "                                                                 \n",
      " dense_14 (Dense)            (None, 30)                1230      \n",
      "                                                                 \n",
      " dense_15 (Dense)            (None, 15)                465       \n",
      "                                                                 \n",
      " dense_16 (Dense)            (None, 1)                 16        \n",
      "                                                                 \n",
      "=================================================================\n",
      "Total params: 3,751\n",
      "Trainable params: 3,751\n",
      "Non-trainable params: 0\n",
      "_________________________________________________________________\n"
     ]
    }
   ],
   "source": [
    "my_classifier2.summary()"
   ]
  },
  {
   "cell_type": "code",
   "execution_count": 148,
   "metadata": {},
   "outputs": [],
   "source": [
    "# Make predictions\n",
    "# Predicting the Test set results\n",
    "y_pred_train = my_classifier2.predict(Xtrain)"
   ]
  },
  {
   "cell_type": "code",
   "execution_count": 149,
   "metadata": {},
   "outputs": [],
   "source": [
    "# Predicting the Test set results\n",
    "y_pred_test = my_classifier2.predict(Xtest)"
   ]
  },
  {
   "cell_type": "code",
   "execution_count": null,
   "metadata": {},
   "outputs": [],
   "source": [
    "# Making the Confusion Matrix\n",
    "#from sklearn.metrics import confusion_matrix\n",
    "#cm = confusion_matrix(ytest, y_pred_test)\n"
   ]
  },
  {
   "cell_type": "code",
   "execution_count": 150,
   "metadata": {},
   "outputs": [
    {
     "name": "stdout",
     "output_type": "stream",
     "text": [
      "dict_keys(['loss', 'accuracy', 'val_loss', 'val_accuracy'])\n"
     ]
    }
   ],
   "source": [
    "# list all the data in history\n",
    "print(history.history.keys())\n"
   ]
  },
  {
   "cell_type": "code",
   "execution_count": 153,
   "metadata": {},
   "outputs": [
    {
     "data": {
      "image/png": "[encoded data removed]",
      "text/plain": [
       "<Figure size 432x288 with 1 Axes>"
      ]
     },
     "metadata": {
      "needs_background": "light"
     },
     "output_type": "display_data"
    },
    {
     "data": {
      "image/png": "[encoded data removed]",
      "text/plain": [
       "<Figure size 432x288 with 1 Axes>"
      ]
     },
     "metadata": {
      "needs_background": "light"
     },
     "output_type": "display_data"
    }
   ],
   "source": [
    "# Plot the accuracy for both train and validation set\n",
    "plt.subplots() # open a new plot\n",
    "plt.plot(history.history['accuracy'])\n",
    "plt.plot(history.history['val_accuracy'])\n",
    "plt.title('model accuracy')\n",
    "plt.ylabel('accuracy')\n",
    "plt.xlabel('epoch')\n",
    "plt.legend(['train', 'validation'])\n",
    "plt.show()\n",
    "\n",
    "# Plot the loss for both train and validation set\n",
    "plt.subplots() # open a new plot\n",
    "plt.plot(history.history['loss'])\n",
    "plt.plot(history.history['val_loss'])\n",
    "plt.title('model loss')\n",
    "plt.ylabel('loss')\n",
    "plt.xlabel('epoch')\n",
    "plt.legend(['train', 'validation'])\n",
    "plt.show()"
   ]
  }
 ],
 "metadata": {
  "interpreter": {
   "hash": "069624a5003d722d46b2ddcbbef8ec29c962821c31c4d6de5b70c8b5461f7514"
  },
  "kernelspec": {
   "display_name": "Python 3.8.12 64-bit ('tensorgpupy38': conda)",
   "language": "python",
   "name": "python3"
  },
  "language_info": {
   "codemirror_mode": {
    "name": "ipython",
    "version": 3
   },
   "file_extension": ".py",
   "mimetype": "text/x-python",
   "name": "python",
   "nbconvert_exporter": "python",
   "pygments_lexer": "ipython3",
   "version": "3.8.12"
  },
  "orig_nbformat": 4
 },
 "nbformat": 4,
 "nbformat_minor": 2
}
