{
  "cells": [
    {
      "cell_type": "markdown",
      "metadata": {
        "id": "i6xjEFBJQ73X"
      },
      "source": [
        "# Project"
      ]
    },
    {
      "cell_type": "markdown",
      "metadata": {
        "id": "WB--FK2SQ98v"
      },
      "source": [
        "## Imports"
      ]
    },
    {
      "cell_type": "code",
      "execution_count": null,
      "metadata": {
        "colab": {
          "base_uri": "https://localhost:8080/"
        },
        "id": "lmb-1j_37FcV",
        "outputId": "61e89b8a-3866-4870-c012-51df0314c92d"
      },
      "outputs": [
        {
          "name": "stdout",
          "output_type": "stream",
          "text": [
            "Requirement already satisfied: config in /usr/local/lib/python3.7/dist-packages (0.5.1)\n"
          ]
        }
      ],
      "source": [
        "pip install config"
      ]
    },
    {
      "cell_type": "code",
      "execution_count": null,
      "metadata": {
        "colab": {
          "base_uri": "https://localhost:8080/"
        },
        "id": "klwzt_N__SMM",
        "outputId": "880f05c5-bd6a-4867-8da3-40a51a0d4f5a"
      },
      "outputs": [
        {
          "name": "stdout",
          "output_type": "stream",
          "text": [
            "Requirement already satisfied: tweepy==4.4.0 in /usr/local/lib/python3.7/dist-packages (4.4.0)\n",
            "Requirement already satisfied: requests-oauthlib<2,>=1.0.0 in /usr/local/lib/python3.7/dist-packages (from tweepy==4.4.0) (1.3.0)\n",
            "Requirement already satisfied: requests<3,>=2.11.1 in /usr/local/lib/python3.7/dist-packages (from tweepy==4.4.0) (2.23.0)\n",
            "Requirement already satisfied: certifi>=2017.4.17 in /usr/local/lib/python3.7/dist-packages (from requests<3,>=2.11.1->tweepy==4.4.0) (2021.10.8)\n",
            "Requirement already satisfied: urllib3!=1.25.0,!=1.25.1,<1.26,>=1.21.1 in /usr/local/lib/python3.7/dist-packages (from requests<3,>=2.11.1->tweepy==4.4.0) (1.24.3)\n",
            "Requirement already satisfied: chardet<4,>=3.0.2 in /usr/local/lib/python3.7/dist-packages (from requests<3,>=2.11.1->tweepy==4.4.0) (3.0.4)\n",
            "Requirement already satisfied: idna<3,>=2.5 in /usr/local/lib/python3.7/dist-packages (from requests<3,>=2.11.1->tweepy==4.4.0) (2.10)\n",
            "Requirement already satisfied: oauthlib>=3.0.0 in /usr/local/lib/python3.7/dist-packages (from requests-oauthlib<2,>=1.0.0->tweepy==4.4.0) (3.1.1)\n"
          ]
        }
      ],
      "source": [
        "pip install 'tweepy==4.4.0'"
      ]
    },
    {
      "cell_type": "code",
      "execution_count": null,
      "metadata": {
        "colab": {
          "base_uri": "https://localhost:8080/"
        },
        "id": "_fiIiewfyjXj",
        "outputId": "49ac500f-8197-425e-a3b8-f9f1c94e853b"
      },
      "outputs": [
        {
          "name": "stdout",
          "output_type": "stream",
          "text": [
            "[nltk_data] Downloading package stopwords to /root/nltk_data...\n",
            "[nltk_data]   Package stopwords is already up-to-date!\n"
          ]
        }
      ],
      "source": [
        "import numpy as np\n",
        "import pandas as pd\n",
        "import json\n",
        "import keras\n",
        "import keras.preprocessing.text as kpt\n",
        "from keras.preprocessing.text import Tokenizer\n",
        "import nltk\n",
        "nltk.download('stopwords')\n",
        "from nltk.corpus import stopwords\n",
        "import tensorflow as tf\n",
        "from sklearn import preprocessing, model_selection\n",
        "from keras.models import Sequential\n",
        "from keras.layers import Dense, Dropout, Activation\n",
        "from tensorflow.keras.callbacks import ModelCheckpoint\n",
        "from sklearn.metrics import confusion_matrix\n",
        "import matplotlib.pyplot as plt\n",
        "\n",
        "import tweepy"
      ]
    },
    {
      "cell_type": "code",
      "execution_count": null,
      "metadata": {
        "id": "P-Z5G9OFUghr"
      },
      "outputs": [],
      "source": [
        "FILE_PATH = '/content/drive/MyDrive/ML/GBC/DL1/Project/'"
      ]
    },
    {
      "cell_type": "markdown",
      "metadata": {
        "id": "UZpFsMhEQ6vK"
      },
      "source": [
        "## Load Tweets"
      ]
    },
    {
      "cell_type": "code",
      "execution_count": null,
      "metadata": {
        "id": "6qHaWhbzykAO"
      },
      "outputs": [],
      "source": [
        "# import connection info\n",
        "twitter_api_info = pd.read_csv(FILE_PATH + 'CONNECTION_INFO.csv')\n",
        "twitter_api_info = twitter_api_info.set_index('key')"
      ]
    },
    {
      "cell_type": "code",
      "execution_count": null,
      "metadata": {
        "id": "m1-CXzS17HQP"
      },
      "outputs": [],
      "source": [
        "API_KEY = twitter_api_info.loc['API_KEY']['value']\n",
        "API_KEY_SECRET = twitter_api_info.loc['API_KEY_SECRET']['value']\n",
        "BEARER_TOKEN = twitter_api_info.loc['BEARER_TOKEN']['value']\n",
        "ACCESS_TOKEN = twitter_api_info.loc['ACCESS_TOKEN']['value']\n",
        "ACCESS_TOKEN_SECRET = twitter_api_info.loc['ACCESS_TOKEN_SECRET']['value']"
      ]
    },
    {
      "cell_type": "code",
      "execution_count": null,
      "metadata": {
        "id": "tQvIZLPG7Il-"
      },
      "outputs": [],
      "source": [
        "# Functions to grab tweets\n",
        "\n",
        "def getClient():\n",
        "    client = tweepy.Client(\n",
        "        bearer_token=BEARER_TOKEN,\n",
        "        consumer_key=API_KEY,\n",
        "        consumer_secret=API_KEY_SECRET,\n",
        "        access_token=ACCESS_TOKEN,\n",
        "        access_token_secret=ACCESS_TOKEN_SECRET\n",
        "    )\n",
        "    return client\n",
        "\n",
        "def searchTweets(client, query, max_results):\n",
        "    tweets = client.search_recent_tweets(query=query, max_results=max_results)\n",
        "\n",
        "    tweet_data =  tweets.data\n",
        "    results = []\n",
        "\n",
        "    if not tweet_data is None and len(tweet_data) > 0:\n",
        "        for tweet in tweet_data:\n",
        "            obj = {}\n",
        "            obj['id'] = tweet.id\n",
        "            obj['text'] = tweet.text\n",
        "            results.append(obj)\n",
        "\n",
        "    return results\n",
        "\n",
        "def returnTweets(query):\n",
        "    query = '{} lang:en -is:retweet'.format(query)\n",
        "\n",
        "    client = getClient()\n",
        "    tweets = searchTweets(client, query, 50)\n",
        "\n",
        "    objs = []\n",
        "\n",
        "    if len(tweets) > 0:\n",
        "        for tweet in tweets:\n",
        "            obj = {}\n",
        "            obj['text'] = tweet['text']\n",
        "            objs.append(obj)\n",
        "\n",
        "    return(objs)"
      ]
    },
    {
      "cell_type": "code",
      "execution_count": null,
      "metadata": {
        "colab": {
          "base_uri": "https://localhost:8080/"
        },
        "id": "RX9TKaTQ6iCs",
        "outputId": "de0e1239-917d-41b1-8791-c800d80f519e"
      },
      "outputs": [
        {
          "name": "stdout",
          "output_type": "stream",
          "text": [
            "{'id': 1485819882667397124, 'text': 'RT @BitcoinMagazine: \"The safest and most profitable moment to buy is when the price is down.\" – El Salvador president on #Bitcoin https://…'}\n",
            "{'id': 1485819882067349508, 'text': 'Trending on #LunarCrush:\\n\\n\"Investidores aproveitam queda do Bitcoin e investem US$ 14 milhões em fundos de criptomoedas\" via @infomoney\\n\\nTop coin mentions\\n$btc\\n\\nhttps://t.co/wuzaPWGHIE'}\n",
            "{'id': 1485819880116998146, 'text': 'RT @freecashcom: $100.00 #Bitcoin Giveaway\\n\\n- Retweet\\n- Follow us\\n\\nRolling in 24 hours 🔥'}\n",
            "{'id': 1485819878812819456, 'text': 'I am in the running to win the Metaverse Lab Airdrop with the Prizepool of 20,000 $MVP ,Check it out #Giveaway #Airdrop #BNB #Solana #Bitcoin https://t.co/YClXFm7hGU'}\n",
            "{'id': 1485819876065386496, 'text': '#Bitcoin es y será siempre un resguardo de valor. Siempre será mejor tener un registro mundial descentralizado que confiar en instituciones corrompibles. 👀 https://t.co/mcFabG6qDR'}\n",
            "{'id': 1485819875834855424, 'text': 'RT @WebcoinCapital: 🔥Metaverse Lab Airdrop is now live 🚀\\n\\nTo celebrate 🥂 Launch of @LabMetaverse , we will #Giveaway 10,000 $MVP + MVP NFT…'}\n",
            "{'id': 1485819875474161667, 'text': 'RT @AirdropDet: 🔍 New #Airdrop: AME Chain\\n\\n💲Reward: Up to 500 AME + 200K AME referral pool\\n\\n🔴 Start the airdrop bot https://t.co/GH64jlLXPl…'}\n",
            "{'id': 1485819875092307969, 'text': '“Daaaaamn shawty imma call you bitcoin the way you dip”\\n\\n#Bitcoin #bitcoinprice #nftcomedy #nftsrt #NFTCommunity #nftphotographer'}\n",
            "{'id': 1485819875088281604, 'text': 'RT @airdropinspect: New airdrop: ADADAO X Cardence (AUSD)\\nTotal Reward: $20,000 worth of AUSD\\nRate: ⭐️⭐️⭐️⭐️\\nWinners: 2,000 Random\\nDistribu…'}\n",
            "{'id': 1485819874832269321, 'text': 'RT @rockerfellerxau: sol taraf 2021 mayısta başlayan temmuzda dip yapan düşüş!\\n\\nsağ taraf kasımda tepe yapan ve ocakta dip yapıp yükselişe…'}\n"
          ]
        }
      ],
      "source": [
        "tweets = searchTweets(getClient(), 'bitcoin', 10)\n",
        "# tweets\n",
        "for x in tweets:\n",
        "    print(x)\n",
        "\n",
        "# query = 'canada'\n",
        "# returnTweets(query)"
      ]
    }
  ],
  "metadata": {
    "accelerator": "GPU",
    "colab": {
      "collapsed_sections": [],
      "name": "connect_to_twitter.ipynb",
      "provenance": []
    },
    "kernelspec": {
      "display_name": "Python 3",
      "name": "python3"
    },
    "language_info": {
      "name": "python"
    }
  },
  "nbformat": 4,
  "nbformat_minor": 0
}