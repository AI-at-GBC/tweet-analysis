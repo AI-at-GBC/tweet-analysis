{
 "cells": [
  {
   "cell_type": "markdown",
   "metadata": {},
   "source": [
    "# Import Libraries"
   ]
  },
  {
   "cell_type": "code",
   "execution_count": 1,
   "metadata": {},
   "outputs": [],
   "source": [
    "import numpy as np\n",
    "import pandas as pd\n",
    "import tweepy\n",
    "import tensorflow as tf\n",
    "from tensorflow.keras.preprocessing.text import Tokenizer\n",
    "from tensorflow.keras.preprocessing.sequence import pad_sequences\n",
    "from tensorflow.keras.models import Sequential, load_model\n",
    "from tensorflow.keras.layers import Dense, Flatten, LSTM\n",
    "from tensorflow.keras import activations\n",
    "from tensorflow.keras.layers import Embedding\n",
    "from tensorflow.keras.layers import GlobalMaxPooling1D, Conv1D"
   ]
  },
  {
   "cell_type": "markdown",
   "metadata": {},
   "source": [
    "# Import the Dataset"
   ]
  },
  {
   "cell_type": "code",
   "execution_count": 2,
   "metadata": {},
   "outputs": [
    {
     "data": {
      "text/html": [
       "<div>\n",
       "<style scoped>\n",
       "    .dataframe tbody tr th:only-of-type {\n",
       "        vertical-align: middle;\n",
       "    }\n",
       "\n",
       "    .dataframe tbody tr th {\n",
       "        vertical-align: top;\n",
       "    }\n",
       "\n",
       "    .dataframe thead th {\n",
       "        text-align: right;\n",
       "    }\n",
       "</style>\n",
       "<table border=\"1\" class=\"dataframe\">\n",
       "  <thead>\n",
       "    <tr style=\"text-align: right;\">\n",
       "      <th></th>\n",
       "      <th>Unnamed: 0</th>\n",
       "      <th>tweet</th>\n",
       "      <th>punctuation_count</th>\n",
       "      <th>sentiment</th>\n",
       "    </tr>\n",
       "  </thead>\n",
       "  <tbody>\n",
       "    <tr>\n",
       "      <th>0</th>\n",
       "      <td>0</td>\n",
       "      <td>sleep good remedi fall asleep need one</td>\n",
       "      <td>6</td>\n",
       "      <td>0</td>\n",
       "    </tr>\n",
       "    <tr>\n",
       "      <th>1</th>\n",
       "      <td>1</td>\n",
       "      <td>work fun</td>\n",
       "      <td>2</td>\n",
       "      <td>0</td>\n",
       "    </tr>\n",
       "    <tr>\n",
       "      <th>2</th>\n",
       "      <td>2</td>\n",
       "      <td>summer person love dull cold weather centralco...</td>\n",
       "      <td>3</td>\n",
       "      <td>1</td>\n",
       "    </tr>\n",
       "    <tr>\n",
       "      <th>3</th>\n",
       "      <td>3</td>\n",
       "      <td>want smoke cig lighter</td>\n",
       "      <td>2</td>\n",
       "      <td>0</td>\n",
       "    </tr>\n",
       "    <tr>\n",
       "      <th>4</th>\n",
       "      <td>4</td>\n",
       "      <td>pass lot twit arriv trend topic bob</td>\n",
       "      <td>8</td>\n",
       "      <td>0</td>\n",
       "    </tr>\n",
       "    <tr>\n",
       "      <th>...</th>\n",
       "      <td>...</td>\n",
       "      <td>...</td>\n",
       "      <td>...</td>\n",
       "      <td>...</td>\n",
       "    </tr>\n",
       "    <tr>\n",
       "      <th>105236</th>\n",
       "      <td>105236</td>\n",
       "      <td>i i i i i miss trip hehe turn bird amp turtl l...</td>\n",
       "      <td>15</td>\n",
       "      <td>1</td>\n",
       "    </tr>\n",
       "    <tr>\n",
       "      <th>105237</th>\n",
       "      <td>105237</td>\n",
       "      <td>hump say</td>\n",
       "      <td>2</td>\n",
       "      <td>0</td>\n",
       "    </tr>\n",
       "    <tr>\n",
       "      <th>105238</th>\n",
       "      <td>105238</td>\n",
       "      <td>seriou chemistri revis feel rather ill atm</td>\n",
       "      <td>1</td>\n",
       "      <td>0</td>\n",
       "    </tr>\n",
       "    <tr>\n",
       "      <th>105239</th>\n",
       "      <td>105239</td>\n",
       "      <td>weekend go sound like time iphon poker girl let</td>\n",
       "      <td>5</td>\n",
       "      <td>0</td>\n",
       "    </tr>\n",
       "    <tr>\n",
       "      <th>105240</th>\n",
       "      <td>105240</td>\n",
       "      <td>uff today vote eu parliament also went made cr...</td>\n",
       "      <td>4</td>\n",
       "      <td>1</td>\n",
       "    </tr>\n",
       "  </tbody>\n",
       "</table>\n",
       "<p>105241 rows × 4 columns</p>\n",
       "</div>"
      ],
      "text/plain": [
       "        Unnamed: 0                                              tweet  \\\n",
       "0                0            sleep good remedi fall asleep need one    \n",
       "1                1                                          work fun    \n",
       "2                2  summer person love dull cold weather centralco...   \n",
       "3                3                            want smoke cig lighter    \n",
       "4                4               pass lot twit arriv trend topic bob    \n",
       "...            ...                                                ...   \n",
       "105236      105236  i i i i i miss trip hehe turn bird amp turtl l...   \n",
       "105237      105237                                          hump say    \n",
       "105238      105238        seriou chemistri revis feel rather ill atm    \n",
       "105239      105239   weekend go sound like time iphon poker girl let    \n",
       "105240      105240  uff today vote eu parliament also went made cr...   \n",
       "\n",
       "        punctuation_count  sentiment  \n",
       "0                       6          0  \n",
       "1                       2          0  \n",
       "2                       3          1  \n",
       "3                       2          0  \n",
       "4                       8          0  \n",
       "...                   ...        ...  \n",
       "105236                 15          1  \n",
       "105237                  2          0  \n",
       "105238                  1          0  \n",
       "105239                  5          0  \n",
       "105240                  4          1  \n",
       "\n",
       "[105241 rows x 4 columns]"
      ]
     },
     "execution_count": 2,
     "metadata": {},
     "output_type": "execute_result"
    }
   ],
   "source": [
    "data = pd.read_csv(\"cleaned_text.csv\", encoding='latin1', header = 0)\n",
    "#data.columns = [\"tweet\", \"sentiment\"]\n",
    "data"
   ]
  },
  {
   "cell_type": "markdown",
   "metadata": {},
   "source": [
    "# Preparing the Dataset"
   ]
  },
  {
   "cell_type": "code",
   "execution_count": 3,
   "metadata": {},
   "outputs": [],
   "source": [
    "#Droping columnns we dont need for the NN model\n",
    "data.drop(data.columns[[0]], axis=1, inplace=True)\n"
   ]
  },
  {
   "cell_type": "code",
   "execution_count": 4,
   "metadata": {},
   "outputs": [
    {
     "data": {
      "text/html": [
       "<div>\n",
       "<style scoped>\n",
       "    .dataframe tbody tr th:only-of-type {\n",
       "        vertical-align: middle;\n",
       "    }\n",
       "\n",
       "    .dataframe tbody tr th {\n",
       "        vertical-align: top;\n",
       "    }\n",
       "\n",
       "    .dataframe thead th {\n",
       "        text-align: right;\n",
       "    }\n",
       "</style>\n",
       "<table border=\"1\" class=\"dataframe\">\n",
       "  <thead>\n",
       "    <tr style=\"text-align: right;\">\n",
       "      <th></th>\n",
       "      <th>tweet</th>\n",
       "      <th>punctuation_count</th>\n",
       "      <th>sentiment</th>\n",
       "    </tr>\n",
       "  </thead>\n",
       "  <tbody>\n",
       "    <tr>\n",
       "      <th>0</th>\n",
       "      <td>sleep good remedi fall asleep need one</td>\n",
       "      <td>6</td>\n",
       "      <td>0</td>\n",
       "    </tr>\n",
       "    <tr>\n",
       "      <th>1</th>\n",
       "      <td>work fun</td>\n",
       "      <td>2</td>\n",
       "      <td>0</td>\n",
       "    </tr>\n",
       "    <tr>\n",
       "      <th>2</th>\n",
       "      <td>summer person love dull cold weather centralco...</td>\n",
       "      <td>3</td>\n",
       "      <td>1</td>\n",
       "    </tr>\n",
       "    <tr>\n",
       "      <th>3</th>\n",
       "      <td>want smoke cig lighter</td>\n",
       "      <td>2</td>\n",
       "      <td>0</td>\n",
       "    </tr>\n",
       "    <tr>\n",
       "      <th>4</th>\n",
       "      <td>pass lot twit arriv trend topic bob</td>\n",
       "      <td>8</td>\n",
       "      <td>0</td>\n",
       "    </tr>\n",
       "  </tbody>\n",
       "</table>\n",
       "</div>"
      ],
      "text/plain": [
       "                                               tweet  punctuation_count  \\\n",
       "0            sleep good remedi fall asleep need one                   6   \n",
       "1                                          work fun                   2   \n",
       "2  summer person love dull cold weather centralco...                  3   \n",
       "3                            want smoke cig lighter                   2   \n",
       "4               pass lot twit arriv trend topic bob                   8   \n",
       "\n",
       "   sentiment  \n",
       "0          0  \n",
       "1          0  \n",
       "2          1  \n",
       "3          0  \n",
       "4          0  "
      ]
     },
     "execution_count": 4,
     "metadata": {},
     "output_type": "execute_result"
    }
   ],
   "source": [
    "data.head()"
   ]
  },
  {
   "cell_type": "code",
   "execution_count": 5,
   "metadata": {},
   "outputs": [
    {
     "data": {
      "text/plain": [
       "0    52657\n",
       "1    52584\n",
       "Name: sentiment, dtype: int64"
      ]
     },
     "execution_count": 5,
     "metadata": {},
     "output_type": "execute_result"
    }
   ],
   "source": [
    "data.sentiment.value_counts() # dataset is already balanced"
   ]
  },
  {
   "cell_type": "code",
   "execution_count": 6,
   "metadata": {},
   "outputs": [
    {
     "data": {
      "text/plain": [
       "<AxesSubplot:xlabel='tweet', ylabel='count'>"
      ]
     },
     "execution_count": 6,
     "metadata": {},
     "output_type": "execute_result"
    },
    {
     "data": {
      "image/png": "[encoded data removed]",
      "text/plain": [
       "<Figure size 432x288 with 1 Axes>"
      ]
     },
     "metadata": {
      "needs_background": "light"
     },
     "output_type": "display_data"
    }
   ],
   "source": [
    "import seaborn as sns\n",
    "import matplotlib.pyplot as plt\n",
    "%matplotlib inline\n",
    "\n",
    "sns.countplot(x = data.sentiment, data = data.tweet)"
   ]
  },
  {
   "cell_type": "code",
   "execution_count": 64,
   "metadata": {},
   "outputs": [
    {
     "name": "stdout",
     "output_type": "stream",
     "text": [
      "<class 'pandas.core.frame.DataFrame'>\n",
      "RangeIndex: 105241 entries, 0 to 105240\n",
      "Data columns (total 3 columns):\n",
      " #   Column             Non-Null Count   Dtype \n",
      "---  ------             --------------   ----- \n",
      " 0   tweet              104742 non-null  object\n",
      " 1   punctuation_count  105241 non-null  int64 \n",
      " 2   sentiment          105241 non-null  int64 \n",
      "dtypes: int64(2), object(1)\n",
      "memory usage: 2.4+ MB\n"
     ]
    }
   ],
   "source": [
    "data.info()"
   ]
  },
  {
   "cell_type": "code",
   "execution_count": 7,
   "metadata": {},
   "outputs": [
    {
     "name": "stdout",
     "output_type": "stream",
     "text": [
      "<class 'pandas.core.frame.DataFrame'>\n",
      "Int64Index: 104742 entries, 0 to 105240\n",
      "Data columns (total 3 columns):\n",
      " #   Column             Non-Null Count   Dtype \n",
      "---  ------             --------------   ----- \n",
      " 0   tweet              104742 non-null  object\n",
      " 1   punctuation_count  104742 non-null  int64 \n",
      " 2   sentiment          104742 non-null  int64 \n",
      "dtypes: int64(2), object(1)\n",
      "memory usage: 3.2+ MB\n"
     ]
    }
   ],
   "source": [
    "data.dropna(subset = [\"tweet\"], inplace=True)\n",
    "data.info()"
   ]
  },
  {
   "cell_type": "markdown",
   "metadata": {},
   "source": [
    "# Tokenize"
   ]
  },
  {
   "cell_type": "code",
   "execution_count": 8,
   "metadata": {},
   "outputs": [
    {
     "data": {
      "text/html": [
       "<div>\n",
       "<style scoped>\n",
       "    .dataframe tbody tr th:only-of-type {\n",
       "        vertical-align: middle;\n",
       "    }\n",
       "\n",
       "    .dataframe tbody tr th {\n",
       "        vertical-align: top;\n",
       "    }\n",
       "\n",
       "    .dataframe thead th {\n",
       "        text-align: right;\n",
       "    }\n",
       "</style>\n",
       "<table border=\"1\" class=\"dataframe\">\n",
       "  <thead>\n",
       "    <tr style=\"text-align: right;\">\n",
       "      <th></th>\n",
       "      <th>tweet</th>\n",
       "      <th>punctuation_count</th>\n",
       "    </tr>\n",
       "  </thead>\n",
       "  <tbody>\n",
       "    <tr>\n",
       "      <th>0</th>\n",
       "      <td>sleep good remedi fall asleep need one</td>\n",
       "      <td>6</td>\n",
       "    </tr>\n",
       "    <tr>\n",
       "      <th>1</th>\n",
       "      <td>work fun</td>\n",
       "      <td>2</td>\n",
       "    </tr>\n",
       "    <tr>\n",
       "      <th>2</th>\n",
       "      <td>summer person love dull cold weather centralco...</td>\n",
       "      <td>3</td>\n",
       "    </tr>\n",
       "    <tr>\n",
       "      <th>3</th>\n",
       "      <td>want smoke cig lighter</td>\n",
       "      <td>2</td>\n",
       "    </tr>\n",
       "    <tr>\n",
       "      <th>4</th>\n",
       "      <td>pass lot twit arriv trend topic bob</td>\n",
       "      <td>8</td>\n",
       "    </tr>\n",
       "  </tbody>\n",
       "</table>\n",
       "</div>"
      ],
      "text/plain": [
       "                                               tweet  punctuation_count\n",
       "0            sleep good remedi fall asleep need one                   6\n",
       "1                                          work fun                   2\n",
       "2  summer person love dull cold weather centralco...                  3\n",
       "3                            want smoke cig lighter                   2\n",
       "4               pass lot twit arriv trend topic bob                   8"
      ]
     },
     "execution_count": 8,
     "metadata": {},
     "output_type": "execute_result"
    }
   ],
   "source": [
    "#Keeping the labels and creating preparing text for tfidf vectorizer\n",
    "Y = data[['sentiment']]\n",
    "X = data.drop(['sentiment'], axis=1)\n",
    "X.head()"
   ]
  },
  {
   "cell_type": "code",
   "execution_count": 9,
   "metadata": {},
   "outputs": [],
   "source": [
    "tweet = X[['tweet']]\n",
    "punctuation_counts = X[['punctuation_count']]"
   ]
  },
  {
   "cell_type": "code",
   "execution_count": 10,
   "metadata": {},
   "outputs": [],
   "source": [
    "from sklearn.feature_extraction.text import TfidfVectorizer\n",
    "\n",
    "vectorizer = TfidfVectorizer(ngram_range=(1,3), stop_words=\"english\", max_features=3000)\n",
    "\n",
    "tfidf_vect = vectorizer.fit_transform(X['tweet'])\n",
    "tfidf_feature_names = vectorizer.get_feature_names_out()\n",
    "\n",
    "tfidf_df = pd.DataFrame (tfidf_vect.todense())\n",
    "tfidf_df.columns = tfidf_feature_names\n",
    "tfidf_df['punctuation_count'] = punctuation_counts"
   ]
  },
  {
   "cell_type": "code",
   "execution_count": 11,
   "metadata": {},
   "outputs": [],
   "source": [
    "from sklearn.preprocessing import StandardScaler\n",
    "from sklearn import preprocessing, model_selection\n",
    "\n",
    "min_max_scaler = preprocessing.MinMaxScaler()\n",
    "tfidf_df['punctuation_count'] = min_max_scaler.fit_transform(punctuation_counts)"
   ]
  },
  {
   "cell_type": "code",
   "execution_count": 12,
   "metadata": {},
   "outputs": [
    {
     "data": {
      "text/html": [
       "<div>\n",
       "<style scoped>\n",
       "    .dataframe tbody tr th:only-of-type {\n",
       "        vertical-align: middle;\n",
       "    }\n",
       "\n",
       "    .dataframe tbody tr th {\n",
       "        vertical-align: top;\n",
       "    }\n",
       "\n",
       "    .dataframe thead th {\n",
       "        text-align: right;\n",
       "    }\n",
       "</style>\n",
       "<table border=\"1\" class=\"dataframe\">\n",
       "  <thead>\n",
       "    <tr style=\"text-align: right;\">\n",
       "      <th></th>\n",
       "      <th>ab</th>\n",
       "      <th>abl</th>\n",
       "      <th>absolut</th>\n",
       "      <th>abt</th>\n",
       "      <th>ac</th>\n",
       "      <th>accept</th>\n",
       "      <th>access</th>\n",
       "      <th>accid</th>\n",
       "      <th>accomplish</th>\n",
       "      <th>accord</th>\n",
       "      <th>...</th>\n",
       "      <th>yr old</th>\n",
       "      <th>yuck</th>\n",
       "      <th>yum</th>\n",
       "      <th>yummi</th>\n",
       "      <th>yup</th>\n",
       "      <th>ze</th>\n",
       "      <th>zombi</th>\n",
       "      <th>zone</th>\n",
       "      <th>zoo</th>\n",
       "      <th>punctuation_count</th>\n",
       "    </tr>\n",
       "  </thead>\n",
       "  <tbody>\n",
       "    <tr>\n",
       "      <th>0</th>\n",
       "      <td>0.0</td>\n",
       "      <td>0.0</td>\n",
       "      <td>0.0</td>\n",
       "      <td>0.0</td>\n",
       "      <td>0.0</td>\n",
       "      <td>0.0</td>\n",
       "      <td>0.0</td>\n",
       "      <td>0.0</td>\n",
       "      <td>0.0</td>\n",
       "      <td>0.0</td>\n",
       "      <td>...</td>\n",
       "      <td>0.0</td>\n",
       "      <td>0.0</td>\n",
       "      <td>0.0</td>\n",
       "      <td>0.0</td>\n",
       "      <td>0.0</td>\n",
       "      <td>0.0</td>\n",
       "      <td>0.0</td>\n",
       "      <td>0.0</td>\n",
       "      <td>0.0</td>\n",
       "      <td>0.057692</td>\n",
       "    </tr>\n",
       "    <tr>\n",
       "      <th>1</th>\n",
       "      <td>0.0</td>\n",
       "      <td>0.0</td>\n",
       "      <td>0.0</td>\n",
       "      <td>0.0</td>\n",
       "      <td>0.0</td>\n",
       "      <td>0.0</td>\n",
       "      <td>0.0</td>\n",
       "      <td>0.0</td>\n",
       "      <td>0.0</td>\n",
       "      <td>0.0</td>\n",
       "      <td>...</td>\n",
       "      <td>0.0</td>\n",
       "      <td>0.0</td>\n",
       "      <td>0.0</td>\n",
       "      <td>0.0</td>\n",
       "      <td>0.0</td>\n",
       "      <td>0.0</td>\n",
       "      <td>0.0</td>\n",
       "      <td>0.0</td>\n",
       "      <td>0.0</td>\n",
       "      <td>0.019231</td>\n",
       "    </tr>\n",
       "    <tr>\n",
       "      <th>2</th>\n",
       "      <td>0.0</td>\n",
       "      <td>0.0</td>\n",
       "      <td>0.0</td>\n",
       "      <td>0.0</td>\n",
       "      <td>0.0</td>\n",
       "      <td>0.0</td>\n",
       "      <td>0.0</td>\n",
       "      <td>0.0</td>\n",
       "      <td>0.0</td>\n",
       "      <td>0.0</td>\n",
       "      <td>...</td>\n",
       "      <td>0.0</td>\n",
       "      <td>0.0</td>\n",
       "      <td>0.0</td>\n",
       "      <td>0.0</td>\n",
       "      <td>0.0</td>\n",
       "      <td>0.0</td>\n",
       "      <td>0.0</td>\n",
       "      <td>0.0</td>\n",
       "      <td>0.0</td>\n",
       "      <td>0.028846</td>\n",
       "    </tr>\n",
       "    <tr>\n",
       "      <th>3</th>\n",
       "      <td>0.0</td>\n",
       "      <td>0.0</td>\n",
       "      <td>0.0</td>\n",
       "      <td>0.0</td>\n",
       "      <td>0.0</td>\n",
       "      <td>0.0</td>\n",
       "      <td>0.0</td>\n",
       "      <td>0.0</td>\n",
       "      <td>0.0</td>\n",
       "      <td>0.0</td>\n",
       "      <td>...</td>\n",
       "      <td>0.0</td>\n",
       "      <td>0.0</td>\n",
       "      <td>0.0</td>\n",
       "      <td>0.0</td>\n",
       "      <td>0.0</td>\n",
       "      <td>0.0</td>\n",
       "      <td>0.0</td>\n",
       "      <td>0.0</td>\n",
       "      <td>0.0</td>\n",
       "      <td>0.019231</td>\n",
       "    </tr>\n",
       "    <tr>\n",
       "      <th>4</th>\n",
       "      <td>0.0</td>\n",
       "      <td>0.0</td>\n",
       "      <td>0.0</td>\n",
       "      <td>0.0</td>\n",
       "      <td>0.0</td>\n",
       "      <td>0.0</td>\n",
       "      <td>0.0</td>\n",
       "      <td>0.0</td>\n",
       "      <td>0.0</td>\n",
       "      <td>0.0</td>\n",
       "      <td>...</td>\n",
       "      <td>0.0</td>\n",
       "      <td>0.0</td>\n",
       "      <td>0.0</td>\n",
       "      <td>0.0</td>\n",
       "      <td>0.0</td>\n",
       "      <td>0.0</td>\n",
       "      <td>0.0</td>\n",
       "      <td>0.0</td>\n",
       "      <td>0.0</td>\n",
       "      <td>0.076923</td>\n",
       "    </tr>\n",
       "    <tr>\n",
       "      <th>...</th>\n",
       "      <td>...</td>\n",
       "      <td>...</td>\n",
       "      <td>...</td>\n",
       "      <td>...</td>\n",
       "      <td>...</td>\n",
       "      <td>...</td>\n",
       "      <td>...</td>\n",
       "      <td>...</td>\n",
       "      <td>...</td>\n",
       "      <td>...</td>\n",
       "      <td>...</td>\n",
       "      <td>...</td>\n",
       "      <td>...</td>\n",
       "      <td>...</td>\n",
       "      <td>...</td>\n",
       "      <td>...</td>\n",
       "      <td>...</td>\n",
       "      <td>...</td>\n",
       "      <td>...</td>\n",
       "      <td>...</td>\n",
       "      <td>...</td>\n",
       "    </tr>\n",
       "    <tr>\n",
       "      <th>104737</th>\n",
       "      <td>0.0</td>\n",
       "      <td>0.0</td>\n",
       "      <td>0.0</td>\n",
       "      <td>0.0</td>\n",
       "      <td>0.0</td>\n",
       "      <td>0.0</td>\n",
       "      <td>0.0</td>\n",
       "      <td>0.0</td>\n",
       "      <td>0.0</td>\n",
       "      <td>0.0</td>\n",
       "      <td>...</td>\n",
       "      <td>0.0</td>\n",
       "      <td>0.0</td>\n",
       "      <td>0.0</td>\n",
       "      <td>0.0</td>\n",
       "      <td>0.0</td>\n",
       "      <td>0.0</td>\n",
       "      <td>0.0</td>\n",
       "      <td>0.0</td>\n",
       "      <td>0.0</td>\n",
       "      <td>0.144231</td>\n",
       "    </tr>\n",
       "    <tr>\n",
       "      <th>104738</th>\n",
       "      <td>0.0</td>\n",
       "      <td>0.0</td>\n",
       "      <td>0.0</td>\n",
       "      <td>0.0</td>\n",
       "      <td>0.0</td>\n",
       "      <td>0.0</td>\n",
       "      <td>0.0</td>\n",
       "      <td>0.0</td>\n",
       "      <td>0.0</td>\n",
       "      <td>0.0</td>\n",
       "      <td>...</td>\n",
       "      <td>0.0</td>\n",
       "      <td>0.0</td>\n",
       "      <td>0.0</td>\n",
       "      <td>0.0</td>\n",
       "      <td>0.0</td>\n",
       "      <td>0.0</td>\n",
       "      <td>0.0</td>\n",
       "      <td>0.0</td>\n",
       "      <td>0.0</td>\n",
       "      <td>0.019231</td>\n",
       "    </tr>\n",
       "    <tr>\n",
       "      <th>104739</th>\n",
       "      <td>0.0</td>\n",
       "      <td>0.0</td>\n",
       "      <td>0.0</td>\n",
       "      <td>0.0</td>\n",
       "      <td>0.0</td>\n",
       "      <td>0.0</td>\n",
       "      <td>0.0</td>\n",
       "      <td>0.0</td>\n",
       "      <td>0.0</td>\n",
       "      <td>0.0</td>\n",
       "      <td>...</td>\n",
       "      <td>0.0</td>\n",
       "      <td>0.0</td>\n",
       "      <td>0.0</td>\n",
       "      <td>0.0</td>\n",
       "      <td>0.0</td>\n",
       "      <td>0.0</td>\n",
       "      <td>0.0</td>\n",
       "      <td>0.0</td>\n",
       "      <td>0.0</td>\n",
       "      <td>0.009615</td>\n",
       "    </tr>\n",
       "    <tr>\n",
       "      <th>104740</th>\n",
       "      <td>0.0</td>\n",
       "      <td>0.0</td>\n",
       "      <td>0.0</td>\n",
       "      <td>0.0</td>\n",
       "      <td>0.0</td>\n",
       "      <td>0.0</td>\n",
       "      <td>0.0</td>\n",
       "      <td>0.0</td>\n",
       "      <td>0.0</td>\n",
       "      <td>0.0</td>\n",
       "      <td>...</td>\n",
       "      <td>0.0</td>\n",
       "      <td>0.0</td>\n",
       "      <td>0.0</td>\n",
       "      <td>0.0</td>\n",
       "      <td>0.0</td>\n",
       "      <td>0.0</td>\n",
       "      <td>0.0</td>\n",
       "      <td>0.0</td>\n",
       "      <td>0.0</td>\n",
       "      <td>0.048077</td>\n",
       "    </tr>\n",
       "    <tr>\n",
       "      <th>104741</th>\n",
       "      <td>0.0</td>\n",
       "      <td>0.0</td>\n",
       "      <td>0.0</td>\n",
       "      <td>0.0</td>\n",
       "      <td>0.0</td>\n",
       "      <td>0.0</td>\n",
       "      <td>0.0</td>\n",
       "      <td>0.0</td>\n",
       "      <td>0.0</td>\n",
       "      <td>0.0</td>\n",
       "      <td>...</td>\n",
       "      <td>0.0</td>\n",
       "      <td>0.0</td>\n",
       "      <td>0.0</td>\n",
       "      <td>0.0</td>\n",
       "      <td>0.0</td>\n",
       "      <td>0.0</td>\n",
       "      <td>0.0</td>\n",
       "      <td>0.0</td>\n",
       "      <td>0.0</td>\n",
       "      <td>0.038462</td>\n",
       "    </tr>\n",
       "  </tbody>\n",
       "</table>\n",
       "<p>104742 rows × 3001 columns</p>\n",
       "</div>"
      ],
      "text/plain": [
       "         ab  abl  absolut  abt   ac  accept  access  accid  accomplish  \\\n",
       "0       0.0  0.0      0.0  0.0  0.0     0.0     0.0    0.0         0.0   \n",
       "1       0.0  0.0      0.0  0.0  0.0     0.0     0.0    0.0         0.0   \n",
       "2       0.0  0.0      0.0  0.0  0.0     0.0     0.0    0.0         0.0   \n",
       "3       0.0  0.0      0.0  0.0  0.0     0.0     0.0    0.0         0.0   \n",
       "4       0.0  0.0      0.0  0.0  0.0     0.0     0.0    0.0         0.0   \n",
       "...     ...  ...      ...  ...  ...     ...     ...    ...         ...   \n",
       "104737  0.0  0.0      0.0  0.0  0.0     0.0     0.0    0.0         0.0   \n",
       "104738  0.0  0.0      0.0  0.0  0.0     0.0     0.0    0.0         0.0   \n",
       "104739  0.0  0.0      0.0  0.0  0.0     0.0     0.0    0.0         0.0   \n",
       "104740  0.0  0.0      0.0  0.0  0.0     0.0     0.0    0.0         0.0   \n",
       "104741  0.0  0.0      0.0  0.0  0.0     0.0     0.0    0.0         0.0   \n",
       "\n",
       "        accord  ...  yr old  yuck  yum  yummi  yup   ze  zombi  zone  zoo  \\\n",
       "0          0.0  ...     0.0   0.0  0.0    0.0  0.0  0.0    0.0   0.0  0.0   \n",
       "1          0.0  ...     0.0   0.0  0.0    0.0  0.0  0.0    0.0   0.0  0.0   \n",
       "2          0.0  ...     0.0   0.0  0.0    0.0  0.0  0.0    0.0   0.0  0.0   \n",
       "3          0.0  ...     0.0   0.0  0.0    0.0  0.0  0.0    0.0   0.0  0.0   \n",
       "4          0.0  ...     0.0   0.0  0.0    0.0  0.0  0.0    0.0   0.0  0.0   \n",
       "...        ...  ...     ...   ...  ...    ...  ...  ...    ...   ...  ...   \n",
       "104737     0.0  ...     0.0   0.0  0.0    0.0  0.0  0.0    0.0   0.0  0.0   \n",
       "104738     0.0  ...     0.0   0.0  0.0    0.0  0.0  0.0    0.0   0.0  0.0   \n",
       "104739     0.0  ...     0.0   0.0  0.0    0.0  0.0  0.0    0.0   0.0  0.0   \n",
       "104740     0.0  ...     0.0   0.0  0.0    0.0  0.0  0.0    0.0   0.0  0.0   \n",
       "104741     0.0  ...     0.0   0.0  0.0    0.0  0.0  0.0    0.0   0.0  0.0   \n",
       "\n",
       "        punctuation_count  \n",
       "0                0.057692  \n",
       "1                0.019231  \n",
       "2                0.028846  \n",
       "3                0.019231  \n",
       "4                0.076923  \n",
       "...                   ...  \n",
       "104737           0.144231  \n",
       "104738           0.019231  \n",
       "104739           0.009615  \n",
       "104740           0.048077  \n",
       "104741           0.038462  \n",
       "\n",
       "[104742 rows x 3001 columns]"
      ]
     },
     "execution_count": 12,
     "metadata": {},
     "output_type": "execute_result"
    }
   ],
   "source": [
    "tfidf_df"
   ]
  },
  {
   "cell_type": "markdown",
   "metadata": {},
   "source": [
    "# Split Data"
   ]
  },
  {
   "cell_type": "code",
   "execution_count": 18,
   "metadata": {},
   "outputs": [],
   "source": [
    "from sklearn.model_selection import train_test_split\n",
    "\n",
    "Xtrain, Xtest, ytrain, ytest = train_test_split(tfidf_df,\n",
    "                                                Y,\n",
    "                                                test_size=0.2,\n",
    "                                                random_state=10)"
   ]
  },
  {
   "cell_type": "code",
   "execution_count": 19,
   "metadata": {},
   "outputs": [
    {
     "data": {
      "text/plain": [
       "((83793, 3001), (20949, 3001), (83793, 1), (20949, 1))"
      ]
     },
     "execution_count": 19,
     "metadata": {},
     "output_type": "execute_result"
    }
   ],
   "source": [
    "Xtrain.shape, Xtest.shape, ytrain.shape, ytest.shape"
   ]
  },
  {
   "cell_type": "code",
   "execution_count": 20,
   "metadata": {},
   "outputs": [],
   "source": [
    "# size/shape of dataframe\n",
    "n_samples = Xtrain.shape[0]\n",
    "n_featuers = Xtrain.shape[1]"
   ]
  },
  {
   "cell_type": "markdown",
   "metadata": {},
   "source": [
    "# Model 1"
   ]
  },
  {
   "cell_type": "code",
   "execution_count": 21,
   "metadata": {},
   "outputs": [
    {
     "name": "stderr",
     "output_type": "stream",
     "text": [
      "2022-02-02 17:17:23.230003: I tensorflow/core/platform/cpu_feature_guard.cc:151] This TensorFlow binary is optimized with oneAPI Deep Neural Network Library (oneDNN) to use the following CPU instructions in performance-critical operations:  AVX2 FMA\n",
      "To enable them in other operations, rebuild TensorFlow with the appropriate compiler flags.\n"
     ]
    }
   ],
   "source": [
    "# Make the NN -----------------------------------------------------------------\n",
    "\n",
    "# Importing the Keras libraries and packages\n",
    "from tensorflow import keras\n",
    "from tensorflow.keras import layers\n",
    "from tensorflow.keras.callbacks import ModelCheckpoint\n",
    "\n",
    "model = keras.Sequential(\n",
    "    [\n",
    "        layers.Dense(10000, activation='relu', kernel_regularizer='l2', name='layer1'),\n",
    "        layers.Dropout(0.5),\n",
    "        layers.Dense(500, activation='relu', name='layer2'),\n",
    "        layers.Dense(25, activation='relu', name='layer3'),\n",
    "        layers.Dense(1, activation='sigmoid', name='output1'),\n",
    "    ]\n",
    ")"
   ]
  },
  {
   "cell_type": "code",
   "execution_count": 22,
   "metadata": {},
   "outputs": [],
   "source": [
    "optimizer = tf.keras.optimizers.Adam(clipnorm=1.0, clipvalue=0.5, name=\"Adam\")"
   ]
  },
  {
   "cell_type": "code",
   "execution_count": 23,
   "metadata": {},
   "outputs": [],
   "source": [
    "# Compiling the ANN\n",
    "model.compile(loss = 'binary_crossentropy' , optimizer = 'adam' , metrics = ['accuracy'] )"
   ]
  },
  {
   "cell_type": "code",
   "execution_count": 24,
   "metadata": {},
   "outputs": [
    {
     "name": "stdout",
     "output_type": "stream",
     "text": [
      "Epoch 1/2\n",
      "84/84 [==============================] - 345s 4s/step - loss: 4.3235 - accuracy: 0.6858 - val_loss: 0.7108 - val_accuracy: 0.7166\n",
      "Epoch 2/2\n",
      "84/84 [==============================] - 362s 4s/step - loss: 0.7000 - accuracy: 0.7182 - val_loss: 0.6817 - val_accuracy: 0.7255\n"
     ]
    }
   ],
   "source": [
    "model_save_filename = \"twitter_model.h5\"\n",
    "earlystopping_cb = keras.callbacks.EarlyStopping(patience=10, restore_best_weights=True)\n",
    "mdlcheckpoint_cb = keras.callbacks.ModelCheckpoint(model_save_filename, monitor=\"val_accuracy\", save_best_only=True)\n",
    "\n",
    "\n",
    "history = model.fit(\n",
    "                    Xtrain, \n",
    "                    ytrain, \n",
    "                    batch_size=1000,\n",
    "                    epochs=2, \n",
    "                    callbacks=[earlystopping_cb, mdlcheckpoint_cb],\n",
    "                    validation_data = (Xtest, ytest)\n",
    "                    )"
   ]
  },
  {
   "cell_type": "code",
   "execution_count": 25,
   "metadata": {},
   "outputs": [
    {
     "name": "stdout",
     "output_type": "stream",
     "text": [
      "Model: \"sequential\"\n",
      "_________________________________________________________________\n",
      " Layer (type)                Output Shape              Param #   \n",
      "=================================================================\n",
      " layer1 (Dense)              (None, 10000)             30020000  \n",
      "                                                                 \n",
      " dropout (Dropout)           (None, 10000)             0         \n",
      "                                                                 \n",
      " layer2 (Dense)              (None, 500)               5000500   \n",
      "                                                                 \n",
      " layer3 (Dense)              (None, 25)                12525     \n",
      "                                                                 \n",
      " output1 (Dense)             (None, 1)                 26        \n",
      "                                                                 \n",
      "=================================================================\n",
      "Total params: 35,033,051\n",
      "Trainable params: 35,033,051\n",
      "Non-trainable params: 0\n",
      "_________________________________________________________________\n"
     ]
    }
   ],
   "source": [
    "model.summary()"
   ]
  },
  {
   "cell_type": "code",
   "execution_count": 26,
   "metadata": {},
   "outputs": [
    {
     "name": "stdout",
     "output_type": "stream",
     "text": [
      "Please install GPU version of TF\n"
     ]
    }
   ],
   "source": [
    "import tensorflow as tf \n",
    "\n",
    "if tf.test.gpu_device_name(): \n",
    "    print('Default GPU Device:{}'.format(tf.test.gpu_device_name()))\n",
    "else:\n",
    "   print(\"Please install GPU version of TF\")"
   ]
  },
  {
   "cell_type": "code",
   "execution_count": 27,
   "metadata": {},
   "outputs": [],
   "source": [
    "# Make predictions\n",
    "# Predicting the Test set results\n",
    "y_pred_train = model.predict(Xtrain)"
   ]
  },
  {
   "cell_type": "code",
   "execution_count": 28,
   "metadata": {},
   "outputs": [],
   "source": [
    "# Predicting the Test set results\n",
    "y_pred_test = model.predict(Xtest)"
   ]
  },
  {
   "cell_type": "code",
   "execution_count": null,
   "metadata": {},
   "outputs": [],
   "source": [
    "# Making the Confusion Matrix\n",
    "from sklearn.metrics import confusion_matrix\n",
    "cm = confusion_matrix(ytest, y_pred_test)\n"
   ]
  },
  {
   "cell_type": "code",
   "execution_count": 31,
   "metadata": {},
   "outputs": [
    {
     "name": "stdout",
     "output_type": "stream",
     "text": [
      "dict_keys(['loss', 'accuracy', 'val_loss', 'val_accuracy'])\n"
     ]
    }
   ],
   "source": [
    "# list all the data in history\n",
    "print(history.history.keys())\n"
   ]
  },
  {
   "cell_type": "code",
   "execution_count": 32,
   "metadata": {},
   "outputs": [
    {
     "data": {
      "image/png": "[encoded data removed]",
      "text/plain": [
       "<Figure size 432x288 with 1 Axes>"
      ]
     },
     "metadata": {
      "needs_background": "light"
     },
     "output_type": "display_data"
    },
    {
     "data": {
      "image/png": "[encoded data removed]",
      "text/plain": [
       "<Figure size 432x288 with 1 Axes>"
      ]
     },
     "metadata": {
      "needs_background": "light"
     },
     "output_type": "display_data"
    }
   ],
   "source": [
    "# Plot the accuracy for both train and validation set\n",
    "plt.subplots() # open a new plot\n",
    "plt.plot(history.history['accuracy'])\n",
    "plt.plot(history.history['val_accuracy'])\n",
    "plt.title('model accuracy')\n",
    "plt.ylabel('accuracy')\n",
    "plt.xlabel('epoch')\n",
    "plt.legend(['train', 'validation'])\n",
    "plt.show()\n",
    "\n",
    "# Plot the loss for both train and validation set\n",
    "plt.subplots() # open a new plot\n",
    "plt.plot(history.history['loss'])\n",
    "plt.plot(history.history['val_loss'])\n",
    "plt.title('model loss')\n",
    "plt.ylabel('loss')\n",
    "plt.xlabel('epoch')\n",
    "plt.legend(['train', 'validation'])\n",
    "plt.show()"
   ]
  },
  {
   "cell_type": "markdown",
   "metadata": {},
   "source": [
    "# Traditional ML Models"
   ]
  },
  {
   "cell_type": "code",
   "execution_count": 23,
   "metadata": {},
   "outputs": [],
   "source": [
    "from sklearn import metrics\n",
    "from sklearn.ensemble import RandomForestClassifier\n",
    "from sklearn.svm import SVC\n",
    "from sklearn.naive_bayes import GaussianNB\n",
    "from sklearn.neighbors import KNeighborsClassifier\n",
    "from sklearn.metrics import confusion_matrix"
   ]
  },
  {
   "cell_type": "code",
   "execution_count": 42,
   "metadata": {},
   "outputs": [
    {
     "name": "stderr",
     "output_type": "stream",
     "text": [
      "C:\\Users\\Mike\\AppData\\Local\\Temp/ipykernel_6980/693845353.py:3: DataConversionWarning: A column-vector y was passed when a 1d array was expected. Please change the shape of y to (n_samples,), for example using ravel().\n",
      "  RF.fit(Xtrain, ytrain)\n"
     ]
    },
    {
     "name": "stdout",
     "output_type": "stream",
     "text": [
      "Accuracy of  RFC : 0.721609623371044 --Specificity of  RFC : 0.7563220940550133\n"
     ]
    }
   ],
   "source": [
    "#Random Forest Classifier\n",
    "RF = RandomForestClassifier(max_depth=10)\n",
    "RF.fit(Xtrain, ytrain)\n",
    "y_pred = RF.predict(Xtest)\n",
    "cm3 = confusion_matrix(y_pred, ytest)\n",
    "total3=sum(sum(cm3))\n",
    "Accuracy = (cm3[0,0]+cm3[1,1])/total3\n",
    "Specificity = cm3[0,0]/(cm3[0,0]+cm3[0,1])\n",
    "print(\"Accuracy of  RFC :\", Accuracy, \"--Specificity of  RFC :\", Specificity )"
   ]
  },
  {
   "cell_type": "code",
   "execution_count": 25,
   "metadata": {},
   "outputs": [
    {
     "name": "stderr",
     "output_type": "stream",
     "text": [
      "C:\\Users\\Mike\\.conda\\envs\\tf-gpu\\lib\\site-packages\\sklearn\\utils\\validation.py:985: DataConversionWarning: A column-vector y was passed when a 1d array was expected. Please change the shape of y to (n_samples, ), for example using ravel().\n",
      "  y = column_or_1d(y, warn=True)\n"
     ]
    },
    {
     "name": "stdout",
     "output_type": "stream",
     "text": [
      "Accuracy of  GaussianNB : 0.6781707957420402 --Sensitivity of  GaussianNB : 0.6545080279950597 --Specificity of  GaussianNB : 0.7108132666969559\n"
     ]
    }
   ],
   "source": [
    "#  GaussianNB \n",
    "model5 = GaussianNB()\n",
    "model5.fit(Xtrain, ytrain)\n",
    "y_pred = model5.predict(Xtest)\n",
    "cm5 = confusion_matrix(y_pred, ytest)\n",
    "total5=sum(sum(cm5))\n",
    "Accuracy = (cm5[0,0]+cm5[1,1])/total5\n",
    "    \n",
    "Specificity = cm5[0,0]/(cm5[0,0]+cm5[0,1])\n",
    "Sensitivity = cm5[1,1]/(cm5[1,0]+cm5[1,1])\n",
    "print(\"Accuracy of  GaussianNB :\", Accuracy, \"--Sensitivity of  GaussianNB :\", Sensitivity, \"--Specificity of  GaussianNB :\", Specificity )"
   ]
  },
  {
   "cell_type": "markdown",
   "metadata": {},
   "source": [
    "# Model 2"
   ]
  },
  {
   "cell_type": "code",
   "execution_count": 144,
   "metadata": {},
   "outputs": [],
   "source": [
    "# Make the NN -----------------------------------------------------------------\n",
    "\n",
    "# Importing the Keras libraries and packages\n",
    "from keras.layers import Dense\n",
    "from keras.models import Sequential\n",
    "\n",
    "# define and initialize the model\n",
    "my_classifier2 = Sequential()\n",
    "\n",
    "# Adding the input layer AND the first hidden layer\n",
    "my_classifier2.add(Dense(units = 40, kernel_initializer = 'uniform',\n",
    "                        activation = 'relu', input_dim = n_featuers))\n",
    "\n",
    "# Adding the second hidden layer\n",
    "my_classifier2.add(Dense(units = 30, kernel_initializer = 'uniform',\n",
    "                        activation = 'relu'))\n",
    "\n",
    "# Adding the third hidden layer\n",
    "my_classifier2.add(Dense(units = 15, kernel_initializer = 'uniform',\n",
    "                        activation = 'relu'))\n",
    "\n",
    "\n",
    "# Adding the last (output) layer\n",
    "my_classifier2.add(Dense(units = 1, kernel_initializer = 'uniform',\n",
    "                        activation = 'sigmoid'))"
   ]
  },
  {
   "cell_type": "code",
   "execution_count": 145,
   "metadata": {},
   "outputs": [],
   "source": [
    "# Compiling the ANN\n",
    "my_classifier2.compile(optimizer = 'adam', loss = 'binary_crossentropy',\n",
    "                      metrics = ['accuracy'])"
   ]
  },
  {
   "cell_type": "code",
   "execution_count": 146,
   "metadata": {},
   "outputs": [
    {
     "data": {
      "image/png": "[encoded data removed]",
      "text/plain": [
       "<IPython.core.display.Image object>"
      ]
     },
     "execution_count": 146,
     "metadata": {},
     "output_type": "execute_result"
    }
   ],
   "source": [
    "#-- plot the model\n",
    "from keras.utils.vis_utils import plot_model\n",
    "plot_model(my_classifier2, to_file='model2.png', show_shapes=True)"
   ]
  },
  {
   "cell_type": "code",
   "execution_count": 147,
   "metadata": {},
   "outputs": [
    {
     "name": "stdout",
     "output_type": "stream",
     "text": [
      "Epoch 1/60\n",
      "6736/6736 [==============================] - 6s 905us/step - loss: 0.6936 - accuracy: 0.5018 - val_loss: 0.6932 - val_accuracy: 0.4970\n",
      "Epoch 2/60\n",
      "6736/6736 [==============================] - 6s 872us/step - loss: 0.6933 - accuracy: 0.4980 - val_loss: 0.6932 - val_accuracy: 0.4970\n",
      "Epoch 3/60\n",
      "6736/6736 [==============================] - 6s 860us/step - loss: 0.6933 - accuracy: 0.5001 - val_loss: 0.6931 - val_accuracy: 0.5070\n",
      "Epoch 4/60\n",
      "6736/6736 [==============================] - 6s 864us/step - loss: 0.6934 - accuracy: 0.5020 - val_loss: 0.6930 - val_accuracy: 0.4970\n",
      "Epoch 5/60\n",
      "6736/6736 [==============================] - 6s 878us/step - loss: 0.6928 - accuracy: 0.5013 - val_loss: 0.7029 - val_accuracy: 0.5101\n",
      "Epoch 6/60\n",
      "6736/6736 [==============================] - 5s 803us/step - loss: 0.6932 - accuracy: 0.5026 - val_loss: 0.6929 - val_accuracy: 0.4970\n",
      "Epoch 7/60\n",
      "6736/6736 [==============================] - 9s 1ms/step - loss: 0.6928 - accuracy: 0.5030 - val_loss: 0.6932 - val_accuracy: 0.4970\n",
      "Epoch 8/60\n",
      "6736/6736 [==============================] - 7s 1ms/step - loss: 0.6928 - accuracy: 0.5008 - val_loss: 0.6927 - val_accuracy: 0.5056\n",
      "Epoch 9/60\n",
      "6736/6736 [==============================] - 6s 877us/step - loss: 0.6931 - accuracy: 0.5022 - val_loss: 0.6927 - val_accuracy: 0.4970\n",
      "Epoch 10/60\n",
      "6736/6736 [==============================] - 6s 818us/step - loss: 0.6926 - accuracy: 0.5007 - val_loss: 0.6925 - val_accuracy: 0.5064\n",
      "Epoch 11/60\n",
      "6736/6736 [==============================] - 6s 895us/step - loss: 0.6927 - accuracy: 0.5020 - val_loss: 0.6925 - val_accuracy: 0.5061\n",
      "Epoch 12/60\n",
      "6736/6736 [==============================] - 6s 847us/step - loss: 0.6924 - accuracy: 0.5013 - val_loss: 0.6922 - val_accuracy: 0.5062\n",
      "Epoch 13/60\n",
      "6736/6736 [==============================] - 6s 850us/step - loss: 0.6924 - accuracy: 0.5037 - val_loss: 0.6922 - val_accuracy: 0.5072\n",
      "Epoch 14/60\n",
      "6736/6736 [==============================] - 6s 826us/step - loss: 0.6923 - accuracy: 0.5032 - val_loss: 0.6924 - val_accuracy: 0.5059\n",
      "Epoch 15/60\n",
      "6736/6736 [==============================] - 5s 813us/step - loss: 0.6920 - accuracy: 0.5047 - val_loss: 0.6923 - val_accuracy: 0.4970\n",
      "Epoch 16/60\n",
      "6736/6736 [==============================] - 6s 903us/step - loss: 0.6920 - accuracy: 0.5023 - val_loss: 0.6921 - val_accuracy: 0.5079\n",
      "Epoch 17/60\n",
      "6736/6736 [==============================] - 6s 850us/step - loss: 0.6920 - accuracy: 0.5042 - val_loss: 0.6918 - val_accuracy: 0.5080\n",
      "Epoch 18/60\n",
      "6736/6736 [==============================] - 6s 843us/step - loss: 0.6918 - accuracy: 0.5060 - val_loss: 0.6917 - val_accuracy: 0.5075\n",
      "Epoch 19/60\n",
      "6736/6736 [==============================] - 6s 835us/step - loss: 0.6921 - accuracy: 0.5041 - val_loss: 0.6917 - val_accuracy: 0.5070\n",
      "Epoch 20/60\n",
      "6736/6736 [==============================] - 6s 833us/step - loss: 0.6918 - accuracy: 0.5047 - val_loss: 0.6919 - val_accuracy: 0.5068\n",
      "Epoch 21/60\n",
      "6736/6736 [==============================] - 6s 830us/step - loss: 0.6919 - accuracy: 0.5014 - val_loss: 0.6915 - val_accuracy: 0.5069\n",
      "Epoch 22/60\n",
      "6736/6736 [==============================] - 6s 843us/step - loss: 0.6917 - accuracy: 0.5034 - val_loss: 0.6920 - val_accuracy: 0.4970\n",
      "Epoch 23/60\n",
      "6736/6736 [==============================] - 6s 856us/step - loss: 0.6918 - accuracy: 0.5020 - val_loss: 0.6922 - val_accuracy: 0.4970\n",
      "Epoch 24/60\n",
      "6736/6736 [==============================] - 6s 887us/step - loss: 0.6918 - accuracy: 0.5014 - val_loss: 0.6915 - val_accuracy: 0.5070\n",
      "Epoch 25/60\n",
      "6736/6736 [==============================] - 6s 848us/step - loss: 0.6918 - accuracy: 0.5025 - val_loss: 0.6916 - val_accuracy: 0.5066\n",
      "Epoch 26/60\n",
      "6736/6736 [==============================] - 6s 829us/step - loss: 0.6916 - accuracy: 0.5016 - val_loss: 0.6918 - val_accuracy: 0.5069\n",
      "Epoch 27/60\n",
      "6736/6736 [==============================] - 6s 831us/step - loss: 0.6917 - accuracy: 0.5010 - val_loss: 0.6916 - val_accuracy: 0.4970\n",
      "Epoch 28/60\n",
      "6736/6736 [==============================] - 6s 846us/step - loss: 0.6919 - accuracy: 0.5018 - val_loss: 0.6916 - val_accuracy: 0.4970\n",
      "Epoch 29/60\n",
      "6736/6736 [==============================] - 6s 833us/step - loss: 0.6917 - accuracy: 0.5028 - val_loss: 0.6918 - val_accuracy: 0.5059\n",
      "Epoch 30/60\n",
      "6736/6736 [==============================] - 6s 865us/step - loss: 0.6919 - accuracy: 0.5026 - val_loss: 0.6916 - val_accuracy: 0.5069\n",
      "Epoch 31/60\n",
      "6736/6736 [==============================] - 6s 856us/step - loss: 0.6918 - accuracy: 0.5028 - val_loss: 0.6917 - val_accuracy: 0.4970\n",
      "Epoch 32/60\n",
      "6736/6736 [==============================] - 6s 833us/step - loss: 0.6919 - accuracy: 0.5047 - val_loss: 0.6915 - val_accuracy: 0.5070\n",
      "Epoch 33/60\n",
      "6736/6736 [==============================] - 6s 825us/step - loss: 0.6916 - accuracy: 0.5030 - val_loss: 0.6919 - val_accuracy: 0.5063\n",
      "Epoch 34/60\n",
      "6736/6736 [==============================] - 6s 905us/step - loss: 0.6918 - accuracy: 0.5003 - val_loss: 0.6919 - val_accuracy: 0.4970\n",
      "Epoch 35/60\n",
      "6736/6736 [==============================] - 6s 896us/step - loss: 0.6917 - accuracy: 0.4986 - val_loss: 0.6919 - val_accuracy: 0.5062\n",
      "Epoch 36/60\n",
      "6736/6736 [==============================] - 6s 873us/step - loss: 0.6917 - accuracy: 0.5016 - val_loss: 0.6915 - val_accuracy: 0.5068\n",
      "Epoch 37/60\n",
      "6736/6736 [==============================] - 6s 884us/step - loss: 0.6922 - accuracy: 0.5012 - val_loss: 0.6917 - val_accuracy: 0.4970\n",
      "Epoch 38/60\n",
      "6736/6736 [==============================] - 6s 881us/step - loss: 0.6919 - accuracy: 0.5044 - val_loss: 0.6920 - val_accuracy: 0.5080\n",
      "Epoch 39/60\n",
      "6736/6736 [==============================] - 6s 870us/step - loss: 0.6919 - accuracy: 0.5038 - val_loss: 0.6919 - val_accuracy: 0.5069\n",
      "Epoch 40/60\n",
      "6736/6736 [==============================] - 6s 876us/step - loss: 0.6917 - accuracy: 0.5039 - val_loss: 0.6915 - val_accuracy: 0.5071\n",
      "Epoch 41/60\n",
      "6736/6736 [==============================] - 6s 884us/step - loss: 0.6944 - accuracy: 0.5027 - val_loss: 0.6915 - val_accuracy: 0.5073\n",
      "Epoch 42/60\n",
      "6736/6736 [==============================] - 6s 870us/step - loss: 0.6916 - accuracy: 0.5011 - val_loss: 0.6918 - val_accuracy: 0.4970\n",
      "Epoch 43/60\n",
      "6736/6736 [==============================] - 6s 868us/step - loss: 0.6917 - accuracy: 0.5036 - val_loss: 0.6914 - val_accuracy: 0.5066\n",
      "Epoch 44/60\n",
      "6736/6736 [==============================] - 6s 873us/step - loss: 0.6918 - accuracy: 0.5029 - val_loss: 0.6917 - val_accuracy: 0.4970\n",
      "Epoch 45/60\n",
      "6736/6736 [==============================] - 6s 888us/step - loss: 0.6918 - accuracy: 0.5046 - val_loss: 0.6914 - val_accuracy: 0.5069\n",
      "Epoch 46/60\n",
      "6736/6736 [==============================] - 6s 862us/step - loss: 0.6917 - accuracy: 0.4998 - val_loss: 0.6917 - val_accuracy: 0.5066\n",
      "Epoch 47/60\n",
      "6736/6736 [==============================] - 6s 860us/step - loss: 0.6918 - accuracy: 0.4985 - val_loss: 0.6914 - val_accuracy: 0.5073\n",
      "Epoch 48/60\n",
      "6736/6736 [==============================] - 6s 857us/step - loss: 0.6916 - accuracy: 0.4993 - val_loss: 0.6913 - val_accuracy: 0.4970\n",
      "Epoch 49/60\n",
      "6736/6736 [==============================] - 6s 857us/step - loss: 0.6916 - accuracy: 0.5029 - val_loss: 0.6914 - val_accuracy: 0.5067\n",
      "Epoch 50/60\n",
      "6736/6736 [==============================] - 6s 848us/step - loss: 0.6921 - accuracy: 0.5003 - val_loss: 0.6930 - val_accuracy: 0.5036\n",
      "Epoch 51/60\n",
      "6736/6736 [==============================] - 6s 844us/step - loss: 0.6925 - accuracy: 0.5005 - val_loss: 0.6916 - val_accuracy: 0.5066\n",
      "Epoch 52/60\n",
      "6736/6736 [==============================] - 6s 854us/step - loss: 0.6919 - accuracy: 0.5044 - val_loss: 0.6917 - val_accuracy: 0.4970\n",
      "Epoch 53/60\n",
      "6736/6736 [==============================] - 6s 844us/step - loss: 0.6918 - accuracy: 0.5023 - val_loss: 0.6916 - val_accuracy: 0.4970\n",
      "Epoch 54/60\n",
      "6736/6736 [==============================] - 6s 846us/step - loss: 0.6919 - accuracy: 0.5003 - val_loss: 0.6920 - val_accuracy: 0.5057\n",
      "Epoch 55/60\n",
      "6736/6736 [==============================] - 6s 841us/step - loss: 0.6918 - accuracy: 0.4995 - val_loss: 0.6919 - val_accuracy: 0.4970\n",
      "Epoch 56/60\n",
      "6736/6736 [==============================] - 6s 920us/step - loss: 0.6917 - accuracy: 0.4990 - val_loss: 0.6915 - val_accuracy: 0.5062\n",
      "Epoch 57/60\n",
      "6736/6736 [==============================] - 6s 863us/step - loss: 0.6918 - accuracy: 0.5008 - val_loss: 0.6916 - val_accuracy: 0.5060\n",
      "Epoch 58/60\n",
      "6736/6736 [==============================] - 6s 877us/step - loss: 0.6917 - accuracy: 0.5028 - val_loss: 0.6917 - val_accuracy: 0.5060\n",
      "Epoch 59/60\n",
      "6736/6736 [==============================] - 6s 842us/step - loss: 0.6917 - accuracy: 0.4993 - val_loss: 0.6918 - val_accuracy: 0.4970\n",
      "Epoch 60/60\n",
      "6736/6736 [==============================] - 6s 863us/step - loss: 0.6917 - accuracy: 0.5026 - val_loss: 0.6918 - val_accuracy: 0.5063\n"
     ]
    }
   ],
   "source": [
    "# Fitting the ANN to the Training set\n",
    "history = my_classifier2.fit(Xtrain, ytrain, validation_split=0.2,\n",
    "                            batch_size = 10, epochs = 60)"
   ]
  },
  {
   "cell_type": "code",
   "execution_count": 151,
   "metadata": {},
   "outputs": [
    {
     "name": "stdout",
     "output_type": "stream",
     "text": [
      "Model: \"sequential_4\"\n",
      "_________________________________________________________________\n",
      " Layer (type)                Output Shape              Param #   \n",
      "=================================================================\n",
      " dense_13 (Dense)            (None, 40)                2040      \n",
      "                                                                 \n",
      " dense_14 (Dense)            (None, 30)                1230      \n",
      "                                                                 \n",
      " dense_15 (Dense)            (None, 15)                465       \n",
      "                                                                 \n",
      " dense_16 (Dense)            (None, 1)                 16        \n",
      "                                                                 \n",
      "=================================================================\n",
      "Total params: 3,751\n",
      "Trainable params: 3,751\n",
      "Non-trainable params: 0\n",
      "_________________________________________________________________\n"
     ]
    }
   ],
   "source": [
    "my_classifier2.summary()"
   ]
  },
  {
   "cell_type": "code",
   "execution_count": 148,
   "metadata": {},
   "outputs": [],
   "source": [
    "# Make predictions\n",
    "# Predicting the Test set results\n",
    "y_pred_train = my_classifier2.predict(Xtrain)"
   ]
  },
  {
   "cell_type": "code",
   "execution_count": 149,
   "metadata": {},
   "outputs": [],
   "source": [
    "# Predicting the Test set results\n",
    "y_pred_test = my_classifier2.predict(Xtest)"
   ]
  },
  {
   "cell_type": "code",
   "execution_count": null,
   "metadata": {},
   "outputs": [],
   "source": [
    "# Making the Confusion Matrix\n",
    "#from sklearn.metrics import confusion_matrix\n",
    "#cm = confusion_matrix(ytest, y_pred_test)\n"
   ]
  },
  {
   "cell_type": "code",
   "execution_count": 150,
   "metadata": {},
   "outputs": [
    {
     "name": "stdout",
     "output_type": "stream",
     "text": [
      "dict_keys(['loss', 'accuracy', 'val_loss', 'val_accuracy'])\n"
     ]
    }
   ],
   "source": [
    "# list all the data in history\n",
    "print(history.history.keys())\n"
   ]
  },
  {
   "cell_type": "code",
   "execution_count": 153,
   "metadata": {},
   "outputs": [
    {
     "data": {
      "image/png": "[encoded data removed]",
      "text/plain": [
       "<Figure size 432x288 with 1 Axes>"
      ]
     },
     "metadata": {
      "needs_background": "light"
     },
     "output_type": "display_data"
    },
    {
     "data": {
      "image/png": "[encoded data removed]",
      "text/plain": [
       "<Figure size 432x288 with 1 Axes>"
      ]
     },
     "metadata": {
      "needs_background": "light"
     },
     "output_type": "display_data"
    }
   ],
   "source": [
    "# Plot the accuracy for both train and validation set\n",
    "plt.subplots() # open a new plot\n",
    "plt.plot(history.history['accuracy'])\n",
    "plt.plot(history.history['val_accuracy'])\n",
    "plt.title('model accuracy')\n",
    "plt.ylabel('accuracy')\n",
    "plt.xlabel('epoch')\n",
    "plt.legend(['train', 'validation'])\n",
    "plt.show()\n",
    "\n",
    "# Plot the loss for both train and validation set\n",
    "plt.subplots() # open a new plot\n",
    "plt.plot(history.history['loss'])\n",
    "plt.plot(history.history['val_loss'])\n",
    "plt.title('model loss')\n",
    "plt.ylabel('loss')\n",
    "plt.xlabel('epoch')\n",
    "plt.legend(['train', 'validation'])\n",
    "plt.show()"
   ]
  },
  {
   "cell_type": "markdown",
   "metadata": {},
   "source": [
    "# Connect model to Twitter API\n"
   ]
  },
  {
   "cell_type": "code",
   "execution_count": 13,
   "metadata": {},
   "outputs": [],
   "source": [
    "# Handle API keys\n",
    "import os\n",
    "from dotenv import load_dotenv"
   ]
  },
  {
   "cell_type": "code",
   "execution_count": 17,
   "metadata": {},
   "outputs": [],
   "source": [
    "# load API_keys\n",
    "load_dotenv()\n",
    "\n",
    "API_KEY = os.getenv('API_KEY')\n",
    "API_KEY_SECRET = os.getenv('API_KEY_SECRET')\n",
    "BEARER_TOKEN= os.getenv('BEARER_TOKEN')\n",
    "ACCESS_TOKEN = os.getenv('ACCESS_TOKEN')\n",
    "ACCESS_TOKEN_SECRET= os.getenv('ACCESS_TOKEN_SECRET')"
   ]
  },
  {
   "cell_type": "code",
   "execution_count": 20,
   "metadata": {},
   "outputs": [],
   "source": [
    "# load client\n",
    "def getClient():\n",
    "    client = tweepy.Client(bearer_token=BEARER_TOKEN,\n",
    "                           consumer_key=API_KEY,\n",
    "                           consumer_secret=API_KEY_SECRET,\n",
    "                           access_token=ACCESS_TOKEN,\n",
    "                           access_token_secret=ACCESS_TOKEN_SECRET)\n",
    "    return client"
   ]
  },
  {
   "cell_type": "code",
   "execution_count": 21,
   "metadata": {},
   "outputs": [],
   "source": [
    "# Load tweets\n",
    "def searchTweets(client, query, max_results):\n",
    "\n",
    "    tweets = client.search_recent_tweets(query=query, max_results=max_results)\n",
    "\n",
    "    tweet_data =  tweets.data\n",
    "    results = []\n",
    "\n",
    "    if not tweet_data is None and len(tweet_data) > 0:\n",
    "        for tweet in tweet_data:\n",
    "            obj = {}\n",
    "            obj['id'] = tweet.id\n",
    "            obj['text'] = tweet.text\n",
    "            results.append(obj)\n",
    "\n",
    "    return results"
   ]
  },
  {
   "cell_type": "code",
   "execution_count": 22,
   "metadata": {},
   "outputs": [
    {
     "name": "stdout",
     "output_type": "stream",
     "text": [
      "['@kirstiealley Canada is such a kind country...one your hardly hear about..and now they are YELLING! I love it and support them 100%!!', \"Think people, think.\\n\\nDisagree with the convoy's message? That's ok.\\nInvoke the #EmergencyAct to shut it down? Be careful what you wish for.\\nWant a full list of donors from @GoFundMe? Ok, but be prepared to cough that up for every fundraiser in Canada. All of them.\", 'LOOK AT ALL THE GOODIES 👀 \\n#unboxing #pov #OOTD #Canada \\nhttps://t.co/KQikBOVIGh', 'On Monday I shared a few thoughts on record high Canadian industrial property prices at the @MSCI_Inc / @realpac Canada Real Estate Investent Forum. I look at the issue here loosely through the lens of the DiPasquale-Wheaton 4-Quadrant model.  https://t.co/lvkXO1gZTj @realcapital https://t.co/vV4aWf0g4e', 'Canada’s Steele Auto expands its U.S. footprint in\\xa0Texas https://t.co/gptb3e1M2D', \"@kailahdee Do you ship internationally? I'm in Canada\", 'Do you support the convoy of truckers protesting vaccine restrictions in Canada? https://t.co/jANNtkPcbm', \"Very cold air in Canada once again spilling into the northern tier. We'll be getting colder again despite a mild start to February. Obviously, not anywhere near THIS cold.  #wtvmwx https://t.co/XpcncGey75\", '@SanaSaeed can we add soccer, too? canada is close to qualifying for the world cup!', \"@BigBEEwithItch @BCvanguards @SpencerFernando @poilievre He knows he's too incompetent to lead Canada.\"]\n"
     ]
    }
   ],
   "source": [
    "# clean tweets\n",
    "def returnTweets(query):\n",
    "    query = '{} lang:en -is:retweet'.format(query)\n",
    "\n",
    "    client = getClient()\n",
    "    tweets = searchTweets(client, query, 10)\n",
    "\n",
    "    objs = []\n",
    "\n",
    "    if len(tweets) > 0:\n",
    "        for tweet in tweets:\n",
    "            obj = {}\n",
    "            obj['text'] = tweet['text']\n",
    "            objs.append(obj)\n",
    "\n",
    "    return(objs)\n",
    "\n",
    "# Tweet topic \n",
    "query = 'canada'\n",
    "tweets = returnTweets(query)\n",
    "\n",
    "# Variable for tweet list\n",
    "list_tweets = []\n",
    "for i in tweets:\n",
    "   \n",
    "    # now i is a dict, now we see the keys\n",
    "    # of the dict\n",
    "    for key in i.values():\n",
    "       \n",
    "        # print every key of each dict\n",
    "        list_tweets.append(key)\n",
    "\n",
    "\n",
    "# Look at the tweets\n",
    "print(list_tweets)"
   ]
  },
  {
   "cell_type": "code",
   "execution_count": 24,
   "metadata": {},
   "outputs": [],
   "source": [
    "# Preprocess tweets for prediction\n",
    "\n",
    "# Load packages\n",
    "import re\n",
    "from string import punctuation\n",
    "from collections import Counter\n",
    "from nltk.corpus import stopwords\n",
    "\n",
    "from spellchecker import SpellChecker\n",
    "from nltk.stem import PorterStemmer\n",
    "from nltk.tokenize import TweetTokenizer\n",
    "\n",
    "# Remove stopwords\n",
    "stopwordlist = stopwords.words('english')\n",
    "new_stop_words=['i', 'im', 'http', 'ive', 'rt']\n",
    "for i in new_stop_words:\n",
    "    stopwordlist.append(i)\n"
   ]
  },
  {
   "cell_type": "code",
   "execution_count": 25,
   "metadata": {},
   "outputs": [],
   "source": [
    "# Preprocessing function\n",
    "def preprocess(textdata):\n",
    "    processedText = []\n",
    "    punctuation_counts = []\n",
    "\n",
    "    # Create Lemmatizer and Stemmer.\n",
    "    wordstem = PorterStemmer()\n",
    "    spell = SpellChecker()\n",
    "    tk = TweetTokenizer()\n",
    "    \n",
    "    for tweet in textdata:\n",
    "        tweet = re.sub(r'@([A-Za-z0-9_]+)', '', tweet)\n",
    "        punctuation_count = lambda l1,l2: sum([1 for x in l1 if x in l2])\n",
    "        punctuation_counts.append(punctuation_count(tweet,set(punctuation)))\n",
    "        tweet = tweet.lower()\n",
    "        \n",
    "        # Regex\n",
    "        tweet = re.sub('[^a-zA-Z]+', ' ', tweet)\n",
    "        sequencePattern   = r\"(.)\\1\\1+\"\n",
    "        seqReplacePattern = r\"\\1\\1\"\n",
    "        tweet = re.sub(sequencePattern, seqReplacePattern, tweet)\n",
    "        \n",
    "        tweetwords = ''\n",
    "        for word in tk.tokenize(tweet):\n",
    "            # Checking if the word is a stopword.\n",
    "            if word not in stopwordlist:\n",
    "                # Spell check the word\n",
    "                word = spell.correction(word)\n",
    "                # Lemmatizing the word.\n",
    "                word = wordstem.stem(word)\n",
    "                tweetwords += (word+' ')\n",
    "            \n",
    "        processedText.append(tweetwords)\n",
    "        \n",
    "    return processedText, punctuation_counts"
   ]
  },
  {
   "cell_type": "code",
   "execution_count": 26,
   "metadata": {},
   "outputs": [
    {
     "name": "stdout",
     "output_type": "stream",
     "text": [
      "(['canada kind countri one hardli hear yell love support ', 'think peopl think disagre convoy messag ok invok emergencyact shut care wish want full list donor ok prepar cough everi fundrais canada ', 'look goodi box pov oot canada hate co kqikbovigh ', 'monday share thought record high canadian industri properti price canada real estat invest forum look issu loos len pasqual wheaton quadrant model hate co likeo get hate co ve awf i e ', 'canada steel auto expand u footprint texa hate co get e ', 'ship intern canada ', 'support convoy trucker protest vaccin restrict canada hate co janntkpcbm ', 'cold air canada spill northern tier get colder despit mild start februari obvious anywher near cold wtvmwx hate co xpcncgey ', 'add soccer canada close qualifi world cup ', 'know incompet lead canada '], [9, 13, 9, 15, 7, 2, 6, 11, 3, 2])\n"
     ]
    }
   ],
   "source": [
    "api_tweets = preprocess(list_tweets)\n",
    "print(api_tweets)"
   ]
  },
  {
   "cell_type": "code",
   "execution_count": 27,
   "metadata": {},
   "outputs": [],
   "source": [
    "# put tweets into a data frame\n",
    "api_df= pd.DataFrame(api_tweets[0],columns=['tweet'])\n",
    "api_df['punctuation_count'] = api_tweets[1]"
   ]
  },
  {
   "cell_type": "code",
   "execution_count": 28,
   "metadata": {},
   "outputs": [
    {
     "name": "stdout",
     "output_type": "stream",
     "text": [
      "<class 'pandas.core.frame.DataFrame'>\n",
      "RangeIndex: 10 entries, 0 to 9\n",
      "Data columns (total 2 columns):\n",
      " #   Column             Non-Null Count  Dtype \n",
      "---  ------             --------------  ----- \n",
      " 0   tweet              10 non-null     object\n",
      " 1   punctuation_count  10 non-null     int64 \n",
      "dtypes: int64(1), object(1)\n",
      "memory usage: 288.0+ bytes\n"
     ]
    }
   ],
   "source": [
    "api_df.info()"
   ]
  },
  {
   "cell_type": "code",
   "execution_count": 29,
   "metadata": {},
   "outputs": [],
   "source": [
    "api_tweet = api_df[['tweet']]\n",
    "api_punctuation_counts = api_df[['punctuation_count']]"
   ]
  },
  {
   "cell_type": "code",
   "execution_count": 30,
   "metadata": {},
   "outputs": [],
   "source": [
    "# Transform new data into tfidf matrix\n",
    "api_tfidf_vect = vectorizer.transform(api_df['tweet'])\n",
    "api_tfidf_feature_names = vectorizer.get_feature_names_out()\n",
    "\n",
    "api_tfidf_df = pd.DataFrame (api_tfidf_vect.todense())\n",
    "api_tfidf_df.columns = api_tfidf_feature_names\n",
    "api_tfidf_df['punctuation_count'] = api_punctuation_counts"
   ]
  },
  {
   "cell_type": "code",
   "execution_count": 31,
   "metadata": {},
   "outputs": [],
   "source": [
    "# scale punctuation_counts\n",
    "api_tfidf_df['punctuation_count'] = min_max_scaler.transform(api_punctuation_counts)"
   ]
  },
  {
   "cell_type": "code",
   "execution_count": 35,
   "metadata": {},
   "outputs": [],
   "source": [
    "# Load the model\n",
    "model =  load_model('twitter_model.h5')\n",
    "predictions = model.predict(api_tfidf_df)"
   ]
  },
  {
   "cell_type": "code",
   "execution_count": 37,
   "metadata": {},
   "outputs": [
    {
     "data": {
      "text/plain": [
       "['@kirstiealley Canada is such a kind country...one your hardly hear about..and now they are YELLING! I love it and support them 100%!!',\n",
       " \"Think people, think.\\n\\nDisagree with the convoy's message? That's ok.\\nInvoke the #EmergencyAct to shut it down? Be careful what you wish for.\\nWant a full list of donors from @GoFundMe? Ok, but be prepared to cough that up for every fundraiser in Canada. All of them.\",\n",
       " 'LOOK AT ALL THE GOODIES 👀 \\n#unboxing #pov #OOTD #Canada \\nhttps://t.co/KQikBOVIGh',\n",
       " 'On Monday I shared a few thoughts on record high Canadian industrial property prices at the @MSCI_Inc / @realpac Canada Real Estate Investent Forum. I look at the issue here loosely through the lens of the DiPasquale-Wheaton 4-Quadrant model.  https://t.co/lvkXO1gZTj @realcapital https://t.co/vV4aWf0g4e',\n",
       " 'Canada’s Steele Auto expands its U.S. footprint in\\xa0Texas https://t.co/gptb3e1M2D',\n",
       " \"@kailahdee Do you ship internationally? I'm in Canada\",\n",
       " 'Do you support the convoy of truckers protesting vaccine restrictions in Canada? https://t.co/jANNtkPcbm',\n",
       " \"Very cold air in Canada once again spilling into the northern tier. We'll be getting colder again despite a mild start to February. Obviously, not anywhere near THIS cold.  #wtvmwx https://t.co/XpcncGey75\",\n",
       " '@SanaSaeed can we add soccer, too? canada is close to qualifying for the world cup!',\n",
       " \"@BigBEEwithItch @BCvanguards @SpencerFernando @poilievre He knows he's too incompetent to lead Canada.\"]"
      ]
     },
     "execution_count": 37,
     "metadata": {},
     "output_type": "execute_result"
    }
   ],
   "source": [
    "list_tweets"
   ]
  },
  {
   "cell_type": "code",
   "execution_count": 41,
   "metadata": {},
   "outputs": [],
   "source": [
    "# Join the predicions and tweets togeather\n",
    "change_sent_df= pd.DataFrame(predictions,columns=['predictions'])\n",
    "change_sent_df['tweets'] = list_tweets"
   ]
  },
  {
   "cell_type": "code",
   "execution_count": 46,
   "metadata": {},
   "outputs": [
    {
     "data": {
      "text/html": [
       "<div>\n",
       "<style scoped>\n",
       "    .dataframe tbody tr th:only-of-type {\n",
       "        vertical-align: middle;\n",
       "    }\n",
       "\n",
       "    .dataframe tbody tr th {\n",
       "        vertical-align: top;\n",
       "    }\n",
       "\n",
       "    .dataframe thead th {\n",
       "        text-align: right;\n",
       "    }\n",
       "</style>\n",
       "<table border=\"1\" class=\"dataframe\">\n",
       "  <thead>\n",
       "    <tr style=\"text-align: right;\">\n",
       "      <th></th>\n",
       "      <th>predictions</th>\n",
       "      <th>tweets</th>\n",
       "    </tr>\n",
       "  </thead>\n",
       "  <tbody>\n",
       "    <tr>\n",
       "      <th>1</th>\n",
       "      <td>0.176737</td>\n",
       "      <td>Think people, think.\\n\\nDisagree with the conv...</td>\n",
       "    </tr>\n",
       "    <tr>\n",
       "      <th>2</th>\n",
       "      <td>0.253721</td>\n",
       "      <td>LOOK AT ALL THE GOODIES 👀 \\n#unboxing #pov #OO...</td>\n",
       "    </tr>\n",
       "    <tr>\n",
       "      <th>3</th>\n",
       "      <td>0.225488</td>\n",
       "      <td>On Monday I shared a few thoughts on record hi...</td>\n",
       "    </tr>\n",
       "    <tr>\n",
       "      <th>4</th>\n",
       "      <td>0.166089</td>\n",
       "      <td>Canada’s Steele Auto expands its U.S. footprin...</td>\n",
       "    </tr>\n",
       "    <tr>\n",
       "      <th>6</th>\n",
       "      <td>0.314327</td>\n",
       "      <td>Do you support the convoy of truckers protesti...</td>\n",
       "    </tr>\n",
       "    <tr>\n",
       "      <th>7</th>\n",
       "      <td>0.096210</td>\n",
       "      <td>Very cold air in Canada once again spilling in...</td>\n",
       "    </tr>\n",
       "  </tbody>\n",
       "</table>\n",
       "</div>"
      ],
      "text/plain": [
       "   predictions                                             tweets\n",
       "1     0.176737  Think people, think.\\n\\nDisagree with the conv...\n",
       "2     0.253721  LOOK AT ALL THE GOODIES 👀 \\n#unboxing #pov #OO...\n",
       "3     0.225488  On Monday I shared a few thoughts on record hi...\n",
       "4     0.166089  Canada’s Steele Auto expands its U.S. footprin...\n",
       "6     0.314327  Do you support the convoy of truckers protesti...\n",
       "7     0.096210  Very cold air in Canada once again spilling in..."
      ]
     },
     "execution_count": 46,
     "metadata": {},
     "output_type": "execute_result"
    }
   ],
   "source": [
    "# 1 for Postive\n",
    "# 0 for Negative\n",
    "change_sent_df=change_sent_df[change_sent_df.predictions < 0.5]\n",
    "change_sent_df"
   ]
  },
  {
   "cell_type": "markdown",
   "metadata": {},
   "source": [
    "# Change the sentiment of Negative tweets"
   ]
  },
  {
   "cell_type": "code",
   "execution_count": 42,
   "metadata": {},
   "outputs": [
    {
     "name": "stderr",
     "output_type": "stream",
     "text": [
      "[nltk_data] Downloading package wordnet to /Users/juan-\n",
      "[nltk_data]     lukeclackworthy/nltk_data...\n",
      "[nltk_data]   Unzipping corpora/wordnet.zip.\n"
     ]
    }
   ],
   "source": [
    "# Import Libraries\n",
    "import nltk\n",
    "nltk.download('wordnet')\n",
    "from nltk.corpus import wordnet as wn\n",
    "from nltk.tokenize import TweetTokenizer"
   ]
  },
  {
   "cell_type": "code",
   "execution_count": 43,
   "metadata": {},
   "outputs": [],
   "source": [
    "# Get Atonyms and repace adjectives\n",
    "def get_antonyms_for_adjective(word):\n",
    "    antonyms = []\n",
    "    for word_sysnet in wn.synsets(word):\n",
    "        if word_sysnet.pos() in ['a', 's']: # Only consider adjectives\n",
    "          for lemma in word_sysnet.lemmas():\n",
    "              # a lemma is info about a word. For instance, adject bad: Synset('bad.a.01')\n",
    "              any_pos_antonyms = [ antonym.name() for antonym in lemma.antonyms() ]\n",
    "              for antonym in any_pos_antonyms:\n",
    "                  antonym_synsets = wn.synsets(antonym)\n",
    "                  if wn.ADJ not in [ ss.pos() for ss in antonym_synsets ]:\n",
    "                      continue\n",
    "                  antonyms.append(antonym)\n",
    "    return antonyms\n",
    "\n",
    "def change_sentence_sentiment(sentence):\n",
    "    tk = TweetTokenizer()\n",
    "    new_sentence = []\n",
    "\n",
    "    for word in tk.tokenize(sentence):\n",
    "        antonyms = get_antonyms_for_adjective(word)\n",
    "        \n",
    "        if len(antonyms) == 0:\n",
    "            new_sentence.append(word)\n",
    "        else:\n",
    "            new_sentence.append(antonyms[0])\n",
    "    \n",
    "    return ' '.join(new_sentence)"
   ]
  },
  {
   "cell_type": "code",
   "execution_count": 44,
   "metadata": {},
   "outputs": [
    {
     "name": "stdout",
     "output_type": "stream",
     "text": [
      "dogecoin is an nice asset , really anyone who invests in it is smart\n"
     ]
    }
   ],
   "source": [
    "sentence = \"dogecoin is an awful asset, really anyone who invests in it is stupid\"\n",
    "print(change_sentence_sentiment(sentence))"
   ]
  },
  {
   "cell_type": "code",
   "execution_count": 73,
   "metadata": {},
   "outputs": [
    {
     "data": {
      "text/html": [
       "<div>\n",
       "<style scoped>\n",
       "    .dataframe tbody tr th:only-of-type {\n",
       "        vertical-align: middle;\n",
       "    }\n",
       "\n",
       "    .dataframe tbody tr th {\n",
       "        vertical-align: top;\n",
       "    }\n",
       "\n",
       "    .dataframe thead th {\n",
       "        text-align: right;\n",
       "    }\n",
       "</style>\n",
       "<table border=\"1\" class=\"dataframe\">\n",
       "  <thead>\n",
       "    <tr style=\"text-align: right;\">\n",
       "      <th></th>\n",
       "      <th>tweets</th>\n",
       "    </tr>\n",
       "  </thead>\n",
       "  <tbody>\n",
       "    <tr>\n",
       "      <th>1</th>\n",
       "      <td>Think people, think.\\n\\nDisagree with the conv...</td>\n",
       "    </tr>\n",
       "    <tr>\n",
       "      <th>2</th>\n",
       "      <td>LOOK AT ALL THE GOODIES 👀 \\n#unboxing #pov #OO...</td>\n",
       "    </tr>\n",
       "    <tr>\n",
       "      <th>3</th>\n",
       "      <td>On Monday I shared a few thoughts on record hi...</td>\n",
       "    </tr>\n",
       "    <tr>\n",
       "      <th>4</th>\n",
       "      <td>Canada’s Steele Auto expands its U.S. footprin...</td>\n",
       "    </tr>\n",
       "    <tr>\n",
       "      <th>6</th>\n",
       "      <td>Do you support the convoy of truckers protesti...</td>\n",
       "    </tr>\n",
       "    <tr>\n",
       "      <th>7</th>\n",
       "      <td>Very cold air in Canada once again spilling in...</td>\n",
       "    </tr>\n",
       "  </tbody>\n",
       "</table>\n",
       "</div>"
      ],
      "text/plain": [
       "                                              tweets\n",
       "1  Think people, think.\\n\\nDisagree with the conv...\n",
       "2  LOOK AT ALL THE GOODIES 👀 \\n#unboxing #pov #OO...\n",
       "3  On Monday I shared a few thoughts on record hi...\n",
       "4  Canada’s Steele Auto expands its U.S. footprin...\n",
       "6  Do you support the convoy of truckers protesti...\n",
       "7  Very cold air in Canada once again spilling in..."
      ]
     },
     "execution_count": 73,
     "metadata": {},
     "output_type": "execute_result"
    }
   ],
   "source": [
    "changed_sent_df = change_sent_df[['tweets']]\n",
    "changed_sent_df"
   ]
  },
  {
   "cell_type": "code",
   "execution_count": 74,
   "metadata": {},
   "outputs": [],
   "source": [
    "changed_sent_df['Changed Sentence'] = changed_sent_df['tweets'].apply(lambda x: change_sentence_sentiment(x))"
   ]
  },
  {
   "cell_type": "code",
   "execution_count": 81,
   "metadata": {},
   "outputs": [
    {
     "data": {
      "text/html": [
       "<div>\n",
       "<style scoped>\n",
       "    .dataframe tbody tr th:only-of-type {\n",
       "        vertical-align: middle;\n",
       "    }\n",
       "\n",
       "    .dataframe tbody tr th {\n",
       "        vertical-align: top;\n",
       "    }\n",
       "\n",
       "    .dataframe thead th {\n",
       "        text-align: right;\n",
       "    }\n",
       "</style>\n",
       "<table border=\"1\" class=\"dataframe\">\n",
       "  <thead>\n",
       "    <tr style=\"text-align: right;\">\n",
       "      <th></th>\n",
       "      <th>tweets</th>\n",
       "      <th>Changed Sentence</th>\n",
       "    </tr>\n",
       "  </thead>\n",
       "  <tbody>\n",
       "    <tr>\n",
       "      <th>1</th>\n",
       "      <td>Think people, think.\\n\\nDisagree with the conv...</td>\n",
       "      <td>Think people , think . Disagree with the convo...</td>\n",
       "    </tr>\n",
       "    <tr>\n",
       "      <th>2</th>\n",
       "      <td>LOOK AT ALL THE GOODIES 👀 \\n#unboxing #pov #OO...</td>\n",
       "      <td>LOOK AT some THE GOODIES 👀 #unboxing #pov #OOT...</td>\n",
       "    </tr>\n",
       "    <tr>\n",
       "      <th>3</th>\n",
       "      <td>On Monday I shared a few thoughts on record hi...</td>\n",
       "      <td>off Monday I unshared a many thoughts off reco...</td>\n",
       "    </tr>\n",
       "    <tr>\n",
       "      <th>4</th>\n",
       "      <td>Canada’s Steele Auto expands its U.S. footprin...</td>\n",
       "      <td>Canada ’ s Steele Auto expands its U . S . foo...</td>\n",
       "    </tr>\n",
       "    <tr>\n",
       "      <th>6</th>\n",
       "      <td>Do you support the convoy of truckers protesti...</td>\n",
       "      <td>Do you support the convoy of truckers protesti...</td>\n",
       "    </tr>\n",
       "    <tr>\n",
       "      <th>7</th>\n",
       "      <td>Very cold air in Canada once again spilling in...</td>\n",
       "      <td>Very hot air in Canada once again spilling int...</td>\n",
       "    </tr>\n",
       "  </tbody>\n",
       "</table>\n",
       "</div>"
      ],
      "text/plain": [
       "                                              tweets  \\\n",
       "1  Think people, think.\\n\\nDisagree with the conv...   \n",
       "2  LOOK AT ALL THE GOODIES 👀 \\n#unboxing #pov #OO...   \n",
       "3  On Monday I shared a few thoughts on record hi...   \n",
       "4  Canada’s Steele Auto expands its U.S. footprin...   \n",
       "6  Do you support the convoy of truckers protesti...   \n",
       "7  Very cold air in Canada once again spilling in...   \n",
       "\n",
       "                                    Changed Sentence  \n",
       "1  Think people , think . Disagree with the convo...  \n",
       "2  LOOK AT some THE GOODIES 👀 #unboxing #pov #OOT...  \n",
       "3  off Monday I unshared a many thoughts off reco...  \n",
       "4  Canada ’ s Steele Auto expands its U . S . foo...  \n",
       "6  Do you support the convoy of truckers protesti...  \n",
       "7  Very hot air in Canada once again spilling int...  "
      ]
     },
     "execution_count": 81,
     "metadata": {},
     "output_type": "execute_result"
    }
   ],
   "source": [
    "changed_sent_df"
   ]
  }
 ],
 "metadata": {
  "interpreter": {
   "hash": "069624a5003d722d46b2ddcbbef8ec29c962821c31c4d6de5b70c8b5461f7514"
  },
  "kernelspec": {
   "display_name": "Python 3 (ipykernel)",
   "language": "python",
   "name": "python3"
  },
  "language_info": {
   "codemirror_mode": {
    "name": "ipython",
    "version": 3
   },
   "file_extension": ".py",
   "mimetype": "text/x-python",
   "name": "python",
   "nbconvert_exporter": "python",
   "pygments_lexer": "ipython3",
   "version": "3.9.7"
  }
 },
 "nbformat": 4,
 "nbformat_minor": 4
}
