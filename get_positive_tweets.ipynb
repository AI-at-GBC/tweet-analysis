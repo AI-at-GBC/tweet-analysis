{
 "cells": [
  {
   "cell_type": "markdown",
   "metadata": {},
   "source": [
    "# Import Libraries"
   ]
  },
  {
   "cell_type": "code",
   "execution_count": 3,
   "metadata": {},
   "outputs": [],
   "source": [
    "import numpy as np\n",
    "import pandas as pd\n",
    "import tweepy\n",
    "import tensorflow as tf\n",
    "from tensorflow.keras.preprocessing.text import Tokenizer\n",
    "from tensorflow.keras.preprocessing.sequence import pad_sequences\n",
    "from tensorflow.keras.models import Sequential, load_model\n",
    "from tensorflow.keras.layers import Dense, Flatten, LSTM\n",
    "from tensorflow.keras import activations\n",
    "from tensorflow.keras.layers import Embedding\n",
    "from tensorflow.keras.layers import GlobalMaxPooling1D, Conv1D"
   ]
  },
  {
   "cell_type": "markdown",
   "metadata": {},
   "source": [
    "# Import the Dataset"
   ]
  },
  {
   "cell_type": "code",
   "execution_count": 4,
   "metadata": {},
   "outputs": [
    {
     "data": {
      "text/html": [
       "<div>\n",
       "<style scoped>\n",
       "    .dataframe tbody tr th:only-of-type {\n",
       "        vertical-align: middle;\n",
       "    }\n",
       "\n",
       "    .dataframe tbody tr th {\n",
       "        vertical-align: top;\n",
       "    }\n",
       "\n",
       "    .dataframe thead th {\n",
       "        text-align: right;\n",
       "    }\n",
       "</style>\n",
       "<table border=\"1\" class=\"dataframe\">\n",
       "  <thead>\n",
       "    <tr style=\"text-align: right;\">\n",
       "      <th></th>\n",
       "      <th>Unnamed: 0</th>\n",
       "      <th>tweet</th>\n",
       "      <th>punctuation_count</th>\n",
       "      <th>sentiment</th>\n",
       "    </tr>\n",
       "  </thead>\n",
       "  <tbody>\n",
       "    <tr>\n",
       "      <th>0</th>\n",
       "      <td>0</td>\n",
       "      <td>sleep good remedi fall asleep need one</td>\n",
       "      <td>6</td>\n",
       "      <td>0</td>\n",
       "    </tr>\n",
       "    <tr>\n",
       "      <th>1</th>\n",
       "      <td>1</td>\n",
       "      <td>work fun</td>\n",
       "      <td>2</td>\n",
       "      <td>0</td>\n",
       "    </tr>\n",
       "    <tr>\n",
       "      <th>2</th>\n",
       "      <td>2</td>\n",
       "      <td>summer person love dull cold weather centralco...</td>\n",
       "      <td>3</td>\n",
       "      <td>1</td>\n",
       "    </tr>\n",
       "    <tr>\n",
       "      <th>3</th>\n",
       "      <td>3</td>\n",
       "      <td>want smoke cig lighter</td>\n",
       "      <td>2</td>\n",
       "      <td>0</td>\n",
       "    </tr>\n",
       "    <tr>\n",
       "      <th>4</th>\n",
       "      <td>4</td>\n",
       "      <td>pass lot twit arriv trend topic bob</td>\n",
       "      <td>8</td>\n",
       "      <td>0</td>\n",
       "    </tr>\n",
       "    <tr>\n",
       "      <th>...</th>\n",
       "      <td>...</td>\n",
       "      <td>...</td>\n",
       "      <td>...</td>\n",
       "      <td>...</td>\n",
       "    </tr>\n",
       "    <tr>\n",
       "      <th>105236</th>\n",
       "      <td>105236</td>\n",
       "      <td>i i i i i miss trip hehe turn bird amp turtl l...</td>\n",
       "      <td>15</td>\n",
       "      <td>1</td>\n",
       "    </tr>\n",
       "    <tr>\n",
       "      <th>105237</th>\n",
       "      <td>105237</td>\n",
       "      <td>hump say</td>\n",
       "      <td>2</td>\n",
       "      <td>0</td>\n",
       "    </tr>\n",
       "    <tr>\n",
       "      <th>105238</th>\n",
       "      <td>105238</td>\n",
       "      <td>seriou chemistri revis feel rather ill atm</td>\n",
       "      <td>1</td>\n",
       "      <td>0</td>\n",
       "    </tr>\n",
       "    <tr>\n",
       "      <th>105239</th>\n",
       "      <td>105239</td>\n",
       "      <td>weekend go sound like time iphon poker girl let</td>\n",
       "      <td>5</td>\n",
       "      <td>0</td>\n",
       "    </tr>\n",
       "    <tr>\n",
       "      <th>105240</th>\n",
       "      <td>105240</td>\n",
       "      <td>uff today vote eu parliament also went made cr...</td>\n",
       "      <td>4</td>\n",
       "      <td>1</td>\n",
       "    </tr>\n",
       "  </tbody>\n",
       "</table>\n",
       "<p>105241 rows × 4 columns</p>\n",
       "</div>"
      ],
      "text/plain": [
       "        Unnamed: 0                                              tweet  \\\n",
       "0                0            sleep good remedi fall asleep need one    \n",
       "1                1                                          work fun    \n",
       "2                2  summer person love dull cold weather centralco...   \n",
       "3                3                            want smoke cig lighter    \n",
       "4                4               pass lot twit arriv trend topic bob    \n",
       "...            ...                                                ...   \n",
       "105236      105236  i i i i i miss trip hehe turn bird amp turtl l...   \n",
       "105237      105237                                          hump say    \n",
       "105238      105238        seriou chemistri revis feel rather ill atm    \n",
       "105239      105239   weekend go sound like time iphon poker girl let    \n",
       "105240      105240  uff today vote eu parliament also went made cr...   \n",
       "\n",
       "        punctuation_count  sentiment  \n",
       "0                       6          0  \n",
       "1                       2          0  \n",
       "2                       3          1  \n",
       "3                       2          0  \n",
       "4                       8          0  \n",
       "...                   ...        ...  \n",
       "105236                 15          1  \n",
       "105237                  2          0  \n",
       "105238                  1          0  \n",
       "105239                  5          0  \n",
       "105240                  4          1  \n",
       "\n",
       "[105241 rows x 4 columns]"
      ]
     },
     "execution_count": 4,
     "metadata": {},
     "output_type": "execute_result"
    }
   ],
   "source": [
    "# Here we are importing our dataset of 100k tweets that we ran through our tweet cleaning script.  \n",
    "#  As we can see the script is mostly clean, but further cleaning is required\n",
    "data = pd.read_csv(\"cleaned_text.csv\", encoding='latin1', header = 0)\n",
    "data"
   ]
  },
  {
   "cell_type": "markdown",
   "metadata": {},
   "source": [
    "# Preparing the Dataset"
   ]
  },
  {
   "cell_type": "code",
   "execution_count": 5,
   "metadata": {},
   "outputs": [],
   "source": [
    "#Droping the column that was our prior index\n",
    "data.drop(data.columns[[0]], axis=1, inplace=True)\n"
   ]
  },
  {
   "cell_type": "code",
   "execution_count": 6,
   "metadata": {},
   "outputs": [
    {
     "data": {
      "text/html": [
       "<div>\n",
       "<style scoped>\n",
       "    .dataframe tbody tr th:only-of-type {\n",
       "        vertical-align: middle;\n",
       "    }\n",
       "\n",
       "    .dataframe tbody tr th {\n",
       "        vertical-align: top;\n",
       "    }\n",
       "\n",
       "    .dataframe thead th {\n",
       "        text-align: right;\n",
       "    }\n",
       "</style>\n",
       "<table border=\"1\" class=\"dataframe\">\n",
       "  <thead>\n",
       "    <tr style=\"text-align: right;\">\n",
       "      <th></th>\n",
       "      <th>tweet</th>\n",
       "      <th>punctuation_count</th>\n",
       "      <th>sentiment</th>\n",
       "    </tr>\n",
       "  </thead>\n",
       "  <tbody>\n",
       "    <tr>\n",
       "      <th>0</th>\n",
       "      <td>sleep good remedi fall asleep need one</td>\n",
       "      <td>6</td>\n",
       "      <td>0</td>\n",
       "    </tr>\n",
       "    <tr>\n",
       "      <th>1</th>\n",
       "      <td>work fun</td>\n",
       "      <td>2</td>\n",
       "      <td>0</td>\n",
       "    </tr>\n",
       "    <tr>\n",
       "      <th>2</th>\n",
       "      <td>summer person love dull cold weather centralco...</td>\n",
       "      <td>3</td>\n",
       "      <td>1</td>\n",
       "    </tr>\n",
       "    <tr>\n",
       "      <th>3</th>\n",
       "      <td>want smoke cig lighter</td>\n",
       "      <td>2</td>\n",
       "      <td>0</td>\n",
       "    </tr>\n",
       "    <tr>\n",
       "      <th>4</th>\n",
       "      <td>pass lot twit arriv trend topic bob</td>\n",
       "      <td>8</td>\n",
       "      <td>0</td>\n",
       "    </tr>\n",
       "  </tbody>\n",
       "</table>\n",
       "</div>"
      ],
      "text/plain": [
       "                                               tweet  punctuation_count  \\\n",
       "0            sleep good remedi fall asleep need one                   6   \n",
       "1                                          work fun                   2   \n",
       "2  summer person love dull cold weather centralco...                  3   \n",
       "3                            want smoke cig lighter                   2   \n",
       "4               pass lot twit arriv trend topic bob                   8   \n",
       "\n",
       "   sentiment  \n",
       "0          0  \n",
       "1          0  \n",
       "2          1  \n",
       "3          0  \n",
       "4          0  "
      ]
     },
     "execution_count": 6,
     "metadata": {},
     "output_type": "execute_result"
    }
   ],
   "source": [
    "data.head()"
   ]
  },
  {
   "cell_type": "code",
   "execution_count": 9,
   "metadata": {},
   "outputs": [
    {
     "data": {
      "text/plain": [
       "0    52657\n",
       "1    52584\n",
       "Name: sentiment, dtype: int64"
      ]
     },
     "execution_count": 9,
     "metadata": {},
     "output_type": "execute_result"
    }
   ],
   "source": [
    "# dataset is already balanced\n",
    "data.sentiment.value_counts() "
   ]
  },
  {
   "cell_type": "code",
   "execution_count": 10,
   "metadata": {},
   "outputs": [
    {
     "data": {
      "text/plain": [
       "[Text(0, 0, 'Negative'), Text(1, 0, 'Positive')]"
      ]
     },
     "execution_count": 10,
     "metadata": {},
     "output_type": "execute_result"
    },
    {
     "data": {
      "image/png": "[encoded data removed]",
      "text/plain": [
       "<Figure size 432x288 with 1 Axes>"
      ]
     },
     "metadata": {},
     "output_type": "display_data"
    }
   ],
   "source": [
    "import seaborn as sns\n",
    "import matplotlib.pyplot as plt\n",
    "%matplotlib inline\n",
    "\n",
    "import seaborn as sns\n",
    "import matplotlib.pyplot as plt\n",
    "%matplotlib inline\n",
    "\n",
    "sns.set(font_scale=1.3)\n",
    "plot = sns.countplot(x = 'sentiment', data = data)\n",
    "plot.set_title(\"Balance of Positive and Negative Tweets\", fontsize=20)\n",
    "plot.set_xticklabels(['Negative','Positive'])"
   ]
  },
  {
   "cell_type": "code",
   "execution_count": 11,
   "metadata": {},
   "outputs": [
    {
     "name": "stdout",
     "output_type": "stream",
     "text": [
      "<class 'pandas.core.frame.DataFrame'>\n",
      "RangeIndex: 105241 entries, 0 to 105240\n",
      "Data columns (total 3 columns):\n",
      " #   Column             Non-Null Count   Dtype \n",
      "---  ------             --------------   ----- \n",
      " 0   tweet              104742 non-null  object\n",
      " 1   punctuation_count  105241 non-null  int64 \n",
      " 2   sentiment          105241 non-null  int64 \n",
      "dtypes: int64(2), object(1)\n",
      "memory usage: 2.4+ MB\n"
     ]
    }
   ],
   "source": [
    "# After our cleaning some of our records have no text information remaining\n",
    "data.info()"
   ]
  },
  {
   "cell_type": "code",
   "execution_count": 13,
   "metadata": {},
   "outputs": [
    {
     "name": "stdout",
     "output_type": "stream",
     "text": [
      "<class 'pandas.core.frame.DataFrame'>\n",
      "Int64Index: 104742 entries, 0 to 105240\n",
      "Data columns (total 3 columns):\n",
      " #   Column             Non-Null Count   Dtype \n",
      "---  ------             --------------   ----- \n",
      " 0   tweet              104742 non-null  object\n",
      " 1   punctuation_count  104742 non-null  int64 \n",
      " 2   sentiment          104742 non-null  int64 \n",
      "dtypes: int64(2), object(1)\n",
      "memory usage: 3.2+ MB\n"
     ]
    }
   ],
   "source": [
    "# We decided to drop these values\n",
    "data.dropna(subset = [\"tweet\"], inplace=True)\n",
    "data.info()"
   ]
  },
  {
   "cell_type": "markdown",
   "metadata": {},
   "source": [
    "# Tokenize"
   ]
  },
  {
   "cell_type": "code",
   "execution_count": 15,
   "metadata": {},
   "outputs": [
    {
     "data": {
      "text/html": [
       "<div>\n",
       "<style scoped>\n",
       "    .dataframe tbody tr th:only-of-type {\n",
       "        vertical-align: middle;\n",
       "    }\n",
       "\n",
       "    .dataframe tbody tr th {\n",
       "        vertical-align: top;\n",
       "    }\n",
       "\n",
       "    .dataframe thead th {\n",
       "        text-align: right;\n",
       "    }\n",
       "</style>\n",
       "<table border=\"1\" class=\"dataframe\">\n",
       "  <thead>\n",
       "    <tr style=\"text-align: right;\">\n",
       "      <th></th>\n",
       "      <th>tweet</th>\n",
       "      <th>punctuation_count</th>\n",
       "    </tr>\n",
       "  </thead>\n",
       "  <tbody>\n",
       "    <tr>\n",
       "      <th>0</th>\n",
       "      <td>sleep good remedi fall asleep need one</td>\n",
       "      <td>6</td>\n",
       "    </tr>\n",
       "    <tr>\n",
       "      <th>1</th>\n",
       "      <td>work fun</td>\n",
       "      <td>2</td>\n",
       "    </tr>\n",
       "    <tr>\n",
       "      <th>2</th>\n",
       "      <td>summer person love dull cold weather centralco...</td>\n",
       "      <td>3</td>\n",
       "    </tr>\n",
       "    <tr>\n",
       "      <th>3</th>\n",
       "      <td>want smoke cig lighter</td>\n",
       "      <td>2</td>\n",
       "    </tr>\n",
       "    <tr>\n",
       "      <th>4</th>\n",
       "      <td>pass lot twit arriv trend topic bob</td>\n",
       "      <td>8</td>\n",
       "    </tr>\n",
       "  </tbody>\n",
       "</table>\n",
       "</div>"
      ],
      "text/plain": [
       "                                               tweet  punctuation_count\n",
       "0            sleep good remedi fall asleep need one                   6\n",
       "1                                          work fun                   2\n",
       "2  summer person love dull cold weather centralco...                  3\n",
       "3                            want smoke cig lighter                   2\n",
       "4               pass lot twit arriv trend topic bob                   8"
      ]
     },
     "execution_count": 15,
     "metadata": {},
     "output_type": "execute_result"
    }
   ],
   "source": [
    "#Splitting our dataset into our label and features\n",
    "Y = data[['sentiment']]\n",
    "X = data.drop(['sentiment'], axis=1)\n",
    "X.head()"
   ]
  },
  {
   "cell_type": "code",
   "execution_count": 16,
   "metadata": {},
   "outputs": [],
   "source": [
    "# Here we are holding our text and punctuation counts in their own objects for safekeeping\n",
    "tweet = X[['tweet']]\n",
    "punctuation_counts = X[['punctuation_count']]"
   ]
  },
  {
   "cell_type": "code",
   "execution_count": 28,
   "metadata": {},
   "outputs": [],
   "source": [
    "# We are using tfidf vectorizer with 8k max features in our model.  In our tfidf function we are using single words and trigrams of our text\n",
    "# Once tfidf has compiled, we are reappending our punctuation counts to the dataframe\n",
    "\n",
    "from sklearn.feature_extraction.text import TfidfVectorizer\n",
    "\n",
    "vectorizer = TfidfVectorizer(ngram_range=(1,3), stop_words=\"english\", max_features=8000)\n",
    "\n",
    "tfidf_vect = vectorizer.fit_transform(X['tweet'])\n",
    "tfidf_feature_names = vectorizer.get_feature_names_out()\n",
    "\n",
    "tfidf_df = pd.DataFrame (tfidf_vect.todense())\n",
    "tfidf_df.columns = tfidf_feature_names\n",
    "tfidf_df['punctuation_count'] = punctuation_counts"
   ]
  },
  {
   "cell_type": "code",
   "execution_count": 29,
   "metadata": {},
   "outputs": [],
   "source": [
    "#  Here we are using min-max scaler on our punctuation counts to standardize the values\n",
    "\n",
    "from sklearn.preprocessing import StandardScaler\n",
    "from sklearn import preprocessing, model_selection\n",
    "\n",
    "min_max_scaler = preprocessing.MinMaxScaler()\n",
    "tfidf_df['punctuation_count'] = min_max_scaler.fit_transform(punctuation_counts)"
   ]
  },
  {
   "cell_type": "code",
   "execution_count": 30,
   "metadata": {},
   "outputs": [
    {
     "data": {
      "text/html": [
       "<div>\n",
       "<style scoped>\n",
       "    .dataframe tbody tr th:only-of-type {\n",
       "        vertical-align: middle;\n",
       "    }\n",
       "\n",
       "    .dataframe tbody tr th {\n",
       "        vertical-align: top;\n",
       "    }\n",
       "\n",
       "    .dataframe thead th {\n",
       "        text-align: right;\n",
       "    }\n",
       "</style>\n",
       "<table border=\"1\" class=\"dataframe\">\n",
       "  <thead>\n",
       "    <tr style=\"text-align: right;\">\n",
       "      <th></th>\n",
       "      <th>ab</th>\n",
       "      <th>abandon</th>\n",
       "      <th>abbi</th>\n",
       "      <th>abc</th>\n",
       "      <th>abil</th>\n",
       "      <th>abit</th>\n",
       "      <th>abl</th>\n",
       "      <th>abl make</th>\n",
       "      <th>abl sleep</th>\n",
       "      <th>absent</th>\n",
       "      <th>...</th>\n",
       "      <th>ze</th>\n",
       "      <th>zealand</th>\n",
       "      <th>zen</th>\n",
       "      <th>zero</th>\n",
       "      <th>zip</th>\n",
       "      <th>zombi</th>\n",
       "      <th>zone</th>\n",
       "      <th>zoo</th>\n",
       "      <th>zoom</th>\n",
       "      <th>punctuation_count</th>\n",
       "    </tr>\n",
       "  </thead>\n",
       "  <tbody>\n",
       "    <tr>\n",
       "      <th>0</th>\n",
       "      <td>0.0</td>\n",
       "      <td>0.0</td>\n",
       "      <td>0.0</td>\n",
       "      <td>0.0</td>\n",
       "      <td>0.0</td>\n",
       "      <td>0.0</td>\n",
       "      <td>0.0</td>\n",
       "      <td>0.0</td>\n",
       "      <td>0.0</td>\n",
       "      <td>0.0</td>\n",
       "      <td>...</td>\n",
       "      <td>0.0</td>\n",
       "      <td>0.0</td>\n",
       "      <td>0.0</td>\n",
       "      <td>0.0</td>\n",
       "      <td>0.0</td>\n",
       "      <td>0.0</td>\n",
       "      <td>0.0</td>\n",
       "      <td>0.0</td>\n",
       "      <td>0.0</td>\n",
       "      <td>0.057692</td>\n",
       "    </tr>\n",
       "    <tr>\n",
       "      <th>1</th>\n",
       "      <td>0.0</td>\n",
       "      <td>0.0</td>\n",
       "      <td>0.0</td>\n",
       "      <td>0.0</td>\n",
       "      <td>0.0</td>\n",
       "      <td>0.0</td>\n",
       "      <td>0.0</td>\n",
       "      <td>0.0</td>\n",
       "      <td>0.0</td>\n",
       "      <td>0.0</td>\n",
       "      <td>...</td>\n",
       "      <td>0.0</td>\n",
       "      <td>0.0</td>\n",
       "      <td>0.0</td>\n",
       "      <td>0.0</td>\n",
       "      <td>0.0</td>\n",
       "      <td>0.0</td>\n",
       "      <td>0.0</td>\n",
       "      <td>0.0</td>\n",
       "      <td>0.0</td>\n",
       "      <td>0.019231</td>\n",
       "    </tr>\n",
       "    <tr>\n",
       "      <th>2</th>\n",
       "      <td>0.0</td>\n",
       "      <td>0.0</td>\n",
       "      <td>0.0</td>\n",
       "      <td>0.0</td>\n",
       "      <td>0.0</td>\n",
       "      <td>0.0</td>\n",
       "      <td>0.0</td>\n",
       "      <td>0.0</td>\n",
       "      <td>0.0</td>\n",
       "      <td>0.0</td>\n",
       "      <td>...</td>\n",
       "      <td>0.0</td>\n",
       "      <td>0.0</td>\n",
       "      <td>0.0</td>\n",
       "      <td>0.0</td>\n",
       "      <td>0.0</td>\n",
       "      <td>0.0</td>\n",
       "      <td>0.0</td>\n",
       "      <td>0.0</td>\n",
       "      <td>0.0</td>\n",
       "      <td>0.028846</td>\n",
       "    </tr>\n",
       "    <tr>\n",
       "      <th>3</th>\n",
       "      <td>0.0</td>\n",
       "      <td>0.0</td>\n",
       "      <td>0.0</td>\n",
       "      <td>0.0</td>\n",
       "      <td>0.0</td>\n",
       "      <td>0.0</td>\n",
       "      <td>0.0</td>\n",
       "      <td>0.0</td>\n",
       "      <td>0.0</td>\n",
       "      <td>0.0</td>\n",
       "      <td>...</td>\n",
       "      <td>0.0</td>\n",
       "      <td>0.0</td>\n",
       "      <td>0.0</td>\n",
       "      <td>0.0</td>\n",
       "      <td>0.0</td>\n",
       "      <td>0.0</td>\n",
       "      <td>0.0</td>\n",
       "      <td>0.0</td>\n",
       "      <td>0.0</td>\n",
       "      <td>0.019231</td>\n",
       "    </tr>\n",
       "    <tr>\n",
       "      <th>4</th>\n",
       "      <td>0.0</td>\n",
       "      <td>0.0</td>\n",
       "      <td>0.0</td>\n",
       "      <td>0.0</td>\n",
       "      <td>0.0</td>\n",
       "      <td>0.0</td>\n",
       "      <td>0.0</td>\n",
       "      <td>0.0</td>\n",
       "      <td>0.0</td>\n",
       "      <td>0.0</td>\n",
       "      <td>...</td>\n",
       "      <td>0.0</td>\n",
       "      <td>0.0</td>\n",
       "      <td>0.0</td>\n",
       "      <td>0.0</td>\n",
       "      <td>0.0</td>\n",
       "      <td>0.0</td>\n",
       "      <td>0.0</td>\n",
       "      <td>0.0</td>\n",
       "      <td>0.0</td>\n",
       "      <td>0.076923</td>\n",
       "    </tr>\n",
       "  </tbody>\n",
       "</table>\n",
       "<p>5 rows × 8001 columns</p>\n",
       "</div>"
      ],
      "text/plain": [
       "    ab  abandon  abbi  abc  abil  abit  abl  abl make  abl sleep  absent  ...  \\\n",
       "0  0.0      0.0   0.0  0.0   0.0   0.0  0.0       0.0        0.0     0.0  ...   \n",
       "1  0.0      0.0   0.0  0.0   0.0   0.0  0.0       0.0        0.0     0.0  ...   \n",
       "2  0.0      0.0   0.0  0.0   0.0   0.0  0.0       0.0        0.0     0.0  ...   \n",
       "3  0.0      0.0   0.0  0.0   0.0   0.0  0.0       0.0        0.0     0.0  ...   \n",
       "4  0.0      0.0   0.0  0.0   0.0   0.0  0.0       0.0        0.0     0.0  ...   \n",
       "\n",
       "    ze  zealand  zen  zero  zip  zombi  zone  zoo  zoom  punctuation_count  \n",
       "0  0.0      0.0  0.0   0.0  0.0    0.0   0.0  0.0   0.0           0.057692  \n",
       "1  0.0      0.0  0.0   0.0  0.0    0.0   0.0  0.0   0.0           0.019231  \n",
       "2  0.0      0.0  0.0   0.0  0.0    0.0   0.0  0.0   0.0           0.028846  \n",
       "3  0.0      0.0  0.0   0.0  0.0    0.0   0.0  0.0   0.0           0.019231  \n",
       "4  0.0      0.0  0.0   0.0  0.0    0.0   0.0  0.0   0.0           0.076923  \n",
       "\n",
       "[5 rows x 8001 columns]"
      ]
     },
     "execution_count": 30,
     "metadata": {},
     "output_type": "execute_result"
    }
   ],
   "source": [
    "# our final dataset prior to training, the result is a very sparse matrrix of 8001 features\n",
    "tfidf_df.head()"
   ]
  },
  {
   "cell_type": "markdown",
   "metadata": {},
   "source": [
    "# Split Data"
   ]
  },
  {
   "cell_type": "code",
   "execution_count": 31,
   "metadata": {},
   "outputs": [],
   "source": [
    "#test/train spllitting our data\n",
    "\n",
    "from sklearn.model_selection import train_test_split\n",
    "\n",
    "Xtrain, Xtest, ytrain, ytest = train_test_split(tfidf_df,\n",
    "                                                Y,\n",
    "                                                test_size=0.2,\n",
    "                                                random_state=10)"
   ]
  },
  {
   "cell_type": "code",
   "execution_count": 32,
   "metadata": {},
   "outputs": [
    {
     "data": {
      "text/plain": [
       "((83793, 8001), (20949, 8001), (83793, 1), (20949, 1))"
      ]
     },
     "execution_count": 32,
     "metadata": {},
     "output_type": "execute_result"
    }
   ],
   "source": [
    "Xtrain.shape, Xtest.shape, ytrain.shape, ytest.shape"
   ]
  },
  {
   "cell_type": "code",
   "execution_count": 33,
   "metadata": {},
   "outputs": [],
   "source": [
    "# size/shape of dataframe\n",
    "n_samples = Xtrain.shape[0]\n",
    "n_featuers = Xtrain.shape[1]"
   ]
  },
  {
   "cell_type": "markdown",
   "metadata": {},
   "source": [
    "# Our Best Performing Model"
   ]
  },
  {
   "cell_type": "code",
   "execution_count": 34,
   "metadata": {},
   "outputs": [],
   "source": [
    "# Make the NN -----------------------------------------------------------------\n",
    "# Importing the Keras libraries and packages\n",
    "\n",
    "from tensorflow import keras\n",
    "from tensorflow.keras import layers\n",
    "from tensorflow.keras.callbacks import ModelCheckpoint\n",
    "\n",
    "model = keras.Sequential(\n",
    "    [\n",
    "        layers.Dense(3000, activation='relu', name='layer1'),\n",
    "        layers.Dropout(0.5),\n",
    "        layers.Dense(200, activation='sigmoid', name='layer2'),\n",
    "        layers.Dense(40, activation='sigmoid', name='layer3'),\n",
    "        layers.Dense(1, activation='sigmoid', name='output1'),\n",
    "    ]\n",
    ")"
   ]
  },
  {
   "cell_type": "code",
   "execution_count": 35,
   "metadata": {},
   "outputs": [],
   "source": [
    "# Compiling the ANN\n",
    "model.compile(loss = 'binary_crossentropy' , optimizer = 'adam' , metrics = ['accuracy'] )"
   ]
  },
  {
   "cell_type": "code",
   "execution_count": 36,
   "metadata": {},
   "outputs": [
    {
     "name": "stdout",
     "output_type": "stream",
     "text": [
      "Epoch 1/100\n",
      "9/9 [==============================] - 13s 812ms/step - loss: 0.6999 - accuracy: 0.5022 - val_loss: 0.6900 - val_accuracy: 0.5054\n",
      "Epoch 2/100\n",
      "9/9 [==============================] - 3s 317ms/step - loss: 0.6866 - accuracy: 0.5310 - val_loss: 0.6732 - val_accuracy: 0.6649\n",
      "Epoch 3/100\n",
      "9/9 [==============================] - 3s 321ms/step - loss: 0.6510 - accuracy: 0.6730 - val_loss: 0.6102 - val_accuracy: 0.7389\n",
      "Epoch 4/100\n",
      "9/9 [==============================] - 3s 319ms/step - loss: 0.5658 - accuracy: 0.7541 - val_loss: 0.5281 - val_accuracy: 0.7447\n",
      "Epoch 5/100\n",
      "9/9 [==============================] - 3s 319ms/step - loss: 0.4954 - accuracy: 0.7672 - val_loss: 0.5073 - val_accuracy: 0.7532\n",
      "Epoch 6/100\n",
      "9/9 [==============================] - 3s 318ms/step - loss: 0.4689 - accuracy: 0.7815 - val_loss: 0.5079 - val_accuracy: 0.7560\n",
      "Epoch 7/100\n",
      "9/9 [==============================] - 3s 316ms/step - loss: 0.4507 - accuracy: 0.7941 - val_loss: 0.5082 - val_accuracy: 0.7560\n",
      "Epoch 8/100\n",
      "9/9 [==============================] - 3s 322ms/step - loss: 0.4389 - accuracy: 0.8011 - val_loss: 0.5124 - val_accuracy: 0.7534\n",
      "Epoch 9/100\n",
      "9/9 [==============================] - 3s 318ms/step - loss: 0.4305 - accuracy: 0.8068 - val_loss: 0.5188 - val_accuracy: 0.7502\n",
      "Epoch 10/100\n",
      "9/9 [==============================] - 3s 321ms/step - loss: 0.4220 - accuracy: 0.8128 - val_loss: 0.5253 - val_accuracy: 0.7487\n",
      "Epoch 11/100\n",
      "9/9 [==============================] - 3s 314ms/step - loss: 0.4142 - accuracy: 0.8180 - val_loss: 0.5321 - val_accuracy: 0.7474\n",
      "Epoch 12/100\n",
      "9/9 [==============================] - 3s 316ms/step - loss: 0.4042 - accuracy: 0.8246 - val_loss: 0.5380 - val_accuracy: 0.7466\n",
      "Epoch 13/100\n",
      "9/9 [==============================] - 3s 316ms/step - loss: 0.3924 - accuracy: 0.8318 - val_loss: 0.5437 - val_accuracy: 0.7457\n",
      "Epoch 14/100\n",
      "9/9 [==============================] - 3s 316ms/step - loss: 0.3775 - accuracy: 0.8429 - val_loss: 0.5508 - val_accuracy: 0.7446\n",
      "Epoch 15/100\n",
      "9/9 [==============================] - 3s 314ms/step - loss: 0.3594 - accuracy: 0.8554 - val_loss: 0.5604 - val_accuracy: 0.7432\n"
     ]
    }
   ],
   "source": [
    "# Here we save only our best validation accuracy as a callback.  The best accuracy is then saved as twitter_model\n",
    "model_save_filename = \"twitter_model.h5\"\n",
    "earlystopping_cb = keras.callbacks.EarlyStopping(patience=10, restore_best_weights=True)\n",
    "mdlcheckpoint_cb = keras.callbacks.ModelCheckpoint(model_save_filename, monitor=\"val_accuracy\", save_best_only=True)\n",
    "\n",
    "\n",
    "history = model.fit(\n",
    "                    Xtrain, \n",
    "                    ytrain, \n",
    "                    batch_size=10000,\n",
    "                    epochs=100, \n",
    "                    callbacks=[earlystopping_cb, mdlcheckpoint_cb],\n",
    "                    validation_data = (Xtest, ytest)\n",
    "                    )"
   ]
  },
  {
   "cell_type": "code",
   "execution_count": 37,
   "metadata": {},
   "outputs": [
    {
     "name": "stdout",
     "output_type": "stream",
     "text": [
      "Model: \"sequential_1\"\n",
      "_________________________________________________________________\n",
      "Layer (type)                 Output Shape              Param #   \n",
      "=================================================================\n",
      "layer1 (Dense)               (None, 3000)              24006000  \n",
      "_________________________________________________________________\n",
      "dropout_1 (Dropout)          (None, 3000)              0         \n",
      "_________________________________________________________________\n",
      "layer2 (Dense)               (None, 200)               600200    \n",
      "_________________________________________________________________\n",
      "layer3 (Dense)               (None, 40)                8040      \n",
      "_________________________________________________________________\n",
      "output1 (Dense)              (None, 1)                 41        \n",
      "=================================================================\n",
      "Total params: 24,614,281\n",
      "Trainable params: 24,614,281\n",
      "Non-trainable params: 0\n",
      "_________________________________________________________________\n"
     ]
    }
   ],
   "source": [
    "model.summary()"
   ]
  },
  {
   "cell_type": "code",
   "execution_count": 61,
   "metadata": {},
   "outputs": [],
   "source": [
    "# Predicting the Test set results\n",
    "y_pred = model.predict(Xtest)"
   ]
  },
  {
   "cell_type": "code",
   "execution_count": 67,
   "metadata": {},
   "outputs": [
    {
     "data": {
      "image/png": "[encoded data removed]",
      "text/plain": [
       "<Figure size 720x576 with 2 Axes>"
      ]
     },
     "metadata": {},
     "output_type": "display_data"
    }
   ],
   "source": [
    "# Making the Confusion Matrix\n",
    "\n",
    "from sklearn.metrics import multilabel_confusion_matrix\n",
    "from sklearn.metrics import classification_report\n",
    "from sklearn.metrics import confusion_matrix\n",
    "from sklearn.metrics import ConfusionMatrixDisplay\n",
    "import itertools\n",
    "import matplotlib.pyplot as plt\n",
    "\n",
    "pred = y_pred.round()\n",
    "labels = ytest['sentiment']\n",
    "title = np.array(['Correct', 'Incorrect'])\n",
    "\n",
    "confusion_mtx = tf.math.confusion_matrix(labels, pred)\n",
    "plt.figure(figsize=(10, 8))\n",
    "sns.heatmap(confusion_mtx,\n",
    "            xticklabels=title,\n",
    "            yticklabels=title,\n",
    "            annot=True, fmt='g')\n",
    "plt.xlabel('Prediction')\n",
    "plt.ylabel('Label')\n",
    "plt.title(\"Confusion Matrix for Tweet Sentiment\", fontsize=30)\n",
    "plt.show()"
   ]
  },
  {
   "cell_type": "code",
   "execution_count": 42,
   "metadata": {},
   "outputs": [
    {
     "name": "stdout",
     "output_type": "stream",
     "text": [
      "dict_keys(['loss', 'accuracy', 'val_loss', 'val_accuracy'])\n"
     ]
    }
   ],
   "source": [
    "# list all the data in history\n",
    "print(history.history.keys())\n"
   ]
  },
  {
   "cell_type": "code",
   "execution_count": 68,
   "metadata": {},
   "outputs": [
    {
     "data": {
      "image/png": "[encoded data removed]",
      "text/plain": [
       "<Figure size 432x288 with 1 Axes>"
      ]
     },
     "metadata": {},
     "output_type": "display_data"
    },
    {
     "data": {
      "image/png": "[encoded data removed]",
      "text/plain": [
       "<Figure size 432x288 with 1 Axes>"
      ]
     },
     "metadata": {},
     "output_type": "display_data"
    }
   ],
   "source": [
    "# Plot the accuracy for both train and validation set\n",
    "plt.subplots() # open a new plot\n",
    "plt.plot(history.history['accuracy'])\n",
    "plt.plot(history.history['val_accuracy'])\n",
    "plt.title('model accuracy')\n",
    "plt.ylabel('accuracy')\n",
    "plt.xlabel('epoch')\n",
    "plt.legend(['train', 'validation'])\n",
    "plt.show()\n",
    "\n",
    "# Plot the loss for both train and validation set\n",
    "plt.subplots() # open a new plot\n",
    "plt.plot(history.history['loss'])\n",
    "plt.plot(history.history['val_loss'])\n",
    "plt.title('model loss')\n",
    "plt.ylabel('loss')\n",
    "plt.xlabel('epoch')\n",
    "plt.legend(['train', 'validation'])\n",
    "plt.show()"
   ]
  },
  {
   "cell_type": "markdown",
   "metadata": {},
   "source": [
    "# Traditional ML Models"
   ]
  },
  {
   "cell_type": "code",
   "execution_count": 23,
   "metadata": {},
   "outputs": [],
   "source": [
    "from sklearn import metrics\n",
    "from sklearn.ensemble import RandomForestClassifier\n",
    "from sklearn.svm import SVC\n",
    "from sklearn.naive_bayes import GaussianNB\n",
    "from sklearn.neighbors import KNeighborsClassifier\n",
    "from sklearn.metrics import confusion_matrix"
   ]
  },
  {
   "cell_type": "code",
   "execution_count": 42,
   "metadata": {},
   "outputs": [
    {
     "name": "stderr",
     "output_type": "stream",
     "text": [
      "C:\\Users\\Mike\\AppData\\Local\\Temp/ipykernel_6980/693845353.py:3: DataConversionWarning: A column-vector y was passed when a 1d array was expected. Please change the shape of y to (n_samples,), for example using ravel().\n",
      "  RF.fit(Xtrain, ytrain)\n"
     ]
    },
    {
     "name": "stdout",
     "output_type": "stream",
     "text": [
      "Accuracy of  RFC : 0.721609623371044 --Specificity of  RFC : 0.7563220940550133\n"
     ]
    }
   ],
   "source": [
    "#Random Forest Classifier\n",
    "RF = RandomForestClassifier(max_depth=10)\n",
    "RF.fit(Xtrain, ytrain)\n",
    "y_pred = RF.predict(Xtest)\n",
    "cm3 = confusion_matrix(y_pred, ytest)\n",
    "total3=sum(sum(cm3))\n",
    "Accuracy = (cm3[0,0]+cm3[1,1])/total3\n",
    "Specificity = cm3[0,0]/(cm3[0,0]+cm3[0,1])\n",
    "print(\"Accuracy of  RFC :\", Accuracy, \"--Specificity of  RFC :\", Specificity )"
   ]
  },
  {
   "cell_type": "code",
   "execution_count": 25,
   "metadata": {},
   "outputs": [
    {
     "name": "stderr",
     "output_type": "stream",
     "text": [
      "C:\\Users\\Mike\\.conda\\envs\\tf-gpu\\lib\\site-packages\\sklearn\\utils\\validation.py:985: DataConversionWarning: A column-vector y was passed when a 1d array was expected. Please change the shape of y to (n_samples, ), for example using ravel().\n",
      "  y = column_or_1d(y, warn=True)\n"
     ]
    },
    {
     "name": "stdout",
     "output_type": "stream",
     "text": [
      "Accuracy of  GaussianNB : 0.6781707957420402 --Sensitivity of  GaussianNB : 0.6545080279950597 --Specificity of  GaussianNB : 0.7108132666969559\n"
     ]
    }
   ],
   "source": [
    "#  GaussianNB \n",
    "model5 = GaussianNB()\n",
    "model5.fit(Xtrain, ytrain)\n",
    "y_pred = model5.predict(Xtest)\n",
    "cm5 = confusion_matrix(y_pred, ytest)\n",
    "total5=sum(sum(cm5))\n",
    "Accuracy = (cm5[0,0]+cm5[1,1])/total5\n",
    "    \n",
    "Specificity = cm5[0,0]/(cm5[0,0]+cm5[0,1])\n",
    "Sensitivity = cm5[1,1]/(cm5[1,0]+cm5[1,1])\n",
    "print(\"Accuracy of  GaussianNB :\", Accuracy, \"--Sensitivity of  GaussianNB :\", Sensitivity, \"--Specificity of  GaussianNB :\", Specificity )"
   ]
  },
  {
   "cell_type": "markdown",
   "metadata": {},
   "source": [
    "# Connect model to Twitter API\n"
   ]
  },
  {
   "cell_type": "code",
   "execution_count": 13,
   "metadata": {},
   "outputs": [],
   "source": [
    "# Handle API keys\n",
    "import os\n",
    "from dotenv import load_dotenv"
   ]
  },
  {
   "cell_type": "code",
   "execution_count": 17,
   "metadata": {},
   "outputs": [],
   "source": [
    "# load API_keys\n",
    "load_dotenv()\n",
    "\n",
    "API_KEY = os.getenv('API_KEY')\n",
    "API_KEY_SECRET = os.getenv('API_KEY_SECRET')\n",
    "BEARER_TOKEN= os.getenv('BEARER_TOKEN')\n",
    "ACCESS_TOKEN = os.getenv('ACCESS_TOKEN')\n",
    "ACCESS_TOKEN_SECRET= os.getenv('ACCESS_TOKEN_SECRET')"
   ]
  },
  {
   "cell_type": "code",
   "execution_count": 20,
   "metadata": {},
   "outputs": [],
   "source": [
    "# load client\n",
    "def getClient():\n",
    "    client = tweepy.Client(bearer_token=BEARER_TOKEN,\n",
    "                           consumer_key=API_KEY,\n",
    "                           consumer_secret=API_KEY_SECRET,\n",
    "                           access_token=ACCESS_TOKEN,\n",
    "                           access_token_secret=ACCESS_TOKEN_SECRET)\n",
    "    return client"
   ]
  },
  {
   "cell_type": "code",
   "execution_count": 21,
   "metadata": {},
   "outputs": [],
   "source": [
    "# Load tweets\n",
    "def searchTweets(client, query, max_results):\n",
    "\n",
    "    tweets = client.search_recent_tweets(query=query, max_results=max_results)\n",
    "\n",
    "    tweet_data =  tweets.data\n",
    "    results = []\n",
    "\n",
    "    if not tweet_data is None and len(tweet_data) > 0:\n",
    "        for tweet in tweet_data:\n",
    "            obj = {}\n",
    "            obj['id'] = tweet.id\n",
    "            obj['text'] = tweet.text\n",
    "            results.append(obj)\n",
    "\n",
    "    return results"
   ]
  },
  {
   "cell_type": "code",
   "execution_count": 22,
   "metadata": {},
   "outputs": [
    {
     "name": "stdout",
     "output_type": "stream",
     "text": [
      "['@kirstiealley Canada is such a kind country...one your hardly hear about..and now they are YELLING! I love it and support them 100%!!', \"Think people, think.\\n\\nDisagree with the convoy's message? That's ok.\\nInvoke the #EmergencyAct to shut it down? Be careful what you wish for.\\nWant a full list of donors from @GoFundMe? Ok, but be prepared to cough that up for every fundraiser in Canada. All of them.\", 'LOOK AT ALL THE GOODIES 👀 \\n#unboxing #pov #OOTD #Canada \\nhttps://t.co/KQikBOVIGh', 'On Monday I shared a few thoughts on record high Canadian industrial property prices at the @MSCI_Inc / @realpac Canada Real Estate Investent Forum. I look at the issue here loosely through the lens of the DiPasquale-Wheaton 4-Quadrant model.  https://t.co/lvkXO1gZTj @realcapital https://t.co/vV4aWf0g4e', 'Canada’s Steele Auto expands its U.S. footprint in\\xa0Texas https://t.co/gptb3e1M2D', \"@kailahdee Do you ship internationally? I'm in Canada\", 'Do you support the convoy of truckers protesting vaccine restrictions in Canada? https://t.co/jANNtkPcbm', \"Very cold air in Canada once again spilling into the northern tier. We'll be getting colder again despite a mild start to February. Obviously, not anywhere near THIS cold.  #wtvmwx https://t.co/XpcncGey75\", '@SanaSaeed can we add soccer, too? canada is close to qualifying for the world cup!', \"@BigBEEwithItch @BCvanguards @SpencerFernando @poilievre He knows he's too incompetent to lead Canada.\"]\n"
     ]
    }
   ],
   "source": [
    "# clean tweets\n",
    "def returnTweets(query):\n",
    "    query = '{} lang:en -is:retweet'.format(query)\n",
    "\n",
    "    client = getClient()\n",
    "    tweets = searchTweets(client, query, 10)\n",
    "\n",
    "    objs = []\n",
    "\n",
    "    if len(tweets) > 0:\n",
    "        for tweet in tweets:\n",
    "            obj = {}\n",
    "            obj['text'] = tweet['text']\n",
    "            objs.append(obj)\n",
    "\n",
    "    return(objs)\n",
    "\n",
    "# Tweet topic \n",
    "query = 'canada'\n",
    "tweets = returnTweets(query)\n",
    "\n",
    "# Variable for tweet list\n",
    "list_tweets = []\n",
    "for i in tweets:\n",
    "   \n",
    "    # now i is a dict, now we see the keys\n",
    "    # of the dict\n",
    "    for key in i.values():\n",
    "       \n",
    "        # print every key of each dict\n",
    "        list_tweets.append(key)\n",
    "\n",
    "\n",
    "# Look at the tweets\n",
    "print(list_tweets)"
   ]
  },
  {
   "cell_type": "code",
   "execution_count": 24,
   "metadata": {},
   "outputs": [],
   "source": [
    "# Preprocess tweets for prediction\n",
    "\n",
    "# Load packages\n",
    "import re\n",
    "from string import punctuation\n",
    "from collections import Counter\n",
    "from nltk.corpus import stopwords\n",
    "\n",
    "from spellchecker import SpellChecker\n",
    "from nltk.stem import PorterStemmer\n",
    "from nltk.tokenize import TweetTokenizer\n",
    "\n",
    "# Remove stopwords\n",
    "stopwordlist = stopwords.words('english')\n",
    "new_stop_words=['i', 'im', 'http', 'ive', 'rt']\n",
    "for i in new_stop_words:\n",
    "    stopwordlist.append(i)\n"
   ]
  },
  {
   "cell_type": "code",
   "execution_count": 25,
   "metadata": {},
   "outputs": [],
   "source": [
    "# Preprocessing function\n",
    "def preprocess(textdata):\n",
    "    processedText = []\n",
    "    punctuation_counts = []\n",
    "\n",
    "    # Create Lemmatizer and Stemmer.\n",
    "    wordstem = PorterStemmer()\n",
    "    spell = SpellChecker()\n",
    "    tk = TweetTokenizer()\n",
    "    \n",
    "    for tweet in textdata:\n",
    "        tweet = re.sub(r'@([A-Za-z0-9_]+)', '', tweet)\n",
    "        punctuation_count = lambda l1,l2: sum([1 for x in l1 if x in l2])\n",
    "        punctuation_counts.append(punctuation_count(tweet,set(punctuation)))\n",
    "        tweet = tweet.lower()\n",
    "        \n",
    "        # Regex\n",
    "        tweet = re.sub('[^a-zA-Z]+', ' ', tweet)\n",
    "        sequencePattern   = r\"(.)\\1\\1+\"\n",
    "        seqReplacePattern = r\"\\1\\1\"\n",
    "        tweet = re.sub(sequencePattern, seqReplacePattern, tweet)\n",
    "        \n",
    "        tweetwords = ''\n",
    "        for word in tk.tokenize(tweet):\n",
    "            # Checking if the word is a stopword.\n",
    "            if word not in stopwordlist:\n",
    "                # Spell check the word\n",
    "                word = spell.correction(word)\n",
    "                # Lemmatizing the word.\n",
    "                word = wordstem.stem(word)\n",
    "                tweetwords += (word+' ')\n",
    "            \n",
    "        processedText.append(tweetwords)\n",
    "        \n",
    "    return processedText, punctuation_counts"
   ]
  },
  {
   "cell_type": "code",
   "execution_count": 26,
   "metadata": {},
   "outputs": [
    {
     "name": "stdout",
     "output_type": "stream",
     "text": [
      "(['canada kind countri one hardli hear yell love support ', 'think peopl think disagre convoy messag ok invok emergencyact shut care wish want full list donor ok prepar cough everi fundrais canada ', 'look goodi box pov oot canada hate co kqikbovigh ', 'monday share thought record high canadian industri properti price canada real estat invest forum look issu loos len pasqual wheaton quadrant model hate co likeo get hate co ve awf i e ', 'canada steel auto expand u footprint texa hate co get e ', 'ship intern canada ', 'support convoy trucker protest vaccin restrict canada hate co janntkpcbm ', 'cold air canada spill northern tier get colder despit mild start februari obvious anywher near cold wtvmwx hate co xpcncgey ', 'add soccer canada close qualifi world cup ', 'know incompet lead canada '], [9, 13, 9, 15, 7, 2, 6, 11, 3, 2])\n"
     ]
    }
   ],
   "source": [
    "api_tweets = preprocess(list_tweets)\n",
    "print(api_tweets)"
   ]
  },
  {
   "cell_type": "code",
   "execution_count": 27,
   "metadata": {},
   "outputs": [],
   "source": [
    "# put tweets into a data frame\n",
    "api_df= pd.DataFrame(api_tweets[0],columns=['tweet'])\n",
    "api_df['punctuation_count'] = api_tweets[1]"
   ]
  },
  {
   "cell_type": "code",
   "execution_count": 28,
   "metadata": {},
   "outputs": [
    {
     "name": "stdout",
     "output_type": "stream",
     "text": [
      "<class 'pandas.core.frame.DataFrame'>\n",
      "RangeIndex: 10 entries, 0 to 9\n",
      "Data columns (total 2 columns):\n",
      " #   Column             Non-Null Count  Dtype \n",
      "---  ------             --------------  ----- \n",
      " 0   tweet              10 non-null     object\n",
      " 1   punctuation_count  10 non-null     int64 \n",
      "dtypes: int64(1), object(1)\n",
      "memory usage: 288.0+ bytes\n"
     ]
    }
   ],
   "source": [
    "api_df.info()"
   ]
  },
  {
   "cell_type": "code",
   "execution_count": 29,
   "metadata": {},
   "outputs": [],
   "source": [
    "api_tweet = api_df[['tweet']]\n",
    "api_punctuation_counts = api_df[['punctuation_count']]"
   ]
  },
  {
   "cell_type": "code",
   "execution_count": 30,
   "metadata": {},
   "outputs": [],
   "source": [
    "# Transform new data into tfidf matrix\n",
    "api_tfidf_vect = vectorizer.transform(api_df['tweet'])\n",
    "api_tfidf_feature_names = vectorizer.get_feature_names_out()\n",
    "\n",
    "api_tfidf_df = pd.DataFrame (api_tfidf_vect.todense())\n",
    "api_tfidf_df.columns = api_tfidf_feature_names\n",
    "api_tfidf_df['punctuation_count'] = api_punctuation_counts"
   ]
  },
  {
   "cell_type": "code",
   "execution_count": 31,
   "metadata": {},
   "outputs": [],
   "source": [
    "# scale punctuation_counts\n",
    "api_tfidf_df['punctuation_count'] = min_max_scaler.transform(api_punctuation_counts)"
   ]
  },
  {
   "cell_type": "code",
   "execution_count": 35,
   "metadata": {},
   "outputs": [],
   "source": [
    "# Load the model\n",
    "model =  load_model('twitter_model.h5')\n",
    "predictions = model.predict(api_tfidf_df)"
   ]
  },
  {
   "cell_type": "code",
   "execution_count": 37,
   "metadata": {},
   "outputs": [
    {
     "data": {
      "text/plain": [
       "['@kirstiealley Canada is such a kind country...one your hardly hear about..and now they are YELLING! I love it and support them 100%!!',\n",
       " \"Think people, think.\\n\\nDisagree with the convoy's message? That's ok.\\nInvoke the #EmergencyAct to shut it down? Be careful what you wish for.\\nWant a full list of donors from @GoFundMe? Ok, but be prepared to cough that up for every fundraiser in Canada. All of them.\",\n",
       " 'LOOK AT ALL THE GOODIES 👀 \\n#unboxing #pov #OOTD #Canada \\nhttps://t.co/KQikBOVIGh',\n",
       " 'On Monday I shared a few thoughts on record high Canadian industrial property prices at the @MSCI_Inc / @realpac Canada Real Estate Investent Forum. I look at the issue here loosely through the lens of the DiPasquale-Wheaton 4-Quadrant model.  https://t.co/lvkXO1gZTj @realcapital https://t.co/vV4aWf0g4e',\n",
       " 'Canada’s Steele Auto expands its U.S. footprint in\\xa0Texas https://t.co/gptb3e1M2D',\n",
       " \"@kailahdee Do you ship internationally? I'm in Canada\",\n",
       " 'Do you support the convoy of truckers protesting vaccine restrictions in Canada? https://t.co/jANNtkPcbm',\n",
       " \"Very cold air in Canada once again spilling into the northern tier. We'll be getting colder again despite a mild start to February. Obviously, not anywhere near THIS cold.  #wtvmwx https://t.co/XpcncGey75\",\n",
       " '@SanaSaeed can we add soccer, too? canada is close to qualifying for the world cup!',\n",
       " \"@BigBEEwithItch @BCvanguards @SpencerFernando @poilievre He knows he's too incompetent to lead Canada.\"]"
      ]
     },
     "execution_count": 37,
     "metadata": {},
     "output_type": "execute_result"
    }
   ],
   "source": [
    "list_tweets"
   ]
  },
  {
   "cell_type": "code",
   "execution_count": 41,
   "metadata": {},
   "outputs": [],
   "source": [
    "# Join the predicions and tweets togeather\n",
    "change_sent_df= pd.DataFrame(predictions,columns=['predictions'])\n",
    "change_sent_df['tweets'] = list_tweets"
   ]
  },
  {
   "cell_type": "code",
   "execution_count": 46,
   "metadata": {},
   "outputs": [
    {
     "data": {
      "text/html": [
       "<div>\n",
       "<style scoped>\n",
       "    .dataframe tbody tr th:only-of-type {\n",
       "        vertical-align: middle;\n",
       "    }\n",
       "\n",
       "    .dataframe tbody tr th {\n",
       "        vertical-align: top;\n",
       "    }\n",
       "\n",
       "    .dataframe thead th {\n",
       "        text-align: right;\n",
       "    }\n",
       "</style>\n",
       "<table border=\"1\" class=\"dataframe\">\n",
       "  <thead>\n",
       "    <tr style=\"text-align: right;\">\n",
       "      <th></th>\n",
       "      <th>predictions</th>\n",
       "      <th>tweets</th>\n",
       "    </tr>\n",
       "  </thead>\n",
       "  <tbody>\n",
       "    <tr>\n",
       "      <th>1</th>\n",
       "      <td>0.176737</td>\n",
       "      <td>Think people, think.\\n\\nDisagree with the conv...</td>\n",
       "    </tr>\n",
       "    <tr>\n",
       "      <th>2</th>\n",
       "      <td>0.253721</td>\n",
       "      <td>LOOK AT ALL THE GOODIES 👀 \\n#unboxing #pov #OO...</td>\n",
       "    </tr>\n",
       "    <tr>\n",
       "      <th>3</th>\n",
       "      <td>0.225488</td>\n",
       "      <td>On Monday I shared a few thoughts on record hi...</td>\n",
       "    </tr>\n",
       "    <tr>\n",
       "      <th>4</th>\n",
       "      <td>0.166089</td>\n",
       "      <td>Canada’s Steele Auto expands its U.S. footprin...</td>\n",
       "    </tr>\n",
       "    <tr>\n",
       "      <th>6</th>\n",
       "      <td>0.314327</td>\n",
       "      <td>Do you support the convoy of truckers protesti...</td>\n",
       "    </tr>\n",
       "    <tr>\n",
       "      <th>7</th>\n",
       "      <td>0.096210</td>\n",
       "      <td>Very cold air in Canada once again spilling in...</td>\n",
       "    </tr>\n",
       "  </tbody>\n",
       "</table>\n",
       "</div>"
      ],
      "text/plain": [
       "   predictions                                             tweets\n",
       "1     0.176737  Think people, think.\\n\\nDisagree with the conv...\n",
       "2     0.253721  LOOK AT ALL THE GOODIES 👀 \\n#unboxing #pov #OO...\n",
       "3     0.225488  On Monday I shared a few thoughts on record hi...\n",
       "4     0.166089  Canada’s Steele Auto expands its U.S. footprin...\n",
       "6     0.314327  Do you support the convoy of truckers protesti...\n",
       "7     0.096210  Very cold air in Canada once again spilling in..."
      ]
     },
     "execution_count": 46,
     "metadata": {},
     "output_type": "execute_result"
    }
   ],
   "source": [
    "# 1 for Postive\n",
    "# 0 for Negative\n",
    "change_sent_df=change_sent_df[change_sent_df.predictions < 0.5]\n",
    "change_sent_df"
   ]
  },
  {
   "cell_type": "markdown",
   "metadata": {},
   "source": [
    "# Change the sentiment of Negative tweets"
   ]
  },
  {
   "cell_type": "code",
   "execution_count": 42,
   "metadata": {},
   "outputs": [
    {
     "name": "stderr",
     "output_type": "stream",
     "text": [
      "[nltk_data] Downloading package wordnet to /Users/juan-\n",
      "[nltk_data]     lukeclackworthy/nltk_data...\n",
      "[nltk_data]   Unzipping corpora/wordnet.zip.\n"
     ]
    }
   ],
   "source": [
    "# Import Libraries\n",
    "import nltk\n",
    "nltk.download('wordnet')\n",
    "from nltk.corpus import wordnet as wn\n",
    "from nltk.tokenize import TweetTokenizer"
   ]
  },
  {
   "cell_type": "code",
   "execution_count": 43,
   "metadata": {},
   "outputs": [],
   "source": [
    "# Get Atonyms and repace adjectives\n",
    "def get_antonyms_for_adjective(word):\n",
    "    antonyms = []\n",
    "    for word_sysnet in wn.synsets(word):\n",
    "        if word_sysnet.pos() in ['a', 's']: # Only consider adjectives\n",
    "          for lemma in word_sysnet.lemmas():\n",
    "              # a lemma is info about a word. For instance, adject bad: Synset('bad.a.01')\n",
    "              any_pos_antonyms = [ antonym.name() for antonym in lemma.antonyms() ]\n",
    "              for antonym in any_pos_antonyms:\n",
    "                  antonym_synsets = wn.synsets(antonym)\n",
    "                  if wn.ADJ not in [ ss.pos() for ss in antonym_synsets ]:\n",
    "                      continue\n",
    "                  antonyms.append(antonym)\n",
    "    return antonyms\n",
    "\n",
    "def change_sentence_sentiment(sentence):\n",
    "    tk = TweetTokenizer()\n",
    "    new_sentence = []\n",
    "\n",
    "    for word in tk.tokenize(sentence):\n",
    "        antonyms = get_antonyms_for_adjective(word)\n",
    "        \n",
    "        if len(antonyms) == 0:\n",
    "            new_sentence.append(word)\n",
    "        else:\n",
    "            new_sentence.append(antonyms[0])\n",
    "    \n",
    "    return ' '.join(new_sentence)"
   ]
  },
  {
   "cell_type": "code",
   "execution_count": 44,
   "metadata": {},
   "outputs": [
    {
     "name": "stdout",
     "output_type": "stream",
     "text": [
      "dogecoin is an nice asset , really anyone who invests in it is smart\n"
     ]
    }
   ],
   "source": [
    "sentence = \"dogecoin is an awful asset, really anyone who invests in it is stupid\"\n",
    "print(change_sentence_sentiment(sentence))"
   ]
  },
  {
   "cell_type": "code",
   "execution_count": 73,
   "metadata": {},
   "outputs": [
    {
     "data": {
      "text/html": [
       "<div>\n",
       "<style scoped>\n",
       "    .dataframe tbody tr th:only-of-type {\n",
       "        vertical-align: middle;\n",
       "    }\n",
       "\n",
       "    .dataframe tbody tr th {\n",
       "        vertical-align: top;\n",
       "    }\n",
       "\n",
       "    .dataframe thead th {\n",
       "        text-align: right;\n",
       "    }\n",
       "</style>\n",
       "<table border=\"1\" class=\"dataframe\">\n",
       "  <thead>\n",
       "    <tr style=\"text-align: right;\">\n",
       "      <th></th>\n",
       "      <th>tweets</th>\n",
       "    </tr>\n",
       "  </thead>\n",
       "  <tbody>\n",
       "    <tr>\n",
       "      <th>1</th>\n",
       "      <td>Think people, think.\\n\\nDisagree with the conv...</td>\n",
       "    </tr>\n",
       "    <tr>\n",
       "      <th>2</th>\n",
       "      <td>LOOK AT ALL THE GOODIES 👀 \\n#unboxing #pov #OO...</td>\n",
       "    </tr>\n",
       "    <tr>\n",
       "      <th>3</th>\n",
       "      <td>On Monday I shared a few thoughts on record hi...</td>\n",
       "    </tr>\n",
       "    <tr>\n",
       "      <th>4</th>\n",
       "      <td>Canada’s Steele Auto expands its U.S. footprin...</td>\n",
       "    </tr>\n",
       "    <tr>\n",
       "      <th>6</th>\n",
       "      <td>Do you support the convoy of truckers protesti...</td>\n",
       "    </tr>\n",
       "    <tr>\n",
       "      <th>7</th>\n",
       "      <td>Very cold air in Canada once again spilling in...</td>\n",
       "    </tr>\n",
       "  </tbody>\n",
       "</table>\n",
       "</div>"
      ],
      "text/plain": [
       "                                              tweets\n",
       "1  Think people, think.\\n\\nDisagree with the conv...\n",
       "2  LOOK AT ALL THE GOODIES 👀 \\n#unboxing #pov #OO...\n",
       "3  On Monday I shared a few thoughts on record hi...\n",
       "4  Canada’s Steele Auto expands its U.S. footprin...\n",
       "6  Do you support the convoy of truckers protesti...\n",
       "7  Very cold air in Canada once again spilling in..."
      ]
     },
     "execution_count": 73,
     "metadata": {},
     "output_type": "execute_result"
    }
   ],
   "source": [
    "changed_sent_df = change_sent_df[['tweets']]\n",
    "changed_sent_df"
   ]
  },
  {
   "cell_type": "code",
   "execution_count": 74,
   "metadata": {},
   "outputs": [],
   "source": [
    "changed_sent_df['Changed Sentence'] = changed_sent_df['tweets'].apply(lambda x: change_sentence_sentiment(x))"
   ]
  },
  {
   "cell_type": "code",
   "execution_count": 81,
   "metadata": {},
   "outputs": [
    {
     "data": {
      "text/html": [
       "<div>\n",
       "<style scoped>\n",
       "    .dataframe tbody tr th:only-of-type {\n",
       "        vertical-align: middle;\n",
       "    }\n",
       "\n",
       "    .dataframe tbody tr th {\n",
       "        vertical-align: top;\n",
       "    }\n",
       "\n",
       "    .dataframe thead th {\n",
       "        text-align: right;\n",
       "    }\n",
       "</style>\n",
       "<table border=\"1\" class=\"dataframe\">\n",
       "  <thead>\n",
       "    <tr style=\"text-align: right;\">\n",
       "      <th></th>\n",
       "      <th>tweets</th>\n",
       "      <th>Changed Sentence</th>\n",
       "    </tr>\n",
       "  </thead>\n",
       "  <tbody>\n",
       "    <tr>\n",
       "      <th>1</th>\n",
       "      <td>Think people, think.\\n\\nDisagree with the conv...</td>\n",
       "      <td>Think people , think . Disagree with the convo...</td>\n",
       "    </tr>\n",
       "    <tr>\n",
       "      <th>2</th>\n",
       "      <td>LOOK AT ALL THE GOODIES 👀 \\n#unboxing #pov #OO...</td>\n",
       "      <td>LOOK AT some THE GOODIES 👀 #unboxing #pov #OOT...</td>\n",
       "    </tr>\n",
       "    <tr>\n",
       "      <th>3</th>\n",
       "      <td>On Monday I shared a few thoughts on record hi...</td>\n",
       "      <td>off Monday I unshared a many thoughts off reco...</td>\n",
       "    </tr>\n",
       "    <tr>\n",
       "      <th>4</th>\n",
       "      <td>Canada’s Steele Auto expands its U.S. footprin...</td>\n",
       "      <td>Canada ’ s Steele Auto expands its U . S . foo...</td>\n",
       "    </tr>\n",
       "    <tr>\n",
       "      <th>6</th>\n",
       "      <td>Do you support the convoy of truckers protesti...</td>\n",
       "      <td>Do you support the convoy of truckers protesti...</td>\n",
       "    </tr>\n",
       "    <tr>\n",
       "      <th>7</th>\n",
       "      <td>Very cold air in Canada once again spilling in...</td>\n",
       "      <td>Very hot air in Canada once again spilling int...</td>\n",
       "    </tr>\n",
       "  </tbody>\n",
       "</table>\n",
       "</div>"
      ],
      "text/plain": [
       "                                              tweets  \\\n",
       "1  Think people, think.\\n\\nDisagree with the conv...   \n",
       "2  LOOK AT ALL THE GOODIES 👀 \\n#unboxing #pov #OO...   \n",
       "3  On Monday I shared a few thoughts on record hi...   \n",
       "4  Canada’s Steele Auto expands its U.S. footprin...   \n",
       "6  Do you support the convoy of truckers protesti...   \n",
       "7  Very cold air in Canada once again spilling in...   \n",
       "\n",
       "                                    Changed Sentence  \n",
       "1  Think people , think . Disagree with the convo...  \n",
       "2  LOOK AT some THE GOODIES 👀 #unboxing #pov #OOT...  \n",
       "3  off Monday I unshared a many thoughts off reco...  \n",
       "4  Canada ’ s Steele Auto expands its U . S . foo...  \n",
       "6  Do you support the convoy of truckers protesti...  \n",
       "7  Very hot air in Canada once again spilling int...  "
      ]
     },
     "execution_count": 81,
     "metadata": {},
     "output_type": "execute_result"
    }
   ],
   "source": [
    "changed_sent_df"
   ]
  }
 ],
 "metadata": {
  "interpreter": {
   "hash": "069624a5003d722d46b2ddcbbef8ec29c962821c31c4d6de5b70c8b5461f7514"
  },
  "kernelspec": {
   "display_name": "Python 3 (ipykernel)",
   "language": "python",
   "name": "python3"
  },
  "language_info": {
   "codemirror_mode": {
    "name": "ipython",
    "version": 3
   },
   "file_extension": ".py",
   "mimetype": "text/x-python",
   "name": "python",
   "nbconvert_exporter": "python",
   "pygments_lexer": "ipython3",
   "version": "3.9.7"
  }
 },
 "nbformat": 4,
 "nbformat_minor": 4
}
