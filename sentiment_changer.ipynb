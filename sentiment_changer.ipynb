{
  "nbformat": 4,
  "nbformat_minor": 0,
  "metadata": {
    "colab": {
      "name": "Twitter_Sentiment_change.ipynb",
      "provenance": [],
      "collapsed_sections": [],
      "machine_shape": "hm"
    },
    "kernelspec": {
      "name": "python3",
      "display_name": "Python 3"
    },
    "language_info": {
      "name": "python"
    }
  },
  "cells": [
    {
      "cell_type": "code",
      "source": [
        "import nltk\n",
        "nltk.download('wordnet')\n",
        "from nltk.corpus import wordnet as wn\n",
        "from nltk.tokenize import TweetTokenizer"
      ],
      "metadata": {
        "id": "nuPxQAZm363c",
        "outputId": "29e35ba4-96e2-4c5c-dce9-44edffc2fd78",
        "colab": {
          "base_uri": "https://localhost:8080/"
        }
      },
      "execution_count": 1,
      "outputs": [
        {
          "output_type": "stream",
          "name": "stdout",
          "text": [
            "[nltk_data] Downloading package wordnet to /root/nltk_data...\n",
            "[nltk_data]   Package wordnet is already up-to-date!\n"
          ]
        }
      ]
    },
    {
      "cell_type": "code",
      "source": [
        "def get_antonyms_for_adjective(word):\n",
        "    antonyms = []\n",
        "    for word_sysnet in wn.synsets(word):\n",
        "        if word_sysnet.pos() in ['a', 's']: # Only consider adjectives\n",
        "          for lemma in word_sysnet.lemmas():\n",
        "              # a lemma is info about a word. For instance, adject bad: Synset('bad.a.01')\n",
        "              any_pos_antonyms = [ antonym.name() for antonym in lemma.antonyms() ]\n",
        "              for antonym in any_pos_antonyms:\n",
        "                  antonym_synsets = wn.synsets(antonym)\n",
        "                  if wn.ADJ not in [ ss.pos() for ss in antonym_synsets ]:\n",
        "                      continue\n",
        "                  antonyms.append(antonym)\n",
        "    return antonyms\n",
        "\n",
        "def change_sentence_sentiment(sentence):\n",
        "    tk = TweetTokenizer()\n",
        "    new_sentence = []\n",
        "\n",
        "    for word in tk.tokenize(sentence):\n",
        "        antonyms = get_antonyms_for_adjective(word)\n",
        "        \n",
        "        if len(antonyms) == 0:\n",
        "            new_sentence.append(word)\n",
        "        else:\n",
        "            new_sentence.append(antonyms[0])\n",
        "    \n",
        "    return ' '.join(new_sentence)"
      ],
      "metadata": {
        "id": "H1UFiTehdveW"
      },
      "execution_count": 2,
      "outputs": []
    },
    {
      "cell_type": "code",
      "source": [
        "sentence = \"dogecoin is an awful asset, really anyone who invests in it is stupid\"\n",
        "print(change_sentence_sentiment(sentence))"
      ],
      "metadata": {
        "colab": {
          "base_uri": "https://localhost:8080/"
        },
        "id": "KeXAPAfWtFFe",
        "outputId": "1353e240-9e37-4fe7-8a9a-478a1c98a8d6"
      },
      "execution_count": 3,
      "outputs": [
        {
          "output_type": "stream",
          "name": "stdout",
          "text": [
            "dogecoin is an nice asset , really anyone who invests in it is smart\n"
          ]
        }
      ]
    }
  ]
}